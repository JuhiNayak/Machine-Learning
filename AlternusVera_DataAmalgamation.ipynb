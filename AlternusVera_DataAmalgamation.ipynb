{
  "nbformat": 4,
  "nbformat_minor": 0,
  "metadata": {
    "colab": {
      "name": "AlternusVera-DataAmalgamation.ipynb",
      "provenance": [],
      "mount_file_id": "1jt7r3_XJiReXv_JtnpLspEygZqU5UXkX",
      "authorship_tag": "ABX9TyN0qaAgxdsOvN9JTFX6It9m",
      "include_colab_link": true
    },
    "kernelspec": {
      "name": "python3",
      "display_name": "Python 3"
    },
    "accelerator": "GPU"
  },
  "cells": [
    {
      "cell_type": "markdown",
      "metadata": {
        "id": "view-in-github",
        "colab_type": "text"
      },
      "source": [
        "<a href=\"https://colab.research.google.com/github/JuhiNayak/Machine-Learning/blob/master/AlternusVera_DataAmalgamation.ipynb\" target=\"_parent\"><img src=\"https://colab.research.google.com/assets/colab-badge.svg\" alt=\"Open In Colab\"/></a>"
      ]
    },
    {
      "cell_type": "markdown",
      "metadata": {
        "id": "9CbHIYAdesKF"
      },
      "source": [
        "# Import Libraries\n",
        "\n",
        "Author: Juhi Nayak"
      ]
    },
    {
      "cell_type": "code",
      "metadata": {
        "id": "X0LQvA6ea0VA",
        "colab": {
          "base_uri": "https://localhost:8080/"
        },
        "outputId": "180bc59a-8aae-43ab-da41-587e72c3d20b"
      },
      "source": [
        "import pandas as pd\n",
        "import numpy as np\n",
        "import matplotlib.pyplot as plt\n",
        "import seaborn as sns\n",
        "pd.set_option('display.max_colwidth', -1)\n",
        "from sklearn import preprocessing\n",
        "from google.colab import files\n",
        "\n",
        "%matplotlib inline\n",
        "%load_ext google.colab.data_table"
      ],
      "execution_count": null,
      "outputs": [
        {
          "output_type": "stream",
          "text": [
            "/usr/local/lib/python3.6/dist-packages/ipykernel_launcher.py:5: FutureWarning: Passing a negative integer is deprecated in version 1.0 and will not be supported in future version. Instead, use None to not limit the column width.\n",
            "  \"\"\"\n"
          ],
          "name": "stderr"
        }
      ]
    },
    {
      "cell_type": "code",
      "metadata": {
        "id": "vAbC5wtEMXim",
        "colab": {
          "base_uri": "https://localhost:8080/"
        },
        "outputId": "88f51ea7-f658-4a3b-9a14-86cacd04f3d9"
      },
      "source": [
        "from google.colab import drive\n",
        "drive.mount('/content/drive')"
      ],
      "execution_count": null,
      "outputs": [
        {
          "output_type": "stream",
          "text": [
            "Drive already mounted at /content/drive; to attempt to forcibly remount, call drive.mount(\"/content/drive\", force_remount=True).\n"
          ],
          "name": "stdout"
        }
      ]
    },
    {
      "cell_type": "markdown",
      "metadata": {
        "id": "TCy9qUx5mGu4"
      },
      "source": [
        "# Data Amalgamation on Scraped data(title) and Fake News Challenge (FNC-body) Dataset"
      ]
    },
    {
      "cell_type": "markdown",
      "metadata": {
        "id": "gTVtgf4ggDeu"
      },
      "source": [
        "## Read Data"
      ]
    },
    {
      "cell_type": "code",
      "metadata": {
        "id": "W-184594nY-M"
      },
      "source": [
        "df_Lier = pd.read_csv(\"/content/drive/MyDrive/the-feature-finders/AlternusVera/Lier-Lier/LiarLiarCleanDataset.csv\")"
      ],
      "execution_count": null,
      "outputs": []
    },
    {
      "cell_type": "code",
      "metadata": {
        "id": "B5OQBaigk3Ba"
      },
      "source": [
        "# Fake News Challenge Dataset\n",
        "df_FNC = pd.read_csv(\"/content/drive/MyDrive/the-feature-finders/AlternusVera/FNC/competition_test_bodies.csv\")"
      ],
      "execution_count": null,
      "outputs": []
    },
    {
      "cell_type": "code",
      "metadata": {
        "colab": {
          "base_uri": "https://localhost:8080/"
        },
        "id": "K0VrBejymGu4",
        "outputId": "b64dd6ba-4667-496e-a330-cebc199ba1f3"
      },
      "source": [
        "df_Lier.shape"
      ],
      "execution_count": null,
      "outputs": [
        {
          "output_type": "execute_result",
          "data": {
            "text/plain": [
              "(18210, 20)"
            ]
          },
          "metadata": {
            "tags": []
          },
          "execution_count": 5
        }
      ]
    },
    {
      "cell_type": "code",
      "metadata": {
        "colab": {
          "base_uri": "https://localhost:8080/"
        },
        "id": "m4mWKdtgmUys",
        "outputId": "95be03a3-df31-4785-cfd0-a9f2299cec86"
      },
      "source": [
        "df_FNC.shape"
      ],
      "execution_count": null,
      "outputs": [
        {
          "output_type": "execute_result",
          "data": {
            "text/plain": [
              "(904, 2)"
            ]
          },
          "metadata": {
            "tags": []
          },
          "execution_count": 6
        }
      ]
    },
    {
      "cell_type": "code",
      "metadata": {
        "id": "8PPRgUnKmGu5"
      },
      "source": [
        "corpusCleanLiar = []\n",
        "for i in df_Lier['Statement']:\n",
        "    corpusCleanLiar.append(i)\n",
        "\n",
        "corpusFNC = []\n",
        "for i in df_FNC['articleBody'].astype('U'):\n",
        "    corpusFNC.append(i)"
      ],
      "execution_count": null,
      "outputs": []
    },
    {
      "cell_type": "code",
      "metadata": {
        "id": "O2pwZC_RmGu5"
      },
      "source": [
        "# Train a classifier that predicts the fakeness in the range of classes given by Cleaned liar liar dataset\n",
        "from sklearn.feature_extraction.text import TfidfVectorizer\n",
        "tfidfVector = TfidfVectorizer(max_features=1000)\n",
        "\n",
        "tfidf_cleanliar = tfidfVector.fit_transform(corpusCleanLiar)"
      ],
      "execution_count": null,
      "outputs": []
    },
    {
      "cell_type": "code",
      "metadata": {
        "id": "LHhxBj0MmGu5"
      },
      "source": [
        "tf_idf_FNC = tfidfVector.fit_transform(corpusFNC)\n",
        "words = tfidfVector.get_feature_names()"
      ],
      "execution_count": null,
      "outputs": []
    },
    {
      "cell_type": "code",
      "metadata": {
        "colab": {
          "base_uri": "https://localhost:8080/"
        },
        "id": "X3lswEfqmGu5",
        "outputId": "a647a116-1ba7-406c-da20-158418b20142"
      },
      "source": [
        "tfidf_cleanliar.toarray()"
      ],
      "execution_count": null,
      "outputs": [
        {
          "output_type": "execute_result",
          "data": {
            "text/plain": [
              "array([[0.        , 0.        , 0.        , ..., 0.        , 0.        ,\n",
              "        0.        ],\n",
              "       [0.        , 0.        , 0.        , ..., 0.        , 0.        ,\n",
              "        0.        ],\n",
              "       [0.        , 0.        , 0.        , ..., 0.        , 0.        ,\n",
              "        0.        ],\n",
              "       ...,\n",
              "       [0.        , 0.        , 0.        , ..., 0.        , 0.        ,\n",
              "        0.        ],\n",
              "       [0.        , 0.        , 0.        , ..., 0.        , 0.        ,\n",
              "        0.        ],\n",
              "       [0.17762906, 0.        , 0.        , ..., 0.        , 0.        ,\n",
              "        0.        ]])"
            ]
          },
          "metadata": {
            "tags": []
          },
          "execution_count": 10
        }
      ]
    },
    {
      "cell_type": "code",
      "metadata": {
        "colab": {
          "base_uri": "https://localhost:8080/"
        },
        "id": "WOxwdAUKmGu5",
        "outputId": "11622118-b368-4c17-f58e-86b5d37520bb"
      },
      "source": [
        "tf_idf_FNC.toarray()"
      ],
      "execution_count": null,
      "outputs": [
        {
          "output_type": "execute_result",
          "data": {
            "text/plain": [
              "array([[0.        , 0.        , 0.        , ..., 0.        , 0.        ,\n",
              "        0.        ],\n",
              "       [0.        , 0.        , 0.        , ..., 0.        , 0.        ,\n",
              "        0.        ],\n",
              "       [0.        , 0.        , 0.        , ..., 0.        , 0.        ,\n",
              "        0.        ],\n",
              "       ...,\n",
              "       [0.01701484, 0.        , 0.        , ..., 0.01254131, 0.        ,\n",
              "        0.        ],\n",
              "       [0.        , 0.        , 0.        , ..., 0.07992426, 0.04456967,\n",
              "        0.03605217],\n",
              "       [0.04972338, 0.02736204, 0.        , ..., 0.0549752 , 0.        ,\n",
              "        0.02479817]])"
            ]
          },
          "metadata": {
            "tags": []
          },
          "execution_count": 11
        }
      ]
    },
    {
      "cell_type": "code",
      "metadata": {
        "colab": {
          "base_uri": "https://localhost:8080/"
        },
        "id": "34sTkRk8mGu5",
        "outputId": "d935fd80-5377-4ba8-bc7b-4e0c020ceabf"
      },
      "source": [
        "tfidfVector.vocabulary_"
      ],
      "execution_count": null,
      "outputs": [
        {
          "output_type": "execute_result",
          "data": {
            "text/plain": [
              "{'al': 43,\n",
              " 'has': 390,\n",
              " 'denied': 243,\n",
              " 'reports': 728,\n",
              " 'that': 866,\n",
              " 'he': 393,\n",
              " 'to': 891,\n",
              " 'the': 867,\n",
              " 'afghan': 32,\n",
              " 'mother': 578,\n",
              " 'took': 895,\n",
              " 'on': 626,\n",
              " 'taliban': 853,\n",
              " 'after': 33,\n",
              " 'them': 869,\n",
              " 'her': 400,\n",
              " 'son': 809,\n",
              " 'in': 433,\n",
              " 'an': 60,\n",
              " 'killed': 479,\n",
              " '25': 15,\n",
              " 'fighters': 322,\n",
              " 'and': 62,\n",
              " 'injured': 441,\n",
              " 'five': 330,\n",
              " 'others': 639,\n",
              " 'seven': 778,\n",
              " 'province': 699,\n",
              " 'who': 970,\n",
              " 'was': 944,\n",
              " 'by': 153,\n",
              " 'daughter': 231,\n",
              " 'law': 502,\n",
              " 'using': 929,\n",
              " 'before': 115,\n",
              " 'having': 392,\n",
              " 'used': 927,\n",
              " 'told': 893,\n",
              " 'news': 598,\n",
              " 'she': 784,\n",
              " 'early': 275,\n",
              " 'tuesday': 910,\n",
              " 'had': 383,\n",
              " 'been': 114,\n",
              " 'other': 638,\n",
              " 'two': 916,\n",
              " 'women': 981,\n",
              " 'back': 98,\n",
              " 'couldn': 218,\n",
              " 'stop': 830,\n",
              " 'myself': 585,\n",
              " 'up': 924,\n",
              " 'went': 958,\n",
              " 'check': 173,\n",
              " 'post': 684,\n",
              " 'began': 116,\n",
              " 'added': 28,\n",
              " 'fighting': 323,\n",
              " 'when': 964,\n",
              " 'we': 949,\n",
              " 'along': 51,\n",
              " 'with': 977,\n",
              " 'weapons': 950,\n",
              " 'were': 959,\n",
              " 'committed': 202,\n",
              " 'fight': 320,\n",
              " 'until': 923,\n",
              " 'last': 496,\n",
              " 'said': 749,\n",
              " 'while': 968,\n",
              " 'have': 391,\n",
              " 'not': 606,\n",
              " 'incident': 435,\n",
              " 'government': 378,\n",
              " 'it': 463,\n",
              " 'of': 615,\n",
              " 'public': 700,\n",
              " 'against': 35,\n",
              " 'groups': 382,\n",
              " 'large': 493,\n",
              " 'country': 221,\n",
              " 'as': 87,\n",
              " 'forces': 341,\n",
              " 'out': 641,\n",
              " 'troops': 906,\n",
              " 'years': 993,\n",
              " 'war': 942,\n",
              " 'foreign': 342,\n",
              " 'group': 381,\n",
              " 'lost': 529,\n",
              " 'made': 534,\n",
              " 'members': 553,\n",
              " 'continue': 211,\n",
              " 'suicide': 841,\n",
              " 'well': 957,\n",
              " 'earlier': 274,\n",
              " 'this': 878,\n",
              " 'week': 954,\n",
              " '50': 18,\n",
              " 'people': 661,\n",
              " 'during': 272,\n",
              " 'attack': 92,\n",
              " 'president': 686,\n",
              " 'order': 635,\n",
              " 'defense': 242,\n",
              " 'which': 967,\n",
              " 'his': 407,\n",
              " 'is': 456,\n",
              " 'reporting': 727,\n",
              " 'site': 797,\n",
              " 'its': 464,\n",
              " 'look': 527,\n",
              " 'meeting': 551,\n",
              " 'city': 181,\n",
              " 'at': 91,\n",
              " 'major': 536,\n",
              " 'business': 151,\n",
              " 'ceo': 171,\n",
              " 'plan': 673,\n",
              " 'make': 537,\n",
              " 'market': 545,\n",
              " 'car': 164,\n",
              " 'cost': 216,\n",
              " 'world': 985,\n",
              " 'price': 691,\n",
              " 'also': 53,\n",
              " 'plans': 676,\n",
              " 'future': 358,\n",
              " 'already': 52,\n",
              " 'ground': 380,\n",
              " 'outside': 642,\n",
              " 'only': 630,\n",
              " 'name': 586,\n",
              " 'currently': 226,\n",
              " 'apple': 75,\n",
              " 'expected': 296,\n",
              " 'billion': 130,\n",
              " 'says': 758,\n",
              " 'deal': 236,\n",
              " 'state': 824,\n",
              " 'are': 78,\n",
              " 'still': 829,\n",
              " 'being': 120,\n",
              " 'could': 217,\n",
              " 'be': 108,\n",
              " 'they': 873,\n",
              " 're': 709,\n",
              " 'announced': 64,\n",
              " 'reported': 725,\n",
              " 'inch': 434,\n",
              " 'version': 932,\n",
              " 'iphone': 453,\n",
              " 'for': 338,\n",
              " 'level': 516,\n",
              " 'will': 976,\n",
              " 'launched': 501,\n",
              " '2015': 13,\n",
              " 'according': 22,\n",
              " 'com': 195,\n",
              " 'although': 54,\n",
              " 'there': 871,\n",
              " 'if': 428,\n",
              " 'new': 597,\n",
              " 'model': 567,\n",
              " 'would': 986,\n",
              " 'down': 268,\n",
              " 'phone': 667,\n",
              " 'or': 634,\n",
              " 'act': 25,\n",
              " 'true': 907,\n",
              " 'move': 579,\n",
              " 'return': 731,\n",
              " 'following': 335,\n",
              " 'plus': 679,\n",
              " 'september': 771,\n",
              " 'now': 610,\n",
              " 'account': 23,\n",
              " 'per': 662,\n",
              " 'british': 147,\n",
              " 'sales': 750,\n",
              " 'company': 206,\n",
              " 'ever': 289,\n",
              " 'uk': 917,\n",
              " 'share': 782,\n",
              " 'models': 568,\n",
              " 'across': 24,\n",
              " 'became': 111,\n",
              " 'product': 696,\n",
              " 'date': 230,\n",
              " 'more': 573,\n",
              " 'than': 865,\n",
              " '10': 1,\n",
              " 'million': 563,\n",
              " 'units': 921,\n",
              " 'within': 978,\n",
              " 'three': 885,\n",
              " 'days': 233,\n",
              " 'current': 225,\n",
              " 'see': 762,\n",
              " 'launch': 500,\n",
              " 'first': 329,\n",
              " 'smartwatch': 801,\n",
              " 'watch': 947,\n",
              " 'due': 271,\n",
              " 'release': 721,\n",
              " 'note': 607,\n",
              " 'no': 602,\n",
              " 'western': 962,\n",
              " 'media': 549,\n",
              " 'issue': 461,\n",
              " 'report': 724,\n",
              " 'based': 106,\n",
              " 'from': 354,\n",
              " 'iraq': 454,\n",
              " 'evidence': 292,\n",
              " 'army': 83,\n",
              " 'shot': 785,\n",
              " 'planes': 675,\n",
              " 'isil': 457,\n",
              " 'terrorists': 864,\n",
              " 'anbar': 61,\n",
              " 'senior': 768,\n",
              " 'monday': 569,\n",
              " 'iraqi': 455,\n",
              " 'national': 590,\n",
              " 'security': 761,\n",
              " 'committee': 203,\n",
              " 'photos': 669,\n",
              " 'both': 141,\n",
              " 'head': 394,\n",
              " 'information': 440,\n",
              " 'islamic': 459,\n",
              " 'council': 219,\n",
              " 'asked': 89,\n",
              " 'further': 357,\n",
              " 'baghdad': 101,\n",
              " 'daily': 228,\n",
              " 'us': 925,\n",
              " 'led': 508,\n",
              " 'coalition': 192,\n",
              " 'terrorist': 863,\n",
              " 'held': 398,\n",
              " 'areas': 80,\n",
              " 'noted': 608,\n",
              " 'cause': 169,\n",
              " 'such': 840,\n",
              " 'situation': 798,\n",
              " 'near': 592,\n",
              " 'does': 262,\n",
              " 'want': 940,\n",
              " 'come': 196,\n",
              " 'end': 282,\n",
              " 'today': 892,\n",
              " 'official': 621,\n",
              " 'countries': 220,\n",
              " 'their': 868,\n",
              " 'discovered': 255,\n",
              " 'european': 286,\n",
              " 'control': 213,\n",
              " 'website': 951,\n",
              " 'saying': 757,\n",
              " 'parts': 652,\n",
              " 'january': 466,\n",
              " 'anti': 66,\n",
              " 'dropped': 270,\n",
              " 'military': 562,\n",
              " 'aid': 38,\n",
              " 'through': 887,\n",
              " 'air': 39,\n",
              " 'including': 437,\n",
              " 'set': 776,\n",
              " 'investigation': 449,\n",
              " 'into': 448,\n",
              " 'matter': 546,\n",
              " 'about': 20,\n",
              " 'trying': 909,\n",
              " 'reality': 712,\n",
              " 'allegations': 47,\n",
              " 'data': 229,\n",
              " 'officers': 620,\n",
              " 'these': 872,\n",
              " 'given': 368,\n",
              " 'taken': 851,\n",
              " 'another': 65,\n",
              " 'international': 445,\n",
              " 'member': 552,\n",
              " 'support': 843,\n",
              " 'everyone': 291,\n",
              " 'continued': 212,\n",
              " 'late': 497,\n",
              " 'december': 238,\n",
              " 'plane': 674,\n",
              " 'organization': 636,\n",
              " 'available': 95,\n",
              " 'but': 152,\n",
              " 'serious': 773,\n",
              " 'because': 112,\n",
              " 'one': 628,\n",
              " 'month': 571,\n",
              " 'time': 889,\n",
              " 'get': 363,\n",
              " 'mosul': 577,\n",
              " 'received': 715,\n",
              " 'strikes': 835,\n",
              " 'even': 287,\n",
              " 'take': 850,\n",
              " 'so': 802,\n",
              " 'problem': 694,\n",
              " 'remains': 723,\n",
              " 'fighter': 321,\n",
              " 'syria': 847,\n",
              " 'airstrikes': 42,\n",
              " 'those': 879,\n",
              " 'where': 965,\n",
              " 'kurdish': 492,\n",
              " 'much': 582,\n",
              " 'militants': 561,\n",
              " 'area': 79,\n",
              " 'north': 604,\n",
              " 'sources': 815,\n",
              " 'october': 614,\n",
              " 'high': 404,\n",
              " 'adding': 29,\n",
              " 'claims': 184,\n",
              " 'called': 155,\n",
              " 'claim': 182,\n",
              " 'campaign': 158,\n",
              " 'food': 336,\n",
              " 'town': 899,\n",
              " 'chief': 174,\n",
              " 'staff': 820,\n",
              " 'armed': 82,\n",
              " 'general': 362,\n",
              " 'claimed': 183,\n",
              " 'medical': 550,\n",
              " 'border': 139,\n",
              " 'northern': 605,\n",
              " 'department': 244,\n",
              " 'did': 249,\n",
              " 'hands': 386,\n",
              " 'video': 935,\n",
              " 'later': 498,\n",
              " 'showed': 788,\n",
              " 'some': 806,\n",
              " 'intelligence': 444,\n",
              " 'once': 627,\n",
              " 'sent': 769,\n",
              " 'email': 280,\n",
              " 'music': 583,\n",
              " 'hold': 410,\n",
              " 'low': 532,\n",
              " 'like': 518,\n",
              " 'really': 713,\n",
              " 'me': 548,\n",
              " '20': 9,\n",
              " 'minutes': 564,\n",
              " 'something': 808,\n",
              " 'didn': 250,\n",
              " 'turn': 912,\n",
              " 'my': 584,\n",
              " 'send': 767,\n",
              " 'next': 599,\n",
              " 'day': 232,\n",
              " 'himself': 406,\n",
              " 'done': 267,\n",
              " 'sure': 844,\n",
              " 'all': 46,\n",
              " 'very': 933,\n",
              " 'read': 710,\n",
              " 'full': 356,\n",
              " 'article': 86,\n",
              " 'here': 401,\n",
              " 'year': 992,\n",
              " 'old': 625,\n",
              " 'star': 821,\n",
              " 'burton': 150,\n",
              " 'manson': 542,\n",
              " 'story': 832,\n",
              " 'wedding': 952,\n",
              " 'just': 477,\n",
              " 'case': 167,\n",
              " 'you': 997,\n",
              " 'york': 995,\n",
              " 'journalist': 474,\n",
              " 'simone': 795,\n",
              " 'reason': 714,\n",
              " 'behind': 119,\n",
              " 'him': 405,\n",
              " 'isn': 460,\n",
              " 'quite': 706,\n",
              " 'thought': 881,\n",
              " 'woman': 980,\n",
              " 'good': 376,\n",
              " 'over': 643,\n",
              " 'reportedly': 726,\n",
              " 'leader': 504,\n",
              " 'display': 257,\n",
              " 'money': 570,\n",
              " 'allegedly': 49,\n",
              " 'less': 513,\n",
              " 'idea': 426,\n",
              " 'off': 616,\n",
              " 'thing': 874,\n",
              " 'life': 517,\n",
              " 'details': 247,\n",
              " 'never': 596,\n",
              " 'looking': 528,\n",
              " 'please': 678,\n",
              " 'help': 399,\n",
              " 'immediately': 431,\n",
              " 'device': 248,\n",
              " 'health': 395,\n",
              " 'eye': 298,\n",
              " 'wall': 939,\n",
              " 'street': 833,\n",
              " 'journal': 473,\n",
              " 'april': 76,\n",
              " 'wanted': 941,\n",
              " 'blood': 136,\n",
              " 'pressure': 689,\n",
              " 'heart': 397,\n",
              " 'forced': 340,\n",
              " 'came': 156,\n",
              " 'app': 70,\n",
              " 'technology': 859,\n",
              " 'number': 611,\n",
              " 'form': 343,\n",
              " 'system': 849,\n",
              " 'latest': 499,\n",
              " 'started': 823,\n",
              " 'four': 346,\n",
              " 'ago': 37,\n",
              " 'black': 134,\n",
              " 'failed': 303,\n",
              " 'person': 665,\n",
              " 'features': 314,\n",
              " 'recently': 717,\n",
              " 'instead': 443,\n",
              " 'among': 59,\n",
              " 'however': 420,\n",
              " 'few': 319,\n",
              " 'pay': 657,\n",
              " 'rich': 735,\n",
              " 'picture': 671,\n",
              " 'possible': 683,\n",
              " 'united': 920,\n",
              " 'many': 543,\n",
              " 'ask': 88,\n",
              " 'real': 711,\n",
              " 'hoax': 409,\n",
              " 'crab': 224,\n",
              " 'giant': 365,\n",
              " 'image': 429,\n",
              " 'shows': 790,\n",
              " 'times': 890,\n",
              " 'biggest': 128,\n",
              " 'alive': 45,\n",
              " 'sort': 812,\n",
              " 'may': 547,\n",
              " 'seen': 764,\n",
              " '2013': 11,\n",
              " 'movement': 580,\n",
              " 'then': 870,\n",
              " 'bit': 133,\n",
              " 'eyes': 299,\n",
              " 'photo': 668,\n",
              " 'know': 484,\n",
              " 'better': 124,\n",
              " 'found': 345,\n",
              " 'around': 84,\n",
              " 'known': 485,\n",
              " 'can': 159,\n",
              " '12': 4,\n",
              " 'though': 880,\n",
              " 'believe': 121,\n",
              " 'computer': 207,\n",
              " 'big': 127,\n",
              " 'six': 799,\n",
              " 'morning': 575,\n",
              " 'brown': 149,\n",
              " 'boyfriend': 143,\n",
              " 'de': 234,\n",
              " 'police': 681,\n",
              " 'fired': 328,\n",
              " 'bag': 100,\n",
              " 'protesters': 698,\n",
              " 'gas': 359,\n",
              " 'station': 827,\n",
              " 'face': 300,\n",
              " 'why': 973,\n",
              " 'decided': 239,\n",
              " 'fire': 327,\n",
              " 'despite': 246,\n",
              " 'rushed': 746,\n",
              " 'hospital': 414,\n",
              " 'doctors': 261,\n",
              " 'left': 510,\n",
              " 'released': 722,\n",
              " 'statement': 825,\n",
              " 'facebook': 301,\n",
              " 'friends': 353,\n",
              " 'your': 999,\n",
              " 'got': 377,\n",
              " 'too': 894,\n",
              " 'family': 306,\n",
              " 'what': 963,\n",
              " 'happy': 388,\n",
              " 'airline': 40,\n",
              " 'christmas': 179,\n",
              " 'man': 541,\n",
              " 'american': 57,\n",
              " 'airlines': 41,\n",
              " 'flight': 331,\n",
              " 'say': 756,\n",
              " 'don': 266,\n",
              " 'saudi': 754,\n",
              " 'sunday': 842,\n",
              " 'local': 524,\n",
              " 'men': 554,\n",
              " 'spokesman': 819,\n",
              " 'speaking': 817,\n",
              " 'separate': 770,\n",
              " 'passengers': 654,\n",
              " 'gender': 361,\n",
              " 'male': 540,\n",
              " 'female': 317,\n",
              " 'non': 603,\n",
              " 'related': 720,\n",
              " 'any': 67,\n",
              " 'tried': 905,\n",
              " 'clear': 186,\n",
              " 'find': 326,\n",
              " 'significant': 793,\n",
              " 'months': 572,\n",
              " 'tv': 914,\n",
              " 'making': 539,\n",
              " 'give': 367,\n",
              " 'enough': 284,\n",
              " 'clinic': 188,\n",
              " 'investigators': 450,\n",
              " 'rivers': 740,\n",
              " 'under': 919,\n",
              " 'joan': 470,\n",
              " 'personal': 666,\n",
              " 'throat': 886,\n",
              " 'doctor': 260,\n",
              " 'selfie': 765,\n",
              " 'procedure': 695,\n",
              " 'endoscopy': 283,\n",
              " 'biopsy': 131,\n",
              " 'cnn': 190,\n",
              " 'yorkville': 996,\n",
              " 'room': 741,\n",
              " 'director': 254,\n",
              " 'dr': 269,\n",
              " 'lawrence': 503,\n",
              " 'cohen': 194,\n",
              " 'vocal': 937,\n",
              " 'performed': 664,\n",
              " 'identified': 427,\n",
              " 'death': 237,\n",
              " 'friday': 351,\n",
              " 'longer': 526,\n",
              " 'whether': 966,\n",
              " 'service': 774,\n",
              " 'office': 618,\n",
              " 'body': 138,\n",
              " 'studies': 838,\n",
              " 'how': 419,\n",
              " 'died': 251,\n",
              " 'beats': 110,\n",
              " 'published': 701,\n",
              " 'several': 780,\n",
              " 'going': 373,\n",
              " 'away': 96,\n",
              " 'comment': 201,\n",
              " 'militant': 560,\n",
              " 'isis': 458,\n",
              " 'beheading': 118,\n",
              " 'steven': 828,\n",
              " 'sotloff': 813,\n",
              " 'james': 465,\n",
              " 'foley': 333,\n",
              " 'august': 94,\n",
              " 'washington': 945,\n",
              " 'white': 969,\n",
              " 'house': 418,\n",
              " 'confirm': 208,\n",
              " 'reuters': 733,\n",
              " 'born': 140,\n",
              " 'decision': 240,\n",
              " 'interview': 447,\n",
              " 'message': 555,\n",
              " 'bill': 129,\n",
              " 'cosby': 215,\n",
              " 'past': 655,\n",
              " 'hit': 408,\n",
              " 'show': 787,\n",
              " 'revealed': 734,\n",
              " 'wouldn': 987,\n",
              " 'production': 697,\n",
              " 'press': 688,\n",
              " 'tell': 860,\n",
              " 'side': 791,\n",
              " 'keep': 478,\n",
              " 'mr': 581,\n",
              " 'become': 113,\n",
              " 'issued': 462,\n",
              " 'john': 471,\n",
              " 'fact': 302,\n",
              " 'doesn': 263,\n",
              " 'need': 593,\n",
              " 'financial': 325,\n",
              " 'makes': 538,\n",
              " 'think': 876,\n",
              " 'saturday': 753,\n",
              " 'brought': 148,\n",
              " 'university': 922,\n",
              " 'between': 125,\n",
              " 'since': 796,\n",
              " 'long': 525,\n",
              " 'go': 371,\n",
              " 'co': 191,\n",
              " 'might': 559,\n",
              " 'finally': 324,\n",
              " 'round': 742,\n",
              " 'bad': 99,\n",
              " 'source': 814,\n",
              " 'officials': 622,\n",
              " 'threatened': 884,\n",
              " 'ransom': 708,\n",
              " 'believed': 122,\n",
              " 'twitter': 915,\n",
              " '21': 14,\n",
              " 'fox': 347,\n",
              " 'nothing': 609,\n",
              " 'former': 344,\n",
              " 'father': 310,\n",
              " 'different': 253,\n",
              " 'returned': 732,\n",
              " 'again': 34,\n",
              " 'part': 651,\n",
              " 'special': 818,\n",
              " 'social': 803,\n",
              " 'thousands': 882,\n",
              " 'fake': 304,\n",
              " 'july': 476,\n",
              " 'let': 514,\n",
              " 'do': 259,\n",
              " '2014': 12,\n",
              " 'confirmed': 209,\n",
              " 'cook': 214,\n",
              " 'edition': 277,\n",
              " 'line': 520,\n",
              " 'rumors': 744,\n",
              " '000': 0,\n",
              " 'lot': 530,\n",
              " 'gold': 374,\n",
              " '18': 8,\n",
              " 'half': 384,\n",
              " '15': 5,\n",
              " 'page': 646,\n",
              " 'showing': 789,\n",
              " 'appears': 74,\n",
              " 'add': 27,\n",
              " 'total': 897,\n",
              " 'start': 822,\n",
              " 'little': 521,\n",
              " 'without': 979,\n",
              " 'human': 422,\n",
              " 'point': 680,\n",
              " 'weight': 956,\n",
              " 'great': 379,\n",
              " 'actually': 26,\n",
              " 'jasmine': 467,\n",
              " 'tridevil': 904,\n",
              " 'work': 983,\n",
              " 'surgery': 846,\n",
              " 'radio': 707,\n",
              " 'whole': 971,\n",
              " 'every': 290,\n",
              " 'breast': 145,\n",
              " 'put': 702,\n",
              " 'organs': 637,\n",
              " 'terror': 862,\n",
              " 'operations': 633,\n",
              " 'nations': 591,\n",
              " 'weeks': 955,\n",
              " 'bodies': 137,\n",
              " 'missing': 565,\n",
              " 'un': 918,\n",
              " 'hostage': 415,\n",
              " 'executed': 293,\n",
              " 'most': 576,\n",
              " 'third': 877,\n",
              " 'especially': 285,\n",
              " 'attacks': 93,\n",
              " 'community': 204,\n",
              " 'should': 786,\n",
              " 'couple': 222,\n",
              " '16': 6,\n",
              " 'west': 961,\n",
              " 'taking': 852,\n",
              " 'force': 339,\n",
              " 'whose': 972,\n",
              " 'abu': 21,\n",
              " 'wrong': 989,\n",
              " 'anyone': 68,\n",
              " 'syrian': 848,\n",
              " 'our': 640,\n",
              " 'nation': 589,\n",
              " 'call': 154,\n",
              " 'towards': 898,\n",
              " 'free': 349,\n",
              " 'rights': 737,\n",
              " 'agency': 36,\n",
              " 'second': 760,\n",
              " 'capital': 163,\n",
              " 'fear': 313,\n",
              " 'won': 982,\n",
              " 'children': 176,\n",
              " 'middle': 558,\n",
              " 'east': 276,\n",
              " 'treated': 902,\n",
              " 'same': 751,\n",
              " 'training': 900,\n",
              " 'own': 644,\n",
              " 'wife': 974,\n",
              " 'home': 412,\n",
              " 'wednesday': 953,\n",
              " 'night': 601,\n",
              " 'll': 523,\n",
              " 'doing': 265,\n",
              " 'right': 736,\n",
              " 'comes': 197,\n",
              " 'described': 245,\n",
              " 'beheaded': 117,\n",
              " 'hours': 417,\n",
              " 'associated': 90,\n",
              " 'follow': 334,\n",
              " 'arabia': 77,\n",
              " 'posted': 685,\n",
              " 'america': 56,\n",
              " 'obama': 612,\n",
              " 'similar': 794,\n",
              " 'policy': 682,\n",
              " 'bakr': 103,\n",
              " 'baghdadi': 102,\n",
              " 'place': 672,\n",
              " 'camera': 157,\n",
              " 'heard': 396,\n",
              " 'almost': 50,\n",
              " 'use': 926,\n",
              " 've': 930,\n",
              " 'include': 436,\n",
              " 'bring': 146,\n",
              " 'series': 772,\n",
              " 'battle': 107,\n",
              " 'wasn': 946,\n",
              " 'someone': 807,\n",
              " 'images': 430,\n",
              " 'far': 308,\n",
              " 'mail': 535,\n",
              " 'probably': 693,\n",
              " 'apparently': 71,\n",
              " 'internet': 446,\n",
              " 'global': 369,\n",
              " 'am': 55,\n",
              " 'paying': 658,\n",
              " 'strike': 834,\n",
              " 'knife': 483,\n",
              " 'live': 522,\n",
              " 'jewish': 468,\n",
              " 'working': 984,\n",
              " 'administration': 30,\n",
              " 'states': 826,\n",
              " 'telling': 861,\n",
              " 'private': 692,\n",
              " 'korovin': 490,\n",
              " 'talk': 854,\n",
              " 'surgeons': 845,\n",
              " 'care': 166,\n",
              " 'south': 816,\n",
              " 'korea': 488,\n",
              " 'able': 19,\n",
              " 'korean': 489,\n",
              " 'involved': 451,\n",
              " 'risk': 739,\n",
              " 'recent': 716,\n",
              " 'team': 858,\n",
              " 'event': 288,\n",
              " 'march': 544,\n",
              " 'coming': 199,\n",
              " 'hong': 413,\n",
              " 'kong': 487,\n",
              " 'online': 629,\n",
              " 'ferguson': 318,\n",
              " 'leaders': 505,\n",
              " 'each': 273,\n",
              " 'cat': 168,\n",
              " 'owner': 645,\n",
              " 'via': 934,\n",
              " 'canada': 160,\n",
              " 'sex': 781,\n",
              " 'previously': 690,\n",
              " 'way': 948,\n",
              " 'ipad': 452,\n",
              " 'seems': 763,\n",
              " 'likely': 519,\n",
              " 'school': 759,\n",
              " 'argentina': 81,\n",
              " 'kirchner': 482,\n",
              " 'tawil': 856,\n",
              " 'godson': 372,\n",
              " 'presidential': 687,\n",
              " 'baby': 97,\n",
              " 'adopted': 31,\n",
              " 'werewolf': 960,\n",
              " 'legend': 511,\n",
              " 'seventh': 779,\n",
              " 'russian': 748,\n",
              " 'love': 531,\n",
              " 'young': 998,\n",
              " 'el': 279,\n",
              " 'sons': 810,\n",
              " 'yair': 991,\n",
              " 'las': 495,\n",
              " 'boy': 142,\n",
              " 'parents': 649,\n",
              " 'sell': 766,\n",
              " 'turkey': 911,\n",
              " 'contact': 210,\n",
              " '2012': 10,\n",
              " 'hostages': 416,\n",
              " 'friend': 352,\n",
              " 'threat': 883,\n",
              " 'wrote': 990,\n",
              " 'anything': 69,\n",
              " 'refused': 718,\n",
              " 'citing': 180,\n",
              " 'student': 836,\n",
              " 'getting': 364,\n",
              " 'inside': 442,\n",
              " 'central': 170,\n",
              " 'happened': 387,\n",
              " 'top': 896,\n",
              " 'operation': 632,\n",
              " 'feel': 316,\n",
              " 'animal': 63,\n",
              " 'best': 123,\n",
              " 'class': 185,\n",
              " 'child': 175,\n",
              " 'declined': 241,\n",
              " 'letter': 515,\n",
              " 'paid': 647,\n",
              " 'tampa': 855,\n",
              " 'florida': 332,\n",
              " 'services': 775,\n",
              " 'birthday': 132,\n",
              " 'shared': 783,\n",
              " 'fan': 307,\n",
              " 'saw': 755,\n",
              " 'killing': 480,\n",
              " 'small': 800,\n",
              " 'yet': 994,\n",
              " 'least': 507,\n",
              " 'close': 189,\n",
              " 'soldiers': 805,\n",
              " 'michael': 556,\n",
              " 'dna': 258,\n",
              " 'often': 623,\n",
              " 'paris': 650,\n",
              " 'boys': 144,\n",
              " 'herself': 402,\n",
              " 'hard': 389,\n",
              " 'girl': 366,\n",
              " 'study': 839,\n",
              " 'largest': 494,\n",
              " 'front': 355,\n",
              " 'change': 172,\n",
              " 'families': 305,\n",
              " 'companies': 205,\n",
              " 'hp': 421,\n",
              " 'pc': 659,\n",
              " 'mobile': 566,\n",
              " 'stores': 831,\n",
              " 'needs': 594,\n",
              " 'transgender': 901,\n",
              " 'society': 804,\n",
              " '17': 7,\n",
              " 'appeared': 73,\n",
              " 'leelah': 509,\n",
              " 'things': 875,\n",
              " 'treatment': 903,\n",
              " 'rest': 730,\n",
              " 'gay': 360,\n",
              " 'either': 278,\n",
              " '100': 2,\n",
              " 'turned': 913,\n",
              " 'research': 729,\n",
              " 'base': 105,\n",
              " 'experts': 297,\n",
              " 'qaeda': 703,\n",
              " 'independent': 438,\n",
              " 'appear': 72,\n",
              " 'holding': 411,\n",
              " 'morin': 574,\n",
              " 'path': 656,\n",
              " 'network': 595,\n",
              " 'users': 928,\n",
              " 'command': 200,\n",
              " 'dead': 235,\n",
              " 'pic': 670,\n",
              " 'paper': 648,\n",
              " 'soon': 811,\n",
              " 'run': 745,\n",
              " 'party': 653,\n",
              " 'nash': 588,\n",
              " 'alex': 44,\n",
              " 'teacher': 857,\n",
              " 'named': 587,\n",
              " 'gone': 375,\n",
              " 'play': 677,\n",
              " 'kobane': 486,\n",
              " 'rehana': 719,\n",
              " 'sign': 792,\n",
              " 'france': 348,\n",
              " 'penis': 660,\n",
              " 'husband': 423,\n",
              " 'industry': 439,\n",
              " 'lenovo': 512,\n",
              " 'percent': 663,\n",
              " 'cardiac': 165,\n",
              " 'arrest': 85,\n",
              " '40': 17,\n",
              " 'hand': 385,\n",
              " 'rumor': 743,\n",
              " 'oil': 624,\n",
              " 'cut': 227,\n",
              " 'dog': 264,\n",
              " 'china': 177,\n",
              " 'russia': 747,\n",
              " 'thursday': 888,\n",
              " 'federal': 315,\n",
              " 'students': 837,\n",
              " 'open': 631,\n",
              " 'officer': 619,\n",
              " 'important': 432,\n",
              " 'exercise': 294,\n",
              " 'french': 350,\n",
              " '30': 16,\n",
              " 'qiang': 704,\n",
              " 'alleged': 48,\n",
              " 'course': 223,\n",
              " 'bear': 109,\n",
              " 'americans': 58,\n",
              " 'wounded': 988,\n",
              " '11': 3,\n",
              " 'hessler': 403,\n",
              " 'viral': 936,\n",
              " 'nhl': 600,\n",
              " 'expansion': 295,\n",
              " 'vegas': 931,\n",
              " 'league': 506,\n",
              " 'bieber': 126,\n",
              " 'ringtone': 738,\n",
              " 'vorozhbitsyn': 938,\n",
              " 'microsoft': 557,\n",
              " 'jihadi': 469,\n",
              " 'quarter': 705,\n",
              " 'offer': 617,\n",
              " 'bart': 104,\n",
              " 'cape': 162,\n",
              " 'cod': 193,\n",
              " 'kim': 481,\n",
              " 'diet': 252,\n",
              " 'fat': 309,\n",
              " 'jong': 472,\n",
              " 'ibm': 424,\n",
              " 'canadian': 161,\n",
              " 'seth': 777,\n",
              " 'emails': 281,\n",
              " 'blackberry': 135,\n",
              " 'disease': 256,\n",
              " 'macbook': 533,\n",
              " 'kuo': 491,\n",
              " 'fbi': 312,\n",
              " 'comey': 198,\n",
              " 'id': 425,\n",
              " 'climate': 187,\n",
              " 'js': 475,\n",
              " 'trump': 908,\n",
              " 'foods': 337,\n",
              " 'cholesterol': 178,\n",
              " 'warming': 943,\n",
              " 'fats': 311,\n",
              " 'saturated': 752,\n",
              " 'glyphosate': 370,\n",
              " 'wikileaks': 975,\n",
              " 'obamacare': 613}"
            ]
          },
          "metadata": {
            "tags": []
          },
          "execution_count": 12
        }
      ]
    },
    {
      "cell_type": "markdown",
      "metadata": {
        "id": "VnK0fYdumGu5"
      },
      "source": [
        "## Cosine Similarirty "
      ]
    },
    {
      "cell_type": "code",
      "metadata": {
        "colab": {
          "base_uri": "https://localhost:8080/"
        },
        "id": "AXt9t2_omGu6",
        "outputId": "aa7c1562-2d52-4556-e72b-a685953c6c3d"
      },
      "source": [
        "# Clean Lier Lier Dataset\n",
        "\n",
        "cleanLtrain_tfidf = tfidfVector.fit_transform(df_Lier['Statement'])\n",
        "print('Training dim:', cleanLtrain_tfidf.shape)\n",
        "print(cleanLtrain_tfidf.A[:10])"
      ],
      "execution_count": null,
      "outputs": [
        {
          "output_type": "stream",
          "text": [
            "Training dim: (18210, 1000)\n",
            "[[0.         0.         0.         ... 0.         0.         0.        ]\n",
            " [0.         0.         0.         ... 0.         0.         0.        ]\n",
            " [0.         0.         0.         ... 0.         0.         0.        ]\n",
            " ...\n",
            " [0.21968747 0.         0.         ... 0.         0.         0.        ]\n",
            " [0.         0.         0.         ... 0.         0.         0.        ]\n",
            " [0.         0.         0.         ... 0.         0.         0.        ]]\n"
          ],
          "name": "stdout"
        }
      ]
    },
    {
      "cell_type": "code",
      "metadata": {
        "colab": {
          "base_uri": "https://localhost:8080/"
        },
        "id": "e2Y5YcA3mGu6",
        "outputId": "f6801268-acde-49ed-84da-eadfe016edac"
      },
      "source": [
        "# cosine similarity of Training data for liar liar dataset\n",
        "from sklearn.metrics.pairwise import cosine_similarity\n",
        "from scipy import spatial\n",
        "clean_similarity_score = []\n",
        "for i in range(len(cleanLtrain_tfidf.toarray())):\n",
        "    clean_similarity_score.append(1 - spatial.distance.cosine(tf_idf_FNC[0].toarray(), tfidf_cleanliar[i].toarray()))"
      ],
      "execution_count": null,
      "outputs": [
        {
          "output_type": "stream",
          "text": [
            "/usr/local/lib/python3.6/dist-packages/scipy/spatial/distance.py:720: RuntimeWarning: invalid value encountered in double_scalars\n",
            "  dist = 1.0 - uv / np.sqrt(uu * vv)\n"
          ],
          "name": "stderr"
        }
      ]
    },
    {
      "cell_type": "code",
      "metadata": {
        "id": "WMgJ31H_mGu6"
      },
      "source": [
        "#append the similarity_score to both liar liar dataset and kaggle fake news dataset for amalgamation\n",
        "df_Lier['cosine_score'] = clean_similarity_score"
      ],
      "execution_count": null,
      "outputs": []
    },
    {
      "cell_type": "code",
      "metadata": {
        "colab": {
          "base_uri": "https://localhost:8080/"
        },
        "id": "_hYI9yvRmGu6",
        "outputId": "a66bbb46-f274-45df-b86b-55cae4b5ba48"
      },
      "source": [
        "df_Lier.describe()"
      ],
      "execution_count": null,
      "outputs": [
        {
          "output_type": "execute_result",
          "data": {
            "application/vnd.google.colaboratory.module+javascript": "\n      import \"https://ssl.gstatic.com/colaboratory/data_table/a6224c040fa35dcf/data_table.js\";\n\n      window.createDataTable({\n        data: [[\"count\",\n{\n            'v': 18210.0,\n            'f': \"18210.0\",\n        },\n{\n            'v': 18210.0,\n            'f': \"18210.0\",\n        },\n{\n            'v': 18210.0,\n            'f': \"18210.0\",\n        },\n{\n            'v': 18210.0,\n            'f': \"18210.0\",\n        },\n{\n            'v': 18210.0,\n            'f': \"18210.0\",\n        },\n{\n            'v': 18210.0,\n            'f': \"18210.0\",\n        },\n{\n            'v': 18210.0,\n            'f': \"18210.0\",\n        },\n{\n            'v': 18210.0,\n            'f': \"18210.0\",\n        },\n{\n            'v': 18210.0,\n            'f': \"18210.0\",\n        },\n{\n            'v': 18210.0,\n            'f': \"18210.0\",\n        },\n{\n            'v': 18210.0,\n            'f': \"18210.0\",\n        },\n{\n            'v': 18208.0,\n            'f': \"18208.0\",\n        }],\n [\"mean\",\n{\n            'v': 9104.5,\n            'f': \"9104.5\",\n        },\n{\n            'v': 12.725809994508511,\n            'f': \"12.725809994508511\",\n        },\n{\n            'v': 16.815431081823174,\n            'f': \"16.815431081823174\",\n        },\n{\n            'v': 17.857825370675453,\n            'f': \"17.857825370675453\",\n        },\n{\n            'v': 16.243986820428336,\n            'f': \"16.243986820428336\",\n        },\n{\n            'v': 22.735749588138386,\n            'f': \"22.735749588138386\",\n        },\n{\n            'v': 11.738660076880835,\n            'f': \"11.738660076880835\",\n        },\n{\n            'v': 1.9961559582646897,\n            'f': \"1.9961559582646897\",\n        },\n{\n            'v': 9104.5,\n            'f': \"9104.5\",\n        },\n{\n            'v': 4.577594728171334,\n            'f': \"4.577594728171334\",\n        },\n{\n            'v': 0.6664404455868999,\n            'f': \"0.6664404455868999\",\n        },\n{\n            'v': 0.006899007937003223,\n            'f': \"0.006899007937003223\",\n        }],\n [\"std\",\n{\n            'v': 5256.918536557324,\n            'f': \"5256.918536557324\",\n        },\n{\n            'v': 18.80562971577067,\n            'f': \"18.80562971577067\",\n        },\n{\n            'v': 20.262431496442154,\n            'f': \"20.262431496442154\",\n        },\n{\n            'v': 19.78543939223404,\n            'f': \"19.78543939223404\",\n        },\n{\n            'v': 18.577599091770562,\n            'f': \"18.577599091770562\",\n        },\n{\n            'v': 22.57309558396772,\n            'f': \"22.57309558396772\",\n        },\n{\n            'v': 19.704758706868226,\n            'f': \"19.704758706868226\",\n        },\n{\n            'v': 13.903513592027794,\n            'f': \"13.903513592027794\",\n        },\n{\n            'v': 5256.918536557324,\n            'f': \"5256.918536557324\",\n        },\n{\n            'v': 2.8824600439073684,\n            'f': \"2.8824600439073684\",\n        },\n{\n            'v': 0.1726319443172275,\n            'f': \"0.1726319443172275\",\n        },\n{\n            'v': 0.03058491349461764,\n            'f': \"0.03058491349461764\",\n        }],\n [\"min\",\n{\n            'v': 0.0,\n            'f': \"0.0\",\n        },\n{\n            'v': 0.0,\n            'f': \"0.0\",\n        },\n{\n            'v': 0.0,\n            'f': \"0.0\",\n        },\n{\n            'v': 0.0,\n            'f': \"0.0\",\n        },\n{\n            'v': 0.0,\n            'f': \"0.0\",\n        },\n{\n            'v': 0.0,\n            'f': \"0.0\",\n        },\n{\n            'v': 0.0,\n            'f': \"0.0\",\n        },\n{\n            'v': 0.0,\n            'f': \"0.0\",\n        },\n{\n            'v': 0.0,\n            'f': \"0.0\",\n        },\n{\n            'v': 0.0,\n            'f': \"0.0\",\n        },\n{\n            'v': 0.10000000149011612,\n            'f': \"0.10000000149011612\",\n        },\n{\n            'v': 0.0,\n            'f': \"0.0\",\n        }],\n [\"25%\",\n{\n            'v': 4552.25,\n            'f': \"4552.25\",\n        },\n{\n            'v': 0.0,\n            'f': \"0.0\",\n        },\n{\n            'v': 1.0,\n            'f': \"1.0\",\n        },\n{\n            'v': 3.0,\n            'f': \"3.0\",\n        },\n{\n            'v': 0.0,\n            'f': \"0.0\",\n        },\n{\n            'v': 5.0,\n            'f': \"5.0\",\n        },\n{\n            'v': 0.0,\n            'f': \"0.0\",\n        },\n{\n            'v': 0.0,\n            'f': \"0.0\",\n        },\n{\n            'v': 4552.25,\n            'f': \"4552.25\",\n        },\n{\n            'v': 2.0,\n            'f': \"2.0\",\n        },\n{\n            'v': 0.5204007476568222,\n            'f': \"0.5204007476568222\",\n        },\n{\n            'v': 0.0,\n            'f': \"0.0\",\n        }],\n [\"50%\",\n{\n            'v': 9104.5,\n            'f': \"9104.5\",\n        },\n{\n            'v': 5.0,\n            'f': \"5.0\",\n        },\n{\n            'v': 11.0,\n            'f': \"11.0\",\n        },\n{\n            'v': 14.0,\n            'f': \"14.0\",\n        },\n{\n            'v': 14.0,\n            'f': \"14.0\",\n        },\n{\n            'v': 18.0,\n            'f': \"18.0\",\n        },\n{\n            'v': 3.0,\n            'f': \"3.0\",\n        },\n{\n            'v': 0.0,\n            'f': \"0.0\",\n        },\n{\n            'v': 9104.5,\n            'f': \"9104.5\",\n        },\n{\n            'v': 5.0,\n            'f': \"5.0\",\n        },\n{\n            'v': 0.6545194089412689,\n            'f': \"0.6545194089412689\",\n        },\n{\n            'v': 0.0,\n            'f': \"0.0\",\n        }],\n [\"75%\",\n{\n            'v': 13656.75,\n            'f': \"13656.75\",\n        },\n{\n            'v': 20.0,\n            'f': \"20.0\",\n        },\n{\n            'v': 25.0,\n            'f': \"25.0\",\n        },\n{\n            'v': 26.0,\n            'f': \"26.0\",\n        },\n{\n            'v': 20.0,\n            'f': \"20.0\",\n        },\n{\n            'v': 33.0,\n            'f': \"33.0\",\n        },\n{\n            'v': 16.0,\n            'f': \"16.0\",\n        },\n{\n            'v': 0.0,\n            'f': \"0.0\",\n        },\n{\n            'v': 13656.75,\n            'f': \"13656.75\",\n        },\n{\n            'v': 7.0,\n            'f': \"7.0\",\n        },\n{\n            'v': 0.8499410897493362,\n            'f': \"0.8499410897493362\",\n        },\n{\n            'v': 0.0,\n            'f': \"0.0\",\n        }],\n [\"max\",\n{\n            'v': 18209.0,\n            'f': \"18209.0\",\n        },\n{\n            'v': 100.0,\n            'f': \"100.0\",\n        },\n{\n            'v': 100.0,\n            'f': \"100.0\",\n        },\n{\n            'v': 100.0,\n            'f': \"100.0\",\n        },\n{\n            'v': 100.0,\n            'f': \"100.0\",\n        },\n{\n            'v': 100.0,\n            'f': \"100.0\",\n        },\n{\n            'v': 100.0,\n            'f': \"100.0\",\n        },\n{\n            'v': 100.0,\n            'f': \"100.0\",\n        },\n{\n            'v': 18209.0,\n            'f': \"18209.0\",\n        },\n{\n            'v': 9.0,\n            'f': \"9.0\",\n        },\n{\n            'v': 0.9653764963150024,\n            'f': \"0.9653764963150024\",\n        },\n{\n            'v': 0.35615398326085457,\n            'f': \"0.35615398326085457\",\n        }]],\n        columns: [[\"string\", \"level_0\"], [\"number\", \"Unnamed: 0\"], [\"number\", \"TRUE\"], [\"number\", \"MostlyTrue\"], [\"number\", \"HalfTrue\"], [\"number\", \"MostlyFalse\"], [\"number\", \"FALSE\"], [\"number\", \"PantOnFire\"], [\"number\", \"FakeScore\"], [\"number\", \"index\"], [\"number\", \"topic_number\"], [\"number\", \"lda_score\"], [\"number\", \"cosine_score\"]],\n        columnOptions: [{\"width\": \"1px\", \"className\": \"index_column\"}],\n        rowsPerPage: 25,\n        helpUrl: \"https://colab.research.google.com/notebooks/data_table.ipynb\",\n        suppressOutputScrolling: true,\n        minimumWidth: undefined,\n      });\n    ",
            "text/html": [
              "<div>\n",
              "<style scoped>\n",
              "    .dataframe tbody tr th:only-of-type {\n",
              "        vertical-align: middle;\n",
              "    }\n",
              "\n",
              "    .dataframe tbody tr th {\n",
              "        vertical-align: top;\n",
              "    }\n",
              "\n",
              "    .dataframe thead th {\n",
              "        text-align: right;\n",
              "    }\n",
              "</style>\n",
              "<table border=\"1\" class=\"dataframe\">\n",
              "  <thead>\n",
              "    <tr style=\"text-align: right;\">\n",
              "      <th></th>\n",
              "      <th>Unnamed: 0</th>\n",
              "      <th>TRUE</th>\n",
              "      <th>MostlyTrue</th>\n",
              "      <th>HalfTrue</th>\n",
              "      <th>MostlyFalse</th>\n",
              "      <th>FALSE</th>\n",
              "      <th>PantOnFire</th>\n",
              "      <th>FakeScore</th>\n",
              "      <th>index</th>\n",
              "      <th>topic_number</th>\n",
              "      <th>lda_score</th>\n",
              "      <th>cosine_score</th>\n",
              "    </tr>\n",
              "  </thead>\n",
              "  <tbody>\n",
              "    <tr>\n",
              "      <th>count</th>\n",
              "      <td>18210.000000</td>\n",
              "      <td>18210.00000</td>\n",
              "      <td>18210.000000</td>\n",
              "      <td>18210.000000</td>\n",
              "      <td>18210.000000</td>\n",
              "      <td>18210.000000</td>\n",
              "      <td>18210.000000</td>\n",
              "      <td>18210.000000</td>\n",
              "      <td>18210.000000</td>\n",
              "      <td>18210.000000</td>\n",
              "      <td>18210.000000</td>\n",
              "      <td>18208.000000</td>\n",
              "    </tr>\n",
              "    <tr>\n",
              "      <th>mean</th>\n",
              "      <td>9104.500000</td>\n",
              "      <td>12.72581</td>\n",
              "      <td>16.815431</td>\n",
              "      <td>17.857825</td>\n",
              "      <td>16.243987</td>\n",
              "      <td>22.735750</td>\n",
              "      <td>11.738660</td>\n",
              "      <td>1.996156</td>\n",
              "      <td>9104.500000</td>\n",
              "      <td>4.577595</td>\n",
              "      <td>0.666440</td>\n",
              "      <td>0.006899</td>\n",
              "    </tr>\n",
              "    <tr>\n",
              "      <th>std</th>\n",
              "      <td>5256.918537</td>\n",
              "      <td>18.80563</td>\n",
              "      <td>20.262431</td>\n",
              "      <td>19.785439</td>\n",
              "      <td>18.577599</td>\n",
              "      <td>22.573096</td>\n",
              "      <td>19.704759</td>\n",
              "      <td>13.903514</td>\n",
              "      <td>5256.918537</td>\n",
              "      <td>2.882460</td>\n",
              "      <td>0.172632</td>\n",
              "      <td>0.030585</td>\n",
              "    </tr>\n",
              "    <tr>\n",
              "      <th>min</th>\n",
              "      <td>0.000000</td>\n",
              "      <td>0.00000</td>\n",
              "      <td>0.000000</td>\n",
              "      <td>0.000000</td>\n",
              "      <td>0.000000</td>\n",
              "      <td>0.000000</td>\n",
              "      <td>0.000000</td>\n",
              "      <td>0.000000</td>\n",
              "      <td>0.000000</td>\n",
              "      <td>0.000000</td>\n",
              "      <td>0.100000</td>\n",
              "      <td>0.000000</td>\n",
              "    </tr>\n",
              "    <tr>\n",
              "      <th>25%</th>\n",
              "      <td>4552.250000</td>\n",
              "      <td>0.00000</td>\n",
              "      <td>1.000000</td>\n",
              "      <td>3.000000</td>\n",
              "      <td>0.000000</td>\n",
              "      <td>5.000000</td>\n",
              "      <td>0.000000</td>\n",
              "      <td>0.000000</td>\n",
              "      <td>4552.250000</td>\n",
              "      <td>2.000000</td>\n",
              "      <td>0.520401</td>\n",
              "      <td>0.000000</td>\n",
              "    </tr>\n",
              "    <tr>\n",
              "      <th>50%</th>\n",
              "      <td>9104.500000</td>\n",
              "      <td>5.00000</td>\n",
              "      <td>11.000000</td>\n",
              "      <td>14.000000</td>\n",
              "      <td>14.000000</td>\n",
              "      <td>18.000000</td>\n",
              "      <td>3.000000</td>\n",
              "      <td>0.000000</td>\n",
              "      <td>9104.500000</td>\n",
              "      <td>5.000000</td>\n",
              "      <td>0.654519</td>\n",
              "      <td>0.000000</td>\n",
              "    </tr>\n",
              "    <tr>\n",
              "      <th>75%</th>\n",
              "      <td>13656.750000</td>\n",
              "      <td>20.00000</td>\n",
              "      <td>25.000000</td>\n",
              "      <td>26.000000</td>\n",
              "      <td>20.000000</td>\n",
              "      <td>33.000000</td>\n",
              "      <td>16.000000</td>\n",
              "      <td>0.000000</td>\n",
              "      <td>13656.750000</td>\n",
              "      <td>7.000000</td>\n",
              "      <td>0.849941</td>\n",
              "      <td>0.000000</td>\n",
              "    </tr>\n",
              "    <tr>\n",
              "      <th>max</th>\n",
              "      <td>18209.000000</td>\n",
              "      <td>100.00000</td>\n",
              "      <td>100.000000</td>\n",
              "      <td>100.000000</td>\n",
              "      <td>100.000000</td>\n",
              "      <td>100.000000</td>\n",
              "      <td>100.000000</td>\n",
              "      <td>100.000000</td>\n",
              "      <td>18209.000000</td>\n",
              "      <td>9.000000</td>\n",
              "      <td>0.965376</td>\n",
              "      <td>0.356154</td>\n",
              "    </tr>\n",
              "  </tbody>\n",
              "</table>\n",
              "</div>"
            ],
            "text/plain": [
              "         Unnamed: 0         TRUE  ...     lda_score  cosine_score\n",
              "count  18210.000000  18210.00000  ...  18210.000000  18208.000000\n",
              "mean   9104.500000   12.72581     ...  0.666440      0.006899    \n",
              "std    5256.918537   18.80563     ...  0.172632      0.030585    \n",
              "min    0.000000      0.00000      ...  0.100000      0.000000    \n",
              "25%    4552.250000   0.00000      ...  0.520401      0.000000    \n",
              "50%    9104.500000   5.00000      ...  0.654519      0.000000    \n",
              "75%    13656.750000  20.00000     ...  0.849941      0.000000    \n",
              "max    18209.000000  100.00000    ...  0.965376      0.356154    \n",
              "\n",
              "[8 rows x 12 columns]"
            ]
          },
          "metadata": {
            "tags": []
          },
          "execution_count": 16
        }
      ]
    },
    {
      "cell_type": "code",
      "metadata": {
        "id": "PM06hhzXmGu6"
      },
      "source": [
        "# Kaggle fake news dataset\n",
        "clean_similarity_score_FNC = []\n",
        "for i in range(len(tf_idf_FNC.toarray())):\n",
        "    clean_similarity_score_FNC.append(1 - spatial.distance.cosine(tfidf_cleanliar[0].toarray(), tf_idf_FNC[i].toarray()))"
      ],
      "execution_count": null,
      "outputs": []
    },
    {
      "cell_type": "code",
      "metadata": {
        "id": "QS_smabimGu6"
      },
      "source": [
        "df_FNC['cosine_score'] = clean_similarity_score_FNC"
      ],
      "execution_count": null,
      "outputs": []
    },
    {
      "cell_type": "code",
      "metadata": {
        "id": "xqxuRmxMmGu6"
      },
      "source": [
        "df_Lier = df_Lier.dropna(0)\n",
        "df_FNC = df_FNC.dropna(0)"
      ],
      "execution_count": null,
      "outputs": []
    },
    {
      "cell_type": "code",
      "metadata": {
        "colab": {
          "base_uri": "https://localhost:8080/"
        },
        "id": "aOp-RwBhmGu6",
        "outputId": "590e851b-90fd-460e-9901-2c7427d290d8"
      },
      "source": [
        "df_Lier.shape"
      ],
      "execution_count": null,
      "outputs": [
        {
          "output_type": "execute_result",
          "data": {
            "text/plain": [
              "(12458, 21)"
            ]
          },
          "metadata": {
            "tags": []
          },
          "execution_count": 20
        }
      ]
    },
    {
      "cell_type": "code",
      "metadata": {
        "colab": {
          "base_uri": "https://localhost:8080/"
        },
        "id": "hGVn2yEf3CUA",
        "outputId": "9ab8b5d3-320c-48e5-ceea-406d85c2fcb1"
      },
      "source": [
        "df_Lier.cosine_score.unique()"
      ],
      "execution_count": null,
      "outputs": [
        {
          "output_type": "execute_result",
          "data": {
            "text/plain": [
              "array([0.        , 0.04318922, 0.18505524, 0.04902763, 0.07246136,\n",
              "       0.04524395, 0.07689731, 0.0817399 , 0.14336078, 0.04928193,\n",
              "       0.06661042, 0.2011568 , 0.22282522, 0.0433232 , 0.08880843,\n",
              "       0.06642065, 0.0391604 , 0.03369454, 0.10172639, 0.0687693 ,\n",
              "       0.0504162 , 0.06193945, 0.06635592, 0.11483145, 0.05231911,\n",
              "       0.0670252 , 0.06623419, 0.05079147, 0.06843837, 0.05479435,\n",
              "       0.0830494 , 0.05884487, 0.10472521, 0.05532405, 0.05789659,\n",
              "       0.06398374, 0.13902867, 0.05427111, 0.03650898, 0.21252685,\n",
              "       0.05015434, 0.05194368, 0.11234287, 0.0676832 , 0.1914289 ,\n",
              "       0.24731307, 0.11309313, 0.09369713, 0.06945981, 0.19504217,\n",
              "       0.16332937, 0.04425495, 0.05778599, 0.09056736, 0.06060867,\n",
              "       0.13035033, 0.14316599, 0.2326751 , 0.20106432, 0.07330512,\n",
              "       0.07225348, 0.0410768 , 0.21392462, 0.07187759, 0.05120494,\n",
              "       0.02945461, 0.09733168, 0.04221388, 0.0485761 , 0.05035174,\n",
              "       0.09847807, 0.03990048, 0.06655836, 0.03157379, 0.06837948,\n",
              "       0.05943642, 0.0351572 , 0.13768382, 0.30225159, 0.05818744,\n",
              "       0.11550393, 0.04432676, 0.04046388, 0.05240998, 0.08325933,\n",
              "       0.06167367, 0.23432095, 0.11344202, 0.19402269, 0.10451022,\n",
              "       0.08115505, 0.16978839, 0.07176579, 0.04204287, 0.11493306,\n",
              "       0.16311862, 0.08163247, 0.24165571, 0.1233425 , 0.04726766,\n",
              "       0.08211852, 0.14548724, 0.1076868 , 0.14488501, 0.04374082,\n",
              "       0.04230189, 0.08256261, 0.05919406, 0.15037564, 0.05897814,\n",
              "       0.1567271 , 0.17078402, 0.05341364, 0.04290855, 0.06018048,\n",
              "       0.08253544, 0.21610958, 0.07981092, 0.04172154, 0.08831549,\n",
              "       0.04956455, 0.09869009, 0.15085834, 0.16923318, 0.04341732,\n",
              "       0.15972076, 0.1332043 , 0.03161821, 0.06312314, 0.11888169,\n",
              "       0.11298827, 0.11262529, 0.2189673 , 0.03801588, 0.06803424,\n",
              "       0.07578529, 0.04196974, 0.15299107, 0.20245245, 0.04156805,\n",
              "       0.14412535, 0.06704797, 0.10943548, 0.10596386, 0.06253257,\n",
              "       0.0864783 , 0.23197967, 0.07631078, 0.15443805, 0.02556973,\n",
              "       0.04083457, 0.20338644, 0.07225523, 0.14187652, 0.0480757 ,\n",
              "       0.07437068, 0.06159729, 0.04962071, 0.06300777, 0.1052241 ,\n",
              "       0.05524745, 0.07428048, 0.05220489, 0.03498459, 0.1168922 ,\n",
              "       0.05914746, 0.07906065, 0.23433584, 0.14267769, 0.13308845,\n",
              "       0.04886594, 0.20434327, 0.03868843, 0.04101738, 0.11313025,\n",
              "       0.14535634, 0.0671382 , 0.17086537, 0.12436156, 0.06587036,\n",
              "       0.06436086, 0.14393591, 0.10920545, 0.04993534, 0.09789559,\n",
              "       0.07868718, 0.05746232, 0.07663135, 0.07088738, 0.16801361,\n",
              "       0.03176402, 0.14065058, 0.03708111, 0.35615398, 0.07434333,\n",
              "       0.11610282, 0.10585224, 0.13133501, 0.19772365, 0.23344341,\n",
              "       0.04391131, 0.16853724, 0.03687572, 0.18698643, 0.06019783,\n",
              "       0.09644355, 0.05524307, 0.19834   , 0.05771426, 0.12439679,\n",
              "       0.02725439, 0.1066528 , 0.05066933, 0.06633371, 0.19670405,\n",
              "       0.03552524, 0.07718182, 0.04482342, 0.10216835, 0.08215504,\n",
              "       0.03776531, 0.06609732, 0.03216288, 0.05249796, 0.11010074,\n",
              "       0.05431209, 0.05067684, 0.13006507, 0.16291016, 0.10394256,\n",
              "       0.08952043, 0.20873672, 0.17080292, 0.10512258, 0.23677589,\n",
              "       0.10127483, 0.06806073, 0.14927578, 0.04504567, 0.18324113,\n",
              "       0.08072291, 0.09113401, 0.02712979, 0.04795091, 0.06799794,\n",
              "       0.06755544, 0.15704226, 0.04015941, 0.08924981, 0.1532718 ,\n",
              "       0.04674935, 0.06419662, 0.04580462, 0.05524564, 0.29491332,\n",
              "       0.34503232, 0.08193319, 0.16575824, 0.05833382, 0.18316746,\n",
              "       0.11162662, 0.13529291, 0.05885617, 0.09678529, 0.22999637,\n",
              "       0.0489557 , 0.03562975, 0.07485251, 0.05697459, 0.09777167,\n",
              "       0.05693033, 0.04983208, 0.06697959, 0.08403466, 0.08701023,\n",
              "       0.07578084, 0.09395086, 0.05258948, 0.09661094, 0.04468151,\n",
              "       0.05531361, 0.0662668 , 0.05621831, 0.16491838, 0.15533367,\n",
              "       0.0801093 , 0.07456726, 0.0757138 , 0.06618245, 0.34020452,\n",
              "       0.05076291, 0.1423419 , 0.0632428 , 0.048695  , 0.27107811,\n",
              "       0.04840198, 0.14943616, 0.11825492, 0.17996403, 0.05898542,\n",
              "       0.09764096, 0.05670286, 0.15440769, 0.06611797, 0.06214873,\n",
              "       0.08012535, 0.04122497, 0.0575939 , 0.16849189, 0.05984978,\n",
              "       0.04122899, 0.10069325, 0.07871953, 0.08338871, 0.12270623,\n",
              "       0.05366412, 0.07453519, 0.0405781 , 0.05917489, 0.07660074,\n",
              "       0.09288091, 0.06144264, 0.08854498, 0.17605237, 0.0956941 ,\n",
              "       0.0460304 , 0.07746168, 0.19113867, 0.06634367, 0.09206634,\n",
              "       0.11264119, 0.08189765, 0.23413078, 0.08280965, 0.13015751,\n",
              "       0.08780405, 0.0502357 , 0.11970246, 0.14152128, 0.14358909,\n",
              "       0.08085206, 0.05606649, 0.03760443, 0.08312155, 0.03850681,\n",
              "       0.08438492, 0.14433218, 0.04565124, 0.1151267 , 0.17937106,\n",
              "       0.06247138, 0.06757794, 0.07383686, 0.06010242, 0.13923067,\n",
              "       0.06812851, 0.05772805, 0.05022138, 0.03678325, 0.16513805,\n",
              "       0.06454226, 0.18252696, 0.0646931 , 0.05811994, 0.21857292,\n",
              "       0.0736901 , 0.08657877, 0.05004367, 0.20438887, 0.15956694,\n",
              "       0.07724071, 0.05914675, 0.08193364, 0.18543917, 0.06487495,\n",
              "       0.33515206, 0.07148786, 0.0652407 , 0.05244979, 0.17013634,\n",
              "       0.0462698 , 0.31760464, 0.14163397, 0.08651436, 0.04170807,\n",
              "       0.07615205, 0.06302011, 0.1199774 , 0.08752679, 0.04919588,\n",
              "       0.18936599, 0.08902571, 0.06440907, 0.06213556, 0.07102736,\n",
              "       0.08030703, 0.04375273, 0.05293705, 0.14261256, 0.04058798,\n",
              "       0.05167849, 0.1011317 , 0.07188059, 0.19310745, 0.05902461,\n",
              "       0.10573911, 0.17693288, 0.08514573, 0.08769556, 0.07180243,\n",
              "       0.16432155, 0.22244896, 0.05567697, 0.22487688, 0.08947192,\n",
              "       0.1841619 , 0.13305476, 0.05311615, 0.06546181, 0.14529099,\n",
              "       0.06050893, 0.07453592, 0.21260682, 0.15351508, 0.0432989 ,\n",
              "       0.04990929, 0.07671815, 0.09239167, 0.04998665, 0.05175122,\n",
              "       0.18022843, 0.10007694, 0.23319002, 0.05381437, 0.04274252,\n",
              "       0.06210936, 0.05394606, 0.06014227, 0.0676049 , 0.0534855 ,\n",
              "       0.03826856, 0.1634639 , 0.1135128 , 0.06024381, 0.04523473,\n",
              "       0.11225938, 0.17057465, 0.17835246, 0.05347767, 0.18213951,\n",
              "       0.09505814, 0.08859913, 0.19851662, 0.2060939 , 0.07559191,\n",
              "       0.05729882, 0.05510916, 0.07227587, 0.09131187, 0.05074888,\n",
              "       0.18760673, 0.06710434, 0.07031017, 0.07303772, 0.06138695,\n",
              "       0.04131507, 0.05980638, 0.0878599 , 0.14215755, 0.07691459,\n",
              "       0.0997483 , 0.18333112, 0.08213699, 0.06963149, 0.05959228,\n",
              "       0.14811636, 0.14627755, 0.06505867, 0.07441167, 0.18779641,\n",
              "       0.08302224, 0.06601574, 0.0799914 , 0.03415408, 0.09449388,\n",
              "       0.08933269, 0.19146714, 0.25478675, 0.06014127, 0.05713719,\n",
              "       0.05904739, 0.06610382, 0.06783945, 0.05587501, 0.05618541,\n",
              "       0.05707089, 0.16795486, 0.06342684, 0.11787931, 0.04670722,\n",
              "       0.10710602, 0.17863416, 0.21944679, 0.19848706, 0.055233  ,\n",
              "       0.05436252, 0.06813891, 0.03693012, 0.09398508, 0.06559409,\n",
              "       0.11900644, 0.17465126, 0.05517094, 0.19847795, 0.05848657,\n",
              "       0.10098356, 0.16914144, 0.16405675, 0.06702056, 0.03841097,\n",
              "       0.05149925, 0.11722306, 0.168941  , 0.08103863, 0.03530833,\n",
              "       0.16864743, 0.23121536, 0.13170727, 0.12936944, 0.04636202,\n",
              "       0.04443144, 0.13316694, 0.06404361, 0.1026215 , 0.06272037,\n",
              "       0.16822863, 0.05703451, 0.04784203, 0.14551103, 0.16943866,\n",
              "       0.06328736, 0.03875982, 0.14222662, 0.27876362, 0.05675944,\n",
              "       0.12999674, 0.23703926, 0.06290212, 0.17093516, 0.05773084,\n",
              "       0.133696  , 0.13777095, 0.32088173, 0.31398289, 0.05041878,\n",
              "       0.14530474, 0.04517335, 0.06480996, 0.05358978, 0.14654872,\n",
              "       0.19038156, 0.18735517, 0.0782463 , 0.1771236 , 0.04884867,\n",
              "       0.16712536, 0.07188312, 0.0419227 , 0.22235288, 0.2075552 ,\n",
              "       0.1726288 , 0.06030261, 0.14306979, 0.14047015, 0.05826805,\n",
              "       0.18284978, 0.16954308, 0.15510614, 0.07570919, 0.17791701,\n",
              "       0.07142422, 0.06534683, 0.06922754, 0.07581247, 0.05219148,\n",
              "       0.20273103, 0.18826553, 0.05006645, 0.1044854 , 0.06725968,\n",
              "       0.04442076, 0.0695219 , 0.06346843, 0.24031294, 0.08922906,\n",
              "       0.13070121, 0.03415096, 0.08932672, 0.05847849, 0.18494492,\n",
              "       0.10926309, 0.16938392, 0.15710105, 0.06484998, 0.06175157,\n",
              "       0.0939198 , 0.08449103, 0.03790606, 0.15697875, 0.05356683,\n",
              "       0.14230796, 0.15303459, 0.05226532, 0.04759636, 0.15997588,\n",
              "       0.07119823, 0.17045101, 0.15443774, 0.07521161, 0.07984403,\n",
              "       0.17207127, 0.03702846, 0.16195239, 0.04460653, 0.10844881,\n",
              "       0.05937469, 0.18354456, 0.0396004 , 0.11650295, 0.14021903,\n",
              "       0.05381308, 0.03996452, 0.07812166, 0.06701054, 0.06224526,\n",
              "       0.24156252, 0.16470169, 0.06735367, 0.19377657, 0.08219996,\n",
              "       0.05241813, 0.18669722, 0.08444567, 0.03625571, 0.17326952,\n",
              "       0.06723296, 0.16538311, 0.08764608, 0.04708637, 0.07042636,\n",
              "       0.07411374, 0.05081398, 0.13149756, 0.0747852 , 0.05579927,\n",
              "       0.06929374, 0.09429935, 0.03895071, 0.05485478, 0.07124939,\n",
              "       0.15647647, 0.06398935, 0.16805902, 0.27817438, 0.04541752,\n",
              "       0.05167772, 0.16355584, 0.03518965, 0.04466604, 0.12299608,\n",
              "       0.05289545, 0.06106486, 0.12491908, 0.04734341, 0.06647198,\n",
              "       0.14270845, 0.06238974, 0.2380069 , 0.08051553, 0.06234758,\n",
              "       0.09338884, 0.19359637, 0.07189772, 0.08096395, 0.04376055,\n",
              "       0.12257549, 0.18415905, 0.04220068, 0.07355424, 0.29674681,\n",
              "       0.15157597, 0.11547523, 0.13965241, 0.06066025, 0.13951423,\n",
              "       0.04807146, 0.05159258, 0.08231563, 0.04141971, 0.02945257,\n",
              "       0.07377585, 0.07876146, 0.04840137, 0.21546817, 0.10386785,\n",
              "       0.15173645, 0.12861668, 0.1817287 , 0.11066397, 0.16572282,\n",
              "       0.154118  , 0.12976843, 0.09732281, 0.14781438, 0.12839664,\n",
              "       0.0635072 , 0.05635636, 0.08020622, 0.03527662, 0.0565826 ,\n",
              "       0.04775935, 0.06699805, 0.073404  , 0.10484582, 0.0471341 ,\n",
              "       0.03764518, 0.06829244, 0.04903168, 0.08294613, 0.10101414,\n",
              "       0.14711542, 0.21555854, 0.14103124, 0.06770815, 0.08222527,\n",
              "       0.04381232, 0.03778683, 0.06307878, 0.09828454, 0.08671995,\n",
              "       0.17827154, 0.08807049, 0.11463905, 0.19215614, 0.17559204,\n",
              "       0.14769187, 0.08719462, 0.22199069, 0.06693926, 0.05712999,\n",
              "       0.03411594, 0.06039373, 0.04572284, 0.05088211, 0.15110944,\n",
              "       0.08132806, 0.06712739, 0.04668098, 0.04792916, 0.13570134,\n",
              "       0.07092858, 0.1621488 , 0.09700258, 0.17545636, 0.24811175,\n",
              "       0.29521585, 0.11196067, 0.1293258 , 0.1959403 , 0.04346125,\n",
              "       0.07562118, 0.03781345, 0.06080156, 0.17573556, 0.04891066,\n",
              "       0.05169868, 0.0640131 , 0.17284021, 0.04912051, 0.08299568,\n",
              "       0.19451374, 0.08508144, 0.10366903, 0.03824536, 0.07610233,\n",
              "       0.02853129, 0.05581492, 0.10546109, 0.11055703, 0.13837413,\n",
              "       0.07280987, 0.05233355, 0.06817005, 0.03684825, 0.04454943,\n",
              "       0.23630152, 0.1808344 , 0.06663444, 0.05905422, 0.05310541,\n",
              "       0.18719071, 0.0558755 , 0.14227932, 0.15614983, 0.08710008,\n",
              "       0.17620314, 0.04818511, 0.17306819, 0.114961  , 0.07379436,\n",
              "       0.06975883, 0.08726174, 0.0668638 , 0.14030698, 0.10294333,\n",
              "       0.13592018, 0.14921443, 0.19050494, 0.22636053, 0.05079088,\n",
              "       0.07469437, 0.29886784, 0.10938693, 0.08637855, 0.06247704,\n",
              "       0.05474798, 0.07199686, 0.08778462, 0.14514   , 0.04409264,\n",
              "       0.03793304, 0.14949405])"
            ]
          },
          "metadata": {
            "tags": []
          },
          "execution_count": 21
        }
      ]
    },
    {
      "cell_type": "code",
      "metadata": {
        "colab": {
          "base_uri": "https://localhost:8080/"
        },
        "id": "1dZK9kupmGu6",
        "outputId": "71259134-8c39-408b-de20-d6e3763585fc"
      },
      "source": [
        "df_FNC.shape"
      ],
      "execution_count": null,
      "outputs": [
        {
          "output_type": "execute_result",
          "data": {
            "text/plain": [
              "(904, 3)"
            ]
          },
          "metadata": {
            "tags": []
          },
          "execution_count": 22
        }
      ]
    },
    {
      "cell_type": "code",
      "metadata": {
        "colab": {
          "base_uri": "https://localhost:8080/"
        },
        "id": "yiPHkqEB3G8f",
        "outputId": "012f575f-c0f8-41a0-9260-19605b2fb731"
      },
      "source": [
        "df_FNC.cosine_score.unique()"
      ],
      "execution_count": null,
      "outputs": [
        {
          "output_type": "execute_result",
          "data": {
            "text/plain": [
              "array([0.        , 0.01711908, 0.03264109, 0.01456604, 0.01784266,\n",
              "       0.04846896, 0.02182837, 0.0206229 , 0.01116792, 0.01018736,\n",
              "       0.05493496, 0.00371696, 0.00820625, 0.05047131, 0.03050078,\n",
              "       0.01947369, 0.00690019, 0.01388179, 0.03795236, 0.05831851,\n",
              "       0.04559245, 0.0370607 , 0.0953435 , 0.04771889, 0.0267858 ,\n",
              "       0.0374677 , 0.02308279, 0.01853534, 0.01313165, 0.00612394,\n",
              "       0.01108173, 0.03704149, 0.04957187, 0.00280944, 0.00272085,\n",
              "       0.08655326, 0.00517875, 0.00278488, 0.02342124, 0.04628255,\n",
              "       0.01081837, 0.01013492, 0.03337916, 0.01103387, 0.01146296,\n",
              "       0.01165462, 0.04224702, 0.04088999, 0.03965723, 0.02144978,\n",
              "       0.00985994, 0.02275746, 0.02154039, 0.04395275, 0.01507764,\n",
              "       0.11222128, 0.06864024, 0.09056975, 0.0307487 , 0.0186179 ,\n",
              "       0.02681515, 0.01091439, 0.01439892, 0.01638135, 0.0435245 ,\n",
              "       0.01227661, 0.01532042, 0.01511199, 0.01545322, 0.02761988,\n",
              "       0.00932827, 0.01694374, 0.04334535, 0.12229208, 0.06510378,\n",
              "       0.03739872, 0.04271479, 0.04930319, 0.04076519, 0.02559984,\n",
              "       0.01940613, 0.00395069, 0.00834156, 0.01116961, 0.0156    ,\n",
              "       0.03963919, 0.03445012, 0.06334528, 0.05890633, 0.01298872,\n",
              "       0.03401897, 0.02548077, 0.01766046, 0.06724172, 0.07570195,\n",
              "       0.01955303, 0.0240194 , 0.01496715, 0.01363864, 0.02429144,\n",
              "       0.04148138, 0.02871735, 0.02590071, 0.02549029, 0.00612531,\n",
              "       0.04572487, 0.01058691, 0.07605721, 0.00416889, 0.02204325,\n",
              "       0.01235674, 0.02744112, 0.0193584 , 0.10356479, 0.05705886,\n",
              "       0.03458812, 0.02652216, 0.11979169, 0.00781401, 0.05718126,\n",
              "       0.01383107, 0.05936691, 0.03204774, 0.00347595, 0.04923518,\n",
              "       0.0273497 , 0.01473078, 0.00279187, 0.00750958, 0.0386037 ,\n",
              "       0.02232964, 0.03127802, 0.02543335, 0.02410051, 0.00850637,\n",
              "       0.02684836, 0.00984178, 0.01133817, 0.0168715 , 0.00241575,\n",
              "       0.00734849, 0.03433267, 0.0116264 , 0.03178681, 0.08863045,\n",
              "       0.00655637, 0.01486839, 0.03161664, 0.02243542, 0.02023703,\n",
              "       0.0399741 , 0.04409225, 0.05284292, 0.03038   , 0.10415786,\n",
              "       0.10261811, 0.07753723, 0.02450914, 0.00552843, 0.01095934,\n",
              "       0.01153148, 0.04621951, 0.02726929, 0.02461429, 0.01133394,\n",
              "       0.02881838, 0.06461876, 0.01235806, 0.01218702, 0.06327874,\n",
              "       0.00551066, 0.00655839, 0.034061  , 0.02010285, 0.03528167,\n",
              "       0.01891346, 0.07293966, 0.03504872, 0.00371773, 0.03096589,\n",
              "       0.01370548, 0.01271116, 0.06340631, 0.00364655, 0.00906787,\n",
              "       0.08141121, 0.10178967, 0.04675438, 0.02873443, 0.00306792,\n",
              "       0.01983442, 0.0254539 , 0.01955983, 0.03757223, 0.01110869,\n",
              "       0.01297225, 0.03904989, 0.05489018, 0.00380764, 0.02457681,\n",
              "       0.01502642, 0.0256532 , 0.00426646, 0.00397091, 0.01527699,\n",
              "       0.02129517, 0.06431716, 0.02737158, 0.1105636 , 0.0155326 ,\n",
              "       0.01449849, 0.01164793, 0.01751403, 0.01622621, 0.05016064,\n",
              "       0.01151374, 0.00453829, 0.05469306, 0.03510201, 0.03425997,\n",
              "       0.03846465, 0.04989382, 0.01204194, 0.03852152, 0.0279726 ,\n",
              "       0.06732397, 0.05056211, 0.07342581, 0.0246746 , 0.0038361 ,\n",
              "       0.02471361, 0.00339566, 0.03144142, 0.03074263, 0.03001622,\n",
              "       0.08138552, 0.05343896, 0.09274617, 0.01574275, 0.00535246,\n",
              "       0.0377001 , 0.03037063, 0.02145979, 0.0323691 , 0.0468878 ,\n",
              "       0.0200358 , 0.00908168, 0.0062448 , 0.01399968, 0.09579237,\n",
              "       0.03422065, 0.0226371 , 0.01357285, 0.03779855, 0.03510873,\n",
              "       0.05323462, 0.00441892, 0.01982822, 0.01945681, 0.00814288,\n",
              "       0.01077126, 0.00999148, 0.04451765, 0.00288766, 0.15784516,\n",
              "       0.03548569, 0.03096986, 0.01885331, 0.0022326 , 0.01432134,\n",
              "       0.08558386, 0.01148085, 0.02050937, 0.00626391, 0.02915497,\n",
              "       0.03729362, 0.04803023, 0.02249033, 0.04749551, 0.00872851,\n",
              "       0.00750755, 0.03399386, 0.01165174, 0.00877343, 0.03098011,\n",
              "       0.06219943, 0.05058025, 0.05176879, 0.03986713, 0.04347608,\n",
              "       0.00357034, 0.03761616, 0.04571397, 0.00520538, 0.00303713,\n",
              "       0.00721914, 0.02487068, 0.01418086, 0.00996652, 0.03792017,\n",
              "       0.04816373, 0.0774787 , 0.09778756, 0.01184664, 0.03677336,\n",
              "       0.00264333, 0.02914181, 0.05213791, 0.04231954, 0.09171845,\n",
              "       0.06012975, 0.01996972, 0.03167613, 0.03725238, 0.08489433,\n",
              "       0.0228023 , 0.0079103 , 0.00301038, 0.0305491 , 0.04124838,\n",
              "       0.01803958, 0.01009533, 0.04650877, 0.01275433, 0.02869446,\n",
              "       0.03944777, 0.01480588, 0.01236818, 0.02687422, 0.01823293,\n",
              "       0.01645278, 0.01193044, 0.02482238, 0.00681757, 0.07200398,\n",
              "       0.00314122, 0.01110795, 0.08750396, 0.01009603, 0.01918774,\n",
              "       0.00186708, 0.05989496, 0.01073912, 0.0432665 , 0.02465849,\n",
              "       0.03211748, 0.0200418 , 0.02068194, 0.01772971, 0.09688361,\n",
              "       0.00770539, 0.03890322, 0.01867806, 0.031658  , 0.01916487,\n",
              "       0.03214117, 0.07052057, 0.06540482, 0.02199364, 0.03466026,\n",
              "       0.03337162, 0.015724  , 0.10604105, 0.00721004, 0.02268009,\n",
              "       0.04534984, 0.01115662, 0.02031257, 0.0825388 , 0.04258545,\n",
              "       0.02792362, 0.01729382, 0.01281281, 0.03175322, 0.01737648,\n",
              "       0.06196763, 0.02390284, 0.02777583, 0.02325809, 0.00314007,\n",
              "       0.02199994, 0.04297446, 0.01182632, 0.00415316, 0.0471203 ,\n",
              "       0.01402199, 0.00675353, 0.00527593, 0.03738643, 0.0188507 ,\n",
              "       0.02816845, 0.01759926, 0.03767178, 0.02282676, 0.06239873,\n",
              "       0.0815417 , 0.0094942 , 0.00570645, 0.03762014, 0.02965345,\n",
              "       0.01336803, 0.03195254, 0.0082405 , 0.0261721 , 0.00269704,\n",
              "       0.09479396, 0.01528299, 0.06910991, 0.02061835, 0.01478213,\n",
              "       0.0085777 , 0.03581621, 0.03217301, 0.01210683, 0.05272114,\n",
              "       0.06085674, 0.01906368, 0.00270441, 0.00772558, 0.04015072,\n",
              "       0.01331253, 0.00294518, 0.00388417, 0.00205315, 0.00760548,\n",
              "       0.02312078, 0.03919674, 0.02367145, 0.05177074, 0.01016204,\n",
              "       0.00818495, 0.10951276, 0.0391769 , 0.03328761, 0.02292328,\n",
              "       0.0444973 , 0.01285474, 0.01937295, 0.00919132, 0.00278645,\n",
              "       0.05047869, 0.02983215, 0.05324093, 0.02151553, 0.00377008,\n",
              "       0.00665968, 0.00250446, 0.07335349, 0.0287167 , 0.18096826,\n",
              "       0.05215552, 0.01196287, 0.00483776, 0.02579801, 0.02451935,\n",
              "       0.02012393, 0.0250872 , 0.00955894, 0.01644412, 0.01026859,\n",
              "       0.00745294, 0.01609814, 0.04622801, 0.01228363, 0.07211819,\n",
              "       0.0285805 , 0.00975777, 0.00844646, 0.04856327, 0.03619544,\n",
              "       0.04861973, 0.03692077, 0.01106745, 0.01476136, 0.05558863,\n",
              "       0.00467527, 0.07263425, 0.01424351, 0.07204971, 0.0137629 ,\n",
              "       0.00619718, 0.01226701, 0.00309594, 0.01756974, 0.02174776,\n",
              "       0.02021034, 0.00297482, 0.06545657, 0.09115939, 0.01375255,\n",
              "       0.01682516, 0.01988653, 0.03350041, 0.05008243, 0.04829667,\n",
              "       0.00613387, 0.05726867, 0.02277547, 0.01943995, 0.01679227,\n",
              "       0.00640103, 0.02776456, 0.0213807 , 0.0163186 , 0.03389244,\n",
              "       0.03302946, 0.06164722, 0.0778497 , 0.04737108, 0.03189945,\n",
              "       0.03845034, 0.01416316, 0.08655298, 0.0036395 , 0.00878917,\n",
              "       0.09249002, 0.01488703, 0.03636068, 0.02219313, 0.02662389,\n",
              "       0.04230918, 0.02057738, 0.04109336, 0.14084338, 0.02554066,\n",
              "       0.03419482, 0.00401333, 0.01519679, 0.0131793 , 0.01596473,\n",
              "       0.00661613, 0.0259874 , 0.00277268, 0.00240926, 0.00686568,\n",
              "       0.00650955, 0.00595227, 0.00415175, 0.00968874, 0.06229166,\n",
              "       0.07273178, 0.04929916, 0.04962291, 0.03406686, 0.01595466,\n",
              "       0.00764951, 0.0209542 , 0.01991457, 0.0643421 , 0.01899451,\n",
              "       0.07697748, 0.01922978, 0.00835124, 0.01407764, 0.01410961,\n",
              "       0.02520508, 0.03424161, 0.03408167, 0.03941362, 0.0185116 ,\n",
              "       0.01867346, 0.01451958, 0.05718453, 0.03606063, 0.01548666,\n",
              "       0.02088775, 0.02846481, 0.04107493, 0.01229463, 0.01010651,\n",
              "       0.02019677, 0.06471128, 0.03417582, 0.02553404, 0.02089061,\n",
              "       0.02813194, 0.02416169, 0.02470411, 0.03579944, 0.02022132,\n",
              "       0.11531105, 0.04761605, 0.07380384, 0.00408517, 0.0031679 ,\n",
              "       0.02265136, 0.01910956, 0.04806666, 0.05422544, 0.03255375,\n",
              "       0.02384397, 0.01645091, 0.01439306, 0.02357286, 0.02666102,\n",
              "       0.0166945 , 0.03252527, 0.03349575, 0.0254691 , 0.09478383,\n",
              "       0.02242203, 0.01553835, 0.01065438, 0.03917175, 0.05187327,\n",
              "       0.02523277, 0.03082077, 0.02910269, 0.01165098, 0.15516345,\n",
              "       0.03341524, 0.04331101, 0.04149148, 0.03126862, 0.03061981,\n",
              "       0.00830435, 0.01459143, 0.02540776, 0.00916158, 0.00690957,\n",
              "       0.02029926, 0.06259907, 0.02293087, 0.02725062, 0.01600175,\n",
              "       0.03012717, 0.01094701, 0.01217398, 0.00672253, 0.05915631,\n",
              "       0.07134245, 0.01280139, 0.01990877, 0.00323248, 0.00313032,\n",
              "       0.00565723, 0.00611274, 0.06466132, 0.07343724, 0.05054855,\n",
              "       0.03442608, 0.00581259, 0.01787395, 0.01208832, 0.03347937,\n",
              "       0.00742614, 0.00461042, 0.00842505, 0.04266057, 0.00864761,\n",
              "       0.00457338, 0.0100012 , 0.09708636, 0.06845858, 0.03680404,\n",
              "       0.04588965, 0.00764044, 0.08598839, 0.02321309, 0.01737008,\n",
              "       0.02482776, 0.01593116, 0.00264186, 0.02010565, 0.01909867,\n",
              "       0.02771745, 0.06773068, 0.01401386, 0.03598713, 0.02687033,\n",
              "       0.04709288, 0.05781006, 0.02165944, 0.02215412, 0.02641034,\n",
              "       0.01248634, 0.00723406, 0.01931339, 0.06823183, 0.00572179,\n",
              "       0.01508864, 0.01025203, 0.02799957, 0.07937649, 0.03321812,\n",
              "       0.01551286, 0.00391328, 0.01030403, 0.01120715, 0.02104304,\n",
              "       0.05363636, 0.03449757, 0.02796662, 0.0566541 , 0.10190964,\n",
              "       0.03876736, 0.00645247, 0.00997027, 0.07530838, 0.01834878,\n",
              "       0.05869259, 0.02410791, 0.01972516, 0.01174084, 0.02791909,\n",
              "       0.02790935, 0.05033904, 0.01527455, 0.00324419, 0.01403414,\n",
              "       0.02603586, 0.00699718, 0.03793142, 0.03456791, 0.02718812,\n",
              "       0.06495351, 0.03413908, 0.09447117, 0.01136606, 0.02500916,\n",
              "       0.04512276, 0.00799726, 0.03422892, 0.03510813, 0.06419196,\n",
              "       0.00491554, 0.03021099, 0.01428681, 0.02653339, 0.02978564,\n",
              "       0.02735207, 0.03205557, 0.01527117, 0.02089544, 0.04356491,\n",
              "       0.04446663, 0.01943509, 0.05374611, 0.06194325, 0.02228532,\n",
              "       0.00860263, 0.00544076, 0.00200341, 0.00391628, 0.04660538,\n",
              "       0.03383114, 0.03286962, 0.00238873, 0.02887411, 0.0131996 ,\n",
              "       0.04238218, 0.02818858, 0.02923479, 0.03134171, 0.0090422 ,\n",
              "       0.09558019, 0.01930304, 0.04190918, 0.00409459, 0.02698383,\n",
              "       0.03321675, 0.01892086, 0.03628416, 0.01641302, 0.05952434,\n",
              "       0.04571741, 0.05468188, 0.02195007, 0.01156634, 0.04950584,\n",
              "       0.00752221, 0.01405471, 0.00851537, 0.0229523 , 0.02714898,\n",
              "       0.02524724, 0.0271685 , 0.0621335 , 0.01491198, 0.02714087,\n",
              "       0.01670905, 0.02140803, 0.02705427, 0.00185914, 0.00988024,\n",
              "       0.04072323, 0.02053022, 0.03608603, 0.04204863, 0.03004004,\n",
              "       0.02653793, 0.07350689, 0.04048692, 0.03049839, 0.02343933,\n",
              "       0.03369469, 0.01147508, 0.02456725, 0.03531885, 0.03038044,\n",
              "       0.06253523, 0.0389885 , 0.04625276, 0.01974941, 0.05225124,\n",
              "       0.01707817, 0.07244213, 0.09549366, 0.15537543])"
            ]
          },
          "metadata": {
            "tags": []
          },
          "execution_count": 23
        }
      ]
    },
    {
      "cell_type": "markdown",
      "metadata": {
        "id": "vXAr7xIQgBDZ"
      },
      "source": [
        "## Amalgamation"
      ]
    },
    {
      "cell_type": "markdown",
      "metadata": {
        "id": "bS4VtvFQgBDZ"
      },
      "source": [
        "### Lier"
      ]
    },
    {
      "cell_type": "code",
      "metadata": {
        "colab": {
          "base_uri": "https://localhost:8080/",
          "height": 16
        },
        "id": "g5tYDJIngBDZ",
        "outputId": "b1897a97-0b6b-4142-89c6-15ffd0e453a0"
      },
      "source": [
        "# df_Lier.to_csv('df_lier_cosine.csv')\n",
        "# files.download('df_lier_cosine.csv')"
      ],
      "execution_count": null,
      "outputs": [
        {
          "output_type": "display_data",
          "data": {
            "application/javascript": [
              "\n",
              "    async function download(id, filename, size) {\n",
              "      if (!google.colab.kernel.accessAllowed) {\n",
              "        return;\n",
              "      }\n",
              "      const div = document.createElement('div');\n",
              "      const label = document.createElement('label');\n",
              "      label.textContent = `Downloading \"${filename}\": `;\n",
              "      div.appendChild(label);\n",
              "      const progress = document.createElement('progress');\n",
              "      progress.max = size;\n",
              "      div.appendChild(progress);\n",
              "      document.body.appendChild(div);\n",
              "\n",
              "      const buffers = [];\n",
              "      let downloaded = 0;\n",
              "\n",
              "      const channel = await google.colab.kernel.comms.open(id);\n",
              "      // Send a message to notify the kernel that we're ready.\n",
              "      channel.send({})\n",
              "\n",
              "      for await (const message of channel.messages) {\n",
              "        // Send a message to notify the kernel that we're ready.\n",
              "        channel.send({})\n",
              "        if (message.buffers) {\n",
              "          for (const buffer of message.buffers) {\n",
              "            buffers.push(buffer);\n",
              "            downloaded += buffer.byteLength;\n",
              "            progress.value = downloaded;\n",
              "          }\n",
              "        }\n",
              "      }\n",
              "      const blob = new Blob(buffers, {type: 'application/binary'});\n",
              "      const a = document.createElement('a');\n",
              "      a.href = window.URL.createObjectURL(blob);\n",
              "      a.download = filename;\n",
              "      div.appendChild(a);\n",
              "      a.click();\n",
              "      div.remove();\n",
              "    }\n",
              "  "
            ],
            "text/plain": [
              "<IPython.core.display.Javascript object>"
            ]
          },
          "metadata": {
            "tags": []
          }
        },
        {
          "output_type": "display_data",
          "data": {
            "application/javascript": [
              "download(\"download_9e868d07-7f09-49c2-9174-ad42c3a4fca1\", \"df_lier_cosine.csv\", 6368031)"
            ],
            "text/plain": [
              "<IPython.core.display.Javascript object>"
            ]
          },
          "metadata": {
            "tags": []
          }
        }
      ]
    },
    {
      "cell_type": "code",
      "metadata": {
        "colab": {
          "base_uri": "https://localhost:8080/"
        },
        "id": "Md4QxgqtgBDa",
        "outputId": "582ab15d-bee3-4c03-c64f-4e2216d82a28"
      },
      "source": [
        "df_Lier.shape"
      ],
      "execution_count": null,
      "outputs": [
        {
          "output_type": "execute_result",
          "data": {
            "text/plain": [
              "(12458, 21)"
            ]
          },
          "metadata": {
            "tags": []
          },
          "execution_count": 25
        }
      ]
    },
    {
      "cell_type": "code",
      "metadata": {
        "id": "eegW4dptgBDa"
      },
      "source": [
        "df_Liertrim = df_Lier[df_Lier.cosine_score != 0]"
      ],
      "execution_count": null,
      "outputs": []
    },
    {
      "cell_type": "code",
      "metadata": {
        "colab": {
          "base_uri": "https://localhost:8080/"
        },
        "id": "-M7uTZ4tgBDa",
        "outputId": "58ffc9bf-ea42-4d30-89c6-dc505fcb9227"
      },
      "source": [
        "df_Liertrim.shape"
      ],
      "execution_count": null,
      "outputs": [
        {
          "output_type": "execute_result",
          "data": {
            "text/plain": [
              "(831, 21)"
            ]
          },
          "metadata": {
            "tags": []
          },
          "execution_count": 27
        }
      ]
    },
    {
      "cell_type": "code",
      "metadata": {
        "colab": {
          "base_uri": "https://localhost:8080/",
          "height": 236
        },
        "id": "4aaZoTINgBDb",
        "outputId": "c4933fca-c7f4-42cc-f282-62ecf6827f15"
      },
      "source": [
        "df_Liertrim.describe()"
      ],
      "execution_count": null,
      "outputs": [
        {
          "output_type": "execute_result",
          "data": {
            "application/vnd.google.colaboratory.module+javascript": "\n      import \"https://ssl.gstatic.com/colaboratory/data_table/a6224c040fa35dcf/data_table.js\";\n\n      window.createDataTable({\n        data: [[\"count\",\n{\n            'v': 831.0,\n            'f': \"831.0\",\n        },\n{\n            'v': 831.0,\n            'f': \"831.0\",\n        },\n{\n            'v': 831.0,\n            'f': \"831.0\",\n        },\n{\n            'v': 831.0,\n            'f': \"831.0\",\n        },\n{\n            'v': 831.0,\n            'f': \"831.0\",\n        },\n{\n            'v': 831.0,\n            'f': \"831.0\",\n        },\n{\n            'v': 831.0,\n            'f': \"831.0\",\n        },\n{\n            'v': 831.0,\n            'f': \"831.0\",\n        },\n{\n            'v': 831.0,\n            'f': \"831.0\",\n        },\n{\n            'v': 831.0,\n            'f': \"831.0\",\n        },\n{\n            'v': 831.0,\n            'f': \"831.0\",\n        },\n{\n            'v': 831.0,\n            'f': \"831.0\",\n        }],\n [\"mean\",\n{\n            'v': 9095.238267148014,\n            'f': \"9095.238267148014\",\n        },\n{\n            'v': 13.524669073405535,\n            'f': \"13.524669073405535\",\n        },\n{\n            'v': 16.989169675090253,\n            'f': \"16.989169675090253\",\n        },\n{\n            'v': 17.898916967509024,\n            'f': \"17.898916967509024\",\n        },\n{\n            'v': 18.311672683513837,\n            'f': \"18.311672683513837\",\n        },\n{\n            'v': 22.32129963898917,\n            'f': \"22.32129963898917\",\n        },\n{\n            'v': 9.109506618531888,\n            'f': \"9.109506618531888\",\n        },\n{\n            'v': 2.1660649819494586,\n            'f': \"2.1660649819494586\",\n        },\n{\n            'v': 9095.238267148014,\n            'f': \"9095.238267148014\",\n        },\n{\n            'v': 4.281588447653429,\n            'f': \"4.281588447653429\",\n        },\n{\n            'v': 0.6668185509212324,\n            'f': \"0.6668185509212324\",\n        },\n{\n            'v': 0.10197216353275236,\n            'f': \"0.10197216353275236\",\n        }],\n [\"std\",\n{\n            'v': 5204.215718238009,\n            'f': \"5204.215718238009\",\n        },\n{\n            'v': 18.377869230424928,\n            'f': \"18.377869230424928\",\n        },\n{\n            'v': 18.737337974482127,\n            'f': \"18.737337974482127\",\n        },\n{\n            'v': 17.903271190136085,\n            'f': \"17.903271190136085\",\n        },\n{\n            'v': 19.628239945123415,\n            'f': \"19.628239945123415\",\n        },\n{\n            'v': 21.815966657484452,\n            'f': \"21.815966657484452\",\n        },\n{\n            'v': 13.676425715759567,\n            'f': \"13.676425715759567\",\n        },\n{\n            'v': 14.566055730952513,\n            'f': \"14.566055730952513\",\n        },\n{\n            'v': 5204.215718238009,\n            'f': \"5204.215718238009\",\n        },\n{\n            'v': 3.063997763228815,\n            'f': \"3.063997763228815\",\n        },\n{\n            'v': 0.1775441929734597,\n            'f': \"0.1775441929734597\",\n        },\n{\n            'v': 0.06045125247469637,\n            'f': \"0.06045125247469637\",\n        }],\n [\"min\",\n{\n            'v': 41.0,\n            'f': \"41.0\",\n        },\n{\n            'v': 0.0,\n            'f': \"0.0\",\n        },\n{\n            'v': 0.0,\n            'f': \"0.0\",\n        },\n{\n            'v': 0.0,\n            'f': \"0.0\",\n        },\n{\n            'v': 0.0,\n            'f': \"0.0\",\n        },\n{\n            'v': 0.0,\n            'f': \"0.0\",\n        },\n{\n            'v': 0.0,\n            'f': \"0.0\",\n        },\n{\n            'v': 0.0,\n            'f': \"0.0\",\n        },\n{\n            'v': 41.0,\n            'f': \"41.0\",\n        },\n{\n            'v': 0.0,\n            'f': \"0.0\",\n        },\n{\n            'v': 0.2599214017391205,\n            'f': \"0.2599214017391205\",\n        },\n{\n            'v': 0.02556973061050305,\n            'f': \"0.02556973061050305\",\n        }],\n [\"25%\",\n{\n            'v': 4934.0,\n            'f': \"4934.0\",\n        },\n{\n            'v': 0.0,\n            'f': \"0.0\",\n        },\n{\n            'v': 3.0,\n            'f': \"3.0\",\n        },\n{\n            'v': 7.0,\n            'f': \"7.0\",\n        },\n{\n            'v': 9.0,\n            'f': \"9.0\",\n        },\n{\n            'v': 7.0,\n            'f': \"7.0\",\n        },\n{\n            'v': 0.0,\n            'f': \"0.0\",\n        },\n{\n            'v': 0.0,\n            'f': \"0.0\",\n        },\n{\n            'v': 4934.0,\n            'f': \"4934.0\",\n        },\n{\n            'v': 2.0,\n            'f': \"2.0\",\n        },\n{\n            'v': 0.5213958621025085,\n            'f': \"0.5213958621025085\",\n        },\n{\n            'v': 0.05684488223912215,\n            'f': \"0.05684488223912215\",\n        }],\n [\"50%\",\n{\n            'v': 8984.0,\n            'f': \"8984.0\",\n        },\n{\n            'v': 9.0,\n            'f': \"9.0\",\n        },\n{\n            'v': 12.0,\n            'f': \"12.0\",\n        },\n{\n            'v': 14.0,\n            'f': \"14.0\",\n        },\n{\n            'v': 15.0,\n            'f': \"15.0\",\n        },\n{\n            'v': 16.0,\n            'f': \"16.0\",\n        },\n{\n            'v': 3.0,\n            'f': \"3.0\",\n        },\n{\n            'v': 0.0,\n            'f': \"0.0\",\n        },\n{\n            'v': 8984.0,\n            'f': \"8984.0\",\n        },\n{\n            'v': 4.0,\n            'f': \"4.0\",\n        },\n{\n            'v': 0.6526482701301575,\n            'f': \"0.6526482701301575\",\n        },\n{\n            'v': 0.07876145867788054,\n            'f': \"0.07876145867788054\",\n        }],\n [\"75%\",\n{\n            'v': 13267.5,\n            'f': \"13267.5\",\n        },\n{\n            'v': 20.0,\n            'f': \"20.0\",\n        },\n{\n            'v': 25.0,\n            'f': \"25.0\",\n        },\n{\n            'v': 25.0,\n            'f': \"25.0\",\n        },\n{\n            'v': 20.0,\n            'f': \"20.0\",\n        },\n{\n            'v': 36.0,\n            'f': \"36.0\",\n        },\n{\n            'v': 16.0,\n            'f': \"16.0\",\n        },\n{\n            'v': 0.0,\n            'f': \"0.0\",\n        },\n{\n            'v': 13267.5,\n            'f': \"13267.5\",\n        },\n{\n            'v': 7.0,\n            'f': \"7.0\",\n        },\n{\n            'v': 0.8499670922756195,\n            'f': \"0.8499670922756195\",\n        },\n{\n            'v': 0.14247723321876538,\n            'f': \"0.14247723321876538\",\n        }],\n [\"max\",\n{\n            'v': 18204.0,\n            'f': \"18204.0\",\n        },\n{\n            'v': 100.0,\n            'f': \"100.0\",\n        },\n{\n            'v': 100.0,\n            'f': \"100.0\",\n        },\n{\n            'v': 100.0,\n            'f': \"100.0\",\n        },\n{\n            'v': 100.0,\n            'f': \"100.0\",\n        },\n{\n            'v': 100.0,\n            'f': \"100.0\",\n        },\n{\n            'v': 100.0,\n            'f': \"100.0\",\n        },\n{\n            'v': 100.0,\n            'f': \"100.0\",\n        },\n{\n            'v': 18204.0,\n            'f': \"18204.0\",\n        },\n{\n            'v': 9.0,\n            'f': \"9.0\",\n        },\n{\n            'v': 0.952624261379242,\n            'f': \"0.952624261379242\",\n        },\n{\n            'v': 0.35615398326085457,\n            'f': \"0.35615398326085457\",\n        }]],\n        columns: [[\"string\", \"level_0\"], [\"number\", \"Unnamed: 0\"], [\"number\", \"TRUE\"], [\"number\", \"MostlyTrue\"], [\"number\", \"HalfTrue\"], [\"number\", \"MostlyFalse\"], [\"number\", \"FALSE\"], [\"number\", \"PantOnFire\"], [\"number\", \"FakeScore\"], [\"number\", \"index\"], [\"number\", \"topic_number\"], [\"number\", \"lda_score\"], [\"number\", \"cosine_score\"]],\n        columnOptions: [{\"width\": \"1px\", \"className\": \"index_column\"}],\n        rowsPerPage: 25,\n        helpUrl: \"https://colab.research.google.com/notebooks/data_table.ipynb\",\n        suppressOutputScrolling: true,\n        minimumWidth: undefined,\n      });\n    ",
            "text/html": [
              "<div>\n",
              "<style scoped>\n",
              "    .dataframe tbody tr th:only-of-type {\n",
              "        vertical-align: middle;\n",
              "    }\n",
              "\n",
              "    .dataframe tbody tr th {\n",
              "        vertical-align: top;\n",
              "    }\n",
              "\n",
              "    .dataframe thead th {\n",
              "        text-align: right;\n",
              "    }\n",
              "</style>\n",
              "<table border=\"1\" class=\"dataframe\">\n",
              "  <thead>\n",
              "    <tr style=\"text-align: right;\">\n",
              "      <th></th>\n",
              "      <th>Unnamed: 0</th>\n",
              "      <th>TRUE</th>\n",
              "      <th>MostlyTrue</th>\n",
              "      <th>HalfTrue</th>\n",
              "      <th>MostlyFalse</th>\n",
              "      <th>FALSE</th>\n",
              "      <th>PantOnFire</th>\n",
              "      <th>FakeScore</th>\n",
              "      <th>index</th>\n",
              "      <th>topic_number</th>\n",
              "      <th>lda_score</th>\n",
              "      <th>cosine_score</th>\n",
              "    </tr>\n",
              "  </thead>\n",
              "  <tbody>\n",
              "    <tr>\n",
              "      <th>count</th>\n",
              "      <td>831.000000</td>\n",
              "      <td>831.000000</td>\n",
              "      <td>831.000000</td>\n",
              "      <td>831.000000</td>\n",
              "      <td>831.000000</td>\n",
              "      <td>831.000000</td>\n",
              "      <td>831.000000</td>\n",
              "      <td>831.000000</td>\n",
              "      <td>831.000000</td>\n",
              "      <td>831.000000</td>\n",
              "      <td>831.000000</td>\n",
              "      <td>831.000000</td>\n",
              "    </tr>\n",
              "    <tr>\n",
              "      <th>mean</th>\n",
              "      <td>9095.238267</td>\n",
              "      <td>13.524669</td>\n",
              "      <td>16.989170</td>\n",
              "      <td>17.898917</td>\n",
              "      <td>18.311673</td>\n",
              "      <td>22.321300</td>\n",
              "      <td>9.109507</td>\n",
              "      <td>2.166065</td>\n",
              "      <td>9095.238267</td>\n",
              "      <td>4.281588</td>\n",
              "      <td>0.666819</td>\n",
              "      <td>0.101972</td>\n",
              "    </tr>\n",
              "    <tr>\n",
              "      <th>std</th>\n",
              "      <td>5204.215718</td>\n",
              "      <td>18.377869</td>\n",
              "      <td>18.737338</td>\n",
              "      <td>17.903271</td>\n",
              "      <td>19.628240</td>\n",
              "      <td>21.815967</td>\n",
              "      <td>13.676426</td>\n",
              "      <td>14.566056</td>\n",
              "      <td>5204.215718</td>\n",
              "      <td>3.063998</td>\n",
              "      <td>0.177544</td>\n",
              "      <td>0.060451</td>\n",
              "    </tr>\n",
              "    <tr>\n",
              "      <th>min</th>\n",
              "      <td>41.000000</td>\n",
              "      <td>0.000000</td>\n",
              "      <td>0.000000</td>\n",
              "      <td>0.000000</td>\n",
              "      <td>0.000000</td>\n",
              "      <td>0.000000</td>\n",
              "      <td>0.000000</td>\n",
              "      <td>0.000000</td>\n",
              "      <td>41.000000</td>\n",
              "      <td>0.000000</td>\n",
              "      <td>0.259921</td>\n",
              "      <td>0.025570</td>\n",
              "    </tr>\n",
              "    <tr>\n",
              "      <th>25%</th>\n",
              "      <td>4934.000000</td>\n",
              "      <td>0.000000</td>\n",
              "      <td>3.000000</td>\n",
              "      <td>7.000000</td>\n",
              "      <td>9.000000</td>\n",
              "      <td>7.000000</td>\n",
              "      <td>0.000000</td>\n",
              "      <td>0.000000</td>\n",
              "      <td>4934.000000</td>\n",
              "      <td>2.000000</td>\n",
              "      <td>0.521396</td>\n",
              "      <td>0.056845</td>\n",
              "    </tr>\n",
              "    <tr>\n",
              "      <th>50%</th>\n",
              "      <td>8984.000000</td>\n",
              "      <td>9.000000</td>\n",
              "      <td>12.000000</td>\n",
              "      <td>14.000000</td>\n",
              "      <td>15.000000</td>\n",
              "      <td>16.000000</td>\n",
              "      <td>3.000000</td>\n",
              "      <td>0.000000</td>\n",
              "      <td>8984.000000</td>\n",
              "      <td>4.000000</td>\n",
              "      <td>0.652648</td>\n",
              "      <td>0.078761</td>\n",
              "    </tr>\n",
              "    <tr>\n",
              "      <th>75%</th>\n",
              "      <td>13267.500000</td>\n",
              "      <td>20.000000</td>\n",
              "      <td>25.000000</td>\n",
              "      <td>25.000000</td>\n",
              "      <td>20.000000</td>\n",
              "      <td>36.000000</td>\n",
              "      <td>16.000000</td>\n",
              "      <td>0.000000</td>\n",
              "      <td>13267.500000</td>\n",
              "      <td>7.000000</td>\n",
              "      <td>0.849967</td>\n",
              "      <td>0.142477</td>\n",
              "    </tr>\n",
              "    <tr>\n",
              "      <th>max</th>\n",
              "      <td>18204.000000</td>\n",
              "      <td>100.000000</td>\n",
              "      <td>100.000000</td>\n",
              "      <td>100.000000</td>\n",
              "      <td>100.000000</td>\n",
              "      <td>100.000000</td>\n",
              "      <td>100.000000</td>\n",
              "      <td>100.000000</td>\n",
              "      <td>18204.000000</td>\n",
              "      <td>9.000000</td>\n",
              "      <td>0.952624</td>\n",
              "      <td>0.356154</td>\n",
              "    </tr>\n",
              "  </tbody>\n",
              "</table>\n",
              "</div>"
            ],
            "text/plain": [
              "         Unnamed: 0        TRUE  ...   lda_score  cosine_score\n",
              "count  831.000000    831.000000  ...  831.000000  831.000000  \n",
              "mean   9095.238267   13.524669   ...  0.666819    0.101972    \n",
              "std    5204.215718   18.377869   ...  0.177544    0.060451    \n",
              "min    41.000000     0.000000    ...  0.259921    0.025570    \n",
              "25%    4934.000000   0.000000    ...  0.521396    0.056845    \n",
              "50%    8984.000000   9.000000    ...  0.652648    0.078761    \n",
              "75%    13267.500000  20.000000   ...  0.849967    0.142477    \n",
              "max    18204.000000  100.000000  ...  0.952624    0.356154    \n",
              "\n",
              "[8 rows x 12 columns]"
            ]
          },
          "metadata": {
            "tags": []
          },
          "execution_count": 28
        }
      ]
    },
    {
      "cell_type": "markdown",
      "metadata": {
        "id": "1Hv4SQULgBDb"
      },
      "source": [
        "### FakeNews"
      ]
    },
    {
      "cell_type": "code",
      "metadata": {
        "colab": {
          "base_uri": "https://localhost:8080/",
          "height": 16
        },
        "id": "A6XfMC0KgBDb",
        "outputId": "fa9857a6-efb5-4772-9a28-6ad9c379a661"
      },
      "source": [
        "# df_FNC.to_csv('df_fake_cosine.csv')\n",
        "# files.download('df_fake_cosine.csv')"
      ],
      "execution_count": null,
      "outputs": [
        {
          "output_type": "display_data",
          "data": {
            "application/javascript": [
              "\n",
              "    async function download(id, filename, size) {\n",
              "      if (!google.colab.kernel.accessAllowed) {\n",
              "        return;\n",
              "      }\n",
              "      const div = document.createElement('div');\n",
              "      const label = document.createElement('label');\n",
              "      label.textContent = `Downloading \"${filename}\": `;\n",
              "      div.appendChild(label);\n",
              "      const progress = document.createElement('progress');\n",
              "      progress.max = size;\n",
              "      div.appendChild(progress);\n",
              "      document.body.appendChild(div);\n",
              "\n",
              "      const buffers = [];\n",
              "      let downloaded = 0;\n",
              "\n",
              "      const channel = await google.colab.kernel.comms.open(id);\n",
              "      // Send a message to notify the kernel that we're ready.\n",
              "      channel.send({})\n",
              "\n",
              "      for await (const message of channel.messages) {\n",
              "        // Send a message to notify the kernel that we're ready.\n",
              "        channel.send({})\n",
              "        if (message.buffers) {\n",
              "          for (const buffer of message.buffers) {\n",
              "            buffers.push(buffer);\n",
              "            downloaded += buffer.byteLength;\n",
              "            progress.value = downloaded;\n",
              "          }\n",
              "        }\n",
              "      }\n",
              "      const blob = new Blob(buffers, {type: 'application/binary'});\n",
              "      const a = document.createElement('a');\n",
              "      a.href = window.URL.createObjectURL(blob);\n",
              "      a.download = filename;\n",
              "      div.appendChild(a);\n",
              "      a.click();\n",
              "      div.remove();\n",
              "    }\n",
              "  "
            ],
            "text/plain": [
              "<IPython.core.display.Javascript object>"
            ]
          },
          "metadata": {
            "tags": []
          }
        },
        {
          "output_type": "display_data",
          "data": {
            "application/javascript": [
              "download(\"download_8eada55e-9d7a-4e75-881e-6919226094f1\", \"df_fake_cosine.csv\", 2066297)"
            ],
            "text/plain": [
              "<IPython.core.display.Javascript object>"
            ]
          },
          "metadata": {
            "tags": []
          }
        }
      ]
    },
    {
      "cell_type": "code",
      "metadata": {
        "colab": {
          "base_uri": "https://localhost:8080/"
        },
        "id": "CeVRc51wgBDb",
        "outputId": "09f7123f-3ddc-47ec-c6d1-fe53d1f0d650"
      },
      "source": [
        "df_FNC.shape"
      ],
      "execution_count": null,
      "outputs": [
        {
          "output_type": "execute_result",
          "data": {
            "text/plain": [
              "(904, 3)"
            ]
          },
          "metadata": {
            "tags": []
          },
          "execution_count": 30
        }
      ]
    },
    {
      "cell_type": "code",
      "metadata": {
        "id": "uZsQ6xbUgBDb"
      },
      "source": [
        "df_Faketrim = df_FNC[df_FNC.cosine_score != 0]"
      ],
      "execution_count": null,
      "outputs": []
    },
    {
      "cell_type": "code",
      "metadata": {
        "colab": {
          "base_uri": "https://localhost:8080/"
        },
        "id": "RHa8LIO6gBDb",
        "outputId": "22f93756-a710-442f-8cd1-d12868277ac2"
      },
      "source": [
        "df_Faketrim.shape"
      ],
      "execution_count": null,
      "outputs": [
        {
          "output_type": "execute_result",
          "data": {
            "text/plain": [
              "(815, 3)"
            ]
          },
          "metadata": {
            "tags": []
          },
          "execution_count": 32
        }
      ]
    },
    {
      "cell_type": "code",
      "metadata": {
        "colab": {
          "base_uri": "https://localhost:8080/",
          "height": 236
        },
        "id": "AH8hplXRgBDb",
        "outputId": "9d4523e7-3148-4dd5-ef6a-a2937b6a7f0b"
      },
      "source": [
        "df_Faketrim.describe()"
      ],
      "execution_count": null,
      "outputs": [
        {
          "output_type": "execute_result",
          "data": {
            "application/vnd.google.colaboratory.module+javascript": "\n      import \"https://ssl.gstatic.com/colaboratory/data_table/a6224c040fa35dcf/data_table.js\";\n\n      window.createDataTable({\n        data: [[\"count\",\n{\n            'v': 815.0,\n            'f': \"815.0\",\n        },\n{\n            'v': 815.0,\n            'f': \"815.0\",\n        }],\n [\"mean\",\n{\n            'v': 1345.8503067484662,\n            'f': \"1345.8503067484662\",\n        },\n{\n            'v': 0.030673373695650038,\n            'f': \"0.030673373695650038\",\n        }],\n [\"std\",\n{\n            'v': 786.3142597947337,\n            'f': \"786.3142597947337\",\n        },\n{\n            'v': 0.025180018730021715,\n            'f': \"0.025180018730021715\",\n        }],\n [\"min\",\n{\n            'v': 2.0,\n            'f': \"2.0\",\n        },\n{\n            'v': 0.0018591428691120404,\n            'f': \"0.0018591428691120404\",\n        }],\n [\"25%\",\n{\n            'v': 669.5,\n            'f': \"669.5\",\n        },\n{\n            'v': 0.012732745135381973,\n            'f': \"0.012732745135381973\",\n        }],\n [\"50%\",\n{\n            'v': 1353.0,\n            'f': \"1353.0\",\n        },\n{\n            'v': 0.024519350006198537,\n            'f': \"0.024519350006198537\",\n        }],\n [\"75%\",\n{\n            'v': 2039.0,\n            'f': \"2039.0\",\n        },\n{\n            'v': 0.040062411616792026,\n            'f': \"0.040062411616792026\",\n        }],\n [\"max\",\n{\n            'v': 2586.0,\n            'f': \"2586.0\",\n        },\n{\n            'v': 0.18096825814205153,\n            'f': \"0.18096825814205153\",\n        }]],\n        columns: [[\"string\", \"index\"], [\"number\", \"Body ID\"], [\"number\", \"cosine_score\"]],\n        columnOptions: [{\"width\": \"1px\", \"className\": \"index_column\"}],\n        rowsPerPage: 25,\n        helpUrl: \"https://colab.research.google.com/notebooks/data_table.ipynb\",\n        suppressOutputScrolling: true,\n        minimumWidth: undefined,\n      });\n    ",
            "text/html": [
              "<div>\n",
              "<style scoped>\n",
              "    .dataframe tbody tr th:only-of-type {\n",
              "        vertical-align: middle;\n",
              "    }\n",
              "\n",
              "    .dataframe tbody tr th {\n",
              "        vertical-align: top;\n",
              "    }\n",
              "\n",
              "    .dataframe thead th {\n",
              "        text-align: right;\n",
              "    }\n",
              "</style>\n",
              "<table border=\"1\" class=\"dataframe\">\n",
              "  <thead>\n",
              "    <tr style=\"text-align: right;\">\n",
              "      <th></th>\n",
              "      <th>Body ID</th>\n",
              "      <th>cosine_score</th>\n",
              "    </tr>\n",
              "  </thead>\n",
              "  <tbody>\n",
              "    <tr>\n",
              "      <th>count</th>\n",
              "      <td>815.000000</td>\n",
              "      <td>815.000000</td>\n",
              "    </tr>\n",
              "    <tr>\n",
              "      <th>mean</th>\n",
              "      <td>1345.850307</td>\n",
              "      <td>0.030673</td>\n",
              "    </tr>\n",
              "    <tr>\n",
              "      <th>std</th>\n",
              "      <td>786.314260</td>\n",
              "      <td>0.025180</td>\n",
              "    </tr>\n",
              "    <tr>\n",
              "      <th>min</th>\n",
              "      <td>2.000000</td>\n",
              "      <td>0.001859</td>\n",
              "    </tr>\n",
              "    <tr>\n",
              "      <th>25%</th>\n",
              "      <td>669.500000</td>\n",
              "      <td>0.012733</td>\n",
              "    </tr>\n",
              "    <tr>\n",
              "      <th>50%</th>\n",
              "      <td>1353.000000</td>\n",
              "      <td>0.024519</td>\n",
              "    </tr>\n",
              "    <tr>\n",
              "      <th>75%</th>\n",
              "      <td>2039.000000</td>\n",
              "      <td>0.040062</td>\n",
              "    </tr>\n",
              "    <tr>\n",
              "      <th>max</th>\n",
              "      <td>2586.000000</td>\n",
              "      <td>0.180968</td>\n",
              "    </tr>\n",
              "  </tbody>\n",
              "</table>\n",
              "</div>"
            ],
            "text/plain": [
              "           Body ID  cosine_score\n",
              "count  815.000000   815.000000  \n",
              "mean   1345.850307  0.030673    \n",
              "std    786.314260   0.025180    \n",
              "min    2.000000     0.001859    \n",
              "25%    669.500000   0.012733    \n",
              "50%    1353.000000  0.024519    \n",
              "75%    2039.000000  0.040062    \n",
              "max    2586.000000  0.180968    "
            ]
          },
          "metadata": {
            "tags": []
          },
          "execution_count": 33
        }
      ]
    },
    {
      "cell_type": "markdown",
      "metadata": {
        "id": "rluJ_MqcgBDb"
      },
      "source": [
        "### Merge"
      ]
    },
    {
      "cell_type": "code",
      "metadata": {
        "id": "4cDSoO1IgBDb"
      },
      "source": [
        "# Didn't work\n",
        "# df_mergeLierFake = pd.merge(df_Liertrim,df_Faketrim, on=\"cosine_score\", how=\"inner\")"
      ],
      "execution_count": null,
      "outputs": []
    },
    {
      "cell_type": "code",
      "metadata": {
        "colab": {
          "base_uri": "https://localhost:8080/"
        },
        "id": "zYNmi9rWgBDb",
        "outputId": "2ce11022-a213-4757-b207-6838447efd4f"
      },
      "source": [
        "N = 100\n",
        "df_Liertrim.cosine_score = np.round(df_Liertrim.cosine_score*N).astype(int) \n",
        "df_Faketrim.cosine_score = np.round(df_Faketrim.cosine_score*N).astype(int) \n",
        "df_mergeLierFake = pd.merge(df_Liertrim,df_Faketrim, on=\"cosine_score\", how=\"inner\")\n",
        "df_mergeLierFake.cosine_score = df_mergeLierFake.cosine_score / N"
      ],
      "execution_count": null,
      "outputs": [
        {
          "output_type": "stream",
          "text": [
            "/usr/local/lib/python3.6/dist-packages/pandas/core/generic.py:5168: SettingWithCopyWarning: \n",
            "A value is trying to be set on a copy of a slice from a DataFrame.\n",
            "Try using .loc[row_indexer,col_indexer] = value instead\n",
            "\n",
            "See the caveats in the documentation: https://pandas.pydata.org/pandas-docs/stable/user_guide/indexing.html#returning-a-view-versus-a-copy\n",
            "  self[name] = value\n"
          ],
          "name": "stderr"
        }
      ]
    },
    {
      "cell_type": "code",
      "metadata": {
        "colab": {
          "base_uri": "https://localhost:8080/"
        },
        "id": "24Rb2TvbgBDb",
        "outputId": "d0dc866f-344d-427e-bea4-6c8afdee5dc0"
      },
      "source": [
        "df_mergeLierFake.shape"
      ],
      "execution_count": null,
      "outputs": [
        {
          "output_type": "execute_result",
          "data": {
            "text/plain": [
              "(22644, 23)"
            ]
          },
          "metadata": {
            "tags": []
          },
          "execution_count": 36
        }
      ]
    },
    {
      "cell_type": "code",
      "metadata": {
        "colab": {
          "base_uri": "https://localhost:8080/",
          "height": 16
        },
        "id": "zPSV8R_BgBDb",
        "outputId": "33d7ea98-bf60-4255-c302-7883e4f6305b"
      },
      "source": [
        "# df_mergeLierFake.to_csv('df_LierFakeMerge.csv')\n",
        "# files.download('df_LierFakeMerge.csv')"
      ],
      "execution_count": null,
      "outputs": [
        {
          "output_type": "display_data",
          "data": {
            "application/javascript": [
              "\n",
              "    async function download(id, filename, size) {\n",
              "      if (!google.colab.kernel.accessAllowed) {\n",
              "        return;\n",
              "      }\n",
              "      const div = document.createElement('div');\n",
              "      const label = document.createElement('label');\n",
              "      label.textContent = `Downloading \"${filename}\": `;\n",
              "      div.appendChild(label);\n",
              "      const progress = document.createElement('progress');\n",
              "      progress.max = size;\n",
              "      div.appendChild(progress);\n",
              "      document.body.appendChild(div);\n",
              "\n",
              "      const buffers = [];\n",
              "      let downloaded = 0;\n",
              "\n",
              "      const channel = await google.colab.kernel.comms.open(id);\n",
              "      // Send a message to notify the kernel that we're ready.\n",
              "      channel.send({})\n",
              "\n",
              "      for await (const message of channel.messages) {\n",
              "        // Send a message to notify the kernel that we're ready.\n",
              "        channel.send({})\n",
              "        if (message.buffers) {\n",
              "          for (const buffer of message.buffers) {\n",
              "            buffers.push(buffer);\n",
              "            downloaded += buffer.byteLength;\n",
              "            progress.value = downloaded;\n",
              "          }\n",
              "        }\n",
              "      }\n",
              "      const blob = new Blob(buffers, {type: 'application/binary'});\n",
              "      const a = document.createElement('a');\n",
              "      a.href = window.URL.createObjectURL(blob);\n",
              "      a.download = filename;\n",
              "      div.appendChild(a);\n",
              "      a.click();\n",
              "      div.remove();\n",
              "    }\n",
              "  "
            ],
            "text/plain": [
              "<IPython.core.display.Javascript object>"
            ]
          },
          "metadata": {
            "tags": []
          }
        },
        {
          "output_type": "display_data",
          "data": {
            "application/javascript": [
              "download(\"download_20af4143-c6a1-4935-8933-0f2eaf513b87\", \"df_LierFakeMerge.csv\", 72963098)"
            ],
            "text/plain": [
              "<IPython.core.display.Javascript object>"
            ]
          },
          "metadata": {
            "tags": []
          }
        }
      ]
    },
    {
      "cell_type": "code",
      "metadata": {
        "id": "ewgGXuFcgBDb"
      },
      "source": [
        "# np.round(df_Liertest.cosine_score, decimals=2)\n",
        "# np.round(df_Faketest.cosine_score, decimals=2)"
      ],
      "execution_count": null,
      "outputs": []
    },
    {
      "cell_type": "code",
      "metadata": {
        "id": "7QzA1S-A5At6"
      },
      "source": [
        "df_mergeLierFake1 = df_mergeLierFake.drop_duplicates(subset=['Statement'])"
      ],
      "execution_count": null,
      "outputs": []
    },
    {
      "cell_type": "code",
      "metadata": {
        "colab": {
          "base_uri": "https://localhost:8080/"
        },
        "id": "qm43AMzM5At7",
        "outputId": "a5e0510c-6480-47e3-827d-554efed5f06e"
      },
      "source": [
        "df_mergeLierFake1.shape"
      ],
      "execution_count": null,
      "outputs": [
        {
          "output_type": "execute_result",
          "data": {
            "text/plain": [
              "(664, 23)"
            ]
          },
          "metadata": {
            "tags": []
          },
          "execution_count": 42
        }
      ]
    },
    {
      "cell_type": "markdown",
      "metadata": {
        "id": "xAbDrgmRanhu"
      },
      "source": [
        "# Data Amalgamation on Scraped data (title) and Fake News Dataset (body)"
      ]
    },
    {
      "cell_type": "markdown",
      "metadata": {
        "id": "u6q82KhhgL4A"
      },
      "source": [
        "## Read Data"
      ]
    },
    {
      "cell_type": "code",
      "metadata": {
        "id": "LbeKE1lMQ7zn"
      },
      "source": [
        "#Kaggle fake news dataset\n",
        "df_FN_train = pd.read_csv(\"/content/drive/MyDrive/the-feature-finders/AlternusVera/fake-news/train.csv\")"
      ],
      "execution_count": null,
      "outputs": []
    },
    {
      "cell_type": "code",
      "metadata": {
        "id": "UdKPh97Ia-gP"
      },
      "source": [
        "df_Lier_clean = pd.read_csv(\"/content/drive/MyDrive/the-feature-finders/AlternusVera/Lier-Lier/LiarLiarCleanDataset.csv\")"
      ],
      "execution_count": null,
      "outputs": []
    },
    {
      "cell_type": "code",
      "metadata": {
        "id": "5mxcaaLabGqF",
        "colab": {
          "base_uri": "https://localhost:8080/"
        },
        "outputId": "1722785a-8d01-41e9-d3d1-5ace2ca2a362"
      },
      "source": [
        "df_Lier_clean.shape"
      ],
      "execution_count": null,
      "outputs": [
        {
          "output_type": "execute_result",
          "data": {
            "text/plain": [
              "(18210, 20)"
            ]
          },
          "metadata": {
            "tags": []
          },
          "execution_count": 45
        }
      ]
    },
    {
      "cell_type": "code",
      "metadata": {
        "colab": {
          "base_uri": "https://localhost:8080/"
        },
        "id": "vFmxCsbvfLNp",
        "outputId": "09369712-4dc0-47fd-e598-150d7ecba63d"
      },
      "source": [
        "df_FN_train.shape"
      ],
      "execution_count": null,
      "outputs": [
        {
          "output_type": "execute_result",
          "data": {
            "text/plain": [
              "(20800, 5)"
            ]
          },
          "metadata": {
            "tags": []
          },
          "execution_count": 46
        }
      ]
    },
    {
      "cell_type": "code",
      "metadata": {
        "id": "A60TZPxbbmN5"
      },
      "source": [
        "corpusCleanLiar = []\n",
        "for i in df_Lier_clean['Statement']:\n",
        "    corpusCleanLiar.append(i)\n",
        "\n",
        "corpusFakeNews = []\n",
        "for i in df_FN_train['text'].astype('U'):\n",
        "    corpusFakeNews.append(i)"
      ],
      "execution_count": null,
      "outputs": []
    },
    {
      "cell_type": "code",
      "metadata": {
        "id": "y9QvssOVbmN9"
      },
      "source": [
        "# Train a classifier that predicts the fakeness in the range of classes given by Cleaned liar liar dataset\n",
        "from sklearn.feature_extraction.text import TfidfVectorizer\n",
        "tfidfVector = TfidfVectorizer(max_features=1000)\n",
        "\n",
        "tfidf_cleanliar = tfidfVector.fit_transform(corpusCleanLiar)"
      ],
      "execution_count": null,
      "outputs": []
    },
    {
      "cell_type": "code",
      "metadata": {
        "id": "JsRhugRjbmOB"
      },
      "source": [
        "tf_idf_FN = tfidfVector.fit_transform(corpusFakeNews)\n",
        "words = tfidfVector.get_feature_names()"
      ],
      "execution_count": null,
      "outputs": []
    },
    {
      "cell_type": "code",
      "metadata": {
        "id": "nQWH7v4obmOE",
        "colab": {
          "base_uri": "https://localhost:8080/"
        },
        "outputId": "d5e50231-85d7-4175-fd31-d3002082e312"
      },
      "source": [
        "tfidf_cleanliar.toarray()"
      ],
      "execution_count": null,
      "outputs": [
        {
          "output_type": "execute_result",
          "data": {
            "text/plain": [
              "array([[0.        , 0.        , 0.        , ..., 0.        , 0.        ,\n",
              "        0.        ],\n",
              "       [0.        , 0.        , 0.        , ..., 0.        , 0.        ,\n",
              "        0.        ],\n",
              "       [0.        , 0.        , 0.        , ..., 0.        , 0.        ,\n",
              "        0.        ],\n",
              "       ...,\n",
              "       [0.        , 0.        , 0.        , ..., 0.        , 0.        ,\n",
              "        0.        ],\n",
              "       [0.        , 0.        , 0.        , ..., 0.        , 0.        ,\n",
              "        0.        ],\n",
              "       [0.17762906, 0.        , 0.        , ..., 0.        , 0.        ,\n",
              "        0.        ]])"
            ]
          },
          "metadata": {
            "tags": []
          },
          "execution_count": 50
        }
      ]
    },
    {
      "cell_type": "code",
      "metadata": {
        "id": "Eu_yuhgobmOI",
        "colab": {
          "base_uri": "https://localhost:8080/"
        },
        "outputId": "2ae8bf3d-0a46-445b-ef37-169f059502c3"
      },
      "source": [
        "tf_idf_FN.toarray()"
      ],
      "execution_count": null,
      "outputs": [
        {
          "output_type": "execute_result",
          "data": {
            "text/plain": [
              "array([[0.        , 0.        , 0.        , ..., 0.01397498, 0.        ,\n",
              "        0.        ],\n",
              "       [0.        , 0.        , 0.        , ..., 0.06835495, 0.        ,\n",
              "        0.04875691],\n",
              "       [0.        , 0.        , 0.        , ..., 0.05802626, 0.        ,\n",
              "        0.        ],\n",
              "       ...,\n",
              "       [0.02368811, 0.02460457, 0.        , ..., 0.        , 0.        ,\n",
              "        0.        ],\n",
              "       [0.        , 0.04343585, 0.        , ..., 0.        , 0.        ,\n",
              "        0.        ],\n",
              "       [0.06088069, 0.        , 0.        , ..., 0.02636277, 0.        ,\n",
              "        0.0376086 ]])"
            ]
          },
          "metadata": {
            "tags": []
          },
          "execution_count": 51
        }
      ]
    },
    {
      "cell_type": "code",
      "metadata": {
        "id": "dWdpgmnvbmOL",
        "colab": {
          "base_uri": "https://localhost:8080/"
        },
        "outputId": "ba9765a5-12dd-486b-9932-4146b45876a3"
      },
      "source": [
        "tfidfVector.vocabulary_"
      ],
      "execution_count": null,
      "outputs": [
        {
          "output_type": "execute_result",
          "data": {
            "text/plain": [
              "{'house': 412,\n",
              " 'we': 948,\n",
              " 'didn': 236,\n",
              " 'even': 289,\n",
              " 'see': 766,\n",
              " 'comey': 179,\n",
              " 'letter': 496,\n",
              " 'until': 919,\n",
              " 'it': 453,\n",
              " 'by': 127,\n",
              " 'on': 617,\n",
              " 'october': 606,\n",
              " '30': 15,\n",
              " '2016': 12,\n",
              " 'the': 867,\n",
              " 'in': 424,\n",
              " 'american': 56,\n",
              " 'michael': 549,\n",
              " 'available': 86,\n",
              " 'under': 914,\n",
              " 'with': 975,\n",
              " 'to': 890,\n",
              " 'there': 872,\n",
              " 'is': 446,\n",
              " 'no': 594,\n",
              " 'who': 966,\n",
              " 'person': 647,\n",
              " 'world': 988,\n",
              " 'this': 879,\n",
              " 'week': 952,\n",
              " 'fbi': 311,\n",
              " 'director': 241,\n",
              " 'james': 456,\n",
              " 'but': 126,\n",
              " 'according': 23,\n",
              " 'democratic': 229,\n",
              " 'like': 501,\n",
              " 'also': 51,\n",
              " 'know': 472,\n",
              " 'second': 762,\n",
              " 'as': 76,\n",
              " 'well': 954,\n",
              " 'out': 630,\n",
              " 'that': 866,\n",
              " 'when': 960,\n",
              " 'sent': 775,\n",
              " 'his': 404,\n",
              " 'now': 601,\n",
              " 'was': 941,\n",
              " 'looking': 515,\n",
              " 'into': 441,\n",
              " 'emails': 277,\n",
              " 'may': 535,\n",
              " 'be': 92,\n",
              " 'related': 715,\n",
              " 'hillary': 401,\n",
              " 'clinton': 172,\n",
              " 'email': 276,\n",
              " 'democrats': 230,\n",
              " 'about': 20,\n",
              " 'from': 349,\n",
              " 'they': 874,\n",
              " 'found': 340,\n",
              " 'one': 619,\n",
              " 'of': 607,\n",
              " 'republican': 726,\n",
              " 'committee': 183,\n",
              " 'and': 60,\n",
              " 'members': 544,\n",
              " 'intelligence': 435,\n",
              " 'agency': 39,\n",
              " 'had': 379,\n",
              " 'recently': 710,\n",
              " 'order': 625,\n",
              " 'if': 418,\n",
              " 'information': 431,\n",
              " 'not': 597,\n",
              " 'long': 512,\n",
              " 'after': 35,\n",
              " 'went': 955,\n",
              " 'chairman': 150,\n",
              " 'set': 780,\n",
              " 'political': 662,\n",
              " 'just': 465,\n",
              " 'me': 537,\n",
              " 'has': 386,\n",
              " 'investigation': 442,\n",
              " 'case': 144,\n",
              " 'course': 203,\n",
              " 'actually': 30,\n",
              " 'saying': 756,\n",
              " 'light': 500,\n",
              " 'an': 59,\n",
              " 'which': 963,\n",
              " 'such': 840,\n",
              " 'little': 505,\n",
              " 'things': 876,\n",
              " 'matter': 534,\n",
              " 'already': 50,\n",
              " 'at': 79,\n",
              " 'least': 489,\n",
              " 'two': 912,\n",
              " 'years': 993,\n",
              " 'entire': 284,\n",
              " 'term': 860,\n",
              " 'them': 869,\n",
              " 'thought': 882,\n",
              " 'doing': 247,\n",
              " 'work': 983,\n",
              " 'for': 333,\n",
              " 'him': 402,\n",
              " 'nation': 579,\n",
              " 'before': 97,\n",
              " 'senior': 773,\n",
              " 'have': 387,\n",
              " 'been': 96,\n",
              " 'told': 893,\n",
              " 'other': 627,\n",
              " 'time': 888,\n",
              " 'only': 621,\n",
              " 'twitter': 911,\n",
              " 'fact': 304,\n",
              " 'government': 370,\n",
              " 'made': 521,\n",
              " 'public': 690,\n",
              " 'so': 803,\n",
              " 'let': 495,\n",
              " 've': 925,\n",
              " 'got': 369,\n",
              " 'right': 735,\n",
              " 'major': 524,\n",
              " 'development': 234,\n",
              " 'their': 868,\n",
              " 'instead': 433,\n",
              " 'he': 389,\n",
              " 'find': 324,\n",
              " 'talk': 853,\n",
              " 'daily': 213,\n",
              " 'himself': 403,\n",
              " 'republicans': 727,\n",
              " 'turn': 909,\n",
              " 'make': 526,\n",
              " 'good': 368,\n",
              " 'nothing': 599,\n",
              " 'far': 309,\n",
              " 'all': 45,\n",
              " 'anything': 66,\n",
              " 'than': 865,\n",
              " 'what': 959,\n",
              " 'does': 245,\n",
              " 'however': 414,\n",
              " 'way': 946,\n",
              " 'makes': 527,\n",
              " 'look': 514,\n",
              " 'member': 543,\n",
              " 'something': 808,\n",
              " 'doesn': 246,\n",
              " 'don': 249,\n",
              " 'likely': 502,\n",
              " 'will': 973,\n",
              " 'district': 242,\n",
              " 'voting': 935,\n",
              " '25': 14,\n",
              " 'gave': 355,\n",
              " 'percent': 645,\n",
              " 'vote': 932,\n",
              " '2012': 8,\n",
              " 'given': 361,\n",
              " 'its': 454,\n",
              " 'full': 351,\n",
              " 'support': 842,\n",
              " 'planned': 652,\n",
              " 'mean': 538,\n",
              " 'can': 135,\n",
              " 'example': 297,\n",
              " 'become': 95,\n",
              " 'control': 195,\n",
              " 'university': 918,\n",
              " 'north': 596,\n",
              " 'old': 616,\n",
              " 'school': 758,\n",
              " 'college': 175,\n",
              " 'liberal': 498,\n",
              " 'stand': 822,\n",
              " 'up': 920,\n",
              " 'those': 880,\n",
              " 'three': 885,\n",
              " 'year': 992,\n",
              " 'you': 997,\n",
              " 'follow': 330,\n",
              " 'or': 624,\n",
              " 'facebook': 303,\n",
              " 'here': 398,\n",
              " 'ever': 292,\n",
              " 'get': 358,\n",
              " 'your': 999,\n",
              " 'life': 499,\n",
              " 'rather': 701,\n",
              " 'line': 503,\n",
              " 'toward': 898,\n",
              " 'remains': 721,\n",
              " 'big': 107,\n",
              " 'woman': 978,\n",
              " 'else': 275,\n",
              " 'votes': 934,\n",
              " 'her': 397,\n",
              " 'most': 565,\n",
              " 'days': 217,\n",
              " 'speaking': 816,\n",
              " 'great': 371,\n",
              " 'ago': 41,\n",
              " 'she': 785,\n",
              " 'first': 326,\n",
              " 'class': 169,\n",
              " 'president': 674,\n",
              " 'students': 838,\n",
              " 'needed': 586,\n",
              " 'debate': 222,\n",
              " 'could': 198,\n",
              " 'kind': 470,\n",
              " 'terms': 861,\n",
              " 'then': 871,\n",
              " 'seven': 781,\n",
              " 'am': 54,\n",
              " 'very': 926,\n",
              " 'clear': 170,\n",
              " 'today': 891,\n",
              " 'us': 921,\n",
              " 'john': 461,\n",
              " 'took': 895,\n",
              " 'issue': 451,\n",
              " 'despite': 233,\n",
              " 'win': 974,\n",
              " 'election': 273,\n",
              " 'senate': 771,\n",
              " 'since': 797,\n",
              " 'came': 133,\n",
              " 'calling': 131,\n",
              " 'though': 881,\n",
              " 'black': 111,\n",
              " 'power': 671,\n",
              " 'within': 976,\n",
              " 'new': 590,\n",
              " 'left': 492,\n",
              " 'similar': 795,\n",
              " 'words': 982,\n",
              " 'coming': 180,\n",
              " 'word': 981,\n",
              " 'asked': 78,\n",
              " 'our': 629,\n",
              " 'wanted': 938,\n",
              " 'say': 755,\n",
              " 'everyone': 294,\n",
              " 'said': 748,\n",
              " 'both': 116,\n",
              " 'feel': 314,\n",
              " 'others': 628,\n",
              " 'perhaps': 646,\n",
              " 'are': 70,\n",
              " 'plans': 653,\n",
              " 'did': 235,\n",
              " 'understand': 915,\n",
              " 'people': 643,\n",
              " 'friday': 346,\n",
              " 'trump': 903,\n",
              " 'question': 695,\n",
              " 'immediately': 420,\n",
              " 'november': 600,\n",
              " 'reason': 707,\n",
              " 'described': 232,\n",
              " 'supporters': 843,\n",
              " 'truth': 904,\n",
              " 'failed': 305,\n",
              " 'why': 970,\n",
              " 'over': 632,\n",
              " 'history': 405,\n",
              " 'among': 58,\n",
              " 'too': 894,\n",
              " 'own': 633,\n",
              " 'attack': 80,\n",
              " 'end': 280,\n",
              " 'free': 344,\n",
              " 'society': 805,\n",
              " 'many': 530,\n",
              " 'high': 399,\n",
              " 'times': 889,\n",
              " 'place': 650,\n",
              " 'more': 563,\n",
              " 'show': 789,\n",
              " 'back': 88,\n",
              " 'leaders': 487,\n",
              " 'politics': 663,\n",
              " 'possible': 667,\n",
              " 'making': 528,\n",
              " 'appears': 68,\n",
              " 'white': 965,\n",
              " 'how': 413,\n",
              " 'current': 211,\n",
              " '50': 17,\n",
              " 'points': 658,\n",
              " 'isn': 449,\n",
              " 'bill': 109,\n",
              " 'mind': 555,\n",
              " 'getting': 359,\n",
              " 'day': 216,\n",
              " 'might': 551,\n",
              " 'between': 105,\n",
              " 'always': 53,\n",
              " 'results': 732,\n",
              " 'often': 614,\n",
              " 'former': 338,\n",
              " 'iraq': 445,\n",
              " 'war': 940,\n",
              " 'foreign': 336,\n",
              " 'policy': 661,\n",
              " 'bad': 89,\n",
              " 'some': 806,\n",
              " 'following': 331,\n",
              " 'action': 28,\n",
              " 'united': 917,\n",
              " 'states': 829,\n",
              " 'probably': 681,\n",
              " 'early': 259,\n",
              " 'george': 357,\n",
              " 'bush': 124,\n",
              " 'key': 468,\n",
              " 'claim': 166,\n",
              " 'country': 201,\n",
              " 'nuclear': 602,\n",
              " 'weapons': 949,\n",
              " 'mass': 533,\n",
              " 'real': 704,\n",
              " 'beyond': 106,\n",
              " 'included': 426,\n",
              " 'plan': 651,\n",
              " 'change': 152,\n",
              " 'middle': 550,\n",
              " 'east': 261,\n",
              " 'vice': 927,\n",
              " 'office': 609,\n",
              " 'chief': 155,\n",
              " 'staff': 821,\n",
              " 'close': 173,\n",
              " 'short': 786,\n",
              " 'believe': 101,\n",
              " 'tried': 901,\n",
              " '11': 3,\n",
              " 'attacks': 81,\n",
              " 'never': 589,\n",
              " 'evidence': 296,\n",
              " 'difficult': 240,\n",
              " 'against': 37,\n",
              " 'because': 94,\n",
              " 'any': 64,\n",
              " 'hard': 385,\n",
              " 'anti': 63,\n",
              " 'story': 835,\n",
              " 'true': 902,\n",
              " 'whose': 969,\n",
              " 'were': 956,\n",
              " 'tell': 859,\n",
              " 'strong': 837,\n",
              " 'campaign': 134,\n",
              " 'fear': 312,\n",
              " 'nations': 581,\n",
              " 'program': 686,\n",
              " 'administration': 34,\n",
              " 'soon': 811,\n",
              " 'hand': 381,\n",
              " 'march': 531,\n",
              " 'once': 618,\n",
              " 'would': 989,\n",
              " 'social': 804,\n",
              " 'later': 481,\n",
              " 'still': 832,\n",
              " 'trying': 906,\n",
              " 'being': 100,\n",
              " 'put': 692,\n",
              " 'need': 585,\n",
              " 'help': 395,\n",
              " 'protect': 688,\n",
              " 'oil': 615,\n",
              " 'al': 44,\n",
              " 'market': 532,\n",
              " 'head': 390,\n",
              " 'national': 580,\n",
              " 'congress': 190,\n",
              " 'stories': 834,\n",
              " 'center': 147,\n",
              " 'result': 731,\n",
              " 'community': 185,\n",
              " 'board': 112,\n",
              " 'science': 760,\n",
              " 'research': 728,\n",
              " 'security': 765,\n",
              " 'effort': 267,\n",
              " 'almost': 48,\n",
              " 'certain': 149,\n",
              " 'cannot': 139,\n",
              " 'give': 360,\n",
              " 'want': 937,\n",
              " 'better': 104,\n",
              " 'problem': 682,\n",
              " 'simply': 796,\n",
              " 'seem': 767,\n",
              " 'thousands': 883,\n",
              " 'workers': 985,\n",
              " 'officers': 611,\n",
              " 'going': 366,\n",
              " 'syria': 846,\n",
              " 'israel': 450,\n",
              " 'obama': 604,\n",
              " 'someone': 807,\n",
              " 'having': 388,\n",
              " 'different': 239,\n",
              " 'do': 243,\n",
              " 'council': 199,\n",
              " 'yet': 995,\n",
              " 'another': 62,\n",
              " 'organization': 626,\n",
              " 'meeting': 542,\n",
              " 'ground': 373,\n",
              " '16': 6,\n",
              " 'taken': 850,\n",
              " 're': 702,\n",
              " 'particularly': 637,\n",
              " 'works': 987,\n",
              " 'means': 539,\n",
              " 'must': 575,\n",
              " 'hit': 406,\n",
              " 'group': 374,\n",
              " 'think': 877,\n",
              " 'western': 958,\n",
              " 'saudi': 753,\n",
              " 'peace': 642,\n",
              " 'defense': 227,\n",
              " 'star': 824,\n",
              " 'list': 504,\n",
              " 'millions': 554,\n",
              " 'dollars': 248,\n",
              " 'use': 922,\n",
              " 'able': 19,\n",
              " 'above': 21,\n",
              " 'lead': 485,\n",
              " 'down': 252,\n",
              " 'happened': 384,\n",
              " 'source': 812,\n",
              " 'past': 639,\n",
              " 'play': 654,\n",
              " 'ways': 947,\n",
              " 'keep': 467,\n",
              " 'hope': 409,\n",
              " '15': 5,\n",
              " 'killed': 469,\n",
              " 'single': 798,\n",
              " 'rate': 700,\n",
              " 'higher': 400,\n",
              " '2014': 10,\n",
              " 'military': 552,\n",
              " 'air': 43,\n",
              " 'force': 334,\n",
              " 'last': 479,\n",
              " 'month': 561,\n",
              " 'biggest': 108,\n",
              " 'claimed': 167,\n",
              " 'terrorism': 862,\n",
              " 'islamic': 448,\n",
              " 'state': 827,\n",
              " 'next': 592,\n",
              " 'statement': 828,\n",
              " 'return': 733,\n",
              " 'spoke': 820,\n",
              " 'man': 529,\n",
              " 'named': 578,\n",
              " 'below': 102,\n",
              " 'died': 238,\n",
              " 'son': 810,\n",
              " 'local': 510,\n",
              " 'lost': 517,\n",
              " 'claims': 168,\n",
              " 'speak': 815,\n",
              " 'phone': 649,\n",
              " 'my': 576,\n",
              " 'data': 214,\n",
              " 'four': 342,\n",
              " 'eight': 269,\n",
              " 'capital': 140,\n",
              " 'police': 659,\n",
              " 'officer': 610,\n",
              " 'known': 473,\n",
              " 'threat': 884,\n",
              " 'forces': 335,\n",
              " 'address': 33,\n",
              " 'citizens': 163,\n",
              " 'central': 148,\n",
              " 'city': 164,\n",
              " 'same': 749,\n",
              " 'name': 577,\n",
              " 'six': 801,\n",
              " 'prison': 679,\n",
              " 'iran': 444,\n",
              " 'home': 408,\n",
              " 'death': 221,\n",
              " 'review': 734,\n",
              " 'wife': 971,\n",
              " 'human': 415,\n",
              " 'rights': 736,\n",
              " 'reported': 723,\n",
              " 'without': 977,\n",
              " 'article': 75,\n",
              " 'women': 979,\n",
              " 'published': 691,\n",
              " 'anyone': 65,\n",
              " 'law': 483,\n",
              " 'these': 873,\n",
              " 'breitbart': 117,\n",
              " 'news': 591,\n",
              " 'korea': 474,\n",
              " 'donald': 250,\n",
              " 'needs': 587,\n",
              " 'whole': 967,\n",
              " 'behind': 99,\n",
              " 'choice': 160,\n",
              " 'thing': 875,\n",
              " 'says': 757,\n",
              " 'll': 509,\n",
              " 'fall': 306,\n",
              " 'love': 519,\n",
              " 'syrian': 847,\n",
              " 'lives': 507,\n",
              " 'climate': 171,\n",
              " 'watch': 944,\n",
              " 'latest': 482,\n",
              " 'britain': 119,\n",
              " 'through': 886,\n",
              " 'living': 508,\n",
              " 'quickly': 697,\n",
              " 'act': 27,\n",
              " 'per': 644,\n",
              " 'international': 438,\n",
              " 'million': 553,\n",
              " 'go': 363,\n",
              " 'five': 327,\n",
              " 'while': 964,\n",
              " 'sometimes': 809,\n",
              " 'away': 87,\n",
              " 'face': 302,\n",
              " 'london': 511,\n",
              " 'every': 293,\n",
              " 'study': 839,\n",
              " 'sign': 793,\n",
              " 'comes': 178,\n",
              " 'minutes': 557,\n",
              " 'film': 320,\n",
              " 'british': 120,\n",
              " 'much': 573,\n",
              " 'europe': 287,\n",
              " 'candidate': 137,\n",
              " 'sunday': 841,\n",
              " 'presidential': 675,\n",
              " 'heart': 393,\n",
              " 'prime': 678,\n",
              " 'minister': 556,\n",
              " 'policies': 660,\n",
              " 'mr': 570,\n",
              " 'appeared': 67,\n",
              " 'won': 980,\n",
              " 'again': 36,\n",
              " 'future': 353,\n",
              " 'victory': 928,\n",
              " 'voters': 933,\n",
              " 'announced': 61,\n",
              " 'candidates': 138,\n",
              " 'chance': 151,\n",
              " 'general': 356,\n",
              " 'april': 69,\n",
              " 'party': 638,\n",
              " 'popular': 664,\n",
              " 'low': 520,\n",
              " 'number': 603,\n",
              " 'elections': 274,\n",
              " 'leading': 488,\n",
              " 'main': 522,\n",
              " 'accused': 25,\n",
              " 'large': 477,\n",
              " 'money': 560,\n",
              " 'legal': 493,\n",
              " 'system': 848,\n",
              " 'financial': 323,\n",
              " 'run': 742,\n",
              " 'top': 896,\n",
              " 'race': 699,\n",
              " 'include': 425,\n",
              " 'economy': 264,\n",
              " 'mainstream': 523,\n",
              " 'expected': 299,\n",
              " 'part': 636,\n",
              " 'union': 916,\n",
              " 'young': 998,\n",
              " 'especially': 285,\n",
              " 'economic': 263,\n",
              " 'build': 122,\n",
              " 'european': 288,\n",
              " 'weeks': 953,\n",
              " '10': 1,\n",
              " 'nearly': 584,\n",
              " 'enough': 283,\n",
              " 'pay': 641,\n",
              " 'working': 986,\n",
              " 'began': 98,\n",
              " 'father': 310,\n",
              " 'worked': 984,\n",
              " 'west': 957,\n",
              " 'mother': 566,\n",
              " 'off': 608,\n",
              " 'secretary': 764,\n",
              " 'movement': 569,\n",
              " 'continued': 194,\n",
              " 'leader': 486,\n",
              " 'church': 161,\n",
              " 'saturday': 752,\n",
              " 'team': 856,\n",
              " 'questions': 696,\n",
              " 'thursday': 887,\n",
              " 'night': 593,\n",
              " 'official': 612,\n",
              " 'york': 996,\n",
              " '_____': 18,\n",
              " 'point': 657,\n",
              " 'south': 813,\n",
              " 'start': 825,\n",
              " 'bring': 118,\n",
              " 'best': 103,\n",
              " 'america': 55,\n",
              " 'business': 125,\n",
              " 'based': 91,\n",
              " 'access': 22,\n",
              " 'tax': 855,\n",
              " 'growth': 377,\n",
              " 'enforcement': 282,\n",
              " 'immigration': 422,\n",
              " 'laws': 484,\n",
              " 'trade': 900,\n",
              " 'important': 423,\n",
              " 'provide': 689,\n",
              " 'education': 265,\n",
              " 'americans': 57,\n",
              " 'cities': 162,\n",
              " 'common': 184,\n",
              " 'sure': 845,\n",
              " 'brought': 121,\n",
              " 'focus': 329,\n",
              " 'where': 961,\n",
              " 'done': 251,\n",
              " 'schools': 759,\n",
              " 'children': 157,\n",
              " 'situation': 800,\n",
              " 'together': 892,\n",
              " 'area': 71,\n",
              " 'each': 257,\n",
              " 'potential': 670,\n",
              " 'jobs': 460,\n",
              " 'parents': 635,\n",
              " 'bank': 90,\n",
              " 'federal': 313,\n",
              " 'care': 142,\n",
              " 'health': 391,\n",
              " 'issues': 452,\n",
              " 'side': 792,\n",
              " 'live': 506,\n",
              " 'earth': 260,\n",
              " 'should': 788,\n",
              " 'insurance': 434,\n",
              " 'across': 26,\n",
              " 'account': 24,\n",
              " 'price': 677,\n",
              " 'services': 779,\n",
              " 'democrat': 228,\n",
              " 'lot': 518,\n",
              " 'continue': 193,\n",
              " 'created': 206,\n",
              " 'hold': 407,\n",
              " 'move': 567,\n",
              " 'allow': 46,\n",
              " 'come': 177,\n",
              " 'level': 497,\n",
              " 'civil': 165,\n",
              " 'take': 849,\n",
              " 'russia': 744,\n",
              " 'russian': 745,\n",
              " 'along': 49,\n",
              " 'personal': 648,\n",
              " 'helped': 396,\n",
              " 'opposition': 623,\n",
              " 'paul': 640,\n",
              " 'remain': 720,\n",
              " 'efforts': 268,\n",
              " 'putin': 693,\n",
              " 'illegal': 419,\n",
              " 'seems': 769,\n",
              " 'interests': 437,\n",
              " 'conflict': 189,\n",
              " 'cost': 197,\n",
              " '000': 0,\n",
              " 'companies': 186,\n",
              " 'received': 708,\n",
              " 'call': 129,\n",
              " 'countries': 200,\n",
              " 'experience': 300,\n",
              " 'several': 782,\n",
              " 'officials': 613,\n",
              " 'involved': 443,\n",
              " 'role': 738,\n",
              " 'decades': 223,\n",
              " 'spent': 819,\n",
              " 'half': 380,\n",
              " 'charges': 154,\n",
              " 'including': 427,\n",
              " 'conference': 188,\n",
              " 'experts': 301,\n",
              " 'agreement': 42,\n",
              " 'relations': 716,\n",
              " 'late': 480,\n",
              " 'january': 457,\n",
              " 'men': 545,\n",
              " 'private': 680,\n",
              " 'street': 836,\n",
              " 'special': 817,\n",
              " 'considered': 192,\n",
              " 'whom': 968,\n",
              " 'problems': 683,\n",
              " 'met': 547,\n",
              " 'during': 256,\n",
              " 'report': 722,\n",
              " 'washington': 942,\n",
              " 'try': 905,\n",
              " 'talking': 854,\n",
              " 'elected': 272,\n",
              " 'wrote': 991,\n",
              " 'saw': 754,\n",
              " 'career': 143,\n",
              " 'eastern': 262,\n",
              " 'whether': 962,\n",
              " '100': 2,\n",
              " 'project': 687,\n",
              " 'less': 494,\n",
              " 'recent': 709,\n",
              " 'room': 739,\n",
              " '2013': 9,\n",
              " 'really': 706,\n",
              " 'executive': 298,\n",
              " 'called': 130,\n",
              " '2015': 11,\n",
              " 'friend': 347,\n",
              " 'sense': 774,\n",
              " 'stop': 833,\n",
              " 'response': 729,\n",
              " 'post': 668,\n",
              " 'cause': 146,\n",
              " 'job': 459,\n",
              " 'online': 620,\n",
              " 'groups': 375,\n",
              " 'earlier': 258,\n",
              " 'inside': 432,\n",
              " 'message': 546,\n",
              " 'either': 270,\n",
              " 'deep': 226,\n",
              " 'released': 719,\n",
              " 'stay': 830,\n",
              " 'calls': 132,\n",
              " 'front': 350,\n",
              " 'host': 410,\n",
              " 'ask': 77,\n",
              " 'event': 290,\n",
              " 'actions': 29,\n",
              " 'create': 205,\n",
              " 'obamacare': 605,\n",
              " 'field': 317,\n",
              " 'video': 929,\n",
              " 'media': 540,\n",
              " 'further': 352,\n",
              " 'website': 950,\n",
              " 'form': 337,\n",
              " 'en': 279,\n",
              " 'events': 291,\n",
              " 'added': 31,\n",
              " 'open': 622,\n",
              " 'la': 475,\n",
              " 'families': 307,\n",
              " 'justice': 466,\n",
              " 'third': 878,\n",
              " 'series': 776,\n",
              " 'author': 84,\n",
              " '2017': 13,\n",
              " 'isis': 447,\n",
              " 'view': 930,\n",
              " 'muslim': 574,\n",
              " 'adding': 32,\n",
              " 'itself': 455,\n",
              " 'shows': 791,\n",
              " 'taking': 852,\n",
              " 'green': 372,\n",
              " 'age': 38,\n",
              " 'june': 464,\n",
              " 'army': 73,\n",
              " 'secret': 763,\n",
              " 'around': 74,\n",
              " 'used': 923,\n",
              " 'july': 463,\n",
              " 'land': 476,\n",
              " 'nominee': 595,\n",
              " 'started': 826,\n",
              " 'turned': 910,\n",
              " 'effect': 266,\n",
              " 'final': 321,\n",
              " 'growing': 376,\n",
              " 'deal': 220,\n",
              " 'yes': 994,\n",
              " 'paid': 634,\n",
              " 'internet': 439,\n",
              " 'documents': 244,\n",
              " 'finally': 322,\n",
              " 'speech': 818,\n",
              " 'influence': 430,\n",
              " 'reality': 705,\n",
              " 'noted': 598,\n",
              " 'using': 924,\n",
              " 'comment': 181,\n",
              " 'cases': 145,\n",
              " 'agents': 40,\n",
              " 'posted': 669,\n",
              " 'longer': 513,\n",
              " 'court': 204,\n",
              " 'decision': 225,\n",
              " 'company': 187,\n",
              " 'running': 743,\n",
              " 'professor': 685,\n",
              " 'freedom': 345,\n",
              " 'rest': 730,\n",
              " 'few': 316,\n",
              " 'comments': 182,\n",
              " 'water': 945,\n",
              " 'played': 655,\n",
              " 'game': 354,\n",
              " 'process': 684,\n",
              " 'billion': 110,\n",
              " 'quite': 698,\n",
              " 'wrong': 990,\n",
              " 'small': 802,\n",
              " 'heard': 392,\n",
              " 'book': 114,\n",
              " 'read': 703,\n",
              " 'dr': 253,\n",
              " '40': 16,\n",
              " 'changes': 153,\n",
              " '12': 4,\n",
              " 'significant': 794,\n",
              " 'record': 711,\n",
              " 'everything': 295,\n",
              " '20': 7,\n",
              " 'leave': 490,\n",
              " 'press': 676,\n",
              " 'idea': 417,\n",
              " 'television': 858,\n",
              " 'body': 113,\n",
              " 'site': 799,\n",
              " 'dead': 219,\n",
              " 'god': 364,\n",
              " 'attention': 82,\n",
              " 'wants': 939,\n",
              " 'step': 831,\n",
              " 'corporate': 196,\n",
              " 'fox': 343,\n",
              " 'seen': 770,\n",
              " 'themselves': 870,\n",
              " 'total': 897,\n",
              " 'reporters': 724,\n",
              " 'terrorist': 863,\n",
              " 'network': 588,\n",
              " 'share': 784,\n",
              " 'majority': 525,\n",
              " 'conservative': 191,\n",
              " 'sanders': 751,\n",
              " 'fight': 318,\n",
              " 'season': 761,\n",
              " 'became': 93,\n",
              " 'gun': 378,\n",
              " 'moment': 558,\n",
              " 'outside': 631,\n",
              " 'family': 308,\n",
              " 'region': 714,\n",
              " 'moved': 568,\n",
              " 'maybe': 536,\n",
              " 'risk': 737,\n",
              " 'red': 712,\n",
              " 'david': 215,\n",
              " 'wednesday': 951,\n",
              " 'crisis': 209,\n",
              " 'industry': 429,\n",
              " 'employees': 278,\n",
              " 'fire': 325,\n",
              " 'reports': 725,\n",
              " 'seemed': 768,\n",
              " 'culture': 210,\n",
              " 'senator': 772,\n",
              " 'wall': 936,\n",
              " 'largest': 478,\n",
              " 'decided': 224,\n",
              " 'san': 750,\n",
              " 'led': 491,\n",
              " 'interview': 440,\n",
              " 'los': 516,\n",
              " 'attorney': 83,\n",
              " 'department': 231,\n",
              " 'release': 718,\n",
              " 'standing': 823,\n",
              " 'county': 202,\n",
              " 'foundation': 341,\n",
              " 'gold': 367,\n",
              " 'morning': 564,\n",
              " 'china': 158,\n",
              " 'interest': 436,\n",
              " 'global': 362,\n",
              " 'criminal': 208,\n",
              " 'tuesday': 907,\n",
              " 'chinese': 159,\n",
              " 'safety': 747,\n",
              " 'showed': 790,\n",
              " 'increase': 428,\n",
              " 'allowed': 47,\n",
              " 'although': 52,\n",
              " 'ryan': 746,\n",
              " 'hours': 411,\n",
              " 'powerful': 672,\n",
              " 'held': 394,\n",
              " 'crime': 207,\n",
              " 'cnn': 174,\n",
              " 'due': 255,\n",
              " 'wasn': 943,\n",
              " 'el': 271,\n",
              " 'authorities': 85,\n",
              " 'texas': 864,\n",
              " 'forward': 339,\n",
              " 'medical': 541,\n",
              " 'happen': 383,\n",
              " 'un': 913,\n",
              " 'mexico': 548,\n",
              " 'nato': 582,\n",
              " 'service': 778,\n",
              " 'rule': 740,\n",
              " 'border': 115,\n",
              " 'florida': 328,\n",
              " 'near': 583,\n",
              " 'space': 814,\n",
              " 'monday': 559,\n",
              " 'sexual': 783,\n",
              " 'ms': 572,\n",
              " 'supreme': 844,\n",
              " 'goes': 365,\n",
              " 'relationship': 717,\n",
              " 'hands': 382,\n",
              " 'areas': 72,\n",
              " 'months': 562,\n",
              " 'knew': 471,\n",
              " 'felt': 315,\n",
              " 'establishment': 286,\n",
              " 'position': 666,\n",
              " 'friends': 348,\n",
              " 'town': 899,\n",
              " 'building': 123,\n",
              " 'presidency': 673,\n",
              " 'violence': 931,\n",
              " 'de': 218,\n",
              " 'food': 332,\n",
              " 'serious': 777,\n",
              " 'cut': 212,\n",
              " 'fighting': 319,\n",
              " 'technology': 857,\n",
              " 'hundreds': 416,\n",
              " 'energy': 281,\n",
              " 'child': 156,\n",
              " 'jewish': 458,\n",
              " 'judge': 462,\n",
              " 'com': 176,\n",
              " 'die': 237,\n",
              " 'podesta': 656,\n",
              " 'turkey': 908,\n",
              " 'california': 128,\n",
              " 'population': 665,\n",
              " 'rules': 741,\n",
              " 'cancer': 136,\n",
              " 'car': 141,\n",
              " 'refugees': 713,\n",
              " 'drug': 254,\n",
              " 'shot': 787,\n",
              " 'takes': 851,\n",
              " 'mrs': 571,\n",
              " 'immigrants': 421,\n",
              " 'wikileaks': 972,\n",
              " 'que': 694}"
            ]
          },
          "metadata": {
            "tags": []
          },
          "execution_count": 52
        }
      ]
    },
    {
      "cell_type": "markdown",
      "metadata": {
        "id": "-QtT2HEXbmOO"
      },
      "source": [
        "## Cosine Similarirty "
      ]
    },
    {
      "cell_type": "code",
      "metadata": {
        "id": "40c_lR8nbmOP",
        "colab": {
          "base_uri": "https://localhost:8080/"
        },
        "outputId": "02a9bd72-00a6-43ec-8971-623ba48af7ec"
      },
      "source": [
        "# Clean Lier Lier Dataset\n",
        "\n",
        "cleanLtrain_tfidf = tfidfVector.fit_transform(df_Lier_clean['Statement'])\n",
        "print('Training dim:', cleanLtrain_tfidf.shape)\n",
        "print(cleanLtrain_tfidf.A[:10])"
      ],
      "execution_count": null,
      "outputs": [
        {
          "output_type": "stream",
          "text": [
            "Training dim: (18210, 1000)\n",
            "[[0.         0.         0.         ... 0.         0.         0.        ]\n",
            " [0.         0.         0.         ... 0.         0.         0.        ]\n",
            " [0.         0.         0.         ... 0.         0.         0.        ]\n",
            " ...\n",
            " [0.21968747 0.         0.         ... 0.         0.         0.        ]\n",
            " [0.         0.         0.         ... 0.         0.         0.        ]\n",
            " [0.         0.         0.         ... 0.         0.         0.        ]]\n"
          ],
          "name": "stdout"
        }
      ]
    },
    {
      "cell_type": "code",
      "metadata": {
        "id": "LMJqqm-YbmOS",
        "colab": {
          "base_uri": "https://localhost:8080/"
        },
        "outputId": "458b7be5-7652-4d9e-f6d5-d634eba1925c"
      },
      "source": [
        "# cosine similarity of Training data for liar liar dataset\n",
        "from sklearn.metrics.pairwise import cosine_similarity\n",
        "from scipy import spatial\n",
        "lier_similarity_score = []\n",
        "for i in range(len(cleanLtrain_tfidf.toarray())):\n",
        "    lier_similarity_score.append(1 - spatial.distance.cosine(tf_idf_FN[0].toarray(), tfidf_cleanliar[i].toarray()))"
      ],
      "execution_count": null,
      "outputs": [
        {
          "output_type": "stream",
          "text": [
            "/usr/local/lib/python3.6/dist-packages/scipy/spatial/distance.py:720: RuntimeWarning: invalid value encountered in double_scalars\n",
            "  dist = 1.0 - uv / np.sqrt(uu * vv)\n"
          ],
          "name": "stderr"
        }
      ]
    },
    {
      "cell_type": "code",
      "metadata": {
        "id": "YeVLuM4vbmOU"
      },
      "source": [
        "#append the similarity_score to both liar liar dataset and kaggle fake news dataset for amalgamation\n",
        "df_Lier_clean['cosine_score'] = lier_similarity_score"
      ],
      "execution_count": null,
      "outputs": []
    },
    {
      "cell_type": "code",
      "metadata": {
        "colab": {
          "base_uri": "https://localhost:8080/"
        },
        "id": "_LuGawIL11Z8",
        "outputId": "d3bddbc0-d588-4b53-a80c-3f3a49445b3f"
      },
      "source": [
        "df_Lier_clean.cosine_score.unique()"
      ],
      "execution_count": null,
      "outputs": [
        {
          "output_type": "execute_result",
          "data": {
            "text/plain": [
              "array([0.03272167, 0.02711827, 0.00337809, ..., 0.0577276 , 0.06500244,\n",
              "       0.04966196])"
            ]
          },
          "metadata": {
            "tags": []
          },
          "execution_count": 56
        }
      ]
    },
    {
      "cell_type": "code",
      "metadata": {
        "colab": {
          "base_uri": "https://localhost:8080/"
        },
        "id": "ZCMm6Avafloi",
        "outputId": "f9310152-4202-4c0c-c819-2c29ea9a872e"
      },
      "source": [
        "df_Lier_clean.describe()"
      ],
      "execution_count": null,
      "outputs": [
        {
          "output_type": "execute_result",
          "data": {
            "application/vnd.google.colaboratory.module+javascript": "\n      import \"https://ssl.gstatic.com/colaboratory/data_table/a6224c040fa35dcf/data_table.js\";\n\n      window.createDataTable({\n        data: [[\"count\",\n{\n            'v': 18210.0,\n            'f': \"18210.0\",\n        },\n{\n            'v': 18210.0,\n            'f': \"18210.0\",\n        },\n{\n            'v': 18210.0,\n            'f': \"18210.0\",\n        },\n{\n            'v': 18210.0,\n            'f': \"18210.0\",\n        },\n{\n            'v': 18210.0,\n            'f': \"18210.0\",\n        },\n{\n            'v': 18210.0,\n            'f': \"18210.0\",\n        },\n{\n            'v': 18210.0,\n            'f': \"18210.0\",\n        },\n{\n            'v': 18210.0,\n            'f': \"18210.0\",\n        },\n{\n            'v': 18210.0,\n            'f': \"18210.0\",\n        },\n{\n            'v': 18210.0,\n            'f': \"18210.0\",\n        },\n{\n            'v': 18210.0,\n            'f': \"18210.0\",\n        },\n{\n            'v': 18208.0,\n            'f': \"18208.0\",\n        }],\n [\"mean\",\n{\n            'v': 9104.5,\n            'f': \"9104.5\",\n        },\n{\n            'v': 12.725809994508511,\n            'f': \"12.725809994508511\",\n        },\n{\n            'v': 16.815431081823174,\n            'f': \"16.815431081823174\",\n        },\n{\n            'v': 17.857825370675453,\n            'f': \"17.857825370675453\",\n        },\n{\n            'v': 16.243986820428336,\n            'f': \"16.243986820428336\",\n        },\n{\n            'v': 22.735749588138386,\n            'f': \"22.735749588138386\",\n        },\n{\n            'v': 11.738660076880835,\n            'f': \"11.738660076880835\",\n        },\n{\n            'v': 1.9961559582646897,\n            'f': \"1.9961559582646897\",\n        },\n{\n            'v': 9104.5,\n            'f': \"9104.5\",\n        },\n{\n            'v': 4.577594728171334,\n            'f': \"4.577594728171334\",\n        },\n{\n            'v': 0.6664404455868999,\n            'f': \"0.6664404455868999\",\n        },\n{\n            'v': 0.03265546135410223,\n            'f': \"0.03265546135410223\",\n        }],\n [\"std\",\n{\n            'v': 5256.918536557324,\n            'f': \"5256.918536557324\",\n        },\n{\n            'v': 18.80562971577067,\n            'f': \"18.80562971577067\",\n        },\n{\n            'v': 20.262431496442154,\n            'f': \"20.262431496442154\",\n        },\n{\n            'v': 19.78543939223404,\n            'f': \"19.78543939223404\",\n        },\n{\n            'v': 18.577599091770562,\n            'f': \"18.577599091770562\",\n        },\n{\n            'v': 22.57309558396772,\n            'f': \"22.57309558396772\",\n        },\n{\n            'v': 19.704758706868226,\n            'f': \"19.704758706868226\",\n        },\n{\n            'v': 13.903513592027794,\n            'f': \"13.903513592027794\",\n        },\n{\n            'v': 5256.918536557324,\n            'f': \"5256.918536557324\",\n        },\n{\n            'v': 2.8824600439073684,\n            'f': \"2.8824600439073684\",\n        },\n{\n            'v': 0.1726319443172275,\n            'f': \"0.1726319443172275\",\n        },\n{\n            'v': 0.028404993099827077,\n            'f': \"0.028404993099827077\",\n        }],\n [\"min\",\n{\n            'v': 0.0,\n            'f': \"0.0\",\n        },\n{\n            'v': 0.0,\n            'f': \"0.0\",\n        },\n{\n            'v': 0.0,\n            'f': \"0.0\",\n        },\n{\n            'v': 0.0,\n            'f': \"0.0\",\n        },\n{\n            'v': 0.0,\n            'f': \"0.0\",\n        },\n{\n            'v': 0.0,\n            'f': \"0.0\",\n        },\n{\n            'v': 0.0,\n            'f': \"0.0\",\n        },\n{\n            'v': 0.0,\n            'f': \"0.0\",\n        },\n{\n            'v': 0.0,\n            'f': \"0.0\",\n        },\n{\n            'v': 0.0,\n            'f': \"0.0\",\n        },\n{\n            'v': 0.10000000149011612,\n            'f': \"0.10000000149011612\",\n        },\n{\n            'v': 0.0,\n            'f': \"0.0\",\n        }],\n [\"25%\",\n{\n            'v': 4552.25,\n            'f': \"4552.25\",\n        },\n{\n            'v': 0.0,\n            'f': \"0.0\",\n        },\n{\n            'v': 1.0,\n            'f': \"1.0\",\n        },\n{\n            'v': 3.0,\n            'f': \"3.0\",\n        },\n{\n            'v': 0.0,\n            'f': \"0.0\",\n        },\n{\n            'v': 5.0,\n            'f': \"5.0\",\n        },\n{\n            'v': 0.0,\n            'f': \"0.0\",\n        },\n{\n            'v': 0.0,\n            'f': \"0.0\",\n        },\n{\n            'v': 4552.25,\n            'f': \"4552.25\",\n        },\n{\n            'v': 2.0,\n            'f': \"2.0\",\n        },\n{\n            'v': 0.5204007476568222,\n            'f': \"0.5204007476568222\",\n        },\n{\n            'v': 0.012506379156926678,\n            'f': \"0.012506379156926678\",\n        }],\n [\"50%\",\n{\n            'v': 9104.5,\n            'f': \"9104.5\",\n        },\n{\n            'v': 5.0,\n            'f': \"5.0\",\n        },\n{\n            'v': 11.0,\n            'f': \"11.0\",\n        },\n{\n            'v': 14.0,\n            'f': \"14.0\",\n        },\n{\n            'v': 14.0,\n            'f': \"14.0\",\n        },\n{\n            'v': 18.0,\n            'f': \"18.0\",\n        },\n{\n            'v': 3.0,\n            'f': \"3.0\",\n        },\n{\n            'v': 0.0,\n            'f': \"0.0\",\n        },\n{\n            'v': 9104.5,\n            'f': \"9104.5\",\n        },\n{\n            'v': 5.0,\n            'f': \"5.0\",\n        },\n{\n            'v': 0.6545194089412689,\n            'f': \"0.6545194089412689\",\n        },\n{\n            'v': 0.026080275581139012,\n            'f': \"0.026080275581139012\",\n        }],\n [\"75%\",\n{\n            'v': 13656.75,\n            'f': \"13656.75\",\n        },\n{\n            'v': 20.0,\n            'f': \"20.0\",\n        },\n{\n            'v': 25.0,\n            'f': \"25.0\",\n        },\n{\n            'v': 26.0,\n            'f': \"26.0\",\n        },\n{\n            'v': 20.0,\n            'f': \"20.0\",\n        },\n{\n            'v': 33.0,\n            'f': \"33.0\",\n        },\n{\n            'v': 16.0,\n            'f': \"16.0\",\n        },\n{\n            'v': 0.0,\n            'f': \"0.0\",\n        },\n{\n            'v': 13656.75,\n            'f': \"13656.75\",\n        },\n{\n            'v': 7.0,\n            'f': \"7.0\",\n        },\n{\n            'v': 0.8499410897493362,\n            'f': \"0.8499410897493362\",\n        },\n{\n            'v': 0.04473047279017123,\n            'f': \"0.04473047279017123\",\n        }],\n [\"max\",\n{\n            'v': 18209.0,\n            'f': \"18209.0\",\n        },\n{\n            'v': 100.0,\n            'f': \"100.0\",\n        },\n{\n            'v': 100.0,\n            'f': \"100.0\",\n        },\n{\n            'v': 100.0,\n            'f': \"100.0\",\n        },\n{\n            'v': 100.0,\n            'f': \"100.0\",\n        },\n{\n            'v': 100.0,\n            'f': \"100.0\",\n        },\n{\n            'v': 100.0,\n            'f': \"100.0\",\n        },\n{\n            'v': 100.0,\n            'f': \"100.0\",\n        },\n{\n            'v': 18209.0,\n            'f': \"18209.0\",\n        },\n{\n            'v': 9.0,\n            'f': \"9.0\",\n        },\n{\n            'v': 0.9653764963150024,\n            'f': \"0.9653764963150024\",\n        },\n{\n            'v': 0.3033704376791271,\n            'f': \"0.3033704376791271\",\n        }]],\n        columns: [[\"string\", \"level_0\"], [\"number\", \"Unnamed: 0\"], [\"number\", \"TRUE\"], [\"number\", \"MostlyTrue\"], [\"number\", \"HalfTrue\"], [\"number\", \"MostlyFalse\"], [\"number\", \"FALSE\"], [\"number\", \"PantOnFire\"], [\"number\", \"FakeScore\"], [\"number\", \"index\"], [\"number\", \"topic_number\"], [\"number\", \"lda_score\"], [\"number\", \"cosine_score\"]],\n        columnOptions: [{\"width\": \"1px\", \"className\": \"index_column\"}],\n        rowsPerPage: 25,\n        helpUrl: \"https://colab.research.google.com/notebooks/data_table.ipynb\",\n        suppressOutputScrolling: true,\n        minimumWidth: undefined,\n      });\n    ",
            "text/html": [
              "<div>\n",
              "<style scoped>\n",
              "    .dataframe tbody tr th:only-of-type {\n",
              "        vertical-align: middle;\n",
              "    }\n",
              "\n",
              "    .dataframe tbody tr th {\n",
              "        vertical-align: top;\n",
              "    }\n",
              "\n",
              "    .dataframe thead th {\n",
              "        text-align: right;\n",
              "    }\n",
              "</style>\n",
              "<table border=\"1\" class=\"dataframe\">\n",
              "  <thead>\n",
              "    <tr style=\"text-align: right;\">\n",
              "      <th></th>\n",
              "      <th>Unnamed: 0</th>\n",
              "      <th>TRUE</th>\n",
              "      <th>MostlyTrue</th>\n",
              "      <th>HalfTrue</th>\n",
              "      <th>MostlyFalse</th>\n",
              "      <th>FALSE</th>\n",
              "      <th>PantOnFire</th>\n",
              "      <th>FakeScore</th>\n",
              "      <th>index</th>\n",
              "      <th>topic_number</th>\n",
              "      <th>lda_score</th>\n",
              "      <th>cosine_score</th>\n",
              "    </tr>\n",
              "  </thead>\n",
              "  <tbody>\n",
              "    <tr>\n",
              "      <th>count</th>\n",
              "      <td>18210.000000</td>\n",
              "      <td>18210.00000</td>\n",
              "      <td>18210.000000</td>\n",
              "      <td>18210.000000</td>\n",
              "      <td>18210.000000</td>\n",
              "      <td>18210.000000</td>\n",
              "      <td>18210.000000</td>\n",
              "      <td>18210.000000</td>\n",
              "      <td>18210.000000</td>\n",
              "      <td>18210.000000</td>\n",
              "      <td>18210.000000</td>\n",
              "      <td>18208.000000</td>\n",
              "    </tr>\n",
              "    <tr>\n",
              "      <th>mean</th>\n",
              "      <td>9104.500000</td>\n",
              "      <td>12.72581</td>\n",
              "      <td>16.815431</td>\n",
              "      <td>17.857825</td>\n",
              "      <td>16.243987</td>\n",
              "      <td>22.735750</td>\n",
              "      <td>11.738660</td>\n",
              "      <td>1.996156</td>\n",
              "      <td>9104.500000</td>\n",
              "      <td>4.577595</td>\n",
              "      <td>0.666440</td>\n",
              "      <td>0.032655</td>\n",
              "    </tr>\n",
              "    <tr>\n",
              "      <th>std</th>\n",
              "      <td>5256.918537</td>\n",
              "      <td>18.80563</td>\n",
              "      <td>20.262431</td>\n",
              "      <td>19.785439</td>\n",
              "      <td>18.577599</td>\n",
              "      <td>22.573096</td>\n",
              "      <td>19.704759</td>\n",
              "      <td>13.903514</td>\n",
              "      <td>5256.918537</td>\n",
              "      <td>2.882460</td>\n",
              "      <td>0.172632</td>\n",
              "      <td>0.028405</td>\n",
              "    </tr>\n",
              "    <tr>\n",
              "      <th>min</th>\n",
              "      <td>0.000000</td>\n",
              "      <td>0.00000</td>\n",
              "      <td>0.000000</td>\n",
              "      <td>0.000000</td>\n",
              "      <td>0.000000</td>\n",
              "      <td>0.000000</td>\n",
              "      <td>0.000000</td>\n",
              "      <td>0.000000</td>\n",
              "      <td>0.000000</td>\n",
              "      <td>0.000000</td>\n",
              "      <td>0.100000</td>\n",
              "      <td>0.000000</td>\n",
              "    </tr>\n",
              "    <tr>\n",
              "      <th>25%</th>\n",
              "      <td>4552.250000</td>\n",
              "      <td>0.00000</td>\n",
              "      <td>1.000000</td>\n",
              "      <td>3.000000</td>\n",
              "      <td>0.000000</td>\n",
              "      <td>5.000000</td>\n",
              "      <td>0.000000</td>\n",
              "      <td>0.000000</td>\n",
              "      <td>4552.250000</td>\n",
              "      <td>2.000000</td>\n",
              "      <td>0.520401</td>\n",
              "      <td>0.012506</td>\n",
              "    </tr>\n",
              "    <tr>\n",
              "      <th>50%</th>\n",
              "      <td>9104.500000</td>\n",
              "      <td>5.00000</td>\n",
              "      <td>11.000000</td>\n",
              "      <td>14.000000</td>\n",
              "      <td>14.000000</td>\n",
              "      <td>18.000000</td>\n",
              "      <td>3.000000</td>\n",
              "      <td>0.000000</td>\n",
              "      <td>9104.500000</td>\n",
              "      <td>5.000000</td>\n",
              "      <td>0.654519</td>\n",
              "      <td>0.026080</td>\n",
              "    </tr>\n",
              "    <tr>\n",
              "      <th>75%</th>\n",
              "      <td>13656.750000</td>\n",
              "      <td>20.00000</td>\n",
              "      <td>25.000000</td>\n",
              "      <td>26.000000</td>\n",
              "      <td>20.000000</td>\n",
              "      <td>33.000000</td>\n",
              "      <td>16.000000</td>\n",
              "      <td>0.000000</td>\n",
              "      <td>13656.750000</td>\n",
              "      <td>7.000000</td>\n",
              "      <td>0.849941</td>\n",
              "      <td>0.044730</td>\n",
              "    </tr>\n",
              "    <tr>\n",
              "      <th>max</th>\n",
              "      <td>18209.000000</td>\n",
              "      <td>100.00000</td>\n",
              "      <td>100.000000</td>\n",
              "      <td>100.000000</td>\n",
              "      <td>100.000000</td>\n",
              "      <td>100.000000</td>\n",
              "      <td>100.000000</td>\n",
              "      <td>100.000000</td>\n",
              "      <td>18209.000000</td>\n",
              "      <td>9.000000</td>\n",
              "      <td>0.965376</td>\n",
              "      <td>0.303370</td>\n",
              "    </tr>\n",
              "  </tbody>\n",
              "</table>\n",
              "</div>"
            ],
            "text/plain": [
              "         Unnamed: 0         TRUE  ...     lda_score  cosine_score\n",
              "count  18210.000000  18210.00000  ...  18210.000000  18208.000000\n",
              "mean   9104.500000   12.72581     ...  0.666440      0.032655    \n",
              "std    5256.918537   18.80563     ...  0.172632      0.028405    \n",
              "min    0.000000      0.00000      ...  0.100000      0.000000    \n",
              "25%    4552.250000   0.00000      ...  0.520401      0.012506    \n",
              "50%    9104.500000   5.00000      ...  0.654519      0.026080    \n",
              "75%    13656.750000  20.00000     ...  0.849941      0.044730    \n",
              "max    18209.000000  100.00000    ...  0.965376      0.303370    \n",
              "\n",
              "[8 rows x 12 columns]"
            ]
          },
          "metadata": {
            "tags": []
          },
          "execution_count": 57
        }
      ]
    },
    {
      "cell_type": "code",
      "metadata": {
        "id": "fgZz8vtKbmOZ",
        "colab": {
          "base_uri": "https://localhost:8080/"
        },
        "outputId": "31b4ec36-76fc-4e1d-9a65-053cfd89d66f"
      },
      "source": [
        "# Kaggle fake news dataset\n",
        "clean_similarity_score_fake = []\n",
        "for i in range(len(tf_idf_FN.toarray())):\n",
        "    clean_similarity_score_fake.append(1 - spatial.distance.cosine(tfidf_cleanliar[0].toarray(), tf_idf_FN[i].toarray()))"
      ],
      "execution_count": null,
      "outputs": [
        {
          "output_type": "stream",
          "text": [
            "/usr/local/lib/python3.6/dist-packages/scipy/spatial/distance.py:720: RuntimeWarning: invalid value encountered in double_scalars\n",
            "  dist = 1.0 - uv / np.sqrt(uu * vv)\n"
          ],
          "name": "stderr"
        }
      ]
    },
    {
      "cell_type": "code",
      "metadata": {
        "id": "h-cUWEywbmOc"
      },
      "source": [
        "df_FN_train['cosine_score'] = clean_similarity_score_fake"
      ],
      "execution_count": null,
      "outputs": []
    },
    {
      "cell_type": "code",
      "metadata": {
        "id": "qbQgAXztbmOe",
        "colab": {
          "base_uri": "https://localhost:8080/"
        },
        "outputId": "b3ac7cf2-9693-4c00-d119-a7ad041a8365"
      },
      "source": [
        "df_FN_train.describe()"
      ],
      "execution_count": null,
      "outputs": [
        {
          "output_type": "execute_result",
          "data": {
            "application/vnd.google.colaboratory.module+javascript": "\n      import \"https://ssl.gstatic.com/colaboratory/data_table/a6224c040fa35dcf/data_table.js\";\n\n      window.createDataTable({\n        data: [[\"count\",\n{\n            'v': 20800.0,\n            'f': \"20800.0\",\n        },\n{\n            'v': 20800.0,\n            'f': \"20800.0\",\n        },\n{\n            'v': 20616.0,\n            'f': \"20616.0\",\n        }],\n [\"mean\",\n{\n            'v': 10399.5,\n            'f': \"10399.5\",\n        },\n{\n            'v': 0.500625,\n            'f': \"0.500625\",\n        },\n{\n            'v': 0.020651988155029853,\n            'f': \"0.020651988155029853\",\n        }],\n [\"std\",\n{\n            'v': 6004.58713540462,\n            'f': \"6004.58713540462\",\n        },\n{\n            'v': 0.5000116290295746,\n            'f': \"0.5000116290295746\",\n        },\n{\n            'v': 0.02348242051079586,\n            'f': \"0.02348242051079586\",\n        }],\n [\"min\",\n{\n            'v': 0.0,\n            'f': \"0.0\",\n        },\n{\n            'v': 0.0,\n            'f': \"0.0\",\n        },\n{\n            'v': 0.0,\n            'f': \"0.0\",\n        }],\n [\"25%\",\n{\n            'v': 5199.75,\n            'f': \"5199.75\",\n        },\n{\n            'v': 0.0,\n            'f': \"0.0\",\n        },\n{\n            'v': 0.0035453945233862028,\n            'f': \"0.0035453945233862028\",\n        }],\n [\"50%\",\n{\n            'v': 10399.5,\n            'f': \"10399.5\",\n        },\n{\n            'v': 1.0,\n            'f': \"1.0\",\n        },\n{\n            'v': 0.014233975056440473,\n            'f': \"0.014233975056440473\",\n        }],\n [\"75%\",\n{\n            'v': 15599.25,\n            'f': \"15599.25\",\n        },\n{\n            'v': 1.0,\n            'f': \"1.0\",\n        },\n{\n            'v': 0.029387783470927242,\n            'f': \"0.029387783470927242\",\n        }],\n [\"max\",\n{\n            'v': 20799.0,\n            'f': \"20799.0\",\n        },\n{\n            'v': 1.0,\n            'f': \"1.0\",\n        },\n{\n            'v': 0.24027025999683316,\n            'f': \"0.24027025999683316\",\n        }]],\n        columns: [[\"string\", \"index\"], [\"number\", \"id\"], [\"number\", \"label\"], [\"number\", \"cosine_score\"]],\n        columnOptions: [{\"width\": \"1px\", \"className\": \"index_column\"}],\n        rowsPerPage: 25,\n        helpUrl: \"https://colab.research.google.com/notebooks/data_table.ipynb\",\n        suppressOutputScrolling: true,\n        minimumWidth: undefined,\n      });\n    ",
            "text/html": [
              "<div>\n",
              "<style scoped>\n",
              "    .dataframe tbody tr th:only-of-type {\n",
              "        vertical-align: middle;\n",
              "    }\n",
              "\n",
              "    .dataframe tbody tr th {\n",
              "        vertical-align: top;\n",
              "    }\n",
              "\n",
              "    .dataframe thead th {\n",
              "        text-align: right;\n",
              "    }\n",
              "</style>\n",
              "<table border=\"1\" class=\"dataframe\">\n",
              "  <thead>\n",
              "    <tr style=\"text-align: right;\">\n",
              "      <th></th>\n",
              "      <th>id</th>\n",
              "      <th>label</th>\n",
              "      <th>cosine_score</th>\n",
              "    </tr>\n",
              "  </thead>\n",
              "  <tbody>\n",
              "    <tr>\n",
              "      <th>count</th>\n",
              "      <td>20800.000000</td>\n",
              "      <td>20800.000000</td>\n",
              "      <td>20616.000000</td>\n",
              "    </tr>\n",
              "    <tr>\n",
              "      <th>mean</th>\n",
              "      <td>10399.500000</td>\n",
              "      <td>0.500625</td>\n",
              "      <td>0.020652</td>\n",
              "    </tr>\n",
              "    <tr>\n",
              "      <th>std</th>\n",
              "      <td>6004.587135</td>\n",
              "      <td>0.500012</td>\n",
              "      <td>0.023482</td>\n",
              "    </tr>\n",
              "    <tr>\n",
              "      <th>min</th>\n",
              "      <td>0.000000</td>\n",
              "      <td>0.000000</td>\n",
              "      <td>0.000000</td>\n",
              "    </tr>\n",
              "    <tr>\n",
              "      <th>25%</th>\n",
              "      <td>5199.750000</td>\n",
              "      <td>0.000000</td>\n",
              "      <td>0.003545</td>\n",
              "    </tr>\n",
              "    <tr>\n",
              "      <th>50%</th>\n",
              "      <td>10399.500000</td>\n",
              "      <td>1.000000</td>\n",
              "      <td>0.014234</td>\n",
              "    </tr>\n",
              "    <tr>\n",
              "      <th>75%</th>\n",
              "      <td>15599.250000</td>\n",
              "      <td>1.000000</td>\n",
              "      <td>0.029388</td>\n",
              "    </tr>\n",
              "    <tr>\n",
              "      <th>max</th>\n",
              "      <td>20799.000000</td>\n",
              "      <td>1.000000</td>\n",
              "      <td>0.240270</td>\n",
              "    </tr>\n",
              "  </tbody>\n",
              "</table>\n",
              "</div>"
            ],
            "text/plain": [
              "                 id         label  cosine_score\n",
              "count  20800.000000  20800.000000  20616.000000\n",
              "mean   10399.500000  0.500625      0.020652    \n",
              "std    6004.587135   0.500012      0.023482    \n",
              "min    0.000000      0.000000      0.000000    \n",
              "25%    5199.750000   0.000000      0.003545    \n",
              "50%    10399.500000  1.000000      0.014234    \n",
              "75%    15599.250000  1.000000      0.029388    \n",
              "max    20799.000000  1.000000      0.240270    "
            ]
          },
          "metadata": {
            "tags": []
          },
          "execution_count": 60
        }
      ]
    },
    {
      "cell_type": "code",
      "metadata": {
        "id": "27xkhOE0bmOh"
      },
      "source": [
        "df_Lier_clean = df_Lier_clean.dropna(0)\n",
        "df_FN_train = df_FN_train.dropna(0)"
      ],
      "execution_count": null,
      "outputs": []
    },
    {
      "cell_type": "code",
      "metadata": {
        "id": "fxFBPexCbmOk",
        "colab": {
          "base_uri": "https://localhost:8080/"
        },
        "outputId": "d9abd049-0a71-4613-8d65-915d45021595"
      },
      "source": [
        "df_Lier_clean.shape"
      ],
      "execution_count": null,
      "outputs": [
        {
          "output_type": "execute_result",
          "data": {
            "text/plain": [
              "(12458, 21)"
            ]
          },
          "metadata": {
            "tags": []
          },
          "execution_count": 62
        }
      ]
    },
    {
      "cell_type": "code",
      "metadata": {
        "id": "bjFBH41jbmOm",
        "colab": {
          "base_uri": "https://localhost:8080/"
        },
        "outputId": "ec85bb1d-b8e8-461b-e687-9ca4decc8884"
      },
      "source": [
        "df_FN_train.shape"
      ],
      "execution_count": null,
      "outputs": [
        {
          "output_type": "execute_result",
          "data": {
            "text/plain": [
              "(18197, 6)"
            ]
          },
          "metadata": {
            "tags": []
          },
          "execution_count": 63
        }
      ]
    },
    {
      "cell_type": "markdown",
      "metadata": {
        "id": "rgDAQgaegKg2"
      },
      "source": [
        "## Amalgamation"
      ]
    },
    {
      "cell_type": "markdown",
      "metadata": {
        "id": "f5AQRe1cgKg2"
      },
      "source": [
        "### Lier"
      ]
    },
    {
      "cell_type": "code",
      "metadata": {
        "colab": {
          "base_uri": "https://localhost:8080/"
        },
        "id": "MUah-WbjgKg2",
        "outputId": "bf348947-68b9-4d1d-ab91-0f2b00891cb1"
      },
      "source": [
        "df_Lier_clean.to_csv('df_lier_cosine.csv')\n",
        "files.download('df_lier_cosine.csv')"
      ],
      "execution_count": null,
      "outputs": [
        {
          "output_type": "display_data",
          "data": {
            "application/javascript": [
              "\n",
              "    async function download(id, filename, size) {\n",
              "      if (!google.colab.kernel.accessAllowed) {\n",
              "        return;\n",
              "      }\n",
              "      const div = document.createElement('div');\n",
              "      const label = document.createElement('label');\n",
              "      label.textContent = `Downloading \"${filename}\": `;\n",
              "      div.appendChild(label);\n",
              "      const progress = document.createElement('progress');\n",
              "      progress.max = size;\n",
              "      div.appendChild(progress);\n",
              "      document.body.appendChild(div);\n",
              "\n",
              "      const buffers = [];\n",
              "      let downloaded = 0;\n",
              "\n",
              "      const channel = await google.colab.kernel.comms.open(id);\n",
              "      // Send a message to notify the kernel that we're ready.\n",
              "      channel.send({})\n",
              "\n",
              "      for await (const message of channel.messages) {\n",
              "        // Send a message to notify the kernel that we're ready.\n",
              "        channel.send({})\n",
              "        if (message.buffers) {\n",
              "          for (const buffer of message.buffers) {\n",
              "            buffers.push(buffer);\n",
              "            downloaded += buffer.byteLength;\n",
              "            progress.value = downloaded;\n",
              "          }\n",
              "        }\n",
              "      }\n",
              "      const blob = new Blob(buffers, {type: 'application/binary'});\n",
              "      const a = document.createElement('a');\n",
              "      a.href = window.URL.createObjectURL(blob);\n",
              "      a.download = filename;\n",
              "      div.appendChild(a);\n",
              "      a.click();\n",
              "      div.remove();\n",
              "    }\n",
              "  "
            ],
            "text/plain": [
              "<IPython.core.display.Javascript object>"
            ]
          },
          "metadata": {
            "tags": []
          }
        },
        {
          "output_type": "display_data",
          "data": {
            "application/javascript": [
              "download(\"download_b48ef199-9117-4156-9591-118b2f1d63ac\", \"df_lier_cosine.csv\", 6548186)"
            ],
            "text/plain": [
              "<IPython.core.display.Javascript object>"
            ]
          },
          "metadata": {
            "tags": []
          }
        }
      ]
    },
    {
      "cell_type": "code",
      "metadata": {
        "colab": {
          "base_uri": "https://localhost:8080/"
        },
        "id": "OC3UbU1ogKg3",
        "outputId": "cb2e5b17-8953-41cb-c319-8228373e5a38"
      },
      "source": [
        "df_Lier_clean.shape"
      ],
      "execution_count": null,
      "outputs": [
        {
          "output_type": "execute_result",
          "data": {
            "text/plain": [
              "(12458, 21)"
            ]
          },
          "metadata": {
            "tags": []
          },
          "execution_count": 65
        }
      ]
    },
    {
      "cell_type": "code",
      "metadata": {
        "id": "L_3uft2RgKg3"
      },
      "source": [
        "df_Liertrim = df_Lier_clean[df_Lier_clean.cosine_score != 0]"
      ],
      "execution_count": null,
      "outputs": []
    },
    {
      "cell_type": "code",
      "metadata": {
        "colab": {
          "base_uri": "https://localhost:8080/"
        },
        "id": "dL8FFTNegKg3",
        "outputId": "4f6c832a-7362-4b46-fd06-f4340a072e1c"
      },
      "source": [
        "df_Liertrim.shape"
      ],
      "execution_count": null,
      "outputs": [
        {
          "output_type": "execute_result",
          "data": {
            "text/plain": [
              "(11743, 21)"
            ]
          },
          "metadata": {
            "tags": []
          },
          "execution_count": 67
        }
      ]
    },
    {
      "cell_type": "code",
      "metadata": {
        "colab": {
          "base_uri": "https://localhost:8080/"
        },
        "id": "r0IefdXkgKg3",
        "outputId": "b87c3bce-e06a-4770-8631-48708ac8ddaf"
      },
      "source": [
        "df_Liertrim.describe()"
      ],
      "execution_count": null,
      "outputs": [
        {
          "output_type": "execute_result",
          "data": {
            "application/vnd.google.colaboratory.module+javascript": "\n      import \"https://ssl.gstatic.com/colaboratory/data_table/a6224c040fa35dcf/data_table.js\";\n\n      window.createDataTable({\n        data: [[\"count\",\n{\n            'v': 11743.0,\n            'f': \"11743.0\",\n        },\n{\n            'v': 11743.0,\n            'f': \"11743.0\",\n        },\n{\n            'v': 11743.0,\n            'f': \"11743.0\",\n        },\n{\n            'v': 11743.0,\n            'f': \"11743.0\",\n        },\n{\n            'v': 11743.0,\n            'f': \"11743.0\",\n        },\n{\n            'v': 11743.0,\n            'f': \"11743.0\",\n        },\n{\n            'v': 11743.0,\n            'f': \"11743.0\",\n        },\n{\n            'v': 11743.0,\n            'f': \"11743.0\",\n        },\n{\n            'v': 11743.0,\n            'f': \"11743.0\",\n        },\n{\n            'v': 11743.0,\n            'f': \"11743.0\",\n        },\n{\n            'v': 11743.0,\n            'f': \"11743.0\",\n        },\n{\n            'v': 11743.0,\n            'f': \"11743.0\",\n        }],\n [\"mean\",\n{\n            'v': 9295.64012603253,\n            'f': \"9295.64012603253\",\n        },\n{\n            'v': 13.736098100996339,\n            'f': \"13.736098100996339\",\n        },\n{\n            'v': 17.83011155582049,\n            'f': \"17.83011155582049\",\n        },\n{\n            'v': 18.534446052967727,\n            'f': \"18.534446052967727\",\n        },\n{\n            'v': 16.85157114876948,\n            'f': \"16.85157114876948\",\n        },\n{\n            'v': 22.064889721536236,\n            'f': \"22.064889721536236\",\n        },\n{\n            'v': 9.113344119901218,\n            'f': \"9.113344119901218\",\n        },\n{\n            'v': 1.690368730307417,\n            'f': \"1.690368730307417\",\n        },\n{\n            'v': 9295.64012603253,\n            'f': \"9295.64012603253\",\n        },\n{\n            'v': 4.591671634165034,\n            'f': \"4.591671634165034\",\n        },\n{\n            'v': 0.6670193866962449,\n            'f': \"0.6670193866962449\",\n        },\n{\n            'v': 0.03503310200971904,\n            'f': \"0.03503310200971904\",\n        }],\n [\"std\",\n{\n            'v': 5171.055822422976,\n            'f': \"5171.055822422976\",\n        },\n{\n            'v': 18.609733773220015,\n            'f': \"18.609733773220015\",\n        },\n{\n            'v': 19.404255452537317,\n            'f': \"19.404255452537317\",\n        },\n{\n            'v': 18.61363388556339,\n            'f': \"18.61363388556339\",\n        },\n{\n            'v': 17.770888756158982,\n            'f': \"17.770888756158982\",\n        },\n{\n            'v': 21.51624847791651,\n            'f': \"21.51624847791651\",\n        },\n{\n            'v': 15.99918596490087,\n            'f': \"15.99918596490087\",\n        },\n{\n            'v': 12.850257762792193,\n            'f': \"12.850257762792193\",\n        },\n{\n            'v': 5171.055822422976,\n            'f': \"5171.055822422976\",\n        },\n{\n            'v': 2.8719487075496017,\n            'f': \"2.8719487075496017\",\n        },\n{\n            'v': 0.1726344208958266,\n            'f': \"0.1726344208958266\",\n        },\n{\n            'v': 0.028078759124590635,\n            'f': \"0.028078759124590635\",\n        }],\n [\"min\",\n{\n            'v': 4.0,\n            'f': \"4.0\",\n        },\n{\n            'v': 0.0,\n            'f': \"0.0\",\n        },\n{\n            'v': 0.0,\n            'f': \"0.0\",\n        },\n{\n            'v': 0.0,\n            'f': \"0.0\",\n        },\n{\n            'v': 0.0,\n            'f': \"0.0\",\n        },\n{\n            'v': 0.0,\n            'f': \"0.0\",\n        },\n{\n            'v': 0.0,\n            'f': \"0.0\",\n        },\n{\n            'v': 0.0,\n            'f': \"0.0\",\n        },\n{\n            'v': 4.0,\n            'f': \"4.0\",\n        },\n{\n            'v': 0.0,\n            'f': \"0.0\",\n        },\n{\n            'v': 0.10000000149011612,\n            'f': \"0.10000000149011612\",\n        },\n{\n            'v': 0.0011370819804542576,\n            'f': \"0.0011370819804542576\",\n        }],\n [\"25%\",\n{\n            'v': 5038.0,\n            'f': \"5038.0\",\n        },\n{\n            'v': 0.0,\n            'f': \"0.0\",\n        },\n{\n            'v': 3.0,\n            'f': \"3.0\",\n        },\n{\n            'v': 7.0,\n            'f': \"7.0\",\n        },\n{\n            'v': 7.0,\n            'f': \"7.0\",\n        },\n{\n            'v': 7.0,\n            'f': \"7.0\",\n        },\n{\n            'v': 0.0,\n            'f': \"0.0\",\n        },\n{\n            'v': 0.0,\n            'f': \"0.0\",\n        },\n{\n            'v': 5038.0,\n            'f': \"5038.0\",\n        },\n{\n            'v': 2.0,\n            'f': \"2.0\",\n        },\n{\n            'v': 0.5189483761787415,\n            'f': \"0.5189483761787415\",\n        },\n{\n            'v': 0.01515722991604973,\n            'f': \"0.01515722991604973\",\n        }],\n [\"50%\",\n{\n            'v': 9408.0,\n            'f': \"9408.0\",\n        },\n{\n            'v': 9.0,\n            'f': \"9.0\",\n        },\n{\n            'v': 15.0,\n            'f': \"15.0\",\n        },\n{\n            'v': 16.0,\n            'f': \"16.0\",\n        },\n{\n            'v': 14.0,\n            'f': \"14.0\",\n        },\n{\n            'v': 17.0,\n            'f': \"17.0\",\n        },\n{\n            'v': 3.0,\n            'f': \"3.0\",\n        },\n{\n            'v': 0.0,\n            'f': \"0.0\",\n        },\n{\n            'v': 9408.0,\n            'f': \"9408.0\",\n        },\n{\n            'v': 5.0,\n            'f': \"5.0\",\n        },\n{\n            'v': 0.6530172228813171,\n            'f': \"0.6530172228813171\",\n        },\n{\n            'v': 0.027915300094538464,\n            'f': \"0.027915300094538464\",\n        }],\n [\"75%\",\n{\n            'v': 13706.5,\n            'f': \"13706.5\",\n        },\n{\n            'v': 20.0,\n            'f': \"20.0\",\n        },\n{\n            'v': 25.0,\n            'f': \"25.0\",\n        },\n{\n            'v': 26.0,\n            'f': \"26.0\",\n        },\n{\n            'v': 20.0,\n            'f': \"20.0\",\n        },\n{\n            'v': 36.0,\n            'f': \"36.0\",\n        },\n{\n            'v': 14.0,\n            'f': \"14.0\",\n        },\n{\n            'v': 0.0,\n            'f': \"0.0\",\n        },\n{\n            'v': 13706.5,\n            'f': \"13706.5\",\n        },\n{\n            'v': 7.0,\n            'f': \"7.0\",\n        },\n{\n            'v': 0.8499550223350525,\n            'f': \"0.8499550223350525\",\n        },\n{\n            'v': 0.04663526775872534,\n            'f': \"0.04663526775872534\",\n        }],\n [\"max\",\n{\n            'v': 18209.0,\n            'f': \"18209.0\",\n        },\n{\n            'v': 100.0,\n            'f': \"100.0\",\n        },\n{\n            'v': 100.0,\n            'f': \"100.0\",\n        },\n{\n            'v': 100.0,\n            'f': \"100.0\",\n        },\n{\n            'v': 100.0,\n            'f': \"100.0\",\n        },\n{\n            'v': 100.0,\n            'f': \"100.0\",\n        },\n{\n            'v': 100.0,\n            'f': \"100.0\",\n        },\n{\n            'v': 100.0,\n            'f': \"100.0\",\n        },\n{\n            'v': 18209.0,\n            'f': \"18209.0\",\n        },\n{\n            'v': 9.0,\n            'f': \"9.0\",\n        },\n{\n            'v': 0.9608615636825562,\n            'f': \"0.9608615636825562\",\n        },\n{\n            'v': 0.2384697713263082,\n            'f': \"0.2384697713263082\",\n        }]],\n        columns: [[\"string\", \"level_0\"], [\"number\", \"Unnamed: 0\"], [\"number\", \"TRUE\"], [\"number\", \"MostlyTrue\"], [\"number\", \"HalfTrue\"], [\"number\", \"MostlyFalse\"], [\"number\", \"FALSE\"], [\"number\", \"PantOnFire\"], [\"number\", \"FakeScore\"], [\"number\", \"index\"], [\"number\", \"topic_number\"], [\"number\", \"lda_score\"], [\"number\", \"cosine_score\"]],\n        columnOptions: [{\"width\": \"1px\", \"className\": \"index_column\"}],\n        rowsPerPage: 25,\n        helpUrl: \"https://colab.research.google.com/notebooks/data_table.ipynb\",\n        suppressOutputScrolling: true,\n        minimumWidth: undefined,\n      });\n    ",
            "text/html": [
              "<div>\n",
              "<style scoped>\n",
              "    .dataframe tbody tr th:only-of-type {\n",
              "        vertical-align: middle;\n",
              "    }\n",
              "\n",
              "    .dataframe tbody tr th {\n",
              "        vertical-align: top;\n",
              "    }\n",
              "\n",
              "    .dataframe thead th {\n",
              "        text-align: right;\n",
              "    }\n",
              "</style>\n",
              "<table border=\"1\" class=\"dataframe\">\n",
              "  <thead>\n",
              "    <tr style=\"text-align: right;\">\n",
              "      <th></th>\n",
              "      <th>Unnamed: 0</th>\n",
              "      <th>TRUE</th>\n",
              "      <th>MostlyTrue</th>\n",
              "      <th>HalfTrue</th>\n",
              "      <th>MostlyFalse</th>\n",
              "      <th>FALSE</th>\n",
              "      <th>PantOnFire</th>\n",
              "      <th>FakeScore</th>\n",
              "      <th>index</th>\n",
              "      <th>topic_number</th>\n",
              "      <th>lda_score</th>\n",
              "      <th>cosine_score</th>\n",
              "    </tr>\n",
              "  </thead>\n",
              "  <tbody>\n",
              "    <tr>\n",
              "      <th>count</th>\n",
              "      <td>11743.000000</td>\n",
              "      <td>11743.000000</td>\n",
              "      <td>11743.000000</td>\n",
              "      <td>11743.000000</td>\n",
              "      <td>11743.000000</td>\n",
              "      <td>11743.000000</td>\n",
              "      <td>11743.000000</td>\n",
              "      <td>11743.000000</td>\n",
              "      <td>11743.000000</td>\n",
              "      <td>11743.000000</td>\n",
              "      <td>11743.000000</td>\n",
              "      <td>11743.000000</td>\n",
              "    </tr>\n",
              "    <tr>\n",
              "      <th>mean</th>\n",
              "      <td>9295.640126</td>\n",
              "      <td>13.736098</td>\n",
              "      <td>17.830112</td>\n",
              "      <td>18.534446</td>\n",
              "      <td>16.851571</td>\n",
              "      <td>22.064890</td>\n",
              "      <td>9.113344</td>\n",
              "      <td>1.690369</td>\n",
              "      <td>9295.640126</td>\n",
              "      <td>4.591672</td>\n",
              "      <td>0.667019</td>\n",
              "      <td>0.035033</td>\n",
              "    </tr>\n",
              "    <tr>\n",
              "      <th>std</th>\n",
              "      <td>5171.055822</td>\n",
              "      <td>18.609734</td>\n",
              "      <td>19.404255</td>\n",
              "      <td>18.613634</td>\n",
              "      <td>17.770889</td>\n",
              "      <td>21.516248</td>\n",
              "      <td>15.999186</td>\n",
              "      <td>12.850258</td>\n",
              "      <td>5171.055822</td>\n",
              "      <td>2.871949</td>\n",
              "      <td>0.172634</td>\n",
              "      <td>0.028079</td>\n",
              "    </tr>\n",
              "    <tr>\n",
              "      <th>min</th>\n",
              "      <td>4.000000</td>\n",
              "      <td>0.000000</td>\n",
              "      <td>0.000000</td>\n",
              "      <td>0.000000</td>\n",
              "      <td>0.000000</td>\n",
              "      <td>0.000000</td>\n",
              "      <td>0.000000</td>\n",
              "      <td>0.000000</td>\n",
              "      <td>4.000000</td>\n",
              "      <td>0.000000</td>\n",
              "      <td>0.100000</td>\n",
              "      <td>0.001137</td>\n",
              "    </tr>\n",
              "    <tr>\n",
              "      <th>25%</th>\n",
              "      <td>5038.000000</td>\n",
              "      <td>0.000000</td>\n",
              "      <td>3.000000</td>\n",
              "      <td>7.000000</td>\n",
              "      <td>7.000000</td>\n",
              "      <td>7.000000</td>\n",
              "      <td>0.000000</td>\n",
              "      <td>0.000000</td>\n",
              "      <td>5038.000000</td>\n",
              "      <td>2.000000</td>\n",
              "      <td>0.518948</td>\n",
              "      <td>0.015157</td>\n",
              "    </tr>\n",
              "    <tr>\n",
              "      <th>50%</th>\n",
              "      <td>9408.000000</td>\n",
              "      <td>9.000000</td>\n",
              "      <td>15.000000</td>\n",
              "      <td>16.000000</td>\n",
              "      <td>14.000000</td>\n",
              "      <td>17.000000</td>\n",
              "      <td>3.000000</td>\n",
              "      <td>0.000000</td>\n",
              "      <td>9408.000000</td>\n",
              "      <td>5.000000</td>\n",
              "      <td>0.653017</td>\n",
              "      <td>0.027915</td>\n",
              "    </tr>\n",
              "    <tr>\n",
              "      <th>75%</th>\n",
              "      <td>13706.500000</td>\n",
              "      <td>20.000000</td>\n",
              "      <td>25.000000</td>\n",
              "      <td>26.000000</td>\n",
              "      <td>20.000000</td>\n",
              "      <td>36.000000</td>\n",
              "      <td>14.000000</td>\n",
              "      <td>0.000000</td>\n",
              "      <td>13706.500000</td>\n",
              "      <td>7.000000</td>\n",
              "      <td>0.849955</td>\n",
              "      <td>0.046635</td>\n",
              "    </tr>\n",
              "    <tr>\n",
              "      <th>max</th>\n",
              "      <td>18209.000000</td>\n",
              "      <td>100.000000</td>\n",
              "      <td>100.000000</td>\n",
              "      <td>100.000000</td>\n",
              "      <td>100.000000</td>\n",
              "      <td>100.000000</td>\n",
              "      <td>100.000000</td>\n",
              "      <td>100.000000</td>\n",
              "      <td>18209.000000</td>\n",
              "      <td>9.000000</td>\n",
              "      <td>0.960862</td>\n",
              "      <td>0.238470</td>\n",
              "    </tr>\n",
              "  </tbody>\n",
              "</table>\n",
              "</div>"
            ],
            "text/plain": [
              "         Unnamed: 0          TRUE  ...     lda_score  cosine_score\n",
              "count  11743.000000  11743.000000  ...  11743.000000  11743.000000\n",
              "mean   9295.640126   13.736098     ...  0.667019      0.035033    \n",
              "std    5171.055822   18.609734     ...  0.172634      0.028079    \n",
              "min    4.000000      0.000000      ...  0.100000      0.001137    \n",
              "25%    5038.000000   0.000000      ...  0.518948      0.015157    \n",
              "50%    9408.000000   9.000000      ...  0.653017      0.027915    \n",
              "75%    13706.500000  20.000000     ...  0.849955      0.046635    \n",
              "max    18209.000000  100.000000    ...  0.960862      0.238470    \n",
              "\n",
              "[8 rows x 12 columns]"
            ]
          },
          "metadata": {
            "tags": []
          },
          "execution_count": 68
        }
      ]
    },
    {
      "cell_type": "markdown",
      "metadata": {
        "id": "ZUIfFd6JgKg3"
      },
      "source": [
        "### FakeNews"
      ]
    },
    {
      "cell_type": "code",
      "metadata": {
        "colab": {
          "base_uri": "https://localhost:8080/",
          "height": 33
        },
        "id": "E--MyZH-gKg3",
        "outputId": "2cc8dd37-7d4a-468a-e2b0-8c0df61eda1c"
      },
      "source": [
        "# df_FN_train.to_csv('df_fake_cosine.csv')\n",
        "# files.download('df_fake_cosine.csv')"
      ],
      "execution_count": null,
      "outputs": [
        {
          "output_type": "display_data",
          "data": {
            "application/javascript": [
              "\n",
              "    async function download(id, filename, size) {\n",
              "      if (!google.colab.kernel.accessAllowed) {\n",
              "        return;\n",
              "      }\n",
              "      const div = document.createElement('div');\n",
              "      const label = document.createElement('label');\n",
              "      label.textContent = `Downloading \"${filename}\": `;\n",
              "      div.appendChild(label);\n",
              "      const progress = document.createElement('progress');\n",
              "      progress.max = size;\n",
              "      div.appendChild(progress);\n",
              "      document.body.appendChild(div);\n",
              "\n",
              "      const buffers = [];\n",
              "      let downloaded = 0;\n",
              "\n",
              "      const channel = await google.colab.kernel.comms.open(id);\n",
              "      // Send a message to notify the kernel that we're ready.\n",
              "      channel.send({})\n",
              "\n",
              "      for await (const message of channel.messages) {\n",
              "        // Send a message to notify the kernel that we're ready.\n",
              "        channel.send({})\n",
              "        if (message.buffers) {\n",
              "          for (const buffer of message.buffers) {\n",
              "            buffers.push(buffer);\n",
              "            downloaded += buffer.byteLength;\n",
              "            progress.value = downloaded;\n",
              "          }\n",
              "        }\n",
              "      }\n",
              "      const blob = new Blob(buffers, {type: 'application/binary'});\n",
              "      const a = document.createElement('a');\n",
              "      a.href = window.URL.createObjectURL(blob);\n",
              "      a.download = filename;\n",
              "      div.appendChild(a);\n",
              "      a.click();\n",
              "      div.remove();\n",
              "    }\n",
              "  "
            ],
            "text/plain": [
              "<IPython.core.display.Javascript object>"
            ]
          },
          "metadata": {
            "tags": []
          }
        },
        {
          "output_type": "display_data",
          "data": {
            "application/javascript": [
              "download(\"download_2cd5492f-68aa-4dd7-a8e8-395fc655ad0b\", \"df_fake_cosine.csv\", 91656230)"
            ],
            "text/plain": [
              "<IPython.core.display.Javascript object>"
            ]
          },
          "metadata": {
            "tags": []
          }
        }
      ]
    },
    {
      "cell_type": "code",
      "metadata": {
        "colab": {
          "base_uri": "https://localhost:8080/"
        },
        "id": "5ilgE0qYgKg3",
        "outputId": "a5739abd-6185-4f8d-b1ac-4e940cd27c5e"
      },
      "source": [
        "df_FN_train.shape"
      ],
      "execution_count": null,
      "outputs": [
        {
          "output_type": "execute_result",
          "data": {
            "text/plain": [
              "(18197, 6)"
            ]
          },
          "metadata": {
            "tags": []
          },
          "execution_count": 71
        }
      ]
    },
    {
      "cell_type": "code",
      "metadata": {
        "id": "fL7ckmllgKg4"
      },
      "source": [
        "df_Faketrim = df_FN_train[df_FN_train.cosine_score != 0]"
      ],
      "execution_count": null,
      "outputs": []
    },
    {
      "cell_type": "code",
      "metadata": {
        "colab": {
          "base_uri": "https://localhost:8080/"
        },
        "id": "8XXdEo5QgKg4",
        "outputId": "c3f6f7e2-ed46-4bd6-ba8c-19595312091f"
      },
      "source": [
        "df_Faketrim.shape"
      ],
      "execution_count": null,
      "outputs": [
        {
          "output_type": "execute_result",
          "data": {
            "text/plain": [
              "(14513, 6)"
            ]
          },
          "metadata": {
            "tags": []
          },
          "execution_count": 73
        }
      ]
    },
    {
      "cell_type": "code",
      "metadata": {
        "colab": {
          "base_uri": "https://localhost:8080/",
          "height": 236
        },
        "id": "RutCYiRggKg4",
        "outputId": "b50d0f77-0958-4c41-c5a5-d4a3313065dc"
      },
      "source": [
        "df_Faketrim.describe()"
      ],
      "execution_count": null,
      "outputs": [
        {
          "output_type": "execute_result",
          "data": {
            "application/vnd.google.colaboratory.module+javascript": "\n      import \"https://ssl.gstatic.com/colaboratory/data_table/a6224c040fa35dcf/data_table.js\";\n\n      window.createDataTable({\n        data: [[\"count\",\n{\n            'v': 14513.0,\n            'f': \"14513.0\",\n        },\n{\n            'v': 14513.0,\n            'f': \"14513.0\",\n        },\n{\n            'v': 14513.0,\n            'f': \"14513.0\",\n        }],\n [\"mean\",\n{\n            'v': 10374.088472404052,\n            'f': \"10374.088472404052\",\n        },\n{\n            'v': 0.3935092675532281,\n            'f': \"0.3935092675532281\",\n        },\n{\n            'v': 0.02601790181268927,\n            'f': \"0.02601790181268927\",\n        }],\n [\"std\",\n{\n            'v': 5992.072854612462,\n            'f': \"5992.072854612462\",\n        },\n{\n            'v': 0.4885449514467153,\n            'f': \"0.4885449514467153\",\n        },\n{\n            'v': 0.02269542267070896,\n            'f': \"0.02269542267070896\",\n        }],\n [\"min\",\n{\n            'v': 0.0,\n            'f': \"0.0\",\n        },\n{\n            'v': 0.0,\n            'f': \"0.0\",\n        },\n{\n            'v': 0.0009641208688270231,\n            'f': \"0.0009641208688270231\",\n        }],\n [\"25%\",\n{\n            'v': 5186.0,\n            'f': \"5186.0\",\n        },\n{\n            'v': 0.0,\n            'f': \"0.0\",\n        },\n{\n            'v': 0.010576894781627266,\n            'f': \"0.010576894781627266\",\n        }],\n [\"50%\",\n{\n            'v': 10351.0,\n            'f': \"10351.0\",\n        },\n{\n            'v': 0.0,\n            'f': \"0.0\",\n        },\n{\n            'v': 0.01951730717018718,\n            'f': \"0.01951730717018718\",\n        }],\n [\"75%\",\n{\n            'v': 15547.0,\n            'f': \"15547.0\",\n        },\n{\n            'v': 1.0,\n            'f': \"1.0\",\n        },\n{\n            'v': 0.0339053207194312,\n            'f': \"0.0339053207194312\",\n        }],\n [\"max\",\n{\n            'v': 20799.0,\n            'f': \"20799.0\",\n        },\n{\n            'v': 1.0,\n            'f': \"1.0\",\n        },\n{\n            'v': 0.24027025999683316,\n            'f': \"0.24027025999683316\",\n        }]],\n        columns: [[\"string\", \"index\"], [\"number\", \"id\"], [\"number\", \"label\"], [\"number\", \"cosine_score\"]],\n        columnOptions: [{\"width\": \"1px\", \"className\": \"index_column\"}],\n        rowsPerPage: 25,\n        helpUrl: \"https://colab.research.google.com/notebooks/data_table.ipynb\",\n        suppressOutputScrolling: true,\n        minimumWidth: undefined,\n      });\n    ",
            "text/html": [
              "<div>\n",
              "<style scoped>\n",
              "    .dataframe tbody tr th:only-of-type {\n",
              "        vertical-align: middle;\n",
              "    }\n",
              "\n",
              "    .dataframe tbody tr th {\n",
              "        vertical-align: top;\n",
              "    }\n",
              "\n",
              "    .dataframe thead th {\n",
              "        text-align: right;\n",
              "    }\n",
              "</style>\n",
              "<table border=\"1\" class=\"dataframe\">\n",
              "  <thead>\n",
              "    <tr style=\"text-align: right;\">\n",
              "      <th></th>\n",
              "      <th>id</th>\n",
              "      <th>label</th>\n",
              "      <th>cosine_score</th>\n",
              "    </tr>\n",
              "  </thead>\n",
              "  <tbody>\n",
              "    <tr>\n",
              "      <th>count</th>\n",
              "      <td>14513.000000</td>\n",
              "      <td>14513.000000</td>\n",
              "      <td>14513.000000</td>\n",
              "    </tr>\n",
              "    <tr>\n",
              "      <th>mean</th>\n",
              "      <td>10374.088472</td>\n",
              "      <td>0.393509</td>\n",
              "      <td>0.026018</td>\n",
              "    </tr>\n",
              "    <tr>\n",
              "      <th>std</th>\n",
              "      <td>5992.072855</td>\n",
              "      <td>0.488545</td>\n",
              "      <td>0.022695</td>\n",
              "    </tr>\n",
              "    <tr>\n",
              "      <th>min</th>\n",
              "      <td>0.000000</td>\n",
              "      <td>0.000000</td>\n",
              "      <td>0.000964</td>\n",
              "    </tr>\n",
              "    <tr>\n",
              "      <th>25%</th>\n",
              "      <td>5186.000000</td>\n",
              "      <td>0.000000</td>\n",
              "      <td>0.010577</td>\n",
              "    </tr>\n",
              "    <tr>\n",
              "      <th>50%</th>\n",
              "      <td>10351.000000</td>\n",
              "      <td>0.000000</td>\n",
              "      <td>0.019517</td>\n",
              "    </tr>\n",
              "    <tr>\n",
              "      <th>75%</th>\n",
              "      <td>15547.000000</td>\n",
              "      <td>1.000000</td>\n",
              "      <td>0.033905</td>\n",
              "    </tr>\n",
              "    <tr>\n",
              "      <th>max</th>\n",
              "      <td>20799.000000</td>\n",
              "      <td>1.000000</td>\n",
              "      <td>0.240270</td>\n",
              "    </tr>\n",
              "  </tbody>\n",
              "</table>\n",
              "</div>"
            ],
            "text/plain": [
              "                 id         label  cosine_score\n",
              "count  14513.000000  14513.000000  14513.000000\n",
              "mean   10374.088472  0.393509      0.026018    \n",
              "std    5992.072855   0.488545      0.022695    \n",
              "min    0.000000      0.000000      0.000964    \n",
              "25%    5186.000000   0.000000      0.010577    \n",
              "50%    10351.000000  0.000000      0.019517    \n",
              "75%    15547.000000  1.000000      0.033905    \n",
              "max    20799.000000  1.000000      0.240270    "
            ]
          },
          "metadata": {
            "tags": []
          },
          "execution_count": 74
        }
      ]
    },
    {
      "cell_type": "markdown",
      "metadata": {
        "id": "1ybSR7rtgKg4"
      },
      "source": [
        "### Merge"
      ]
    },
    {
      "cell_type": "code",
      "metadata": {
        "id": "WAldsbXpgKg4"
      },
      "source": [
        "# Didn't work\n",
        "# df_mergeLierFake = pd.merge(df_Liertrim,df_Faketrim, on=\"cosine_score\", how=\"inner\")"
      ],
      "execution_count": null,
      "outputs": []
    },
    {
      "cell_type": "code",
      "metadata": {
        "colab": {
          "base_uri": "https://localhost:8080/"
        },
        "id": "Ba2Iv17UgKg4",
        "outputId": "22ab32c4-9a79-4af3-a795-f67848bdf79a"
      },
      "source": [
        "N = 100\n",
        "df_Liertrim.cosine_score = np.round(df_Liertrim.cosine_score*N).astype(int) \n",
        "df_Faketrim.cosine_score = np.round(df_Faketrim.cosine_score*N).astype(int) \n",
        "df_mergeLierFake = pd.merge(df_Liertrim,df_Faketrim, on=\"cosine_score\", how=\"inner\")\n",
        "df_mergeLierFake.cosine_score = df_mergeLierFake.cosine_score / N"
      ],
      "execution_count": null,
      "outputs": [
        {
          "output_type": "stream",
          "text": [
            "/usr/local/lib/python3.6/dist-packages/pandas/core/generic.py:5168: SettingWithCopyWarning: \n",
            "A value is trying to be set on a copy of a slice from a DataFrame.\n",
            "Try using .loc[row_indexer,col_indexer] = value instead\n",
            "\n",
            "See the caveats in the documentation: https://pandas.pydata.org/pandas-docs/stable/user_guide/indexing.html#returning-a-view-versus-a-copy\n",
            "  self[name] = value\n"
          ],
          "name": "stderr"
        }
      ]
    },
    {
      "cell_type": "code",
      "metadata": {
        "colab": {
          "base_uri": "https://localhost:8080/"
        },
        "id": "aqAquea9gKg4",
        "outputId": "fe4349db-53fb-4e0a-fa50-8d625fc39fec"
      },
      "source": [
        "df_mergeLierFake.shape"
      ],
      "execution_count": null,
      "outputs": [
        {
          "output_type": "execute_result",
          "data": {
            "text/plain": [
              "(25939010, 26)"
            ]
          },
          "metadata": {
            "tags": []
          },
          "execution_count": 77
        }
      ]
    },
    {
      "cell_type": "code",
      "metadata": {
        "id": "0vRwiHbigKg4"
      },
      "source": [
        "# df_mergeLierFake.to_csv('df_LierFakeMerge.csv')\n",
        "# files.download('df_LierFakeMerge.csv')"
      ],
      "execution_count": null,
      "outputs": []
    },
    {
      "cell_type": "code",
      "metadata": {
        "id": "KOeZ-49HgKg4"
      },
      "source": [
        "# np.round(df_Liertest.cosine_score, decimals=2)\n",
        "# np.round(df_Faketest.cosine_score, decimals=2)"
      ],
      "execution_count": null,
      "outputs": []
    },
    {
      "cell_type": "code",
      "metadata": {
        "id": "B4tnY1O55zFJ"
      },
      "source": [
        "df_mergeLierFake1 = df_mergeLierFake.drop_duplicates(subset=['Statement'])"
      ],
      "execution_count": null,
      "outputs": []
    },
    {
      "cell_type": "code",
      "metadata": {
        "id": "dhPhud3F5zFJ"
      },
      "source": [
        "df_mergeLierFake1.shape"
      ],
      "execution_count": null,
      "outputs": []
    },
    {
      "cell_type": "markdown",
      "metadata": {
        "id": "rq0p9gDh1E0U"
      },
      "source": [
        "# Data Amalgamation on old LierLier (title) and Fake News Dataset (title)"
      ]
    },
    {
      "cell_type": "markdown",
      "metadata": {
        "id": "GwcC2Mz51E0U"
      },
      "source": [
        "## Read data"
      ]
    },
    {
      "cell_type": "code",
      "metadata": {
        "id": "AFuS7Nvh1E0V"
      },
      "source": [
        "colnames = ['jsonid', 'label', 'Statement', 'subject', 'speaker', 'speakerjobtitle', 'stateinfo',\n",
        "            'partyaffiliation', 'barelytruecounts', 'falsecounts','halftruecounts','mostlytrueocunts',\n",
        "            'pantsonfirecounts','context']\n",
        "df_Lier_clean = pd.read_csv('/content/drive/MyDrive/the-feature-finders/AlternusVera/Lier-Lier/train.tsv', sep='\\t',names = colnames, error_bad_lines=False)\n"
      ],
      "execution_count": null,
      "outputs": []
    },
    {
      "cell_type": "code",
      "metadata": {
        "colab": {
          "base_uri": "https://localhost:8080/"
        },
        "id": "bAedYnVz1E0V",
        "outputId": "02cb1c23-fede-411a-8184-33c55b1d3374"
      },
      "source": [
        "df_Lier_clean.shape"
      ],
      "execution_count": null,
      "outputs": [
        {
          "output_type": "execute_result",
          "data": {
            "text/plain": [
              "(10240, 14)"
            ]
          },
          "metadata": {
            "tags": []
          },
          "execution_count": 4
        }
      ]
    },
    {
      "cell_type": "code",
      "metadata": {
        "id": "etveJlNt1E0W"
      },
      "source": [
        "df_FakeNews_train = pd.read_csv(\"/content/drive/MyDrive/the-feature-finders/AlternusVera/fake-news/train.csv\")"
      ],
      "execution_count": null,
      "outputs": []
    },
    {
      "cell_type": "code",
      "metadata": {
        "colab": {
          "base_uri": "https://localhost:8080/"
        },
        "id": "30Su3RZq1E0W",
        "outputId": "d067a123-1dc5-4498-a503-33e81aef6602"
      },
      "source": [
        "df_FakeNews_train.shape"
      ],
      "execution_count": null,
      "outputs": [
        {
          "output_type": "execute_result",
          "data": {
            "text/plain": [
              "(20800, 5)"
            ]
          },
          "metadata": {
            "tags": []
          },
          "execution_count": 6
        }
      ]
    },
    {
      "cell_type": "code",
      "metadata": {
        "id": "WXcZQtqP1E0W"
      },
      "source": [
        "corpusCleanLiar = []\n",
        "for i in df_Lier_clean['Statement']:\n",
        "    corpusCleanLiar.append(i)\n",
        "\n",
        "corpusFakeNews = []\n",
        "for i in df_FakeNews_train['title'].astype('U'):\n",
        "    corpusFakeNews.append(i)"
      ],
      "execution_count": null,
      "outputs": []
    },
    {
      "cell_type": "code",
      "metadata": {
        "id": "XDcEwaW91E0W"
      },
      "source": [
        "# Train a classifier that predicts the fakeness in the range of classes given by Cleaned liar liar dataset\n",
        "from sklearn.feature_extraction.text import TfidfVectorizer\n",
        "tfidfVector = TfidfVectorizer(max_features=1000)\n",
        "\n",
        "tfidf_cleanliar = tfidfVector.fit_transform(corpusCleanLiar)"
      ],
      "execution_count": null,
      "outputs": []
    },
    {
      "cell_type": "code",
      "metadata": {
        "id": "FCg4l-4s1E0W"
      },
      "source": [
        "tf_idf_FN = tfidfVector.fit_transform(corpusFakeNews)\n",
        "words = tfidfVector.get_feature_names()"
      ],
      "execution_count": null,
      "outputs": []
    },
    {
      "cell_type": "code",
      "metadata": {
        "colab": {
          "base_uri": "https://localhost:8080/"
        },
        "id": "M4T_Y4mH1E0W",
        "outputId": "0d75809c-5dca-4bfc-8790-a8e7b0165eea"
      },
      "source": [
        "tfidf_cleanliar.toarray()"
      ],
      "execution_count": null,
      "outputs": [
        {
          "output_type": "execute_result",
          "data": {
            "text/plain": [
              "array([[0.        , 0.        , 0.        , ..., 0.        , 0.        ,\n",
              "        0.        ],\n",
              "       [0.        , 0.        , 0.        , ..., 0.        , 0.        ,\n",
              "        0.        ],\n",
              "       [0.        , 0.        , 0.        , ..., 0.        , 0.        ,\n",
              "        0.        ],\n",
              "       ...,\n",
              "       [0.        , 0.        , 0.        , ..., 0.        , 0.        ,\n",
              "        0.        ],\n",
              "       [0.        , 0.        , 0.        , ..., 0.        , 0.        ,\n",
              "        0.        ],\n",
              "       [0.        , 0.        , 0.        , ..., 0.22354718, 0.        ,\n",
              "        0.        ]])"
            ]
          },
          "metadata": {
            "tags": []
          },
          "execution_count": 10
        }
      ]
    },
    {
      "cell_type": "code",
      "metadata": {
        "colab": {
          "base_uri": "https://localhost:8080/"
        },
        "id": "GlMoNflV1E0W",
        "outputId": "924d23d8-7635-42f5-9b0f-79b0b42b0928"
      },
      "source": [
        "tf_idf_FN.toarray()"
      ],
      "execution_count": null,
      "outputs": [
        {
          "output_type": "execute_result",
          "data": {
            "text/plain": [
              "array([[0., 0., 0., ..., 0., 0., 0.],\n",
              "       [0., 0., 0., ..., 0., 0., 0.],\n",
              "       [0., 0., 0., ..., 0., 0., 0.],\n",
              "       ...,\n",
              "       [0., 0., 0., ..., 0., 0., 0.],\n",
              "       [0., 0., 0., ..., 0., 0., 0.],\n",
              "       [0., 0., 0., ..., 0., 0., 0.]])"
            ]
          },
          "metadata": {
            "tags": []
          },
          "execution_count": 11
        }
      ]
    },
    {
      "cell_type": "code",
      "metadata": {
        "colab": {
          "base_uri": "https://localhost:8080/"
        },
        "id": "-ZWQJflo1E0W",
        "outputId": "5dd562fa-d673-4a8f-cc31-6b0b90fa80dc"
      },
      "source": [
        "tfidfVector.vocabulary_"
      ],
      "execution_count": null,
      "outputs": [
        {
          "output_type": "execute_result",
          "data": {
            "text/plain": [
              "{'house': 403,\n",
              " 'dem': 223,\n",
              " 'aide': 35,\n",
              " 'we': 953,\n",
              " 'didn': 233,\n",
              " 'even': 275,\n",
              " 'see': 770,\n",
              " 'comey': 184,\n",
              " 'letter': 486,\n",
              " 'it': 436,\n",
              " 'flynn': 319,\n",
              " 'hillary': 391,\n",
              " 'clinton': 175,\n",
              " 'big': 100,\n",
              " 'woman': 976,\n",
              " 'on': 616,\n",
              " 'breitbart': 120,\n",
              " 'why': 967,\n",
              " 'the': 856,\n",
              " 'truth': 897,\n",
              " 'might': 546,\n",
              " 'get': 349,\n",
              " 'you': 992,\n",
              " 'fired': 313,\n",
              " '15': 6,\n",
              " 'civilians': 170,\n",
              " 'killed': 460,\n",
              " 'in': 412,\n",
              " 'us': 916,\n",
              " 'have': 381,\n",
              " 'been': 90,\n",
              " 'for': 321,\n",
              " 'story': 820,\n",
              " 'about': 15,\n",
              " 'to': 880,\n",
              " 'death': 218,\n",
              " 'hollywood': 399,\n",
              " 'would': 985,\n",
              " 'love': 509,\n",
              " 'trump': 895,\n",
              " 'if': 408,\n",
              " 'he': 382,\n",
              " 'north': 595,\n",
              " 'korea': 466,\n",
              " 'over': 631,\n",
              " 'of': 605,\n",
              " 'exclusive': 283,\n",
              " 'video': 928,\n",
              " 'life': 491,\n",
              " 'john': 448,\n",
              " 'at': 73,\n",
              " 'during': 251,\n",
              " 'long': 501,\n",
              " 'wins': 972,\n",
              " 'french': 335,\n",
              " 'party': 637,\n",
              " 'presidential': 672,\n",
              " 'new': 589,\n",
              " 'york': 991,\n",
              " 'times': 878,\n",
              " 'from': 337,\n",
              " 'donald': 245,\n",
              " 'with': 974,\n",
              " 'black': 104,\n",
              " 'church': 166,\n",
              " 'back': 81,\n",
              " 'plan': 651,\n",
              " 'ukraine': 909,\n",
              " 'and': 51,\n",
              " 'russia': 744,\n",
              " 'obama': 602,\n",
              " 'action': 20,\n",
              " 'soros': 800,\n",
              " 'agenda': 31,\n",
              " 'real': 700,\n",
              " 'isis': 429,\n",
              " 'russian': 745,\n",
              " 'secret': 767,\n",
              " 'military': 550,\n",
              " 'photos': 648,\n",
              " 'officials': 612,\n",
              " 'no': 594,\n",
              " 'between': 99,\n",
              " 're': 698,\n",
              " 'there': 860,\n",
              " 'are': 60,\n",
              " 'paid': 633,\n",
              " 'government': 366,\n",
              " 'social': 795,\n",
              " 'media': 531,\n",
              " 'major': 514,\n",
              " 'find': 309,\n",
              " 'home': 400,\n",
              " 'chief': 157,\n",
              " 'down': 247,\n",
              " 'million': 551,\n",
              " 'release': 710,\n",
              " 'everyone': 280,\n",
              " 'arrested': 64,\n",
              " 'dakota': 208,\n",
              " 'access': 16,\n",
              " 'pipeline': 650,\n",
              " 'fbi': 299,\n",
              " 'did': 232,\n",
              " 'political': 660,\n",
              " 'news': 590,\n",
              " 'hope': 401,\n",
              " 'gop': 362,\n",
              " 'paul': 640,\n",
              " 'ryan': 747,\n",
              " 'has': 379,\n",
              " 'just': 454,\n",
              " 'an': 50,\n",
              " 'republican': 717,\n",
              " 'sex': 779,\n",
              " 'scandal': 758,\n",
              " 'set': 778,\n",
              " 'american': 47,\n",
              " 'crime': 201,\n",
              " 'is': 428,\n",
              " 'cop': 192,\n",
              " 'wife': 968,\n",
              " 'fake': 292,\n",
              " 'lives': 498,\n",
              " 'matter': 526,\n",
              " 'abortion': 14,\n",
              " 'orders': 624,\n",
              " 'rise': 732,\n",
              " 'zika': 995,\n",
              " 'alert': 40,\n",
              " 'un': 910,\n",
              " 'ban': 83,\n",
              " 'nuclear': 600,\n",
              " 'weapons': 954,\n",
              " 'islamic': 431,\n",
              " 'state': 813,\n",
              " 'supporters': 831,\n",
              " 'west': 959,\n",
              " 'terrorist': 850,\n",
              " 'tries': 892,\n",
              " 'what': 961,\n",
              " 'caught': 147,\n",
              " 'before': 91,\n",
              " 'rally': 696,\n",
              " 'fox': 329,\n",
              " 'claims': 172,\n",
              " 'how': 404,\n",
              " 'israel': 433,\n",
              " 'china': 160,\n",
              " 'eastern': 256,\n",
              " '2016': 9,\n",
              " '11': 3,\n",
              " 'won': 978,\n",
              " 'johnson': 449,\n",
              " 'brexit': 121,\n",
              " 'leaders': 476,\n",
              " 'texas': 853,\n",
              " 'oil': 613,\n",
              " 'price': 674,\n",
              " 'but': 129,\n",
              " 'jobs': 446,\n",
              " 'left': 482,\n",
              " 'behind': 93,\n",
              " 'deal': 217,\n",
              " 'moves': 568,\n",
              " 'as': 67,\n",
              " 'still': 818,\n",
              " 'zone': 996,\n",
              " '2017': 10,\n",
              " 'open': 621,\n",
              " 'not': 596,\n",
              " 'election': 262,\n",
              " 'democrat': 226,\n",
              " 'blames': 106,\n",
              " 'chicago': 156,\n",
              " 'gun': 372,\n",
              " 'violence': 930,\n",
              " 'avoid': 78,\n",
              " 'bad': 82,\n",
              " 'most': 564,\n",
              " 'shows': 787,\n",
              " '20': 8,\n",
              " 'week': 956,\n",
              " 'best': 97,\n",
              " 'that': 855,\n",
              " 'by': 130,\n",
              " 'usa': 917,\n",
              " 'other': 627,\n",
              " 'can': 138,\n",
              " 'one': 618,\n",
              " 'without': 975,\n",
              " 'king': 464,\n",
              " 'up': 915,\n",
              " 'asks': 69,\n",
              " 'sessions': 777,\n",
              " 'out': 629,\n",
              " 'civil': 169,\n",
              " 'rights': 730,\n",
              " 'inquiry': 417,\n",
              " 'press': 673,\n",
              " 'tv': 904,\n",
              " 'debate': 219,\n",
              " 'presidency': 670,\n",
              " 'videos': 929,\n",
              " 'after': 28,\n",
              " 'migrant': 547,\n",
              " 'eu': 272,\n",
              " 'public': 687,\n",
              " 'voice': 934,\n",
              " 'will': 970,\n",
              " 'be': 87,\n",
              " 'revolution': 727,\n",
              " 'nato': 580,\n",
              " 'study': 826,\n",
              " 'more': 562,\n",
              " 'than': 854,\n",
              " 'car': 141,\n",
              " 'nan': 577,\n",
              " 'dangerous': 209,\n",
              " 'right': 729,\n",
              " 'politics': 661,\n",
              " 'true': 894,\n",
              " 'islam': 430,\n",
              " 'book': 113,\n",
              " 'review': 726,\n",
              " 'biggest': 101,\n",
              " 'history': 395,\n",
              " 'way': 951,\n",
              " 'fight': 304,\n",
              " 'potential': 667,\n",
              " 'tax': 844,\n",
              " 'like': 492,\n",
              " 'day': 213,\n",
              " 'world': 983,\n",
              " 'machines': 512,\n",
              " 'massive': 525,\n",
              " 'anti': 56,\n",
              " 'protests': 686,\n",
              " 'union': 912,\n",
              " 'live': 497,\n",
              " 'lost': 508,\n",
              " 'boy': 116,\n",
              " 'google': 361,\n",
              " 'general': 345,\n",
              " 'attack': 74,\n",
              " 'had': 375,\n",
              " 'forces': 323,\n",
              " 'finds': 310,\n",
              " 'all': 43,\n",
              " 'oregon': 625,\n",
              " 'guilty': 371,\n",
              " 'federal': 302,\n",
              " 'charges': 153,\n",
              " 'campaign': 137,\n",
              " 'probe': 679,\n",
              " 'into': 423,\n",
              " 'emails': 266,\n",
              " 'pence': 643,\n",
              " 'bernie': 96,\n",
              " 'sanders': 752,\n",
              " 'says': 757,\n",
              " 'make': 515,\n",
              " 'daily': 207,\n",
              " 'nyt': 601,\n",
              " 'does': 239,\n",
              " 'human': 406,\n",
              " 'democrats': 228,\n",
              " 'percent': 646,\n",
              " 'senate': 775,\n",
              " 'president': 671,\n",
              " '000': 0,\n",
              " 'warning': 945,\n",
              " 'judge': 452,\n",
              " 'transgender': 889,\n",
              " 'lie': 490,\n",
              " 'strikes': 823,\n",
              " 'against': 30,\n",
              " 'assad': 70,\n",
              " 'syria': 836,\n",
              " 'calls': 135,\n",
              " 'investigation': 424,\n",
              " 'putin': 690,\n",
              " 'race': 694,\n",
              " 'your': 994,\n",
              " 'tuesday': 900,\n",
              " 'evening': 276,\n",
              " 'briefing': 122,\n",
              " 'turkey': 901,\n",
              " 'threatens': 870,\n",
              " 'land': 469,\n",
              " 'europe': 273,\n",
              " 'huma': 405,\n",
              " 'weiner': 957,\n",
              " 'camp': 136,\n",
              " 'immigration': 411,\n",
              " 'moore': 561,\n",
              " 'fans': 296,\n",
              " 'across': 18,\n",
              " 'nation': 578,\n",
              " 'support': 829,\n",
              " 'reporter': 715,\n",
              " 'help': 386,\n",
              " 'event': 277,\n",
              " 'mike': 549,\n",
              " 'tips': 879,\n",
              " 'making': 517,\n",
              " 'or': 622,\n",
              " 'last': 470,\n",
              " 'this': 866,\n",
              " 'economic': 257,\n",
              " 'come': 182,\n",
              " 'venezuela': 923,\n",
              " 'moving': 570,\n",
              " 'man': 518,\n",
              " 'rule': 739,\n",
              " 'run': 742,\n",
              " 'war': 944,\n",
              " 'women': 977,\n",
              " 'candidate': 140,\n",
              " 'white': 965,\n",
              " 'confirms': 187,\n",
              " 'leaves': 481,\n",
              " 'office': 608,\n",
              " 'poll': 662,\n",
              " 'voters': 937,\n",
              " 'democratic': 227,\n",
              " 'migrants': 548,\n",
              " 'old': 614,\n",
              " 'reason': 703,\n",
              " 'wants': 943,\n",
              " 'control': 191,\n",
              " 'internet': 421,\n",
              " 'gas': 343,\n",
              " 'interview': 422,\n",
              " 'response': 720,\n",
              " '100': 2,\n",
              " '10': 1,\n",
              " 'washington': 948,\n",
              " 'takes': 840,\n",
              " 'refugees': 708,\n",
              " 'muslim': 573,\n",
              " 'country': 197,\n",
              " 'saudi': 753,\n",
              " 'now': 599,\n",
              " '12': 4,\n",
              " 'bill': 102,\n",
              " 'financial': 308,\n",
              " 'first': 314,\n",
              " 'megyn': 534,\n",
              " 'kelly': 457,\n",
              " 'next': 591,\n",
              " 'year': 987,\n",
              " 'show': 786,\n",
              " 'students': 825,\n",
              " 'hit': 396,\n",
              " 'de': 215,\n",
              " 'breaking': 119,\n",
              " 'anthony': 55,\n",
              " 'illegal': 409,\n",
              " 'months': 560,\n",
              " 'truthfeed': 898,\n",
              " 'top': 886,\n",
              " 'doj': 242,\n",
              " 'official': 611,\n",
              " 'series': 776,\n",
              " 'female': 303,\n",
              " 'low': 510,\n",
              " 'season': 765,\n",
              " 'final': 306,\n",
              " 'four': 328,\n",
              " 'returns': 723,\n",
              " 'friday': 336,\n",
              " 'national': 579,\n",
              " 'makes': 516,\n",
              " 'ask': 68,\n",
              " 'say': 755,\n",
              " 'off': 606,\n",
              " 'mother': 566,\n",
              " 'october': 604,\n",
              " 'assange': 71,\n",
              " 'border': 114,\n",
              " 'crisis': 204,\n",
              " 'republicans': 718,\n",
              " 'should': 785,\n",
              " 'tell': 846,\n",
              " 'earth': 254,\n",
              " 'here': 388,\n",
              " 'families': 294,\n",
              " 'votes': 938,\n",
              " 'iran': 425,\n",
              " 'speaker': 804,\n",
              " 'director': 236,\n",
              " 'leaked': 477,\n",
              " 'email': 265,\n",
              " 'case': 145,\n",
              " 'vote': 935,\n",
              " 'law': 472,\n",
              " 'call': 133,\n",
              " 'go': 356,\n",
              " 'another': 54,\n",
              " 'america': 46,\n",
              " 'my': 576,\n",
              " 'brain': 117,\n",
              " 'gorafi': 363,\n",
              " 'le': 473,\n",
              " 'secretary': 768,\n",
              " 'ad': 22,\n",
              " 'indian': 415,\n",
              " 'years': 988,\n",
              " 'journalist': 451,\n",
              " 'was': 947,\n",
              " 'her': 387,\n",
              " 'report': 714,\n",
              " 'aliens': 42,\n",
              " 'food': 320,\n",
              " 'great': 368,\n",
              " 'again': 29,\n",
              " 'jerusalem': 443,\n",
              " 'terror': 848,\n",
              " 'leader': 475,\n",
              " 'don': 244,\n",
              " 'play': 655,\n",
              " 'college': 180,\n",
              " 'got': 365,\n",
              " 'david': 212,\n",
              " 'duke': 250,\n",
              " 'despite': 231,\n",
              " 'child': 158,\n",
              " 'shot': 784,\n",
              " 'every': 279,\n",
              " 'fears': 301,\n",
              " 'its': 438,\n",
              " 'interest': 420,\n",
              " 'plans': 654,\n",
              " 'battle': 86,\n",
              " 'latest': 471,\n",
              " 'test': 852,\n",
              " 'clintons': 176,\n",
              " 'when': 962,\n",
              " 'they': 862,\n",
              " 'visit': 932,\n",
              " 'worse': 984,\n",
              " 'james': 440,\n",
              " 'cash': 146,\n",
              " 'executive': 284,\n",
              " 'good': 360,\n",
              " 'palestinian': 634,\n",
              " 'charged': 152,\n",
              " 'terrorism': 849,\n",
              " 'talk': 842,\n",
              " 'standing': 810,\n",
              " 'rock': 736,\n",
              " 'obamacare': 603,\n",
              " 'thousands': 868,\n",
              " 'veterans': 925,\n",
              " 'family': 295,\n",
              " 'already': 44,\n",
              " 'soon': 799,\n",
              " 'sports': 808,\n",
              " 'nfl': 592,\n",
              " 'work': 980,\n",
              " 'saying': 756,\n",
              " 'things': 864,\n",
              " 'found': 326,\n",
              " 'watch': 949,\n",
              " 'told': 882,\n",
              " 'comment': 186,\n",
              " 'powerful': 669,\n",
              " 'getting': 351,\n",
              " 'night': 593,\n",
              " 'running': 743,\n",
              " 'ends': 269,\n",
              " 'scientists': 761,\n",
              " 'may': 527,\n",
              " 'pro': 678,\n",
              " 'amid': 49,\n",
              " 'who': 966,\n",
              " 'cancer': 139,\n",
              " 'under': 911,\n",
              " 'fire': 312,\n",
              " 'used': 919,\n",
              " 'near': 583,\n",
              " 'aleppo': 39,\n",
              " 'airport': 37,\n",
              " 'steve': 817,\n",
              " 'talks': 843,\n",
              " 'elect': 260,\n",
              " 'troops': 893,\n",
              " 'fighting': 305,\n",
              " 'mosul': 565,\n",
              " 'uk': 908,\n",
              " 'while': 964,\n",
              " 'council': 196,\n",
              " 'demand': 224,\n",
              " 'money': 558,\n",
              " 'keep': 456,\n",
              " 'their': 857,\n",
              " 'congress': 188,\n",
              " 'once': 617,\n",
              " 'heart': 385,\n",
              " 'attacks': 75,\n",
              " 'two': 907,\n",
              " 'police': 658,\n",
              " 'arrest': 63,\n",
              " 'protesters': 685,\n",
              " 'children': 159,\n",
              " 'were': 958,\n",
              " 'them': 858,\n",
              " 'both': 115,\n",
              " 'could': 194,\n",
              " 'men': 537,\n",
              " 'our': 628,\n",
              " 'team': 845,\n",
              " 'signs': 789,\n",
              " 'post': 666,\n",
              " 'street': 821,\n",
              " 'dead': 216,\n",
              " 'warns': 946,\n",
              " 'she': 781,\n",
              " 'll': 499,\n",
              " 'take': 839,\n",
              " 'democracy': 225,\n",
              " 'tells': 847,\n",
              " 'gorsuch': 364,\n",
              " 'loses': 507,\n",
              " 'art': 66,\n",
              " 'crash': 200,\n",
              " 'order': 623,\n",
              " 'people': 645,\n",
              " 'suicide': 827,\n",
              " 'japan': 441,\n",
              " 'california': 132,\n",
              " 'source': 801,\n",
              " 'break': 118,\n",
              " 'past': 638,\n",
              " 'inauguration': 413,\n",
              " 'girl': 352,\n",
              " 'reality': 701,\n",
              " 'gets': 350,\n",
              " 'free': 333,\n",
              " 'care': 142,\n",
              " 'victims': 926,\n",
              " 'orlando': 626,\n",
              " 'vladimir': 933,\n",
              " 'новое': 998,\n",
              " 'восточное': 997,\n",
              " 'обозрение': 999,\n",
              " 'flight': 317,\n",
              " 'problem': 680,\n",
              " 'key': 458,\n",
              " 'economy': 258,\n",
              " 'la': 468,\n",
              " 'en': 267,\n",
              " 'el': 259,\n",
              " 'him': 392,\n",
              " 'billion': 103,\n",
              " 'since': 791,\n",
              " 'change': 150,\n",
              " 'strike': 822,\n",
              " 'intelligence': 419,\n",
              " 'al': 38,\n",
              " 'monday': 557,\n",
              " 'nbc': 582,\n",
              " 'think': 865,\n",
              " 'dr': 248,\n",
              " 'mark': 521,\n",
              " 'cnn': 178,\n",
              " 'network': 587,\n",
              " 'game': 342,\n",
              " 'rules': 740,\n",
              " 'spicer': 807,\n",
              " 'fear': 300,\n",
              " 'questions': 693,\n",
              " 'chinese': 161,\n",
              " 'german': 347,\n",
              " 'abedin': 13,\n",
              " 'administration': 23,\n",
              " 'trade': 888,\n",
              " 'trust': 896,\n",
              " 'former': 325,\n",
              " 'western': 960,\n",
              " 'workers': 981,\n",
              " 'only': 620,\n",
              " 'going': 358,\n",
              " 'win': 971,\n",
              " 'march': 520,\n",
              " 'line': 494,\n",
              " 'five': 315,\n",
              " 'seeks': 771,\n",
              " 'time': 877,\n",
              " 'future': 341,\n",
              " 'health': 384,\n",
              " 'milo': 553,\n",
              " 'being': 94,\n",
              " 'violent': 931,\n",
              " 'school': 759,\n",
              " 'message': 539,\n",
              " 'african': 27,\n",
              " 'father': 298,\n",
              " 'muslims': 574,\n",
              " 'trying': 899,\n",
              " 'block': 107,\n",
              " 'dems': 229,\n",
              " 'point': 657,\n",
              " 'do': 238,\n",
              " 'many': 519,\n",
              " 'data': 210,\n",
              " 'threat': 869,\n",
              " 'audio': 77,\n",
              " 'justice': 455,\n",
              " 'carolina': 143,\n",
              " 'germany': 348,\n",
              " 'britain': 124,\n",
              " 'cold': 179,\n",
              " 'foreign': 324,\n",
              " 'air': 36,\n",
              " 'reports': 716,\n",
              " 'record': 705,\n",
              " 'voter': 936,\n",
              " 'merkel': 538,\n",
              " 'gold': 359,\n",
              " 'water': 950,\n",
              " 'hold': 398,\n",
              " 'berkeley': 95,\n",
              " 'speech': 806,\n",
              " 'propaganda': 683,\n",
              " 'self': 773,\n",
              " 'liberty': 489,\n",
              " 'gives': 354,\n",
              " 'era': 270,\n",
              " 'michigan': 544,\n",
              " 'victory': 927,\n",
              " 'ever': 278,\n",
              " 'seen': 772,\n",
              " 'far': 297,\n",
              " 'east': 255,\n",
              " 'need': 585,\n",
              " 'full': 339,\n",
              " 'doesn': 240,\n",
              " 'lose': 506,\n",
              " 'looking': 504,\n",
              " 'something': 797,\n",
              " 'rep': 712,\n",
              " 'global': 355,\n",
              " 'markets': 523,\n",
              " 'ready': 699,\n",
              " 'supreme': 832,\n",
              " 'court': 199,\n",
              " 'meet': 532,\n",
              " 'mexican': 540,\n",
              " 'wall': 941,\n",
              " 'funding': 340,\n",
              " 'bank': 84,\n",
              " 'sign': 788,\n",
              " 'put': 689,\n",
              " 'sanctuary': 751,\n",
              " 'cities': 167,\n",
              " 'jail': 439,\n",
              " 'announces': 53,\n",
              " 'his': 394,\n",
              " 'pick': 649,\n",
              " 'defense': 222,\n",
              " 'some': 796,\n",
              " 'look': 503,\n",
              " 'inside': 418,\n",
              " 'conservative': 189,\n",
              " 'push': 688,\n",
              " 'states': 814,\n",
              " 'let': 485,\n",
              " 'pope': 664,\n",
              " 'francis': 331,\n",
              " 'immigrants': 410,\n",
              " 'jeff': 442,\n",
              " 'podesta': 656,\n",
              " 'build': 127,\n",
              " 'liberal': 487,\n",
              " 'bannon': 85,\n",
              " 'close': 177,\n",
              " 'face': 288,\n",
              " 'shooting': 783,\n",
              " 'trial': 891,\n",
              " 'americans': 48,\n",
              " '30': 11,\n",
              " 'november': 598,\n",
              " 'central': 149,\n",
              " 'italy': 437,\n",
              " 'israeli': 434,\n",
              " 'cabinet': 131,\n",
              " 'know': 465,\n",
              " 'ann': 52,\n",
              " 'coulter': 195,\n",
              " 'turns': 903,\n",
              " 'high': 390,\n",
              " 'wrong': 986,\n",
              " 'silver': 790,\n",
              " 'onion': 619,\n",
              " 'finest': 311,\n",
              " 'machine': 511,\n",
              " 'missile': 556,\n",
              " 'wikileaks': 969,\n",
              " 'murder': 572,\n",
              " 'repeal': 713,\n",
              " 'act': 19,\n",
              " 'group': 370,\n",
              " 'south': 802,\n",
              " 'africa': 26,\n",
              " 'criminal': 203,\n",
              " 'use': 918,\n",
              " 'using': 921,\n",
              " 'finally': 307,\n",
              " 'give': 353,\n",
              " 'rape': 697,\n",
              " 'much': 571,\n",
              " 'market': 522,\n",
              " 'so': 794,\n",
              " 'coup': 198,\n",
              " 'twitter': 906,\n",
              " 'choice': 162,\n",
              " 'working': 982,\n",
              " 'own': 632,\n",
              " 'possible': 665,\n",
              " 'chelsea': 155,\n",
              " 'turn': 902,\n",
              " 'officer': 609,\n",
              " 'days': 214,\n",
              " 'start': 812,\n",
              " 'hours': 402,\n",
              " 'uses': 920,\n",
              " 'part': 636,\n",
              " 'job': 445,\n",
              " 'ways': 952,\n",
              " 'refugee': 707,\n",
              " 'red': 706,\n",
              " 'leaks': 478,\n",
              " 'star': 811,\n",
              " 'london': 500,\n",
              " 'thursday': 873,\n",
              " 'dies': 235,\n",
              " 'racist': 695,\n",
              " 'duterte': 252,\n",
              " 'likely': 493,\n",
              " 'hidden': 389,\n",
              " 'fraud': 332,\n",
              " 'die': 234,\n",
              " 'reveal': 724,\n",
              " 'begins': 92,\n",
              " 'establishment': 271,\n",
              " 'arrests': 65,\n",
              " 'never': 588,\n",
              " 'elite': 264,\n",
              " 'student': 824,\n",
              " 'yemen': 989,\n",
              " 'yet': 990,\n",
              " 'false': 293,\n",
              " 'flag': 316,\n",
              " 'middle': 545,\n",
              " 'outlook': 630,\n",
              " 'kill': 459,\n",
              " 'terrorists': 851,\n",
              " 'christians': 165,\n",
              " 'facebook': 289,\n",
              " 'taking': 841,\n",
              " 'step': 816,\n",
              " 'george': 346,\n",
              " 'michael': 542,\n",
              " 'body': 109,\n",
              " 'blue': 108,\n",
              " 'hits': 397,\n",
              " 'gay': 344,\n",
              " 'rt': 738,\n",
              " 'information': 416,\n",
              " 'stop': 819,\n",
              " 'afghanistan': 25,\n",
              " 'kills': 462,\n",
              " 'project': 681,\n",
              " 'robert': 735,\n",
              " 'wire': 973,\n",
              " 'ex': 282,\n",
              " 'michelle': 543,\n",
              " 'voting': 939,\n",
              " 'mayor': 528,\n",
              " 'accused': 17,\n",
              " 'aid': 34,\n",
              " 'me': 529,\n",
              " 'little': 496,\n",
              " 'offers': 607,\n",
              " 'force': 322,\n",
              " 'risk': 734,\n",
              " 'green': 369,\n",
              " 'army': 61,\n",
              " 'steal': 815,\n",
              " 'dog': 241,\n",
              " 'united': 913,\n",
              " 'return': 722,\n",
              " 'budget': 126,\n",
              " 'los': 505,\n",
              " 'attorney': 76,\n",
              " 'deep': 220,\n",
              " 'security': 769,\n",
              " 'really': 702,\n",
              " 'british': 125,\n",
              " '13': 5,\n",
              " 'slams': 793,\n",
              " 'killing': 461,\n",
              " 'super': 828,\n",
              " 'legal': 483,\n",
              " 'happened': 377,\n",
              " 'coming': 185,\n",
              " 'photo': 647,\n",
              " 'officers': 610,\n",
              " 'safe': 748,\n",
              " 'julian': 453,\n",
              " '16': 7,\n",
              " 'door': 246,\n",
              " 'end': 268,\n",
              " 'sweden': 835,\n",
              " 'made': 513,\n",
              " 'front': 338,\n",
              " 'second': 766,\n",
              " 'through': 872,\n",
              " 'alien': 41,\n",
              " 'pay': 641,\n",
              " 'ice': 407,\n",
              " 'issues': 435,\n",
              " 'himself': 393,\n",
              " 'today': 881,\n",
              " 'space': 803,\n",
              " 'better': 98,\n",
              " 'chaos': 151,\n",
              " 'ties': 874,\n",
              " 'month': 559,\n",
              " 'those': 867,\n",
              " 'resistance': 719,\n",
              " 'syrian': 837,\n",
              " 'young': 993,\n",
              " 'climate': 174,\n",
              " 'called': 134,\n",
              " 'exposed': 285,\n",
              " 'arabia': 59,\n",
              " 'india': 414,\n",
              " 'shock': 782,\n",
              " 'said': 749,\n",
              " 'class': 173,\n",
              " 'bring': 123,\n",
              " 'because': 88,\n",
              " 'very': 924,\n",
              " 'nearly': 584,\n",
              " 'failed': 291,\n",
              " 'european': 274,\n",
              " 'these': 861,\n",
              " 'elected': 261,\n",
              " 've': 922,\n",
              " 'france': 330,\n",
              " 'morning': 563,\n",
              " 'navy': 581,\n",
              " 'prison': 676,\n",
              " 'bombshell': 112,\n",
              " 'city': 168,\n",
              " 'nothing': 597,\n",
              " 'iraqi': 427,\n",
              " 'iraq': 426,\n",
              " 'christian': 164,\n",
              " 'hate': 380,\n",
              " 'question': 692,\n",
              " 'drug': 249,\n",
              " 'move': 567,\n",
              " 'polls': 663,\n",
              " 'ahead': 33,\n",
              " 'elections': 263,\n",
              " 'path': 639,\n",
              " 'corruption': 193,\n",
              " 'power': 668,\n",
              " 'movie': 569,\n",
              " 'defeat': 221,\n",
              " 'sexual': 780,\n",
              " 'evidence': 281,\n",
              " 'goes': 357,\n",
              " 'isn': 432,\n",
              " 'sen': 774,\n",
              " 'surprise': 833,\n",
              " 'same': 750,\n",
              " 'supporter': 830,\n",
              " 'apple': 58,\n",
              " 'want': 942,\n",
              " 'governor': 367,\n",
              " 'son': 798,\n",
              " 'kim': 463,\n",
              " 'paris': 635,\n",
              " 'needs': 586,\n",
              " 'schools': 760,\n",
              " 'chris': 163,\n",
              " 'list': 495,\n",
              " 'scott': 762,\n",
              " 'head': 383,\n",
              " 'faces': 290,\n",
              " 'com': 181,\n",
              " 'baby': 80,\n",
              " 'releases': 711,\n",
              " 'protest': 684,\n",
              " 'must': 575,\n",
              " 'policy': 659,\n",
              " 'vs': 940,\n",
              " 'kushner': 467,\n",
              " 'admits': 24,\n",
              " 'role': 737,\n",
              " 'claim': 171,\n",
              " 'thing': 863,\n",
              " 'millions': 552,\n",
              " 'tillerson': 875,\n",
              " 'private': 677,\n",
              " 'then': 859,\n",
              " 'sea': 763,\n",
              " 'early': 253,\n",
              " 'six': 792,\n",
              " 'mexico': 541,\n",
              " 'reveals': 725,\n",
              " 'puts': 691,\n",
              " 'planned': 653,\n",
              " 'lead': 474,\n",
              " 'reasons': 704,\n",
              " 'rigged': 728,\n",
              " 'members': 536,\n",
              " 'joe': 447,\n",
              " 'freedom': 334,\n",
              " 'least': 479,\n",
              " 'special': 805,\n",
              " 'mind': 554,\n",
              " 'blame': 105,\n",
              " 'russians': 746,\n",
              " 'results': 721,\n",
              " 'bombing': 111,\n",
              " 'foundation': 327,\n",
              " 'bomb': 110,\n",
              " 'cut': 205,\n",
              " 'exposes': 286,\n",
              " 'hacking': 374,\n",
              " 'three': 871,\n",
              " 'suspect': 834,\n",
              " 'less': 484,\n",
              " 'travel': 890,\n",
              " 'means': 530,\n",
              " 'jewish': 444,\n",
              " 'become': 89,\n",
              " 'florida': 318,\n",
              " 'stand': 809,\n",
              " 'rising': 733,\n",
              " 'prime': 675,\n",
              " 'minister': 555,\n",
              " 'wednesday': 955,\n",
              " 'leave': 480,\n",
              " 'crimes': 202,\n",
              " 'cause': 148,\n",
              " 'system': 838,\n",
              " 'too': 884,\n",
              " 'rio': 731,\n",
              " 'olympics': 615,\n",
              " 'hard': 378,\n",
              " 'cuts': 206,\n",
              " 'around': 62,\n",
              " 'university': 914,\n",
              " 'away': 79,\n",
              " 'plane': 652,\n",
              " 'chart': 154,\n",
              " 'peace': 642,\n",
              " 'tim': 876,\n",
              " 'activists': 21,\n",
              " 'promises': 682,\n",
              " 'meeting': 533,\n",
              " 'continues': 190,\n",
              " 'tweets': 905,\n",
              " 'took': 885,\n",
              " 'dnc': 237,\n",
              " 'eyes': 287,\n",
              " 'dollar': 243,\n",
              " 'town': 887,\n",
              " 'where': 963,\n",
              " 'any': 57,\n",
              " 'mass': 524,\n",
              " 'pentagon': 644,\n",
              " 'liberals': 488,\n",
              " 'department': 230,\n",
              " 'comes': 183,\n",
              " 'ruling': 741,\n",
              " 'halloween': 376,\n",
              " 'save': 754,\n",
              " 'melania': 535,\n",
              " 'daughter': 211,\n",
              " 'ambassador': 45,\n",
              " 'business': 128,\n",
              " 'jones': 450,\n",
              " 'longer': 502,\n",
              " 'sean': 764,\n",
              " 'agents': 32,\n",
              " 'assault': 72,\n",
              " 'word': 979,\n",
              " 'tom': 883,\n",
              " 'refuses': 709,\n",
              " 'hacked': 373,\n",
              " '50': 12,\n",
              " 'cartel': 144}"
            ]
          },
          "metadata": {
            "tags": []
          },
          "execution_count": 12
        }
      ]
    },
    {
      "cell_type": "markdown",
      "metadata": {
        "id": "Me6jzGEl1E0W"
      },
      "source": [
        "## Cosine Similarirty "
      ]
    },
    {
      "cell_type": "code",
      "metadata": {
        "colab": {
          "base_uri": "https://localhost:8080/"
        },
        "id": "AxPaRPNq1E0W",
        "outputId": "6855c3b7-91e2-47b6-8af5-1b6bfbd7c1ea"
      },
      "source": [
        "# Clean Lier Lier Dataset\n",
        "\n",
        "cleanLtrain_tfidf = tfidfVector.fit_transform(df_Lier_clean['Statement'])\n",
        "print('Training dim:', cleanLtrain_tfidf.shape)\n",
        "print(cleanLtrain_tfidf.A[:10])"
      ],
      "execution_count": null,
      "outputs": [
        {
          "output_type": "stream",
          "text": [
            "Training dim: (10240, 1000)\n",
            "[[0. 0. 0. ... 0. 0. 0.]\n",
            " [0. 0. 0. ... 0. 0. 0.]\n",
            " [0. 0. 0. ... 0. 0. 0.]\n",
            " ...\n",
            " [0. 0. 0. ... 0. 0. 0.]\n",
            " [0. 0. 0. ... 0. 0. 0.]\n",
            " [0. 0. 0. ... 0. 0. 0.]]\n"
          ],
          "name": "stdout"
        }
      ]
    },
    {
      "cell_type": "code",
      "metadata": {
        "colab": {
          "base_uri": "https://localhost:8080/"
        },
        "id": "ySNqIBo01E0W",
        "outputId": "9ac8d67b-5ec5-49f8-97bf-c06f041dfe77"
      },
      "source": [
        "# cosine similarity of Training data for liar liar dataset\n",
        "from sklearn.metrics.pairwise import cosine_similarity\n",
        "from scipy import spatial\n",
        "clean_similarity_score = []\n",
        "for i in range(len(cleanLtrain_tfidf.toarray())):\n",
        "    clean_similarity_score.append(1 - spatial.distance.cosine(tf_idf_FN[0].toarray(), tfidf_cleanliar[i].toarray()))"
      ],
      "execution_count": null,
      "outputs": [
        {
          "output_type": "stream",
          "text": [
            "/usr/local/lib/python3.6/dist-packages/scipy/spatial/distance.py:720: RuntimeWarning: invalid value encountered in double_scalars\n",
            "  dist = 1.0 - uv / np.sqrt(uu * vv)\n"
          ],
          "name": "stderr"
        }
      ]
    },
    {
      "cell_type": "code",
      "metadata": {
        "id": "tKqdUeQN1E0W"
      },
      "source": [
        "#append the similarity_score to both liar liar dataset and kaggle fake news dataset for amalgamation\n",
        "df_Lier_clean['cosine_score'] = clean_similarity_score"
      ],
      "execution_count": null,
      "outputs": []
    },
    {
      "cell_type": "code",
      "metadata": {
        "colab": {
          "base_uri": "https://localhost:8080/"
        },
        "id": "XBPDD6tn1E0W",
        "outputId": "ce57938d-4438-4f3f-fca5-5cf2d1139ec2"
      },
      "source": [
        "df_Lier_clean.describe()"
      ],
      "execution_count": null,
      "outputs": [
        {
          "output_type": "execute_result",
          "data": {
            "application/vnd.google.colaboratory.module+javascript": "\n      import \"https://ssl.gstatic.com/colaboratory/data_table/a6224c040fa35dcf/data_table.js\";\n\n      window.createDataTable({\n        data: [[\"count\",\n{\n            'v': 10238.0,\n            'f': \"10238.0\",\n        },\n{\n            'v': 10238.0,\n            'f': \"10238.0\",\n        },\n{\n            'v': 10238.0,\n            'f': \"10238.0\",\n        },\n{\n            'v': 10238.0,\n            'f': \"10238.0\",\n        },\n{\n            'v': 10238.0,\n            'f': \"10238.0\",\n        },\n{\n            'v': 10239.0,\n            'f': \"10239.0\",\n        }],\n [\"mean\",\n{\n            'v': 11.533209611252198,\n            'f': \"11.533209611252198\",\n        },\n{\n            'v': 13.286481734713812,\n            'f': \"13.286481734713812\",\n        },\n{\n            'v': 17.133717522953702,\n            'f': \"17.133717522953702\",\n        },\n{\n            'v': 16.434264504786093,\n            'f': \"16.434264504786093\",\n        },\n{\n            'v': 6.2014065247118575,\n            'f': \"6.2014065247118575\",\n        },\n{\n            'v': 0.010958610339320846,\n            'f': \"0.010958610339320846\",\n        }],\n [\"std\",\n{\n            'v': 18.9737643185268,\n            'f': \"18.9737643185268\",\n        },\n{\n            'v': 24.11293628542088,\n            'f': \"24.11293628542088\",\n        },\n{\n            'v': 35.846510979322154,\n            'f': \"35.846510979322154\",\n        },\n{\n            'v': 36.15168793284596,\n            'f': \"36.15168793284596\",\n        },\n{\n            'v': 16.12892735191374,\n            'f': \"16.12892735191374\",\n        },\n{\n            'v': 0.03200834208317515,\n            'f': \"0.03200834208317515\",\n        }],\n [\"min\",\n{\n            'v': 0.0,\n            'f': \"0.0\",\n        },\n{\n            'v': 0.0,\n            'f': \"0.0\",\n        },\n{\n            'v': 0.0,\n            'f': \"0.0\",\n        },\n{\n            'v': 0.0,\n            'f': \"0.0\",\n        },\n{\n            'v': 0.0,\n            'f': \"0.0\",\n        },\n{\n            'v': 0.0,\n            'f': \"0.0\",\n        }],\n [\"25%\",\n{\n            'v': 0.0,\n            'f': \"0.0\",\n        },\n{\n            'v': 0.0,\n            'f': \"0.0\",\n        },\n{\n            'v': 0.0,\n            'f': \"0.0\",\n        },\n{\n            'v': 0.0,\n            'f': \"0.0\",\n        },\n{\n            'v': 0.0,\n            'f': \"0.0\",\n        },\n{\n            'v': 0.0,\n            'f': \"0.0\",\n        }],\n [\"50%\",\n{\n            'v': 2.0,\n            'f': \"2.0\",\n        },\n{\n            'v': 2.0,\n            'f': \"2.0\",\n        },\n{\n            'v': 3.0,\n            'f': \"3.0\",\n        },\n{\n            'v': 3.0,\n            'f': \"3.0\",\n        },\n{\n            'v': 1.0,\n            'f': \"1.0\",\n        },\n{\n            'v': 0.0,\n            'f': \"0.0\",\n        }],\n [\"75%\",\n{\n            'v': 12.0,\n            'f': \"12.0\",\n        },\n{\n            'v': 12.0,\n            'f': \"12.0\",\n        },\n{\n            'v': 13.0,\n            'f': \"13.0\",\n        },\n{\n            'v': 11.0,\n            'f': \"11.0\",\n        },\n{\n            'v': 5.0,\n            'f': \"5.0\",\n        },\n{\n            'v': 0.0,\n            'f': \"0.0\",\n        }],\n [\"max\",\n{\n            'v': 70.0,\n            'f': \"70.0\",\n        },\n{\n            'v': 114.0,\n            'f': \"114.0\",\n        },\n{\n            'v': 160.0,\n            'f': \"160.0\",\n        },\n{\n            'v': 163.0,\n            'f': \"163.0\",\n        },\n{\n            'v': 105.0,\n            'f': \"105.0\",\n        },\n{\n            'v': 0.38013261793441155,\n            'f': \"0.38013261793441155\",\n        }]],\n        columns: [[\"string\", \"index\"], [\"number\", \"barelytruecounts\"], [\"number\", \"falsecounts\"], [\"number\", \"halftruecounts\"], [\"number\", \"mostlytrueocunts\"], [\"number\", \"pantsonfirecounts\"], [\"number\", \"cosine_score\"]],\n        columnOptions: [{\"width\": \"1px\", \"className\": \"index_column\"}],\n        rowsPerPage: 25,\n        helpUrl: \"https://colab.research.google.com/notebooks/data_table.ipynb\",\n        suppressOutputScrolling: true,\n        minimumWidth: undefined,\n      });\n    ",
            "text/html": [
              "<div>\n",
              "<style scoped>\n",
              "    .dataframe tbody tr th:only-of-type {\n",
              "        vertical-align: middle;\n",
              "    }\n",
              "\n",
              "    .dataframe tbody tr th {\n",
              "        vertical-align: top;\n",
              "    }\n",
              "\n",
              "    .dataframe thead th {\n",
              "        text-align: right;\n",
              "    }\n",
              "</style>\n",
              "<table border=\"1\" class=\"dataframe\">\n",
              "  <thead>\n",
              "    <tr style=\"text-align: right;\">\n",
              "      <th></th>\n",
              "      <th>barelytruecounts</th>\n",
              "      <th>falsecounts</th>\n",
              "      <th>halftruecounts</th>\n",
              "      <th>mostlytrueocunts</th>\n",
              "      <th>pantsonfirecounts</th>\n",
              "      <th>cosine_score</th>\n",
              "    </tr>\n",
              "  </thead>\n",
              "  <tbody>\n",
              "    <tr>\n",
              "      <th>count</th>\n",
              "      <td>10238.000000</td>\n",
              "      <td>10238.000000</td>\n",
              "      <td>10238.000000</td>\n",
              "      <td>10238.000000</td>\n",
              "      <td>10238.000000</td>\n",
              "      <td>10239.000000</td>\n",
              "    </tr>\n",
              "    <tr>\n",
              "      <th>mean</th>\n",
              "      <td>11.533210</td>\n",
              "      <td>13.286482</td>\n",
              "      <td>17.133718</td>\n",
              "      <td>16.434265</td>\n",
              "      <td>6.201407</td>\n",
              "      <td>0.010959</td>\n",
              "    </tr>\n",
              "    <tr>\n",
              "      <th>std</th>\n",
              "      <td>18.973764</td>\n",
              "      <td>24.112936</td>\n",
              "      <td>35.846511</td>\n",
              "      <td>36.151688</td>\n",
              "      <td>16.128927</td>\n",
              "      <td>0.032008</td>\n",
              "    </tr>\n",
              "    <tr>\n",
              "      <th>min</th>\n",
              "      <td>0.000000</td>\n",
              "      <td>0.000000</td>\n",
              "      <td>0.000000</td>\n",
              "      <td>0.000000</td>\n",
              "      <td>0.000000</td>\n",
              "      <td>0.000000</td>\n",
              "    </tr>\n",
              "    <tr>\n",
              "      <th>25%</th>\n",
              "      <td>0.000000</td>\n",
              "      <td>0.000000</td>\n",
              "      <td>0.000000</td>\n",
              "      <td>0.000000</td>\n",
              "      <td>0.000000</td>\n",
              "      <td>0.000000</td>\n",
              "    </tr>\n",
              "    <tr>\n",
              "      <th>50%</th>\n",
              "      <td>2.000000</td>\n",
              "      <td>2.000000</td>\n",
              "      <td>3.000000</td>\n",
              "      <td>3.000000</td>\n",
              "      <td>1.000000</td>\n",
              "      <td>0.000000</td>\n",
              "    </tr>\n",
              "    <tr>\n",
              "      <th>75%</th>\n",
              "      <td>12.000000</td>\n",
              "      <td>12.000000</td>\n",
              "      <td>13.000000</td>\n",
              "      <td>11.000000</td>\n",
              "      <td>5.000000</td>\n",
              "      <td>0.000000</td>\n",
              "    </tr>\n",
              "    <tr>\n",
              "      <th>max</th>\n",
              "      <td>70.000000</td>\n",
              "      <td>114.000000</td>\n",
              "      <td>160.000000</td>\n",
              "      <td>163.000000</td>\n",
              "      <td>105.000000</td>\n",
              "      <td>0.380133</td>\n",
              "    </tr>\n",
              "  </tbody>\n",
              "</table>\n",
              "</div>"
            ],
            "text/plain": [
              "       barelytruecounts   falsecounts  ...  pantsonfirecounts  cosine_score\n",
              "count  10238.000000      10238.000000  ...  10238.000000       10239.000000\n",
              "mean   11.533210         13.286482     ...  6.201407           0.010959    \n",
              "std    18.973764         24.112936     ...  16.128927          0.032008    \n",
              "min    0.000000          0.000000      ...  0.000000           0.000000    \n",
              "25%    0.000000          0.000000      ...  0.000000           0.000000    \n",
              "50%    2.000000          2.000000      ...  1.000000           0.000000    \n",
              "75%    12.000000         12.000000     ...  5.000000           0.000000    \n",
              "max    70.000000         114.000000    ...  105.000000         0.380133    \n",
              "\n",
              "[8 rows x 6 columns]"
            ]
          },
          "metadata": {
            "tags": []
          },
          "execution_count": 16
        }
      ]
    },
    {
      "cell_type": "code",
      "metadata": {
        "colab": {
          "base_uri": "https://localhost:8080/"
        },
        "id": "JS7x0tAn1E0X",
        "outputId": "c9c1c86c-fe57-4f90-c8dc-f384a4ee9f1d"
      },
      "source": [
        "# Kaggle fake news dataset\n",
        "clean_similarity_score_fake = []\n",
        "for i in range(len(tf_idf_FN.toarray())):\n",
        "    clean_similarity_score_fake.append(1 - spatial.distance.cosine(tfidf_cleanliar[0].toarray(), tf_idf_FN[i].toarray()))"
      ],
      "execution_count": null,
      "outputs": [
        {
          "output_type": "stream",
          "text": [
            "/usr/local/lib/python3.6/dist-packages/scipy/spatial/distance.py:720: RuntimeWarning: invalid value encountered in double_scalars\n",
            "  dist = 1.0 - uv / np.sqrt(uu * vv)\n"
          ],
          "name": "stderr"
        }
      ]
    },
    {
      "cell_type": "code",
      "metadata": {
        "id": "skqn7Cv01E0X"
      },
      "source": [
        "df_FakeNews_train['cosine_score'] = clean_similarity_score_fake"
      ],
      "execution_count": null,
      "outputs": []
    },
    {
      "cell_type": "code",
      "metadata": {
        "colab": {
          "base_uri": "https://localhost:8080/"
        },
        "id": "DB2jIrWE1E0X",
        "outputId": "52db2686-4e7c-42bc-b26f-b0bfa8bad54f"
      },
      "source": [
        "df_FakeNews_train.describe()"
      ],
      "execution_count": null,
      "outputs": [
        {
          "output_type": "execute_result",
          "data": {
            "application/vnd.google.colaboratory.module+javascript": "\n      import \"https://ssl.gstatic.com/colaboratory/data_table/a6224c040fa35dcf/data_table.js\";\n\n      window.createDataTable({\n        data: [[\"count\",\n{\n            'v': 20800.0,\n            'f': \"20800.0\",\n        },\n{\n            'v': 20800.0,\n            'f': \"20800.0\",\n        },\n{\n            'v': 20553.0,\n            'f': \"20553.0\",\n        }],\n [\"mean\",\n{\n            'v': 10399.5,\n            'f': \"10399.5\",\n        },\n{\n            'v': 0.500625,\n            'f': \"0.500625\",\n        },\n{\n            'v': 0.0036282786067381376,\n            'f': \"0.0036282786067381376\",\n        }],\n [\"std\",\n{\n            'v': 6004.58713540462,\n            'f': \"6004.58713540462\",\n        },\n{\n            'v': 0.5000116290295746,\n            'f': \"0.5000116290295746\",\n        },\n{\n            'v': 0.026190444546748366,\n            'f': \"0.026190444546748366\",\n        }],\n [\"min\",\n{\n            'v': 0.0,\n            'f': \"0.0\",\n        },\n{\n            'v': 0.0,\n            'f': \"0.0\",\n        },\n{\n            'v': 0.0,\n            'f': \"0.0\",\n        }],\n [\"25%\",\n{\n            'v': 5199.75,\n            'f': \"5199.75\",\n        },\n{\n            'v': 0.0,\n            'f': \"0.0\",\n        },\n{\n            'v': 0.0,\n            'f': \"0.0\",\n        }],\n [\"50%\",\n{\n            'v': 10399.5,\n            'f': \"10399.5\",\n        },\n{\n            'v': 1.0,\n            'f': \"1.0\",\n        },\n{\n            'v': 0.0,\n            'f': \"0.0\",\n        }],\n [\"75%\",\n{\n            'v': 15599.25,\n            'f': \"15599.25\",\n        },\n{\n            'v': 1.0,\n            'f': \"1.0\",\n        },\n{\n            'v': 0.0,\n            'f': \"0.0\",\n        }],\n [\"max\",\n{\n            'v': 20799.0,\n            'f': \"20799.0\",\n        },\n{\n            'v': 1.0,\n            'f': \"1.0\",\n        },\n{\n            'v': 0.41837083749651305,\n            'f': \"0.41837083749651305\",\n        }]],\n        columns: [[\"string\", \"index\"], [\"number\", \"id\"], [\"number\", \"label\"], [\"number\", \"cosine_score\"]],\n        columnOptions: [{\"width\": \"1px\", \"className\": \"index_column\"}],\n        rowsPerPage: 25,\n        helpUrl: \"https://colab.research.google.com/notebooks/data_table.ipynb\",\n        suppressOutputScrolling: true,\n        minimumWidth: undefined,\n      });\n    ",
            "text/html": [
              "<div>\n",
              "<style scoped>\n",
              "    .dataframe tbody tr th:only-of-type {\n",
              "        vertical-align: middle;\n",
              "    }\n",
              "\n",
              "    .dataframe tbody tr th {\n",
              "        vertical-align: top;\n",
              "    }\n",
              "\n",
              "    .dataframe thead th {\n",
              "        text-align: right;\n",
              "    }\n",
              "</style>\n",
              "<table border=\"1\" class=\"dataframe\">\n",
              "  <thead>\n",
              "    <tr style=\"text-align: right;\">\n",
              "      <th></th>\n",
              "      <th>id</th>\n",
              "      <th>label</th>\n",
              "      <th>cosine_score</th>\n",
              "    </tr>\n",
              "  </thead>\n",
              "  <tbody>\n",
              "    <tr>\n",
              "      <th>count</th>\n",
              "      <td>20800.000000</td>\n",
              "      <td>20800.000000</td>\n",
              "      <td>20553.000000</td>\n",
              "    </tr>\n",
              "    <tr>\n",
              "      <th>mean</th>\n",
              "      <td>10399.500000</td>\n",
              "      <td>0.500625</td>\n",
              "      <td>0.003628</td>\n",
              "    </tr>\n",
              "    <tr>\n",
              "      <th>std</th>\n",
              "      <td>6004.587135</td>\n",
              "      <td>0.500012</td>\n",
              "      <td>0.026190</td>\n",
              "    </tr>\n",
              "    <tr>\n",
              "      <th>min</th>\n",
              "      <td>0.000000</td>\n",
              "      <td>0.000000</td>\n",
              "      <td>0.000000</td>\n",
              "    </tr>\n",
              "    <tr>\n",
              "      <th>25%</th>\n",
              "      <td>5199.750000</td>\n",
              "      <td>0.000000</td>\n",
              "      <td>0.000000</td>\n",
              "    </tr>\n",
              "    <tr>\n",
              "      <th>50%</th>\n",
              "      <td>10399.500000</td>\n",
              "      <td>1.000000</td>\n",
              "      <td>0.000000</td>\n",
              "    </tr>\n",
              "    <tr>\n",
              "      <th>75%</th>\n",
              "      <td>15599.250000</td>\n",
              "      <td>1.000000</td>\n",
              "      <td>0.000000</td>\n",
              "    </tr>\n",
              "    <tr>\n",
              "      <th>max</th>\n",
              "      <td>20799.000000</td>\n",
              "      <td>1.000000</td>\n",
              "      <td>0.418371</td>\n",
              "    </tr>\n",
              "  </tbody>\n",
              "</table>\n",
              "</div>"
            ],
            "text/plain": [
              "                 id         label  cosine_score\n",
              "count  20800.000000  20800.000000  20553.000000\n",
              "mean   10399.500000  0.500625      0.003628    \n",
              "std    6004.587135   0.500012      0.026190    \n",
              "min    0.000000      0.000000      0.000000    \n",
              "25%    5199.750000   0.000000      0.000000    \n",
              "50%    10399.500000  1.000000      0.000000    \n",
              "75%    15599.250000  1.000000      0.000000    \n",
              "max    20799.000000  1.000000      0.418371    "
            ]
          },
          "metadata": {
            "tags": []
          },
          "execution_count": 19
        }
      ]
    },
    {
      "cell_type": "code",
      "metadata": {
        "id": "cNSwLdku1E0X"
      },
      "source": [
        "df_Lier_clean = df_Lier_clean.dropna(0)\n",
        "df_FakeNews_train = df_FakeNews_train.dropna(0)"
      ],
      "execution_count": null,
      "outputs": []
    },
    {
      "cell_type": "code",
      "metadata": {
        "colab": {
          "base_uri": "https://localhost:8080/"
        },
        "id": "SN3jkXC71E0X",
        "outputId": "63c46b8b-02a3-454a-a940-e41f41cc4ad6"
      },
      "source": [
        "df_Lier_clean.shape"
      ],
      "execution_count": null,
      "outputs": [
        {
          "output_type": "execute_result",
          "data": {
            "text/plain": [
              "(6723, 15)"
            ]
          },
          "metadata": {
            "tags": []
          },
          "execution_count": 21
        }
      ]
    },
    {
      "cell_type": "code",
      "metadata": {
        "colab": {
          "base_uri": "https://localhost:8080/"
        },
        "id": "SkWhfGUP1E0X",
        "outputId": "88a32711-aeec-44f0-a794-6e5c35834982"
      },
      "source": [
        "df_Lier_clean.cosine_score.unique()"
      ],
      "execution_count": null,
      "outputs": [
        {
          "output_type": "execute_result",
          "data": {
            "text/plain": [
              "array([0.        , 0.08536947, 0.05388686, 0.04554852, 0.07705428,\n",
              "       0.03486744, 0.04028604, 0.06673718, 0.04500751, 0.04923387,\n",
              "       0.06027484, 0.13009622, 0.07876413, 0.04947268, 0.06697176,\n",
              "       0.04767222, 0.04914738, 0.06485171, 0.11903168, 0.10920963,\n",
              "       0.14392639, 0.03295517, 0.04569408, 0.08627147, 0.04697816,\n",
              "       0.02879375, 0.05411266, 0.07842305, 0.06414375, 0.02963013,\n",
              "       0.03184607, 0.10898558, 0.08855467, 0.13497232, 0.0889098 ,\n",
              "       0.05206337, 0.11109711, 0.10780618, 0.04700408, 0.0601657 ,\n",
              "       0.03226919, 0.07760569, 0.05544181, 0.11714981, 0.07042097,\n",
              "       0.03963349, 0.09397691, 0.06706608, 0.04735534, 0.19332738,\n",
              "       0.09155767, 0.06534137, 0.05022832, 0.05691677, 0.06829357,\n",
              "       0.0294371 , 0.1327284 , 0.0513398 , 0.04560975, 0.0621365 ,\n",
              "       0.05014149, 0.04148616, 0.11377585, 0.04576377, 0.06458753,\n",
              "       0.0516805 , 0.12330807, 0.1013838 , 0.13483759, 0.05813443,\n",
              "       0.06112251, 0.0442008 , 0.15640149, 0.09242021, 0.0921792 ,\n",
              "       0.16909047, 0.10903328, 0.07244822, 0.05429222, 0.06687464,\n",
              "       0.1013367 , 0.14334571, 0.13888213, 0.03909658, 0.1555726 ,\n",
              "       0.03800475, 0.11331082, 0.18555266, 0.10308284, 0.07850795,\n",
              "       0.08998903, 0.1253522 , 0.15881111, 0.11481529, 0.09169715,\n",
              "       0.13998725, 0.03115369, 0.04360643, 0.0737104 , 0.03180517,\n",
              "       0.11152532, 0.05198002, 0.03761745, 0.04260718, 0.08910943,\n",
              "       0.05615272, 0.07515336, 0.03987368, 0.04737818, 0.03734968,\n",
              "       0.15931144, 0.12632518, 0.05864531, 0.03204174, 0.08503071,\n",
              "       0.04078855, 0.1168832 , 0.03717941, 0.05769355, 0.04828427,\n",
              "       0.12790263, 0.0702787 , 0.07543876, 0.08023462, 0.04574373,\n",
              "       0.06572385, 0.12198088, 0.05760329, 0.03845748, 0.03624063,\n",
              "       0.10579995, 0.041577  , 0.11684597, 0.04255446, 0.04472841,\n",
              "       0.0457851 , 0.07177529, 0.04536614, 0.17817412, 0.05386896,\n",
              "       0.05965842, 0.04052666, 0.07079561, 0.11077125, 0.04166288,\n",
              "       0.0401845 , 0.08267274, 0.05866774, 0.13146346, 0.06404969,\n",
              "       0.13630063, 0.05645668, 0.03951241, 0.09534853, 0.03954621,\n",
              "       0.16226936, 0.17841344, 0.05944624, 0.06062602, 0.05061018,\n",
              "       0.0464357 , 0.05764519, 0.06063769, 0.03097948, 0.09099257,\n",
              "       0.06772316, 0.06405237, 0.10381105, 0.05049115, 0.08987223,\n",
              "       0.07675685, 0.03596078, 0.08182294, 0.14067046, 0.10503407,\n",
              "       0.11681346, 0.09798056, 0.03917021, 0.21463308, 0.07907142,\n",
              "       0.04998082, 0.08553079, 0.09198563, 0.07107753, 0.078684  ,\n",
              "       0.02733935, 0.05773566, 0.11565827, 0.09684285, 0.16422691,\n",
              "       0.14349479, 0.15294131, 0.03822197, 0.05364763, 0.04155228,\n",
              "       0.04453861, 0.08153918, 0.05554038, 0.03737226, 0.21165144,\n",
              "       0.09234099, 0.12702454, 0.04208415, 0.14875639, 0.02998221,\n",
              "       0.14908759, 0.06652637, 0.08392754, 0.0341853 , 0.10587245,\n",
              "       0.07422715, 0.05301033, 0.08604671, 0.08874548, 0.06490214,\n",
              "       0.04424864, 0.06370151, 0.06232539, 0.16460841, 0.04196344,\n",
              "       0.06795025, 0.08697208, 0.04069848, 0.03727839, 0.19011623,\n",
              "       0.11556721, 0.06185723, 0.07260341, 0.06212703, 0.09404717,\n",
              "       0.09936415, 0.0604784 , 0.06652129, 0.06840905, 0.06777972,\n",
              "       0.13427588, 0.04909226, 0.07221499, 0.05373628, 0.05925164,\n",
              "       0.16875099, 0.06569315, 0.08991924, 0.05337241, 0.05543299,\n",
              "       0.08584985, 0.09237822, 0.03584327, 0.05418716, 0.05430409,\n",
              "       0.06660268, 0.12327409, 0.06332925, 0.03233632, 0.12668633,\n",
              "       0.11675485, 0.05659257, 0.08664562, 0.05457431, 0.05165518,\n",
              "       0.0426459 , 0.04188111, 0.07224507, 0.05186676, 0.10499709,\n",
              "       0.1327553 , 0.08083325, 0.18196735, 0.10440913, 0.04089072,\n",
              "       0.04740567, 0.15762455, 0.11217295, 0.14035055, 0.13173227,\n",
              "       0.04943485, 0.10655084, 0.05331312, 0.07408997, 0.03981724,\n",
              "       0.13404535, 0.09702018, 0.12157555, 0.09094059, 0.09087209,\n",
              "       0.11100253, 0.04280571, 0.08859454, 0.05247582, 0.05451745,\n",
              "       0.06871715, 0.05232074, 0.12125123, 0.09793189, 0.06162016,\n",
              "       0.02967639, 0.05176258, 0.04770345, 0.05112068, 0.07597031,\n",
              "       0.03515652, 0.05903342, 0.08334261, 0.0519669 , 0.07788067,\n",
              "       0.10774652, 0.05301726, 0.04789215, 0.16074024, 0.04978316,\n",
              "       0.06634032, 0.0992011 , 0.15588394, 0.05896084, 0.17670184,\n",
              "       0.03819078, 0.09504748, 0.13057769, 0.09327945, 0.05794335,\n",
              "       0.10137382, 0.08533404, 0.11676129, 0.05126153, 0.03367153,\n",
              "       0.08195023, 0.07543618, 0.03843105, 0.09524799, 0.0490971 ,\n",
              "       0.10442254, 0.04796675, 0.1073061 , 0.04221304, 0.14250819,\n",
              "       0.14149108, 0.05515137, 0.13182902, 0.05423512, 0.03625971,\n",
              "       0.10822015, 0.0969794 , 0.15428994, 0.07084967, 0.11057656,\n",
              "       0.04791601, 0.13233269, 0.06570154, 0.05590935, 0.05774335,\n",
              "       0.04893017, 0.08463269, 0.05990716, 0.05098679, 0.23253613,\n",
              "       0.07979693, 0.0454227 , 0.04233652, 0.05871561, 0.07761394,\n",
              "       0.10621775, 0.14788325, 0.06143395, 0.07159036, 0.05336587,\n",
              "       0.06553627, 0.04693282, 0.07108488, 0.09801701, 0.20652407,\n",
              "       0.06553463, 0.06165633, 0.09256603, 0.18578274, 0.04906848,\n",
              "       0.07945913, 0.10506622, 0.08873302, 0.08812166, 0.05509286,\n",
              "       0.02935153, 0.05401926, 0.13035351, 0.0471308 , 0.24321764,\n",
              "       0.08473994, 0.03301937, 0.04879324, 0.02547247, 0.05359548,\n",
              "       0.08400954, 0.05824774, 0.11585539, 0.04186105, 0.27796829,\n",
              "       0.04658698, 0.09074786, 0.10197687, 0.06959083, 0.04903338,\n",
              "       0.09962757, 0.0590788 , 0.05042838, 0.0552852 , 0.05521898,\n",
              "       0.05208653, 0.0570191 , 0.15044155, 0.08079087, 0.04840989,\n",
              "       0.04503573, 0.05111813, 0.05568629, 0.02698415, 0.1193325 ,\n",
              "       0.12631128, 0.11115422, 0.15539992, 0.09547513, 0.09821642,\n",
              "       0.05027269, 0.05554355, 0.06851198, 0.19664826, 0.10449846,\n",
              "       0.10313827, 0.04676904, 0.05966735, 0.09356105, 0.03839017,\n",
              "       0.05913252, 0.04493932, 0.05826754, 0.0510638 , 0.08684984,\n",
              "       0.08705941, 0.13428566, 0.04823791, 0.13674077, 0.06541747,\n",
              "       0.04312431, 0.04399935, 0.21149576, 0.04579043, 0.07141343,\n",
              "       0.05469853, 0.07875332, 0.04960567, 0.12917217, 0.06752023,\n",
              "       0.09086525, 0.037151  , 0.0666707 , 0.09692258, 0.05949052,\n",
              "       0.05221018, 0.08732841, 0.12631929, 0.06184076, 0.05327916,\n",
              "       0.05084655, 0.03611678, 0.09805693, 0.0871059 , 0.05937454,\n",
              "       0.09083221, 0.08718776, 0.13074535, 0.05688127, 0.04325224,\n",
              "       0.10418121, 0.13237855, 0.1262649 , 0.06123878, 0.09324414,\n",
              "       0.07336758, 0.03411284, 0.04136676, 0.06933737, 0.03534863,\n",
              "       0.04358591, 0.12106457, 0.04229449, 0.06572914, 0.09962659,\n",
              "       0.08432699, 0.10527916, 0.1084839 , 0.08088081, 0.18464492,\n",
              "       0.09179246, 0.04688324, 0.03323436, 0.04866968, 0.08012034,\n",
              "       0.06263613, 0.12704114, 0.05211267, 0.05615811, 0.12837369,\n",
              "       0.05228566, 0.06847483, 0.05396406, 0.2247744 , 0.10437737,\n",
              "       0.04939358, 0.05022972, 0.10783445, 0.13318589, 0.05581582,\n",
              "       0.05904052, 0.03969933, 0.1099242 , 0.03546464, 0.08512196,\n",
              "       0.25292908, 0.05620984, 0.12805197, 0.08581625, 0.09286593,\n",
              "       0.03079003, 0.19320051, 0.05659567, 0.09301481, 0.1157758 ,\n",
              "       0.09878687, 0.04202009, 0.1451779 , 0.05557371, 0.03559264,\n",
              "       0.09251551, 0.14552881, 0.11116319, 0.05153822, 0.06658583,\n",
              "       0.0932733 , 0.05231205, 0.09601777, 0.05807404, 0.1103802 ,\n",
              "       0.0592916 , 0.11027182, 0.05320434, 0.10761021, 0.03796566,\n",
              "       0.20346894, 0.07483556, 0.04545784, 0.08079726, 0.11442652,\n",
              "       0.12182818, 0.04357931, 0.1753901 , 0.05588856, 0.05385342,\n",
              "       0.07101189, 0.0445027 , 0.0359476 , 0.10141496, 0.07375069,\n",
              "       0.10947701, 0.08450189, 0.13189498, 0.046962  , 0.06685253,\n",
              "       0.15272043, 0.08908397, 0.03694132, 0.04886743, 0.054411  ,\n",
              "       0.0636883 , 0.07992805, 0.0644301 , 0.1043078 , 0.16619123,\n",
              "       0.06193629, 0.04739083, 0.06105149, 0.12452965, 0.12035482,\n",
              "       0.06387411, 0.09878234, 0.11807488, 0.10187955, 0.02891867,\n",
              "       0.04687399, 0.09542075, 0.13771768, 0.09771395, 0.07293193,\n",
              "       0.09940979, 0.13394956, 0.03696089, 0.04258122, 0.05069085,\n",
              "       0.1385364 , 0.0581712 , 0.02618557, 0.15613617, 0.05358739,\n",
              "       0.04146364, 0.08347021, 0.09166185, 0.16445394, 0.05194957,\n",
              "       0.05629849, 0.11581002, 0.06939851, 0.04550651, 0.08022268,\n",
              "       0.04779698, 0.06015429, 0.05560025, 0.04204238, 0.04626275,\n",
              "       0.07198728, 0.08598811, 0.08954552, 0.1050534 , 0.04756211,\n",
              "       0.05575364, 0.0644638 , 0.02983587, 0.07238113, 0.11386959,\n",
              "       0.08735469, 0.04884325, 0.04021925, 0.13189471, 0.1397383 ,\n",
              "       0.09991987, 0.15673557, 0.0434228 , 0.13389796, 0.18226967,\n",
              "       0.06277918, 0.09422445, 0.07085063, 0.08072852, 0.04997872,\n",
              "       0.07175954, 0.08241528, 0.07654964, 0.04837793, 0.04955496,\n",
              "       0.05434484, 0.03514189, 0.03464037, 0.04450569, 0.05172422,\n",
              "       0.05225677, 0.05623831, 0.0993325 , 0.045981  , 0.08362664,\n",
              "       0.07296692, 0.11219795, 0.07770965, 0.08755277, 0.05797056,\n",
              "       0.06660589, 0.06133201, 0.08883531, 0.07572861, 0.1050641 ,\n",
              "       0.04856619, 0.04553046, 0.06802591, 0.08534426, 0.04711237,\n",
              "       0.06711899, 0.07480817, 0.12776401, 0.07266531, 0.06774724,\n",
              "       0.06964695, 0.13751671, 0.04298648, 0.04017241, 0.03596677,\n",
              "       0.09766414, 0.05287933, 0.133782  , 0.0459851 , 0.07743816,\n",
              "       0.03592201, 0.07159914, 0.17116961, 0.04098182, 0.13895717,\n",
              "       0.17029344, 0.09054332, 0.05342552, 0.10297572, 0.03682853,\n",
              "       0.06867278, 0.06560112, 0.0871956 , 0.12576089, 0.10330753,\n",
              "       0.13968274, 0.04509088, 0.07097637, 0.07101452, 0.02803096,\n",
              "       0.03828027, 0.13909444, 0.04035502, 0.06604863, 0.07672274,\n",
              "       0.10338964, 0.10123169, 0.07798496, 0.06356314, 0.17062009,\n",
              "       0.1086084 , 0.0490468 , 0.04544278, 0.09263553, 0.11788695,\n",
              "       0.11062004, 0.02723565, 0.09485647, 0.09545332, 0.04079721,\n",
              "       0.1638077 , 0.05742556, 0.05321324, 0.05225334, 0.05765716,\n",
              "       0.15705987, 0.15023003, 0.0567428 , 0.09638621, 0.09772572,\n",
              "       0.04826312, 0.04540788, 0.04478029, 0.03946358, 0.05688269,\n",
              "       0.11440749, 0.04720251, 0.10194172, 0.07664705, 0.06490351,\n",
              "       0.21711059, 0.08673372, 0.05065494, 0.12785543, 0.04166901,\n",
              "       0.07701068, 0.07989372, 0.03672319, 0.02761513, 0.05452121,\n",
              "       0.03054099, 0.05351814, 0.13509522, 0.03503095, 0.0616257 ,\n",
              "       0.06951151, 0.04805986, 0.04190925, 0.06905704, 0.05118484,\n",
              "       0.04450106, 0.04596119, 0.06837963, 0.03817311, 0.05418961,\n",
              "       0.26120862, 0.11311659, 0.17821842, 0.06068131, 0.1031965 ,\n",
              "       0.21656643, 0.05644674, 0.05002795, 0.05971806, 0.10718909,\n",
              "       0.08888305, 0.11767407, 0.03616042, 0.05958835, 0.03592916,\n",
              "       0.05591938, 0.05518022, 0.12450115, 0.0398202 , 0.06058541,\n",
              "       0.08341854, 0.0676104 , 0.06526888, 0.08976114, 0.05033074,\n",
              "       0.16530805, 0.06707248, 0.05505602, 0.1684713 , 0.04089312,\n",
              "       0.1653835 , 0.06022415, 0.05867725, 0.07528517, 0.06327603,\n",
              "       0.08446943, 0.05219887, 0.0615287 , 0.06157943, 0.06079879,\n",
              "       0.11243795, 0.03182075, 0.10900383, 0.08721919, 0.05994505,\n",
              "       0.09785261, 0.079387  , 0.0997977 , 0.05358564, 0.38013262,\n",
              "       0.13123393, 0.0777098 , 0.20136417, 0.09428386, 0.04837056,\n",
              "       0.21439258, 0.0730644 , 0.19044855, 0.063244  , 0.05492909,\n",
              "       0.05051597, 0.05287248, 0.05726183, 0.09763842, 0.05523156,\n",
              "       0.04531641, 0.19954787, 0.0460321 , 0.07453792, 0.05029464,\n",
              "       0.1105968 , 0.05492159, 0.02708037, 0.09765684, 0.04014427,\n",
              "       0.14091354, 0.10683977, 0.0484534 , 0.03891299, 0.04858985,\n",
              "       0.04298255, 0.07657012, 0.1144404 , 0.03565871, 0.06257056,\n",
              "       0.16628777, 0.30187021, 0.10095098, 0.08101854, 0.07689797,\n",
              "       0.14874517, 0.09532536, 0.06410317, 0.09307514, 0.0681038 ,\n",
              "       0.11660079, 0.06754098, 0.04081324, 0.11127647, 0.04499262,\n",
              "       0.17842508, 0.08571088, 0.13927702, 0.11200882, 0.27067082,\n",
              "       0.060543  , 0.09912505, 0.09838823, 0.10581897, 0.07598176,\n",
              "       0.16996254, 0.0922443 , 0.03589681, 0.06200007, 0.06522141,\n",
              "       0.11381533, 0.08922681, 0.04021306, 0.04163071, 0.19235837,\n",
              "       0.13210344, 0.11746205, 0.03244261, 0.04302886, 0.10093148,\n",
              "       0.05983579, 0.05339143, 0.09282949, 0.12510644, 0.0494878 ,\n",
              "       0.15527108, 0.06711007, 0.05801446, 0.15993386, 0.05371306,\n",
              "       0.09018469, 0.06214239, 0.10777593, 0.14891231, 0.03439809,\n",
              "       0.10962885, 0.05310826, 0.04416717, 0.12258553, 0.05059961,\n",
              "       0.12514828, 0.05979574, 0.10358571, 0.04920708, 0.09011415,\n",
              "       0.05794955, 0.13306208, 0.08734382, 0.04797899, 0.1258214 ,\n",
              "       0.05560425, 0.11842082, 0.07187091, 0.08078385, 0.08996745,\n",
              "       0.05494676, 0.0672142 , 0.07782891, 0.26804963, 0.10891186,\n",
              "       0.11966386, 0.06098482, 0.12788418, 0.03695973, 0.08344291,\n",
              "       0.14320183, 0.06532089, 0.12965635, 0.04403884, 0.17630785,\n",
              "       0.06079315, 0.03536847, 0.04713137, 0.18185369, 0.12838592,\n",
              "       0.09458803, 0.07020892, 0.05679465, 0.04706651, 0.07220744,\n",
              "       0.27304597, 0.10714515, 0.04583302, 0.02993225, 0.15668085,\n",
              "       0.05462287, 0.07025308, 0.09609411, 0.08611194, 0.05197658,\n",
              "       0.06974907, 0.07215997, 0.04150788, 0.05470064, 0.08981879,\n",
              "       0.0869686 , 0.06234205, 0.0379303 , 0.06830022, 0.11219822,\n",
              "       0.03713291, 0.06697262, 0.05172695, 0.12217342, 0.10660373,\n",
              "       0.14970262, 0.0474629 , 0.06738412, 0.09997777, 0.05507473,\n",
              "       0.1590893 , 0.13545012, 0.0689866 , 0.09829631, 0.10471898,\n",
              "       0.08554207, 0.11092195])"
            ]
          },
          "metadata": {
            "tags": []
          },
          "execution_count": 22
        }
      ]
    },
    {
      "cell_type": "code",
      "metadata": {
        "colab": {
          "base_uri": "https://localhost:8080/"
        },
        "id": "qlen-VKm1E0X",
        "outputId": "1af78a70-d787-4571-9940-fa38997520dd"
      },
      "source": [
        "df_FakeNews_train.shape"
      ],
      "execution_count": null,
      "outputs": [
        {
          "output_type": "execute_result",
          "data": {
            "text/plain": [
              "(18128, 6)"
            ]
          },
          "metadata": {
            "tags": []
          },
          "execution_count": 23
        }
      ]
    },
    {
      "cell_type": "code",
      "metadata": {
        "colab": {
          "base_uri": "https://localhost:8080/"
        },
        "id": "1VgwjFyV1E0X",
        "outputId": "3c440e44-d6fd-4605-e415-09a724ad93ad"
      },
      "source": [
        "df_FakeNews_train.cosine_score.unique"
      ],
      "execution_count": null,
      "outputs": [
        {
          "output_type": "execute_result",
          "data": {
            "text/plain": [
              "<bound method Series.unique of 0        0.0\n",
              "1        0.0\n",
              "2        0.0\n",
              "3        0.0\n",
              "4        0.0\n",
              "        ... \n",
              "20795    0.0\n",
              "20796    0.0\n",
              "20797    0.0\n",
              "20798    0.0\n",
              "20799    0.0\n",
              "Name: cosine_score, Length: 18128, dtype: float64>"
            ]
          },
          "metadata": {
            "tags": []
          },
          "execution_count": 24
        }
      ]
    },
    {
      "cell_type": "markdown",
      "metadata": {
        "id": "NdkZO8K01E0X"
      },
      "source": [
        "## Amalgamation"
      ]
    },
    {
      "cell_type": "markdown",
      "metadata": {
        "id": "A6gfvPI71E0X"
      },
      "source": [
        "### Lier"
      ]
    },
    {
      "cell_type": "code",
      "metadata": {
        "id": "I33SpNPi1E0X"
      },
      "source": [
        "# df_Lier_clean.to_csv('df_lier_cosine.csv')\n",
        "# files.download('df_lier_cosine.csv')"
      ],
      "execution_count": null,
      "outputs": []
    },
    {
      "cell_type": "code",
      "metadata": {
        "colab": {
          "base_uri": "https://localhost:8080/"
        },
        "id": "XKnXZvvk1E0X",
        "outputId": "ca304223-d485-4ae2-8323-5ee4568d4c09"
      },
      "source": [
        "df_Lier_clean.shape"
      ],
      "execution_count": null,
      "outputs": [
        {
          "output_type": "execute_result",
          "data": {
            "text/plain": [
              "(6723, 15)"
            ]
          },
          "metadata": {
            "tags": []
          },
          "execution_count": 26
        }
      ]
    },
    {
      "cell_type": "code",
      "metadata": {
        "id": "s9Ou8kbS1E0X"
      },
      "source": [
        "df_Liertrim = df_Lier_clean[df_Lier_clean.cosine_score != 0]"
      ],
      "execution_count": null,
      "outputs": []
    },
    {
      "cell_type": "code",
      "metadata": {
        "colab": {
          "base_uri": "https://localhost:8080/"
        },
        "id": "LSbGdgrm1E0X",
        "outputId": "000c9cf4-9e7c-4e2e-e59a-2dcf0a18cffe"
      },
      "source": [
        "df_Liertrim.shape"
      ],
      "execution_count": null,
      "outputs": [
        {
          "output_type": "execute_result",
          "data": {
            "text/plain": [
              "(993, 15)"
            ]
          },
          "metadata": {
            "tags": []
          },
          "execution_count": 28
        }
      ]
    },
    {
      "cell_type": "code",
      "metadata": {
        "colab": {
          "base_uri": "https://localhost:8080/"
        },
        "id": "22Irb1n71E0X",
        "outputId": "e651e02f-5201-49d1-d1bd-e1d19bd15a22"
      },
      "source": [
        "df_Liertrim.describe()"
      ],
      "execution_count": null,
      "outputs": [
        {
          "output_type": "execute_result",
          "data": {
            "application/vnd.google.colaboratory.module+javascript": "\n      import \"https://ssl.gstatic.com/colaboratory/data_table/a6224c040fa35dcf/data_table.js\";\n\n      window.createDataTable({\n        data: [[\"count\",\n{\n            'v': 993.0,\n            'f': \"993.0\",\n        },\n{\n            'v': 993.0,\n            'f': \"993.0\",\n        },\n{\n            'v': 993.0,\n            'f': \"993.0\",\n        },\n{\n            'v': 993.0,\n            'f': \"993.0\",\n        },\n{\n            'v': 993.0,\n            'f': \"993.0\",\n        },\n{\n            'v': 993.0,\n            'f': \"993.0\",\n        }],\n [\"mean\",\n{\n            'v': 16.934541792547837,\n            'f': \"16.934541792547837\",\n        },\n{\n            'v': 18.34340382678751,\n            'f': \"18.34340382678751\",\n        },\n{\n            'v': 27.453172205438065,\n            'f': \"27.453172205438065\",\n        },\n{\n            'v': 26.760322255790534,\n            'f': \"26.760322255790534\",\n        },\n{\n            'v': 5.680765357502517,\n            'f': \"5.680765357502517\",\n        },\n{\n            'v': 0.08248372925844451,\n            'f': \"0.08248372925844451\",\n        }],\n [\"std\",\n{\n            'v': 21.991813570725636,\n            'f': \"21.991813570725636\",\n        },\n{\n            'v': 26.4272796208832,\n            'f': \"26.4272796208832\",\n        },\n{\n            'v': 44.26601305518688,\n            'f': \"44.26601305518688\",\n        },\n{\n            'v': 44.951844268304086,\n            'f': \"44.951844268304086\",\n        },\n{\n            'v': 10.836570151087662,\n            'f': \"10.836570151087662\",\n        },\n{\n            'v': 0.043647311414604636,\n            'f': \"0.043647311414604636\",\n        }],\n [\"min\",\n{\n            'v': 0.0,\n            'f': \"0.0\",\n        },\n{\n            'v': 0.0,\n            'f': \"0.0\",\n        },\n{\n            'v': 0.0,\n            'f': \"0.0\",\n        },\n{\n            'v': 0.0,\n            'f': \"0.0\",\n        },\n{\n            'v': 0.0,\n            'f': \"0.0\",\n        },\n{\n            'v': 0.025472472203275975,\n            'f': \"0.025472472203275975\",\n        }],\n [\"25%\",\n{\n            'v': 1.0,\n            'f': \"1.0\",\n        },\n{\n            'v': 1.0,\n            'f': \"1.0\",\n        },\n{\n            'v': 1.0,\n            'f': \"1.0\",\n        },\n{\n            'v': 1.0,\n            'f': \"1.0\",\n        },\n{\n            'v': 0.0,\n            'f': \"0.0\",\n        },\n{\n            'v': 0.050986790414876415,\n            'f': \"0.050986790414876415\",\n        }],\n [\"50%\",\n{\n            'v': 6.0,\n            'f': \"6.0\",\n        },\n{\n            'v': 5.0,\n            'f': \"5.0\",\n        },\n{\n            'v': 7.0,\n            'f': \"7.0\",\n        },\n{\n            'v': 5.0,\n            'f': \"5.0\",\n        },\n{\n            'v': 2.0,\n            'f': \"2.0\",\n        },\n{\n            'v': 0.06898660201357065,\n            'f': \"0.06898660201357065\",\n        }],\n [\"75%\",\n{\n            'v': 30.0,\n            'f': \"30.0\",\n        },\n{\n            'v': 29.0,\n            'f': \"29.0\",\n        },\n{\n            'v': 32.0,\n            'f': \"32.0\",\n        },\n{\n            'v': 34.0,\n            'f': \"34.0\",\n        },\n{\n            'v': 8.0,\n            'f': \"8.0\",\n        },\n{\n            'v': 0.10437737164784422,\n            'f': \"0.10437737164784422\",\n        }],\n [\"max\",\n{\n            'v': 70.0,\n            'f': \"70.0\",\n        },\n{\n            'v': 114.0,\n            'f': \"114.0\",\n        },\n{\n            'v': 160.0,\n            'f': \"160.0\",\n        },\n{\n            'v': 163.0,\n            'f': \"163.0\",\n        },\n{\n            'v': 61.0,\n            'f': \"61.0\",\n        },\n{\n            'v': 0.38013261793441155,\n            'f': \"0.38013261793441155\",\n        }]],\n        columns: [[\"string\", \"index\"], [\"number\", \"barelytruecounts\"], [\"number\", \"falsecounts\"], [\"number\", \"halftruecounts\"], [\"number\", \"mostlytrueocunts\"], [\"number\", \"pantsonfirecounts\"], [\"number\", \"cosine_score\"]],\n        columnOptions: [{\"width\": \"1px\", \"className\": \"index_column\"}],\n        rowsPerPage: 25,\n        helpUrl: \"https://colab.research.google.com/notebooks/data_table.ipynb\",\n        suppressOutputScrolling: true,\n        minimumWidth: undefined,\n      });\n    ",
            "text/html": [
              "<div>\n",
              "<style scoped>\n",
              "    .dataframe tbody tr th:only-of-type {\n",
              "        vertical-align: middle;\n",
              "    }\n",
              "\n",
              "    .dataframe tbody tr th {\n",
              "        vertical-align: top;\n",
              "    }\n",
              "\n",
              "    .dataframe thead th {\n",
              "        text-align: right;\n",
              "    }\n",
              "</style>\n",
              "<table border=\"1\" class=\"dataframe\">\n",
              "  <thead>\n",
              "    <tr style=\"text-align: right;\">\n",
              "      <th></th>\n",
              "      <th>barelytruecounts</th>\n",
              "      <th>falsecounts</th>\n",
              "      <th>halftruecounts</th>\n",
              "      <th>mostlytrueocunts</th>\n",
              "      <th>pantsonfirecounts</th>\n",
              "      <th>cosine_score</th>\n",
              "    </tr>\n",
              "  </thead>\n",
              "  <tbody>\n",
              "    <tr>\n",
              "      <th>count</th>\n",
              "      <td>993.000000</td>\n",
              "      <td>993.000000</td>\n",
              "      <td>993.000000</td>\n",
              "      <td>993.000000</td>\n",
              "      <td>993.000000</td>\n",
              "      <td>993.000000</td>\n",
              "    </tr>\n",
              "    <tr>\n",
              "      <th>mean</th>\n",
              "      <td>16.934542</td>\n",
              "      <td>18.343404</td>\n",
              "      <td>27.453172</td>\n",
              "      <td>26.760322</td>\n",
              "      <td>5.680765</td>\n",
              "      <td>0.082484</td>\n",
              "    </tr>\n",
              "    <tr>\n",
              "      <th>std</th>\n",
              "      <td>21.991814</td>\n",
              "      <td>26.427280</td>\n",
              "      <td>44.266013</td>\n",
              "      <td>44.951844</td>\n",
              "      <td>10.836570</td>\n",
              "      <td>0.043647</td>\n",
              "    </tr>\n",
              "    <tr>\n",
              "      <th>min</th>\n",
              "      <td>0.000000</td>\n",
              "      <td>0.000000</td>\n",
              "      <td>0.000000</td>\n",
              "      <td>0.000000</td>\n",
              "      <td>0.000000</td>\n",
              "      <td>0.025472</td>\n",
              "    </tr>\n",
              "    <tr>\n",
              "      <th>25%</th>\n",
              "      <td>1.000000</td>\n",
              "      <td>1.000000</td>\n",
              "      <td>1.000000</td>\n",
              "      <td>1.000000</td>\n",
              "      <td>0.000000</td>\n",
              "      <td>0.050987</td>\n",
              "    </tr>\n",
              "    <tr>\n",
              "      <th>50%</th>\n",
              "      <td>6.000000</td>\n",
              "      <td>5.000000</td>\n",
              "      <td>7.000000</td>\n",
              "      <td>5.000000</td>\n",
              "      <td>2.000000</td>\n",
              "      <td>0.068987</td>\n",
              "    </tr>\n",
              "    <tr>\n",
              "      <th>75%</th>\n",
              "      <td>30.000000</td>\n",
              "      <td>29.000000</td>\n",
              "      <td>32.000000</td>\n",
              "      <td>34.000000</td>\n",
              "      <td>8.000000</td>\n",
              "      <td>0.104377</td>\n",
              "    </tr>\n",
              "    <tr>\n",
              "      <th>max</th>\n",
              "      <td>70.000000</td>\n",
              "      <td>114.000000</td>\n",
              "      <td>160.000000</td>\n",
              "      <td>163.000000</td>\n",
              "      <td>61.000000</td>\n",
              "      <td>0.380133</td>\n",
              "    </tr>\n",
              "  </tbody>\n",
              "</table>\n",
              "</div>"
            ],
            "text/plain": [
              "       barelytruecounts  falsecounts  ...  pantsonfirecounts  cosine_score\n",
              "count  993.000000        993.000000   ...  993.000000         993.000000  \n",
              "mean   16.934542         18.343404    ...  5.680765           0.082484    \n",
              "std    21.991814         26.427280    ...  10.836570          0.043647    \n",
              "min    0.000000          0.000000     ...  0.000000           0.025472    \n",
              "25%    1.000000          1.000000     ...  0.000000           0.050987    \n",
              "50%    6.000000          5.000000     ...  2.000000           0.068987    \n",
              "75%    30.000000         29.000000    ...  8.000000           0.104377    \n",
              "max    70.000000         114.000000   ...  61.000000          0.380133    \n",
              "\n",
              "[8 rows x 6 columns]"
            ]
          },
          "metadata": {
            "tags": []
          },
          "execution_count": 29
        }
      ]
    },
    {
      "cell_type": "markdown",
      "metadata": {
        "id": "SQUq_48W1E0X"
      },
      "source": [
        "### FakeNews"
      ]
    },
    {
      "cell_type": "code",
      "metadata": {
        "id": "ynQUkSdA1E0X"
      },
      "source": [
        "# df_FakeNews_train.to_csv('df_fake_cosine.csv')\n",
        "# files.download('df_fake_cosine.csv')"
      ],
      "execution_count": null,
      "outputs": []
    },
    {
      "cell_type": "code",
      "metadata": {
        "colab": {
          "base_uri": "https://localhost:8080/"
        },
        "id": "lVYRGKti1E0X",
        "outputId": "b7635c24-4884-40ff-c257-bfc1c6349b78"
      },
      "source": [
        "df_FakeNews_train.shape"
      ],
      "execution_count": null,
      "outputs": [
        {
          "output_type": "execute_result",
          "data": {
            "text/plain": [
              "(18128, 6)"
            ]
          },
          "metadata": {
            "tags": []
          },
          "execution_count": 31
        }
      ]
    },
    {
      "cell_type": "code",
      "metadata": {
        "id": "lSq_U7LR1E0Y"
      },
      "source": [
        "df_Faketrim = df_FakeNews_train[df_FakeNews_train.cosine_score != 0]"
      ],
      "execution_count": null,
      "outputs": []
    },
    {
      "cell_type": "code",
      "metadata": {
        "colab": {
          "base_uri": "https://localhost:8080/"
        },
        "id": "JITpcHT61E0Y",
        "outputId": "ec60c483-daa1-416f-84e0-bc69664ec768"
      },
      "source": [
        "df_Faketrim.shape"
      ],
      "execution_count": null,
      "outputs": [
        {
          "output_type": "execute_result",
          "data": {
            "text/plain": [
              "(445, 6)"
            ]
          },
          "metadata": {
            "tags": []
          },
          "execution_count": 33
        }
      ]
    },
    {
      "cell_type": "code",
      "metadata": {
        "colab": {
          "base_uri": "https://localhost:8080/"
        },
        "id": "kDOrewVZ1E0Y",
        "outputId": "dbb9f192-d6ed-46cf-8293-0a6e30c09f2e"
      },
      "source": [
        "df_Faketrim.describe()"
      ],
      "execution_count": null,
      "outputs": [
        {
          "output_type": "execute_result",
          "data": {
            "application/vnd.google.colaboratory.module+javascript": "\n      import \"https://ssl.gstatic.com/colaboratory/data_table/a6224c040fa35dcf/data_table.js\";\n\n      window.createDataTable({\n        data: [[\"count\",\n{\n            'v': 445.0,\n            'f': \"445.0\",\n        },\n{\n            'v': 445.0,\n            'f': \"445.0\",\n        },\n{\n            'v': 445.0,\n            'f': \"445.0\",\n        }],\n [\"mean\",\n{\n            'v': 10498.316853932583,\n            'f': \"10498.316853932583\",\n        },\n{\n            'v': 0.21797752808988763,\n            'f': \"0.21797752808988763\",\n        },\n{\n            'v': 0.1524469020186087,\n            'f': \"0.1524469020186087\",\n        }],\n [\"std\",\n{\n            'v': 6234.532735751832,\n            'f': \"6234.532735751832\",\n        },\n{\n            'v': 0.4133367292488395,\n            'f': \"0.4133367292488395\",\n        },\n{\n            'v': 0.07634638090023672,\n            'f': \"0.07634638090023672\",\n        }],\n [\"min\",\n{\n            'v': 42.0,\n            'f': \"42.0\",\n        },\n{\n            'v': 0.0,\n            'f': \"0.0\",\n        },\n{\n            'v': 0.03867628854684324,\n            'f': \"0.03867628854684324\",\n        }],\n [\"25%\",\n{\n            'v': 4873.0,\n            'f': \"4873.0\",\n        },\n{\n            'v': 0.0,\n            'f': \"0.0\",\n        },\n{\n            'v': 0.07990451127385156,\n            'f': \"0.07990451127385156\",\n        }],\n [\"50%\",\n{\n            'v': 10967.0,\n            'f': \"10967.0\",\n        },\n{\n            'v': 0.0,\n            'f': \"0.0\",\n        },\n{\n            'v': 0.16005350497555126,\n            'f': \"0.16005350497555126\",\n        }],\n [\"75%\",\n{\n            'v': 16087.0,\n            'f': \"16087.0\",\n        },\n{\n            'v': 0.0,\n            'f': \"0.0\",\n        },\n{\n            'v': 0.19985092996651377,\n            'f': \"0.19985092996651377\",\n        }],\n [\"max\",\n{\n            'v': 20788.0,\n            'f': \"20788.0\",\n        },\n{\n            'v': 1.0,\n            'f': \"1.0\",\n        },\n{\n            'v': 0.41837083749651305,\n            'f': \"0.41837083749651305\",\n        }]],\n        columns: [[\"string\", \"index\"], [\"number\", \"id\"], [\"number\", \"label\"], [\"number\", \"cosine_score\"]],\n        columnOptions: [{\"width\": \"1px\", \"className\": \"index_column\"}],\n        rowsPerPage: 25,\n        helpUrl: \"https://colab.research.google.com/notebooks/data_table.ipynb\",\n        suppressOutputScrolling: true,\n        minimumWidth: undefined,\n      });\n    ",
            "text/html": [
              "<div>\n",
              "<style scoped>\n",
              "    .dataframe tbody tr th:only-of-type {\n",
              "        vertical-align: middle;\n",
              "    }\n",
              "\n",
              "    .dataframe tbody tr th {\n",
              "        vertical-align: top;\n",
              "    }\n",
              "\n",
              "    .dataframe thead th {\n",
              "        text-align: right;\n",
              "    }\n",
              "</style>\n",
              "<table border=\"1\" class=\"dataframe\">\n",
              "  <thead>\n",
              "    <tr style=\"text-align: right;\">\n",
              "      <th></th>\n",
              "      <th>id</th>\n",
              "      <th>label</th>\n",
              "      <th>cosine_score</th>\n",
              "    </tr>\n",
              "  </thead>\n",
              "  <tbody>\n",
              "    <tr>\n",
              "      <th>count</th>\n",
              "      <td>445.000000</td>\n",
              "      <td>445.000000</td>\n",
              "      <td>445.000000</td>\n",
              "    </tr>\n",
              "    <tr>\n",
              "      <th>mean</th>\n",
              "      <td>10498.316854</td>\n",
              "      <td>0.217978</td>\n",
              "      <td>0.152447</td>\n",
              "    </tr>\n",
              "    <tr>\n",
              "      <th>std</th>\n",
              "      <td>6234.532736</td>\n",
              "      <td>0.413337</td>\n",
              "      <td>0.076346</td>\n",
              "    </tr>\n",
              "    <tr>\n",
              "      <th>min</th>\n",
              "      <td>42.000000</td>\n",
              "      <td>0.000000</td>\n",
              "      <td>0.038676</td>\n",
              "    </tr>\n",
              "    <tr>\n",
              "      <th>25%</th>\n",
              "      <td>4873.000000</td>\n",
              "      <td>0.000000</td>\n",
              "      <td>0.079905</td>\n",
              "    </tr>\n",
              "    <tr>\n",
              "      <th>50%</th>\n",
              "      <td>10967.000000</td>\n",
              "      <td>0.000000</td>\n",
              "      <td>0.160054</td>\n",
              "    </tr>\n",
              "    <tr>\n",
              "      <th>75%</th>\n",
              "      <td>16087.000000</td>\n",
              "      <td>0.000000</td>\n",
              "      <td>0.199851</td>\n",
              "    </tr>\n",
              "    <tr>\n",
              "      <th>max</th>\n",
              "      <td>20788.000000</td>\n",
              "      <td>1.000000</td>\n",
              "      <td>0.418371</td>\n",
              "    </tr>\n",
              "  </tbody>\n",
              "</table>\n",
              "</div>"
            ],
            "text/plain": [
              "                 id       label  cosine_score\n",
              "count  445.000000    445.000000  445.000000  \n",
              "mean   10498.316854  0.217978    0.152447    \n",
              "std    6234.532736   0.413337    0.076346    \n",
              "min    42.000000     0.000000    0.038676    \n",
              "25%    4873.000000   0.000000    0.079905    \n",
              "50%    10967.000000  0.000000    0.160054    \n",
              "75%    16087.000000  0.000000    0.199851    \n",
              "max    20788.000000  1.000000    0.418371    "
            ]
          },
          "metadata": {
            "tags": []
          },
          "execution_count": 34
        }
      ]
    },
    {
      "cell_type": "markdown",
      "metadata": {
        "id": "5W1Kyrvz1E0Y"
      },
      "source": [
        "### Merge"
      ]
    },
    {
      "cell_type": "code",
      "metadata": {
        "id": "sp1XgGp21E0Y"
      },
      "source": [
        "# Didn't work\n",
        "# df_mergeLierFake = pd.merge(df_Liertrim,df_Faketrim, on=\"cosine_score\", how=\"inner\")"
      ],
      "execution_count": null,
      "outputs": []
    },
    {
      "cell_type": "code",
      "metadata": {
        "colab": {
          "base_uri": "https://localhost:8080/"
        },
        "id": "bvKjwp0g1E0Y",
        "outputId": "edca2bfd-e5f5-4662-8880-f72d1c013b62"
      },
      "source": [
        "N = 100\n",
        "df_Liertrim.cosine_score = np.round(df_Liertrim.cosine_score*N).astype(int) \n",
        "df_Faketrim.cosine_score = np.round(df_Faketrim.cosine_score*N).astype(int) \n",
        "df_mergeLierFake = pd.merge(df_Liertrim,df_Faketrim, on=\"cosine_score\", how=\"inner\")\n",
        "df_mergeLierFake.cosine_score = df_mergeLierFake.cosine_score / N"
      ],
      "execution_count": null,
      "outputs": [
        {
          "output_type": "stream",
          "text": [
            "/usr/local/lib/python3.6/dist-packages/pandas/core/generic.py:5168: SettingWithCopyWarning: \n",
            "A value is trying to be set on a copy of a slice from a DataFrame.\n",
            "Try using .loc[row_indexer,col_indexer] = value instead\n",
            "\n",
            "See the caveats in the documentation: https://pandas.pydata.org/pandas-docs/stable/user_guide/indexing.html#returning-a-view-versus-a-copy\n",
            "  self[name] = value\n"
          ],
          "name": "stderr"
        }
      ]
    },
    {
      "cell_type": "code",
      "metadata": {
        "colab": {
          "base_uri": "https://localhost:8080/"
        },
        "id": "QAG0g0fq1E0Y",
        "outputId": "54b347ab-0233-4c51-838b-0e682f524dea"
      },
      "source": [
        "df_mergeLierFake.shape"
      ],
      "execution_count": null,
      "outputs": [
        {
          "output_type": "execute_result",
          "data": {
            "text/plain": [
              "(18986, 20)"
            ]
          },
          "metadata": {
            "tags": []
          },
          "execution_count": 36
        }
      ]
    },
    {
      "cell_type": "code",
      "metadata": {
        "colab": {
          "base_uri": "https://localhost:8080/",
          "height": 16
        },
        "id": "wPYjzSVy1E0Y",
        "outputId": "72ba3ebb-519b-4cb7-ecc6-f9199c7e9537"
      },
      "source": [
        "df_mergeLierFake.to_csv('df_LierFakeMerge.csv')\n",
        "files.download('df_LierFakeMerge.csv')"
      ],
      "execution_count": null,
      "outputs": [
        {
          "output_type": "display_data",
          "data": {
            "application/javascript": [
              "\n",
              "    async function download(id, filename, size) {\n",
              "      if (!google.colab.kernel.accessAllowed) {\n",
              "        return;\n",
              "      }\n",
              "      const div = document.createElement('div');\n",
              "      const label = document.createElement('label');\n",
              "      label.textContent = `Downloading \"${filename}\": `;\n",
              "      div.appendChild(label);\n",
              "      const progress = document.createElement('progress');\n",
              "      progress.max = size;\n",
              "      div.appendChild(progress);\n",
              "      document.body.appendChild(div);\n",
              "\n",
              "      const buffers = [];\n",
              "      let downloaded = 0;\n",
              "\n",
              "      const channel = await google.colab.kernel.comms.open(id);\n",
              "      // Send a message to notify the kernel that we're ready.\n",
              "      channel.send({})\n",
              "\n",
              "      for await (const message of channel.messages) {\n",
              "        // Send a message to notify the kernel that we're ready.\n",
              "        channel.send({})\n",
              "        if (message.buffers) {\n",
              "          for (const buffer of message.buffers) {\n",
              "            buffers.push(buffer);\n",
              "            downloaded += buffer.byteLength;\n",
              "            progress.value = downloaded;\n",
              "          }\n",
              "        }\n",
              "      }\n",
              "      const blob = new Blob(buffers, {type: 'application/binary'});\n",
              "      const a = document.createElement('a');\n",
              "      a.href = window.URL.createObjectURL(blob);\n",
              "      a.download = filename;\n",
              "      div.appendChild(a);\n",
              "      a.click();\n",
              "      div.remove();\n",
              "    }\n",
              "  "
            ],
            "text/plain": [
              "<IPython.core.display.Javascript object>"
            ]
          },
          "metadata": {
            "tags": []
          }
        },
        {
          "output_type": "display_data",
          "data": {
            "application/javascript": [
              "download(\"download_1676d307-2075-4dbd-99f4-0102bf5af4aa\", \"df_LierFakeMerge.csv\", 90048528)"
            ],
            "text/plain": [
              "<IPython.core.display.Javascript object>"
            ]
          },
          "metadata": {
            "tags": []
          }
        }
      ]
    },
    {
      "cell_type": "code",
      "metadata": {
        "id": "d43p0huZ1E0Y"
      },
      "source": [
        "# np.round(df_Liertest.cosine_score, decimals=2)\n",
        "# np.round(df_Faketest.cosine_score, decimals=2)"
      ],
      "execution_count": null,
      "outputs": []
    },
    {
      "cell_type": "code",
      "metadata": {
        "id": "M_MsvDaY1E0Y"
      },
      "source": [
        "df_mergeLierFake1 = df_mergeLierFake.drop_duplicates(subset=['Statement'])"
      ],
      "execution_count": null,
      "outputs": []
    },
    {
      "cell_type": "code",
      "metadata": {
        "colab": {
          "base_uri": "https://localhost:8080/"
        },
        "id": "QRoBkYes1E0Y",
        "outputId": "92a1dfbf-861f-4c06-cd13-c0f7913f746b"
      },
      "source": [
        "df_mergeLierFake1.shape"
      ],
      "execution_count": null,
      "outputs": [
        {
          "output_type": "execute_result",
          "data": {
            "text/plain": [
              "(954, 20)"
            ]
          },
          "metadata": {
            "tags": []
          },
          "execution_count": 63
        }
      ]
    },
    {
      "cell_type": "markdown",
      "metadata": {
        "id": "SJAzidtK-kdG"
      },
      "source": [
        "# Data Amalgamation on Scraped data (title) and Fake News Dataset (title)"
      ]
    },
    {
      "cell_type": "markdown",
      "metadata": {
        "id": "cY3kvC6Nadjv"
      },
      "source": [
        "## Read data"
      ]
    },
    {
      "cell_type": "code",
      "metadata": {
        "id": "mAx_1yTi-kdJ"
      },
      "source": [
        "df_Lier_clean = pd.read_csv(\"/content/drive/MyDrive/the-feature-finders/AlternusVera/Lier-Lier/LiarLiarCleanDataset.csv\")"
      ],
      "execution_count": null,
      "outputs": []
    },
    {
      "cell_type": "code",
      "metadata": {
        "colab": {
          "base_uri": "https://localhost:8080/"
        },
        "id": "THKiFN5s-kdJ",
        "outputId": "fcde63be-860a-4868-b02f-6e6f76a8b99b"
      },
      "source": [
        "df_Lier_clean.shape"
      ],
      "execution_count": null,
      "outputs": [
        {
          "output_type": "execute_result",
          "data": {
            "text/plain": [
              "(18210, 20)"
            ]
          },
          "metadata": {
            "tags": []
          },
          "execution_count": 96
        }
      ]
    },
    {
      "cell_type": "code",
      "metadata": {
        "id": "_-MlwJhK-kdL"
      },
      "source": [
        "df_FakeNews_train = pd.read_csv(\"/content/drive/MyDrive/the-feature-finders/AlternusVera/fake-news/train.csv\")"
      ],
      "execution_count": null,
      "outputs": []
    },
    {
      "cell_type": "code",
      "metadata": {
        "colab": {
          "base_uri": "https://localhost:8080/"
        },
        "id": "-tMVXSb4Glda",
        "outputId": "db0c3349-e4c7-421b-d0db-4bb2dfb6c832"
      },
      "source": [
        "df_FakeNews_train.shape"
      ],
      "execution_count": null,
      "outputs": [
        {
          "output_type": "execute_result",
          "data": {
            "text/plain": [
              "(20800, 5)"
            ]
          },
          "metadata": {
            "tags": []
          },
          "execution_count": 98
        }
      ]
    },
    {
      "cell_type": "code",
      "metadata": {
        "id": "F9dsw_eT-kdL"
      },
      "source": [
        "corpusCleanLiar = []\n",
        "for i in df_Lier_clean['Statement']:\n",
        "    corpusCleanLiar.append(i)\n",
        "\n",
        "corpusFakeNews = []\n",
        "for i in df_FakeNews_train['title'].astype('U'):\n",
        "    corpusFakeNews.append(i)"
      ],
      "execution_count": null,
      "outputs": []
    },
    {
      "cell_type": "code",
      "metadata": {
        "id": "eJ3yFng5-kdL"
      },
      "source": [
        "# Train a classifier that predicts the fakeness in the range of classes given by Cleaned liar liar dataset\n",
        "from sklearn.feature_extraction.text import TfidfVectorizer\n",
        "tfidfVector = TfidfVectorizer(max_features=1000)\n",
        "\n",
        "tfidf_cleanliar = tfidfVector.fit_transform(corpusCleanLiar)"
      ],
      "execution_count": null,
      "outputs": []
    },
    {
      "cell_type": "code",
      "metadata": {
        "id": "rfh3-_Fq-kdL"
      },
      "source": [
        "tf_idf_FN = tfidfVector.fit_transform(corpusFakeNews)\n",
        "words = tfidfVector.get_feature_names()"
      ],
      "execution_count": null,
      "outputs": []
    },
    {
      "cell_type": "code",
      "metadata": {
        "colab": {
          "base_uri": "https://localhost:8080/"
        },
        "id": "42oGM3Ex-kdL",
        "outputId": "5b310ff3-0449-4d18-b291-9d1c4cbd50a1"
      },
      "source": [
        "tfidf_cleanliar.toarray()"
      ],
      "execution_count": null,
      "outputs": [
        {
          "output_type": "execute_result",
          "data": {
            "text/plain": [
              "array([[0.        , 0.        , 0.        , ..., 0.        , 0.        ,\n",
              "        0.        ],\n",
              "       [0.        , 0.        , 0.        , ..., 0.        , 0.        ,\n",
              "        0.        ],\n",
              "       [0.        , 0.        , 0.        , ..., 0.        , 0.        ,\n",
              "        0.        ],\n",
              "       ...,\n",
              "       [0.        , 0.        , 0.        , ..., 0.        , 0.        ,\n",
              "        0.        ],\n",
              "       [0.        , 0.        , 0.        , ..., 0.        , 0.        ,\n",
              "        0.        ],\n",
              "       [0.17762906, 0.        , 0.        , ..., 0.        , 0.        ,\n",
              "        0.        ]])"
            ]
          },
          "metadata": {
            "tags": []
          },
          "execution_count": 102
        }
      ]
    },
    {
      "cell_type": "code",
      "metadata": {
        "colab": {
          "base_uri": "https://localhost:8080/"
        },
        "id": "4MnVVi6W-kdL",
        "outputId": "a3b4cc73-1e68-46ef-9c3a-b2df5f918373"
      },
      "source": [
        "tf_idf_FN.toarray()"
      ],
      "execution_count": null,
      "outputs": [
        {
          "output_type": "execute_result",
          "data": {
            "text/plain": [
              "array([[0., 0., 0., ..., 0., 0., 0.],\n",
              "       [0., 0., 0., ..., 0., 0., 0.],\n",
              "       [0., 0., 0., ..., 0., 0., 0.],\n",
              "       ...,\n",
              "       [0., 0., 0., ..., 0., 0., 0.],\n",
              "       [0., 0., 0., ..., 0., 0., 0.],\n",
              "       [0., 0., 0., ..., 0., 0., 0.]])"
            ]
          },
          "metadata": {
            "tags": []
          },
          "execution_count": 103
        }
      ]
    },
    {
      "cell_type": "code",
      "metadata": {
        "colab": {
          "base_uri": "https://localhost:8080/"
        },
        "id": "xpCUrZv7-kdL",
        "outputId": "24d6e8cd-edfc-4c1d-838b-2c3cf51a9caf"
      },
      "source": [
        "tfidfVector.vocabulary_"
      ],
      "execution_count": null,
      "outputs": [
        {
          "output_type": "execute_result",
          "data": {
            "text/plain": [
              "{'house': 403,\n",
              " 'dem': 223,\n",
              " 'aide': 35,\n",
              " 'we': 953,\n",
              " 'didn': 233,\n",
              " 'even': 275,\n",
              " 'see': 770,\n",
              " 'comey': 184,\n",
              " 'letter': 486,\n",
              " 'it': 436,\n",
              " 'flynn': 319,\n",
              " 'hillary': 391,\n",
              " 'clinton': 175,\n",
              " 'big': 100,\n",
              " 'woman': 976,\n",
              " 'on': 616,\n",
              " 'breitbart': 120,\n",
              " 'why': 967,\n",
              " 'the': 856,\n",
              " 'truth': 897,\n",
              " 'might': 546,\n",
              " 'get': 349,\n",
              " 'you': 992,\n",
              " 'fired': 313,\n",
              " '15': 6,\n",
              " 'civilians': 170,\n",
              " 'killed': 460,\n",
              " 'in': 412,\n",
              " 'us': 916,\n",
              " 'have': 381,\n",
              " 'been': 90,\n",
              " 'for': 321,\n",
              " 'story': 820,\n",
              " 'about': 15,\n",
              " 'to': 880,\n",
              " 'death': 218,\n",
              " 'hollywood': 399,\n",
              " 'would': 985,\n",
              " 'love': 509,\n",
              " 'trump': 895,\n",
              " 'if': 408,\n",
              " 'he': 382,\n",
              " 'north': 595,\n",
              " 'korea': 466,\n",
              " 'over': 631,\n",
              " 'of': 605,\n",
              " 'exclusive': 283,\n",
              " 'video': 928,\n",
              " 'life': 491,\n",
              " 'john': 448,\n",
              " 'at': 73,\n",
              " 'during': 251,\n",
              " 'long': 501,\n",
              " 'wins': 972,\n",
              " 'french': 335,\n",
              " 'party': 637,\n",
              " 'presidential': 672,\n",
              " 'new': 589,\n",
              " 'york': 991,\n",
              " 'times': 878,\n",
              " 'from': 337,\n",
              " 'donald': 245,\n",
              " 'with': 974,\n",
              " 'black': 104,\n",
              " 'church': 166,\n",
              " 'back': 81,\n",
              " 'plan': 651,\n",
              " 'ukraine': 909,\n",
              " 'and': 51,\n",
              " 'russia': 744,\n",
              " 'obama': 602,\n",
              " 'action': 20,\n",
              " 'soros': 800,\n",
              " 'agenda': 31,\n",
              " 'real': 700,\n",
              " 'isis': 429,\n",
              " 'russian': 745,\n",
              " 'secret': 767,\n",
              " 'military': 550,\n",
              " 'photos': 648,\n",
              " 'officials': 612,\n",
              " 'no': 594,\n",
              " 'between': 99,\n",
              " 're': 698,\n",
              " 'there': 860,\n",
              " 'are': 60,\n",
              " 'paid': 633,\n",
              " 'government': 366,\n",
              " 'social': 795,\n",
              " 'media': 531,\n",
              " 'major': 514,\n",
              " 'find': 309,\n",
              " 'home': 400,\n",
              " 'chief': 157,\n",
              " 'down': 247,\n",
              " 'million': 551,\n",
              " 'release': 710,\n",
              " 'everyone': 280,\n",
              " 'arrested': 64,\n",
              " 'dakota': 208,\n",
              " 'access': 16,\n",
              " 'pipeline': 650,\n",
              " 'fbi': 299,\n",
              " 'did': 232,\n",
              " 'political': 660,\n",
              " 'news': 590,\n",
              " 'hope': 401,\n",
              " 'gop': 362,\n",
              " 'paul': 640,\n",
              " 'ryan': 747,\n",
              " 'has': 379,\n",
              " 'just': 454,\n",
              " 'an': 50,\n",
              " 'republican': 717,\n",
              " 'sex': 779,\n",
              " 'scandal': 758,\n",
              " 'set': 778,\n",
              " 'american': 47,\n",
              " 'crime': 201,\n",
              " 'is': 428,\n",
              " 'cop': 192,\n",
              " 'wife': 968,\n",
              " 'fake': 292,\n",
              " 'lives': 498,\n",
              " 'matter': 526,\n",
              " 'abortion': 14,\n",
              " 'orders': 624,\n",
              " 'rise': 732,\n",
              " 'zika': 995,\n",
              " 'alert': 40,\n",
              " 'un': 910,\n",
              " 'ban': 83,\n",
              " 'nuclear': 600,\n",
              " 'weapons': 954,\n",
              " 'islamic': 431,\n",
              " 'state': 813,\n",
              " 'supporters': 831,\n",
              " 'west': 959,\n",
              " 'terrorist': 850,\n",
              " 'tries': 892,\n",
              " 'what': 961,\n",
              " 'caught': 147,\n",
              " 'before': 91,\n",
              " 'rally': 696,\n",
              " 'fox': 329,\n",
              " 'claims': 172,\n",
              " 'how': 404,\n",
              " 'israel': 433,\n",
              " 'china': 160,\n",
              " 'eastern': 256,\n",
              " '2016': 9,\n",
              " '11': 3,\n",
              " 'won': 978,\n",
              " 'johnson': 449,\n",
              " 'brexit': 121,\n",
              " 'leaders': 476,\n",
              " 'texas': 853,\n",
              " 'oil': 613,\n",
              " 'price': 674,\n",
              " 'but': 129,\n",
              " 'jobs': 446,\n",
              " 'left': 482,\n",
              " 'behind': 93,\n",
              " 'deal': 217,\n",
              " 'moves': 568,\n",
              " 'as': 67,\n",
              " 'still': 818,\n",
              " 'zone': 996,\n",
              " '2017': 10,\n",
              " 'open': 621,\n",
              " 'not': 596,\n",
              " 'election': 262,\n",
              " 'democrat': 226,\n",
              " 'blames': 106,\n",
              " 'chicago': 156,\n",
              " 'gun': 372,\n",
              " 'violence': 930,\n",
              " 'avoid': 78,\n",
              " 'bad': 82,\n",
              " 'most': 564,\n",
              " 'shows': 787,\n",
              " '20': 8,\n",
              " 'week': 956,\n",
              " 'best': 97,\n",
              " 'that': 855,\n",
              " 'by': 130,\n",
              " 'usa': 917,\n",
              " 'other': 627,\n",
              " 'can': 138,\n",
              " 'one': 618,\n",
              " 'without': 975,\n",
              " 'king': 464,\n",
              " 'up': 915,\n",
              " 'asks': 69,\n",
              " 'sessions': 777,\n",
              " 'out': 629,\n",
              " 'civil': 169,\n",
              " 'rights': 730,\n",
              " 'inquiry': 417,\n",
              " 'press': 673,\n",
              " 'tv': 904,\n",
              " 'debate': 219,\n",
              " 'presidency': 670,\n",
              " 'videos': 929,\n",
              " 'after': 28,\n",
              " 'migrant': 547,\n",
              " 'eu': 272,\n",
              " 'public': 687,\n",
              " 'voice': 934,\n",
              " 'will': 970,\n",
              " 'be': 87,\n",
              " 'revolution': 727,\n",
              " 'nato': 580,\n",
              " 'study': 826,\n",
              " 'more': 562,\n",
              " 'than': 854,\n",
              " 'car': 141,\n",
              " 'nan': 577,\n",
              " 'dangerous': 209,\n",
              " 'right': 729,\n",
              " 'politics': 661,\n",
              " 'true': 894,\n",
              " 'islam': 430,\n",
              " 'book': 113,\n",
              " 'review': 726,\n",
              " 'biggest': 101,\n",
              " 'history': 395,\n",
              " 'way': 951,\n",
              " 'fight': 304,\n",
              " 'potential': 667,\n",
              " 'tax': 844,\n",
              " 'like': 492,\n",
              " 'day': 213,\n",
              " 'world': 983,\n",
              " 'machines': 512,\n",
              " 'massive': 525,\n",
              " 'anti': 56,\n",
              " 'protests': 686,\n",
              " 'union': 912,\n",
              " 'live': 497,\n",
              " 'lost': 508,\n",
              " 'boy': 116,\n",
              " 'google': 361,\n",
              " 'general': 345,\n",
              " 'attack': 74,\n",
              " 'had': 375,\n",
              " 'forces': 323,\n",
              " 'finds': 310,\n",
              " 'all': 43,\n",
              " 'oregon': 625,\n",
              " 'guilty': 371,\n",
              " 'federal': 302,\n",
              " 'charges': 153,\n",
              " 'campaign': 137,\n",
              " 'probe': 679,\n",
              " 'into': 423,\n",
              " 'emails': 266,\n",
              " 'pence': 643,\n",
              " 'bernie': 96,\n",
              " 'sanders': 752,\n",
              " 'says': 757,\n",
              " 'make': 515,\n",
              " 'daily': 207,\n",
              " 'nyt': 601,\n",
              " 'does': 239,\n",
              " 'human': 406,\n",
              " 'democrats': 228,\n",
              " 'percent': 646,\n",
              " 'senate': 775,\n",
              " 'president': 671,\n",
              " '000': 0,\n",
              " 'warning': 945,\n",
              " 'judge': 452,\n",
              " 'transgender': 889,\n",
              " 'lie': 490,\n",
              " 'strikes': 823,\n",
              " 'against': 30,\n",
              " 'assad': 70,\n",
              " 'syria': 836,\n",
              " 'calls': 135,\n",
              " 'investigation': 424,\n",
              " 'putin': 690,\n",
              " 'race': 694,\n",
              " 'your': 994,\n",
              " 'tuesday': 900,\n",
              " 'evening': 276,\n",
              " 'briefing': 122,\n",
              " 'turkey': 901,\n",
              " 'threatens': 870,\n",
              " 'land': 469,\n",
              " 'europe': 273,\n",
              " 'huma': 405,\n",
              " 'weiner': 957,\n",
              " 'camp': 136,\n",
              " 'immigration': 411,\n",
              " 'moore': 561,\n",
              " 'fans': 296,\n",
              " 'across': 18,\n",
              " 'nation': 578,\n",
              " 'support': 829,\n",
              " 'reporter': 715,\n",
              " 'help': 386,\n",
              " 'event': 277,\n",
              " 'mike': 549,\n",
              " 'tips': 879,\n",
              " 'making': 517,\n",
              " 'or': 622,\n",
              " 'last': 470,\n",
              " 'this': 866,\n",
              " 'economic': 257,\n",
              " 'come': 182,\n",
              " 'venezuela': 923,\n",
              " 'moving': 570,\n",
              " 'man': 518,\n",
              " 'rule': 739,\n",
              " 'run': 742,\n",
              " 'war': 944,\n",
              " 'women': 977,\n",
              " 'candidate': 140,\n",
              " 'white': 965,\n",
              " 'confirms': 187,\n",
              " 'leaves': 481,\n",
              " 'office': 608,\n",
              " 'poll': 662,\n",
              " 'voters': 937,\n",
              " 'democratic': 227,\n",
              " 'migrants': 548,\n",
              " 'old': 614,\n",
              " 'reason': 703,\n",
              " 'wants': 943,\n",
              " 'control': 191,\n",
              " 'internet': 421,\n",
              " 'gas': 343,\n",
              " 'interview': 422,\n",
              " 'response': 720,\n",
              " '100': 2,\n",
              " '10': 1,\n",
              " 'washington': 948,\n",
              " 'takes': 840,\n",
              " 'refugees': 708,\n",
              " 'muslim': 573,\n",
              " 'country': 197,\n",
              " 'saudi': 753,\n",
              " 'now': 599,\n",
              " '12': 4,\n",
              " 'bill': 102,\n",
              " 'financial': 308,\n",
              " 'first': 314,\n",
              " 'megyn': 534,\n",
              " 'kelly': 457,\n",
              " 'next': 591,\n",
              " 'year': 987,\n",
              " 'show': 786,\n",
              " 'students': 825,\n",
              " 'hit': 396,\n",
              " 'de': 215,\n",
              " 'breaking': 119,\n",
              " 'anthony': 55,\n",
              " 'illegal': 409,\n",
              " 'months': 560,\n",
              " 'truthfeed': 898,\n",
              " 'top': 886,\n",
              " 'doj': 242,\n",
              " 'official': 611,\n",
              " 'series': 776,\n",
              " 'female': 303,\n",
              " 'low': 510,\n",
              " 'season': 765,\n",
              " 'final': 306,\n",
              " 'four': 328,\n",
              " 'returns': 723,\n",
              " 'friday': 336,\n",
              " 'national': 579,\n",
              " 'makes': 516,\n",
              " 'ask': 68,\n",
              " 'say': 755,\n",
              " 'off': 606,\n",
              " 'mother': 566,\n",
              " 'october': 604,\n",
              " 'assange': 71,\n",
              " 'border': 114,\n",
              " 'crisis': 204,\n",
              " 'republicans': 718,\n",
              " 'should': 785,\n",
              " 'tell': 846,\n",
              " 'earth': 254,\n",
              " 'here': 388,\n",
              " 'families': 294,\n",
              " 'votes': 938,\n",
              " 'iran': 425,\n",
              " 'speaker': 804,\n",
              " 'director': 236,\n",
              " 'leaked': 477,\n",
              " 'email': 265,\n",
              " 'case': 145,\n",
              " 'vote': 935,\n",
              " 'law': 472,\n",
              " 'call': 133,\n",
              " 'go': 356,\n",
              " 'another': 54,\n",
              " 'america': 46,\n",
              " 'my': 576,\n",
              " 'brain': 117,\n",
              " 'gorafi': 363,\n",
              " 'le': 473,\n",
              " 'secretary': 768,\n",
              " 'ad': 22,\n",
              " 'indian': 415,\n",
              " 'years': 988,\n",
              " 'journalist': 451,\n",
              " 'was': 947,\n",
              " 'her': 387,\n",
              " 'report': 714,\n",
              " 'aliens': 42,\n",
              " 'food': 320,\n",
              " 'great': 368,\n",
              " 'again': 29,\n",
              " 'jerusalem': 443,\n",
              " 'terror': 848,\n",
              " 'leader': 475,\n",
              " 'don': 244,\n",
              " 'play': 655,\n",
              " 'college': 180,\n",
              " 'got': 365,\n",
              " 'david': 212,\n",
              " 'duke': 250,\n",
              " 'despite': 231,\n",
              " 'child': 158,\n",
              " 'shot': 784,\n",
              " 'every': 279,\n",
              " 'fears': 301,\n",
              " 'its': 438,\n",
              " 'interest': 420,\n",
              " 'plans': 654,\n",
              " 'battle': 86,\n",
              " 'latest': 471,\n",
              " 'test': 852,\n",
              " 'clintons': 176,\n",
              " 'when': 962,\n",
              " 'they': 862,\n",
              " 'visit': 932,\n",
              " 'worse': 984,\n",
              " 'james': 440,\n",
              " 'cash': 146,\n",
              " 'executive': 284,\n",
              " 'good': 360,\n",
              " 'palestinian': 634,\n",
              " 'charged': 152,\n",
              " 'terrorism': 849,\n",
              " 'talk': 842,\n",
              " 'standing': 810,\n",
              " 'rock': 736,\n",
              " 'obamacare': 603,\n",
              " 'thousands': 868,\n",
              " 'veterans': 925,\n",
              " 'family': 295,\n",
              " 'already': 44,\n",
              " 'soon': 799,\n",
              " 'sports': 808,\n",
              " 'nfl': 592,\n",
              " 'work': 980,\n",
              " 'saying': 756,\n",
              " 'things': 864,\n",
              " 'found': 326,\n",
              " 'watch': 949,\n",
              " 'told': 882,\n",
              " 'comment': 186,\n",
              " 'powerful': 669,\n",
              " 'getting': 351,\n",
              " 'night': 593,\n",
              " 'running': 743,\n",
              " 'ends': 269,\n",
              " 'scientists': 761,\n",
              " 'may': 527,\n",
              " 'pro': 678,\n",
              " 'amid': 49,\n",
              " 'who': 966,\n",
              " 'cancer': 139,\n",
              " 'under': 911,\n",
              " 'fire': 312,\n",
              " 'used': 919,\n",
              " 'near': 583,\n",
              " 'aleppo': 39,\n",
              " 'airport': 37,\n",
              " 'steve': 817,\n",
              " 'talks': 843,\n",
              " 'elect': 260,\n",
              " 'troops': 893,\n",
              " 'fighting': 305,\n",
              " 'mosul': 565,\n",
              " 'uk': 908,\n",
              " 'while': 964,\n",
              " 'council': 196,\n",
              " 'demand': 224,\n",
              " 'money': 558,\n",
              " 'keep': 456,\n",
              " 'their': 857,\n",
              " 'congress': 188,\n",
              " 'once': 617,\n",
              " 'heart': 385,\n",
              " 'attacks': 75,\n",
              " 'two': 907,\n",
              " 'police': 658,\n",
              " 'arrest': 63,\n",
              " 'protesters': 685,\n",
              " 'children': 159,\n",
              " 'were': 958,\n",
              " 'them': 858,\n",
              " 'both': 115,\n",
              " 'could': 194,\n",
              " 'men': 537,\n",
              " 'our': 628,\n",
              " 'team': 845,\n",
              " 'signs': 789,\n",
              " 'post': 666,\n",
              " 'street': 821,\n",
              " 'dead': 216,\n",
              " 'warns': 946,\n",
              " 'she': 781,\n",
              " 'll': 499,\n",
              " 'take': 839,\n",
              " 'democracy': 225,\n",
              " 'tells': 847,\n",
              " 'gorsuch': 364,\n",
              " 'loses': 507,\n",
              " 'art': 66,\n",
              " 'crash': 200,\n",
              " 'order': 623,\n",
              " 'people': 645,\n",
              " 'suicide': 827,\n",
              " 'japan': 441,\n",
              " 'california': 132,\n",
              " 'source': 801,\n",
              " 'break': 118,\n",
              " 'past': 638,\n",
              " 'inauguration': 413,\n",
              " 'girl': 352,\n",
              " 'reality': 701,\n",
              " 'gets': 350,\n",
              " 'free': 333,\n",
              " 'care': 142,\n",
              " 'victims': 926,\n",
              " 'orlando': 626,\n",
              " 'vladimir': 933,\n",
              " 'новое': 998,\n",
              " 'восточное': 997,\n",
              " 'обозрение': 999,\n",
              " 'flight': 317,\n",
              " 'problem': 680,\n",
              " 'key': 458,\n",
              " 'economy': 258,\n",
              " 'la': 468,\n",
              " 'en': 267,\n",
              " 'el': 259,\n",
              " 'him': 392,\n",
              " 'billion': 103,\n",
              " 'since': 791,\n",
              " 'change': 150,\n",
              " 'strike': 822,\n",
              " 'intelligence': 419,\n",
              " 'al': 38,\n",
              " 'monday': 557,\n",
              " 'nbc': 582,\n",
              " 'think': 865,\n",
              " 'dr': 248,\n",
              " 'mark': 521,\n",
              " 'cnn': 178,\n",
              " 'network': 587,\n",
              " 'game': 342,\n",
              " 'rules': 740,\n",
              " 'spicer': 807,\n",
              " 'fear': 300,\n",
              " 'questions': 693,\n",
              " 'chinese': 161,\n",
              " 'german': 347,\n",
              " 'abedin': 13,\n",
              " 'administration': 23,\n",
              " 'trade': 888,\n",
              " 'trust': 896,\n",
              " 'former': 325,\n",
              " 'western': 960,\n",
              " 'workers': 981,\n",
              " 'only': 620,\n",
              " 'going': 358,\n",
              " 'win': 971,\n",
              " 'march': 520,\n",
              " 'line': 494,\n",
              " 'five': 315,\n",
              " 'seeks': 771,\n",
              " 'time': 877,\n",
              " 'future': 341,\n",
              " 'health': 384,\n",
              " 'milo': 553,\n",
              " 'being': 94,\n",
              " 'violent': 931,\n",
              " 'school': 759,\n",
              " 'message': 539,\n",
              " 'african': 27,\n",
              " 'father': 298,\n",
              " 'muslims': 574,\n",
              " 'trying': 899,\n",
              " 'block': 107,\n",
              " 'dems': 229,\n",
              " 'point': 657,\n",
              " 'do': 238,\n",
              " 'many': 519,\n",
              " 'data': 210,\n",
              " 'threat': 869,\n",
              " 'audio': 77,\n",
              " 'justice': 455,\n",
              " 'carolina': 143,\n",
              " 'germany': 348,\n",
              " 'britain': 124,\n",
              " 'cold': 179,\n",
              " 'foreign': 324,\n",
              " 'air': 36,\n",
              " 'reports': 716,\n",
              " 'record': 705,\n",
              " 'voter': 936,\n",
              " 'merkel': 538,\n",
              " 'gold': 359,\n",
              " 'water': 950,\n",
              " 'hold': 398,\n",
              " 'berkeley': 95,\n",
              " 'speech': 806,\n",
              " 'propaganda': 683,\n",
              " 'self': 773,\n",
              " 'liberty': 489,\n",
              " 'gives': 354,\n",
              " 'era': 270,\n",
              " 'michigan': 544,\n",
              " 'victory': 927,\n",
              " 'ever': 278,\n",
              " 'seen': 772,\n",
              " 'far': 297,\n",
              " 'east': 255,\n",
              " 'need': 585,\n",
              " 'full': 339,\n",
              " 'doesn': 240,\n",
              " 'lose': 506,\n",
              " 'looking': 504,\n",
              " 'something': 797,\n",
              " 'rep': 712,\n",
              " 'global': 355,\n",
              " 'markets': 523,\n",
              " 'ready': 699,\n",
              " 'supreme': 832,\n",
              " 'court': 199,\n",
              " 'meet': 532,\n",
              " 'mexican': 540,\n",
              " 'wall': 941,\n",
              " 'funding': 340,\n",
              " 'bank': 84,\n",
              " 'sign': 788,\n",
              " 'put': 689,\n",
              " 'sanctuary': 751,\n",
              " 'cities': 167,\n",
              " 'jail': 439,\n",
              " 'announces': 53,\n",
              " 'his': 394,\n",
              " 'pick': 649,\n",
              " 'defense': 222,\n",
              " 'some': 796,\n",
              " 'look': 503,\n",
              " 'inside': 418,\n",
              " 'conservative': 189,\n",
              " 'push': 688,\n",
              " 'states': 814,\n",
              " 'let': 485,\n",
              " 'pope': 664,\n",
              " 'francis': 331,\n",
              " 'immigrants': 410,\n",
              " 'jeff': 442,\n",
              " 'podesta': 656,\n",
              " 'build': 127,\n",
              " 'liberal': 487,\n",
              " 'bannon': 85,\n",
              " 'close': 177,\n",
              " 'face': 288,\n",
              " 'shooting': 783,\n",
              " 'trial': 891,\n",
              " 'americans': 48,\n",
              " '30': 11,\n",
              " 'november': 598,\n",
              " 'central': 149,\n",
              " 'italy': 437,\n",
              " 'israeli': 434,\n",
              " 'cabinet': 131,\n",
              " 'know': 465,\n",
              " 'ann': 52,\n",
              " 'coulter': 195,\n",
              " 'turns': 903,\n",
              " 'high': 390,\n",
              " 'wrong': 986,\n",
              " 'silver': 790,\n",
              " 'onion': 619,\n",
              " 'finest': 311,\n",
              " 'machine': 511,\n",
              " 'missile': 556,\n",
              " 'wikileaks': 969,\n",
              " 'murder': 572,\n",
              " 'repeal': 713,\n",
              " 'act': 19,\n",
              " 'group': 370,\n",
              " 'south': 802,\n",
              " 'africa': 26,\n",
              " 'criminal': 203,\n",
              " 'use': 918,\n",
              " 'using': 921,\n",
              " 'finally': 307,\n",
              " 'give': 353,\n",
              " 'rape': 697,\n",
              " 'much': 571,\n",
              " 'market': 522,\n",
              " 'so': 794,\n",
              " 'coup': 198,\n",
              " 'twitter': 906,\n",
              " 'choice': 162,\n",
              " 'working': 982,\n",
              " 'own': 632,\n",
              " 'possible': 665,\n",
              " 'chelsea': 155,\n",
              " 'turn': 902,\n",
              " 'officer': 609,\n",
              " 'days': 214,\n",
              " 'start': 812,\n",
              " 'hours': 402,\n",
              " 'uses': 920,\n",
              " 'part': 636,\n",
              " 'job': 445,\n",
              " 'ways': 952,\n",
              " 'refugee': 707,\n",
              " 'red': 706,\n",
              " 'leaks': 478,\n",
              " 'star': 811,\n",
              " 'london': 500,\n",
              " 'thursday': 873,\n",
              " 'dies': 235,\n",
              " 'racist': 695,\n",
              " 'duterte': 252,\n",
              " 'likely': 493,\n",
              " 'hidden': 389,\n",
              " 'fraud': 332,\n",
              " 'die': 234,\n",
              " 'reveal': 724,\n",
              " 'begins': 92,\n",
              " 'establishment': 271,\n",
              " 'arrests': 65,\n",
              " 'never': 588,\n",
              " 'elite': 264,\n",
              " 'student': 824,\n",
              " 'yemen': 989,\n",
              " 'yet': 990,\n",
              " 'false': 293,\n",
              " 'flag': 316,\n",
              " 'middle': 545,\n",
              " 'outlook': 630,\n",
              " 'kill': 459,\n",
              " 'terrorists': 851,\n",
              " 'christians': 165,\n",
              " 'facebook': 289,\n",
              " 'taking': 841,\n",
              " 'step': 816,\n",
              " 'george': 346,\n",
              " 'michael': 542,\n",
              " 'body': 109,\n",
              " 'blue': 108,\n",
              " 'hits': 397,\n",
              " 'gay': 344,\n",
              " 'rt': 738,\n",
              " 'information': 416,\n",
              " 'stop': 819,\n",
              " 'afghanistan': 25,\n",
              " 'kills': 462,\n",
              " 'project': 681,\n",
              " 'robert': 735,\n",
              " 'wire': 973,\n",
              " 'ex': 282,\n",
              " 'michelle': 543,\n",
              " 'voting': 939,\n",
              " 'mayor': 528,\n",
              " 'accused': 17,\n",
              " 'aid': 34,\n",
              " 'me': 529,\n",
              " 'little': 496,\n",
              " 'offers': 607,\n",
              " 'force': 322,\n",
              " 'risk': 734,\n",
              " 'green': 369,\n",
              " 'army': 61,\n",
              " 'steal': 815,\n",
              " 'dog': 241,\n",
              " 'united': 913,\n",
              " 'return': 722,\n",
              " 'budget': 126,\n",
              " 'los': 505,\n",
              " 'attorney': 76,\n",
              " 'deep': 220,\n",
              " 'security': 769,\n",
              " 'really': 702,\n",
              " 'british': 125,\n",
              " '13': 5,\n",
              " 'slams': 793,\n",
              " 'killing': 461,\n",
              " 'super': 828,\n",
              " 'legal': 483,\n",
              " 'happened': 377,\n",
              " 'coming': 185,\n",
              " 'photo': 647,\n",
              " 'officers': 610,\n",
              " 'safe': 748,\n",
              " 'julian': 453,\n",
              " '16': 7,\n",
              " 'door': 246,\n",
              " 'end': 268,\n",
              " 'sweden': 835,\n",
              " 'made': 513,\n",
              " 'front': 338,\n",
              " 'second': 766,\n",
              " 'through': 872,\n",
              " 'alien': 41,\n",
              " 'pay': 641,\n",
              " 'ice': 407,\n",
              " 'issues': 435,\n",
              " 'himself': 393,\n",
              " 'today': 881,\n",
              " 'space': 803,\n",
              " 'better': 98,\n",
              " 'chaos': 151,\n",
              " 'ties': 874,\n",
              " 'month': 559,\n",
              " 'those': 867,\n",
              " 'resistance': 719,\n",
              " 'syrian': 837,\n",
              " 'young': 993,\n",
              " 'climate': 174,\n",
              " 'called': 134,\n",
              " 'exposed': 285,\n",
              " 'arabia': 59,\n",
              " 'india': 414,\n",
              " 'shock': 782,\n",
              " 'said': 749,\n",
              " 'class': 173,\n",
              " 'bring': 123,\n",
              " 'because': 88,\n",
              " 'very': 924,\n",
              " 'nearly': 584,\n",
              " 'failed': 291,\n",
              " 'european': 274,\n",
              " 'these': 861,\n",
              " 'elected': 261,\n",
              " 've': 922,\n",
              " 'france': 330,\n",
              " 'morning': 563,\n",
              " 'navy': 581,\n",
              " 'prison': 676,\n",
              " 'bombshell': 112,\n",
              " 'city': 168,\n",
              " 'nothing': 597,\n",
              " 'iraqi': 427,\n",
              " 'iraq': 426,\n",
              " 'christian': 164,\n",
              " 'hate': 380,\n",
              " 'question': 692,\n",
              " 'drug': 249,\n",
              " 'move': 567,\n",
              " 'polls': 663,\n",
              " 'ahead': 33,\n",
              " 'elections': 263,\n",
              " 'path': 639,\n",
              " 'corruption': 193,\n",
              " 'power': 668,\n",
              " 'movie': 569,\n",
              " 'defeat': 221,\n",
              " 'sexual': 780,\n",
              " 'evidence': 281,\n",
              " 'goes': 357,\n",
              " 'isn': 432,\n",
              " 'sen': 774,\n",
              " 'surprise': 833,\n",
              " 'same': 750,\n",
              " 'supporter': 830,\n",
              " 'apple': 58,\n",
              " 'want': 942,\n",
              " 'governor': 367,\n",
              " 'son': 798,\n",
              " 'kim': 463,\n",
              " 'paris': 635,\n",
              " 'needs': 586,\n",
              " 'schools': 760,\n",
              " 'chris': 163,\n",
              " 'list': 495,\n",
              " 'scott': 762,\n",
              " 'head': 383,\n",
              " 'faces': 290,\n",
              " 'com': 181,\n",
              " 'baby': 80,\n",
              " 'releases': 711,\n",
              " 'protest': 684,\n",
              " 'must': 575,\n",
              " 'policy': 659,\n",
              " 'vs': 940,\n",
              " 'kushner': 467,\n",
              " 'admits': 24,\n",
              " 'role': 737,\n",
              " 'claim': 171,\n",
              " 'thing': 863,\n",
              " 'millions': 552,\n",
              " 'tillerson': 875,\n",
              " 'private': 677,\n",
              " 'then': 859,\n",
              " 'sea': 763,\n",
              " 'early': 253,\n",
              " 'six': 792,\n",
              " 'mexico': 541,\n",
              " 'reveals': 725,\n",
              " 'puts': 691,\n",
              " 'planned': 653,\n",
              " 'lead': 474,\n",
              " 'reasons': 704,\n",
              " 'rigged': 728,\n",
              " 'members': 536,\n",
              " 'joe': 447,\n",
              " 'freedom': 334,\n",
              " 'least': 479,\n",
              " 'special': 805,\n",
              " 'mind': 554,\n",
              " 'blame': 105,\n",
              " 'russians': 746,\n",
              " 'results': 721,\n",
              " 'bombing': 111,\n",
              " 'foundation': 327,\n",
              " 'bomb': 110,\n",
              " 'cut': 205,\n",
              " 'exposes': 286,\n",
              " 'hacking': 374,\n",
              " 'three': 871,\n",
              " 'suspect': 834,\n",
              " 'less': 484,\n",
              " 'travel': 890,\n",
              " 'means': 530,\n",
              " 'jewish': 444,\n",
              " 'become': 89,\n",
              " 'florida': 318,\n",
              " 'stand': 809,\n",
              " 'rising': 733,\n",
              " 'prime': 675,\n",
              " 'minister': 555,\n",
              " 'wednesday': 955,\n",
              " 'leave': 480,\n",
              " 'crimes': 202,\n",
              " 'cause': 148,\n",
              " 'system': 838,\n",
              " 'too': 884,\n",
              " 'rio': 731,\n",
              " 'olympics': 615,\n",
              " 'hard': 378,\n",
              " 'cuts': 206,\n",
              " 'around': 62,\n",
              " 'university': 914,\n",
              " 'away': 79,\n",
              " 'plane': 652,\n",
              " 'chart': 154,\n",
              " 'peace': 642,\n",
              " 'tim': 876,\n",
              " 'activists': 21,\n",
              " 'promises': 682,\n",
              " 'meeting': 533,\n",
              " 'continues': 190,\n",
              " 'tweets': 905,\n",
              " 'took': 885,\n",
              " 'dnc': 237,\n",
              " 'eyes': 287,\n",
              " 'dollar': 243,\n",
              " 'town': 887,\n",
              " 'where': 963,\n",
              " 'any': 57,\n",
              " 'mass': 524,\n",
              " 'pentagon': 644,\n",
              " 'liberals': 488,\n",
              " 'department': 230,\n",
              " 'comes': 183,\n",
              " 'ruling': 741,\n",
              " 'halloween': 376,\n",
              " 'save': 754,\n",
              " 'melania': 535,\n",
              " 'daughter': 211,\n",
              " 'ambassador': 45,\n",
              " 'business': 128,\n",
              " 'jones': 450,\n",
              " 'longer': 502,\n",
              " 'sean': 764,\n",
              " 'agents': 32,\n",
              " 'assault': 72,\n",
              " 'word': 979,\n",
              " 'tom': 883,\n",
              " 'refuses': 709,\n",
              " 'hacked': 373,\n",
              " '50': 12,\n",
              " 'cartel': 144}"
            ]
          },
          "metadata": {
            "tags": []
          },
          "execution_count": 104
        }
      ]
    },
    {
      "cell_type": "markdown",
      "metadata": {
        "id": "G8cp4Fga-kdL"
      },
      "source": [
        "## Cosine Similarirty "
      ]
    },
    {
      "cell_type": "code",
      "metadata": {
        "colab": {
          "base_uri": "https://localhost:8080/"
        },
        "id": "IRHkf-Mt-kdL",
        "outputId": "d73c256d-4da6-4322-d4ce-081b3b2692ca"
      },
      "source": [
        "# Clean Lier Lier Dataset\n",
        "\n",
        "cleanLtrain_tfidf = tfidfVector.fit_transform(df_Lier_clean['Statement'])\n",
        "print('Training dim:', cleanLtrain_tfidf.shape)\n",
        "print(cleanLtrain_tfidf.A[:10])"
      ],
      "execution_count": null,
      "outputs": [
        {
          "output_type": "stream",
          "text": [
            "Training dim: (18210, 1000)\n",
            "[[0.         0.         0.         ... 0.         0.         0.        ]\n",
            " [0.         0.         0.         ... 0.         0.         0.        ]\n",
            " [0.         0.         0.         ... 0.         0.         0.        ]\n",
            " ...\n",
            " [0.21968747 0.         0.         ... 0.         0.         0.        ]\n",
            " [0.         0.         0.         ... 0.         0.         0.        ]\n",
            " [0.         0.         0.         ... 0.         0.         0.        ]]\n"
          ],
          "name": "stdout"
        }
      ]
    },
    {
      "cell_type": "code",
      "metadata": {
        "colab": {
          "base_uri": "https://localhost:8080/"
        },
        "id": "zlZ7x0Bm-kdM",
        "outputId": "cea28132-2b88-499a-d398-811a3b365de5"
      },
      "source": [
        "# cosine similarity of Training data for liar liar dataset\n",
        "from sklearn.metrics.pairwise import cosine_similarity\n",
        "from scipy import spatial\n",
        "clean_similarity_score = []\n",
        "for i in range(len(cleanLtrain_tfidf.toarray())):\n",
        "    clean_similarity_score.append(1 - spatial.distance.cosine(tf_idf_FN[0].toarray(), tfidf_cleanliar[i].toarray()))"
      ],
      "execution_count": null,
      "outputs": [
        {
          "output_type": "stream",
          "text": [
            "/usr/local/lib/python3.6/dist-packages/scipy/spatial/distance.py:720: RuntimeWarning: invalid value encountered in double_scalars\n",
            "  dist = 1.0 - uv / np.sqrt(uu * vv)\n"
          ],
          "name": "stderr"
        }
      ]
    },
    {
      "cell_type": "code",
      "metadata": {
        "id": "_-xNCF14-kdM"
      },
      "source": [
        "#append the similarity_score to both liar liar dataset and kaggle fake news dataset for amalgamation\n",
        "df_Lier_clean['cosine_score'] = clean_similarity_score"
      ],
      "execution_count": null,
      "outputs": []
    },
    {
      "cell_type": "code",
      "metadata": {
        "colab": {
          "base_uri": "https://localhost:8080/"
        },
        "id": "OL4T9Vwb-kdM",
        "outputId": "a4162a4b-937c-4a95-fa6b-a53a0e07bb41"
      },
      "source": [
        "df_Lier_clean.describe()"
      ],
      "execution_count": null,
      "outputs": [
        {
          "output_type": "execute_result",
          "data": {
            "application/vnd.google.colaboratory.module+javascript": "\n      import \"https://ssl.gstatic.com/colaboratory/data_table/a6224c040fa35dcf/data_table.js\";\n\n      window.createDataTable({\n        data: [[\"count\",\n{\n            'v': 18210.0,\n            'f': \"18210.0\",\n        },\n{\n            'v': 18210.0,\n            'f': \"18210.0\",\n        },\n{\n            'v': 18210.0,\n            'f': \"18210.0\",\n        },\n{\n            'v': 18210.0,\n            'f': \"18210.0\",\n        },\n{\n            'v': 18210.0,\n            'f': \"18210.0\",\n        },\n{\n            'v': 18210.0,\n            'f': \"18210.0\",\n        },\n{\n            'v': 18210.0,\n            'f': \"18210.0\",\n        },\n{\n            'v': 18210.0,\n            'f': \"18210.0\",\n        },\n{\n            'v': 18210.0,\n            'f': \"18210.0\",\n        },\n{\n            'v': 18210.0,\n            'f': \"18210.0\",\n        },\n{\n            'v': 18210.0,\n            'f': \"18210.0\",\n        },\n{\n            'v': 18208.0,\n            'f': \"18208.0\",\n        }],\n [\"mean\",\n{\n            'v': 9104.5,\n            'f': \"9104.5\",\n        },\n{\n            'v': 12.725809994508511,\n            'f': \"12.725809994508511\",\n        },\n{\n            'v': 16.815431081823174,\n            'f': \"16.815431081823174\",\n        },\n{\n            'v': 17.857825370675453,\n            'f': \"17.857825370675453\",\n        },\n{\n            'v': 16.243986820428336,\n            'f': \"16.243986820428336\",\n        },\n{\n            'v': 22.735749588138386,\n            'f': \"22.735749588138386\",\n        },\n{\n            'v': 11.738660076880835,\n            'f': \"11.738660076880835\",\n        },\n{\n            'v': 1.9961559582646897,\n            'f': \"1.9961559582646897\",\n        },\n{\n            'v': 9104.5,\n            'f': \"9104.5\",\n        },\n{\n            'v': 4.577594728171334,\n            'f': \"4.577594728171334\",\n        },\n{\n            'v': 0.6664404455868999,\n            'f': \"0.6664404455868999\",\n        },\n{\n            'v': 0.010803586687640358,\n            'f': \"0.010803586687640358\",\n        }],\n [\"std\",\n{\n            'v': 5256.918536557324,\n            'f': \"5256.918536557324\",\n        },\n{\n            'v': 18.80562971577067,\n            'f': \"18.80562971577067\",\n        },\n{\n            'v': 20.262431496442154,\n            'f': \"20.262431496442154\",\n        },\n{\n            'v': 19.78543939223404,\n            'f': \"19.78543939223404\",\n        },\n{\n            'v': 18.577599091770562,\n            'f': \"18.577599091770562\",\n        },\n{\n            'v': 22.57309558396772,\n            'f': \"22.57309558396772\",\n        },\n{\n            'v': 19.704758706868226,\n            'f': \"19.704758706868226\",\n        },\n{\n            'v': 13.903513592027794,\n            'f': \"13.903513592027794\",\n        },\n{\n            'v': 5256.918536557324,\n            'f': \"5256.918536557324\",\n        },\n{\n            'v': 2.8824600439073684,\n            'f': \"2.8824600439073684\",\n        },\n{\n            'v': 0.1726319443172275,\n            'f': \"0.1726319443172275\",\n        },\n{\n            'v': 0.031738712922072164,\n            'f': \"0.031738712922072164\",\n        }],\n [\"min\",\n{\n            'v': 0.0,\n            'f': \"0.0\",\n        },\n{\n            'v': 0.0,\n            'f': \"0.0\",\n        },\n{\n            'v': 0.0,\n            'f': \"0.0\",\n        },\n{\n            'v': 0.0,\n            'f': \"0.0\",\n        },\n{\n            'v': 0.0,\n            'f': \"0.0\",\n        },\n{\n            'v': 0.0,\n            'f': \"0.0\",\n        },\n{\n            'v': 0.0,\n            'f': \"0.0\",\n        },\n{\n            'v': 0.0,\n            'f': \"0.0\",\n        },\n{\n            'v': 0.0,\n            'f': \"0.0\",\n        },\n{\n            'v': 0.0,\n            'f': \"0.0\",\n        },\n{\n            'v': 0.10000000149011612,\n            'f': \"0.10000000149011612\",\n        },\n{\n            'v': 0.0,\n            'f': \"0.0\",\n        }],\n [\"25%\",\n{\n            'v': 4552.25,\n            'f': \"4552.25\",\n        },\n{\n            'v': 0.0,\n            'f': \"0.0\",\n        },\n{\n            'v': 1.0,\n            'f': \"1.0\",\n        },\n{\n            'v': 3.0,\n            'f': \"3.0\",\n        },\n{\n            'v': 0.0,\n            'f': \"0.0\",\n        },\n{\n            'v': 5.0,\n            'f': \"5.0\",\n        },\n{\n            'v': 0.0,\n            'f': \"0.0\",\n        },\n{\n            'v': 0.0,\n            'f': \"0.0\",\n        },\n{\n            'v': 4552.25,\n            'f': \"4552.25\",\n        },\n{\n            'v': 2.0,\n            'f': \"2.0\",\n        },\n{\n            'v': 0.5204007476568222,\n            'f': \"0.5204007476568222\",\n        },\n{\n            'v': 0.0,\n            'f': \"0.0\",\n        }],\n [\"50%\",\n{\n            'v': 9104.5,\n            'f': \"9104.5\",\n        },\n{\n            'v': 5.0,\n            'f': \"5.0\",\n        },\n{\n            'v': 11.0,\n            'f': \"11.0\",\n        },\n{\n            'v': 14.0,\n            'f': \"14.0\",\n        },\n{\n            'v': 14.0,\n            'f': \"14.0\",\n        },\n{\n            'v': 18.0,\n            'f': \"18.0\",\n        },\n{\n            'v': 3.0,\n            'f': \"3.0\",\n        },\n{\n            'v': 0.0,\n            'f': \"0.0\",\n        },\n{\n            'v': 9104.5,\n            'f': \"9104.5\",\n        },\n{\n            'v': 5.0,\n            'f': \"5.0\",\n        },\n{\n            'v': 0.6545194089412689,\n            'f': \"0.6545194089412689\",\n        },\n{\n            'v': 0.0,\n            'f': \"0.0\",\n        }],\n [\"75%\",\n{\n            'v': 13656.75,\n            'f': \"13656.75\",\n        },\n{\n            'v': 20.0,\n            'f': \"20.0\",\n        },\n{\n            'v': 25.0,\n            'f': \"25.0\",\n        },\n{\n            'v': 26.0,\n            'f': \"26.0\",\n        },\n{\n            'v': 20.0,\n            'f': \"20.0\",\n        },\n{\n            'v': 33.0,\n            'f': \"33.0\",\n        },\n{\n            'v': 16.0,\n            'f': \"16.0\",\n        },\n{\n            'v': 0.0,\n            'f': \"0.0\",\n        },\n{\n            'v': 13656.75,\n            'f': \"13656.75\",\n        },\n{\n            'v': 7.0,\n            'f': \"7.0\",\n        },\n{\n            'v': 0.8499410897493362,\n            'f': \"0.8499410897493362\",\n        },\n{\n            'v': 0.0,\n            'f': \"0.0\",\n        }],\n [\"max\",\n{\n            'v': 18209.0,\n            'f': \"18209.0\",\n        },\n{\n            'v': 100.0,\n            'f': \"100.0\",\n        },\n{\n            'v': 100.0,\n            'f': \"100.0\",\n        },\n{\n            'v': 100.0,\n            'f': \"100.0\",\n        },\n{\n            'v': 100.0,\n            'f': \"100.0\",\n        },\n{\n            'v': 100.0,\n            'f': \"100.0\",\n        },\n{\n            'v': 100.0,\n            'f': \"100.0\",\n        },\n{\n            'v': 100.0,\n            'f': \"100.0\",\n        },\n{\n            'v': 18209.0,\n            'f': \"18209.0\",\n        },\n{\n            'v': 9.0,\n            'f': \"9.0\",\n        },\n{\n            'v': 0.9653764963150024,\n            'f': \"0.9653764963150024\",\n        },\n{\n            'v': 0.3385782617766062,\n            'f': \"0.3385782617766062\",\n        }]],\n        columns: [[\"string\", \"level_0\"], [\"number\", \"Unnamed: 0\"], [\"number\", \"TRUE\"], [\"number\", \"MostlyTrue\"], [\"number\", \"HalfTrue\"], [\"number\", \"MostlyFalse\"], [\"number\", \"FALSE\"], [\"number\", \"PantOnFire\"], [\"number\", \"FakeScore\"], [\"number\", \"index\"], [\"number\", \"topic_number\"], [\"number\", \"lda_score\"], [\"number\", \"cosine_score\"]],\n        columnOptions: [{\"width\": \"1px\", \"className\": \"index_column\"}],\n        rowsPerPage: 25,\n        helpUrl: \"https://colab.research.google.com/notebooks/data_table.ipynb\",\n        suppressOutputScrolling: true,\n        minimumWidth: undefined,\n      });\n    ",
            "text/html": [
              "<div>\n",
              "<style scoped>\n",
              "    .dataframe tbody tr th:only-of-type {\n",
              "        vertical-align: middle;\n",
              "    }\n",
              "\n",
              "    .dataframe tbody tr th {\n",
              "        vertical-align: top;\n",
              "    }\n",
              "\n",
              "    .dataframe thead th {\n",
              "        text-align: right;\n",
              "    }\n",
              "</style>\n",
              "<table border=\"1\" class=\"dataframe\">\n",
              "  <thead>\n",
              "    <tr style=\"text-align: right;\">\n",
              "      <th></th>\n",
              "      <th>Unnamed: 0</th>\n",
              "      <th>TRUE</th>\n",
              "      <th>MostlyTrue</th>\n",
              "      <th>HalfTrue</th>\n",
              "      <th>MostlyFalse</th>\n",
              "      <th>FALSE</th>\n",
              "      <th>PantOnFire</th>\n",
              "      <th>FakeScore</th>\n",
              "      <th>index</th>\n",
              "      <th>topic_number</th>\n",
              "      <th>lda_score</th>\n",
              "      <th>cosine_score</th>\n",
              "    </tr>\n",
              "  </thead>\n",
              "  <tbody>\n",
              "    <tr>\n",
              "      <th>count</th>\n",
              "      <td>18210.000000</td>\n",
              "      <td>18210.00000</td>\n",
              "      <td>18210.000000</td>\n",
              "      <td>18210.000000</td>\n",
              "      <td>18210.000000</td>\n",
              "      <td>18210.000000</td>\n",
              "      <td>18210.000000</td>\n",
              "      <td>18210.000000</td>\n",
              "      <td>18210.000000</td>\n",
              "      <td>18210.000000</td>\n",
              "      <td>18210.000000</td>\n",
              "      <td>18208.000000</td>\n",
              "    </tr>\n",
              "    <tr>\n",
              "      <th>mean</th>\n",
              "      <td>9104.500000</td>\n",
              "      <td>12.72581</td>\n",
              "      <td>16.815431</td>\n",
              "      <td>17.857825</td>\n",
              "      <td>16.243987</td>\n",
              "      <td>22.735750</td>\n",
              "      <td>11.738660</td>\n",
              "      <td>1.996156</td>\n",
              "      <td>9104.500000</td>\n",
              "      <td>4.577595</td>\n",
              "      <td>0.666440</td>\n",
              "      <td>0.010804</td>\n",
              "    </tr>\n",
              "    <tr>\n",
              "      <th>std</th>\n",
              "      <td>5256.918537</td>\n",
              "      <td>18.80563</td>\n",
              "      <td>20.262431</td>\n",
              "      <td>19.785439</td>\n",
              "      <td>18.577599</td>\n",
              "      <td>22.573096</td>\n",
              "      <td>19.704759</td>\n",
              "      <td>13.903514</td>\n",
              "      <td>5256.918537</td>\n",
              "      <td>2.882460</td>\n",
              "      <td>0.172632</td>\n",
              "      <td>0.031739</td>\n",
              "    </tr>\n",
              "    <tr>\n",
              "      <th>min</th>\n",
              "      <td>0.000000</td>\n",
              "      <td>0.00000</td>\n",
              "      <td>0.000000</td>\n",
              "      <td>0.000000</td>\n",
              "      <td>0.000000</td>\n",
              "      <td>0.000000</td>\n",
              "      <td>0.000000</td>\n",
              "      <td>0.000000</td>\n",
              "      <td>0.000000</td>\n",
              "      <td>0.000000</td>\n",
              "      <td>0.100000</td>\n",
              "      <td>0.000000</td>\n",
              "    </tr>\n",
              "    <tr>\n",
              "      <th>25%</th>\n",
              "      <td>4552.250000</td>\n",
              "      <td>0.00000</td>\n",
              "      <td>1.000000</td>\n",
              "      <td>3.000000</td>\n",
              "      <td>0.000000</td>\n",
              "      <td>5.000000</td>\n",
              "      <td>0.000000</td>\n",
              "      <td>0.000000</td>\n",
              "      <td>4552.250000</td>\n",
              "      <td>2.000000</td>\n",
              "      <td>0.520401</td>\n",
              "      <td>0.000000</td>\n",
              "    </tr>\n",
              "    <tr>\n",
              "      <th>50%</th>\n",
              "      <td>9104.500000</td>\n",
              "      <td>5.00000</td>\n",
              "      <td>11.000000</td>\n",
              "      <td>14.000000</td>\n",
              "      <td>14.000000</td>\n",
              "      <td>18.000000</td>\n",
              "      <td>3.000000</td>\n",
              "      <td>0.000000</td>\n",
              "      <td>9104.500000</td>\n",
              "      <td>5.000000</td>\n",
              "      <td>0.654519</td>\n",
              "      <td>0.000000</td>\n",
              "    </tr>\n",
              "    <tr>\n",
              "      <th>75%</th>\n",
              "      <td>13656.750000</td>\n",
              "      <td>20.00000</td>\n",
              "      <td>25.000000</td>\n",
              "      <td>26.000000</td>\n",
              "      <td>20.000000</td>\n",
              "      <td>33.000000</td>\n",
              "      <td>16.000000</td>\n",
              "      <td>0.000000</td>\n",
              "      <td>13656.750000</td>\n",
              "      <td>7.000000</td>\n",
              "      <td>0.849941</td>\n",
              "      <td>0.000000</td>\n",
              "    </tr>\n",
              "    <tr>\n",
              "      <th>max</th>\n",
              "      <td>18209.000000</td>\n",
              "      <td>100.00000</td>\n",
              "      <td>100.000000</td>\n",
              "      <td>100.000000</td>\n",
              "      <td>100.000000</td>\n",
              "      <td>100.000000</td>\n",
              "      <td>100.000000</td>\n",
              "      <td>100.000000</td>\n",
              "      <td>18209.000000</td>\n",
              "      <td>9.000000</td>\n",
              "      <td>0.965376</td>\n",
              "      <td>0.338578</td>\n",
              "    </tr>\n",
              "  </tbody>\n",
              "</table>\n",
              "</div>"
            ],
            "text/plain": [
              "         Unnamed: 0         TRUE  ...     lda_score  cosine_score\n",
              "count  18210.000000  18210.00000  ...  18210.000000  18208.000000\n",
              "mean   9104.500000   12.72581     ...  0.666440      0.010804    \n",
              "std    5256.918537   18.80563     ...  0.172632      0.031739    \n",
              "min    0.000000      0.00000      ...  0.100000      0.000000    \n",
              "25%    4552.250000   0.00000      ...  0.520401      0.000000    \n",
              "50%    9104.500000   5.00000      ...  0.654519      0.000000    \n",
              "75%    13656.750000  20.00000     ...  0.849941      0.000000    \n",
              "max    18209.000000  100.00000    ...  0.965376      0.338578    \n",
              "\n",
              "[8 rows x 12 columns]"
            ]
          },
          "metadata": {
            "tags": []
          },
          "execution_count": 108
        }
      ]
    },
    {
      "cell_type": "code",
      "metadata": {
        "colab": {
          "base_uri": "https://localhost:8080/"
        },
        "id": "kTtMYlIJ-kdM",
        "outputId": "f778ef32-2951-44b5-d2dd-2ca6c00285d8"
      },
      "source": [
        "# Kaggle fake news dataset\n",
        "clean_similarity_score_fake = []\n",
        "for i in range(len(tf_idf_FN.toarray())):\n",
        "    clean_similarity_score_fake.append(1 - spatial.distance.cosine(tfidf_cleanliar[0].toarray(), tf_idf_FN[i].toarray()))"
      ],
      "execution_count": null,
      "outputs": [
        {
          "output_type": "stream",
          "text": [
            "/usr/local/lib/python3.6/dist-packages/scipy/spatial/distance.py:720: RuntimeWarning: invalid value encountered in double_scalars\n",
            "  dist = 1.0 - uv / np.sqrt(uu * vv)\n"
          ],
          "name": "stderr"
        }
      ]
    },
    {
      "cell_type": "code",
      "metadata": {
        "id": "rMmWTp8T-kdM"
      },
      "source": [
        "df_FakeNews_train['cosine_score'] = clean_similarity_score_fake"
      ],
      "execution_count": null,
      "outputs": []
    },
    {
      "cell_type": "code",
      "metadata": {
        "colab": {
          "base_uri": "https://localhost:8080/"
        },
        "id": "CVDCRzGSAFbg",
        "outputId": "5ce7e379-e017-4bcb-9493-1b0986e55b86"
      },
      "source": [
        "df_FakeNews_train.describe()"
      ],
      "execution_count": null,
      "outputs": [
        {
          "output_type": "execute_result",
          "data": {
            "application/vnd.google.colaboratory.module+javascript": "\n      import \"https://ssl.gstatic.com/colaboratory/data_table/a6224c040fa35dcf/data_table.js\";\n\n      window.createDataTable({\n        data: [[\"count\",\n{\n            'v': 20800.0,\n            'f': \"20800.0\",\n        },\n{\n            'v': 20800.0,\n            'f': \"20800.0\",\n        },\n{\n            'v': 20553.0,\n            'f': \"20553.0\",\n        }],\n [\"mean\",\n{\n            'v': 10399.5,\n            'f': \"10399.5\",\n        },\n{\n            'v': 0.500625,\n            'f': \"0.500625\",\n        },\n{\n            'v': 0.01261727243015961,\n            'f': \"0.01261727243015961\",\n        }],\n [\"std\",\n{\n            'v': 6004.58713540462,\n            'f': \"6004.58713540462\",\n        },\n{\n            'v': 0.5000116290295746,\n            'f': \"0.5000116290295746\",\n        },\n{\n            'v': 0.03547868014494954,\n            'f': \"0.03547868014494954\",\n        }],\n [\"min\",\n{\n            'v': 0.0,\n            'f': \"0.0\",\n        },\n{\n            'v': 0.0,\n            'f': \"0.0\",\n        },\n{\n            'v': 0.0,\n            'f': \"0.0\",\n        }],\n [\"25%\",\n{\n            'v': 5199.75,\n            'f': \"5199.75\",\n        },\n{\n            'v': 0.0,\n            'f': \"0.0\",\n        },\n{\n            'v': 0.0,\n            'f': \"0.0\",\n        }],\n [\"50%\",\n{\n            'v': 10399.5,\n            'f': \"10399.5\",\n        },\n{\n            'v': 1.0,\n            'f': \"1.0\",\n        },\n{\n            'v': 0.0,\n            'f': \"0.0\",\n        }],\n [\"75%\",\n{\n            'v': 15599.25,\n            'f': \"15599.25\",\n        },\n{\n            'v': 1.0,\n            'f': \"1.0\",\n        },\n{\n            'v': 0.0,\n            'f': \"0.0\",\n        }],\n [\"max\",\n{\n            'v': 20799.0,\n            'f': \"20799.0\",\n        },\n{\n            'v': 1.0,\n            'f': \"1.0\",\n        },\n{\n            'v': 0.5098872357284456,\n            'f': \"0.5098872357284456\",\n        }]],\n        columns: [[\"string\", \"index\"], [\"number\", \"id\"], [\"number\", \"label\"], [\"number\", \"cosine_score\"]],\n        columnOptions: [{\"width\": \"1px\", \"className\": \"index_column\"}],\n        rowsPerPage: 25,\n        helpUrl: \"https://colab.research.google.com/notebooks/data_table.ipynb\",\n        suppressOutputScrolling: true,\n        minimumWidth: undefined,\n      });\n    ",
            "text/html": [
              "<div>\n",
              "<style scoped>\n",
              "    .dataframe tbody tr th:only-of-type {\n",
              "        vertical-align: middle;\n",
              "    }\n",
              "\n",
              "    .dataframe tbody tr th {\n",
              "        vertical-align: top;\n",
              "    }\n",
              "\n",
              "    .dataframe thead th {\n",
              "        text-align: right;\n",
              "    }\n",
              "</style>\n",
              "<table border=\"1\" class=\"dataframe\">\n",
              "  <thead>\n",
              "    <tr style=\"text-align: right;\">\n",
              "      <th></th>\n",
              "      <th>id</th>\n",
              "      <th>label</th>\n",
              "      <th>cosine_score</th>\n",
              "    </tr>\n",
              "  </thead>\n",
              "  <tbody>\n",
              "    <tr>\n",
              "      <th>count</th>\n",
              "      <td>20800.000000</td>\n",
              "      <td>20800.000000</td>\n",
              "      <td>20553.000000</td>\n",
              "    </tr>\n",
              "    <tr>\n",
              "      <th>mean</th>\n",
              "      <td>10399.500000</td>\n",
              "      <td>0.500625</td>\n",
              "      <td>0.012617</td>\n",
              "    </tr>\n",
              "    <tr>\n",
              "      <th>std</th>\n",
              "      <td>6004.587135</td>\n",
              "      <td>0.500012</td>\n",
              "      <td>0.035479</td>\n",
              "    </tr>\n",
              "    <tr>\n",
              "      <th>min</th>\n",
              "      <td>0.000000</td>\n",
              "      <td>0.000000</td>\n",
              "      <td>0.000000</td>\n",
              "    </tr>\n",
              "    <tr>\n",
              "      <th>25%</th>\n",
              "      <td>5199.750000</td>\n",
              "      <td>0.000000</td>\n",
              "      <td>0.000000</td>\n",
              "    </tr>\n",
              "    <tr>\n",
              "      <th>50%</th>\n",
              "      <td>10399.500000</td>\n",
              "      <td>1.000000</td>\n",
              "      <td>0.000000</td>\n",
              "    </tr>\n",
              "    <tr>\n",
              "      <th>75%</th>\n",
              "      <td>15599.250000</td>\n",
              "      <td>1.000000</td>\n",
              "      <td>0.000000</td>\n",
              "    </tr>\n",
              "    <tr>\n",
              "      <th>max</th>\n",
              "      <td>20799.000000</td>\n",
              "      <td>1.000000</td>\n",
              "      <td>0.509887</td>\n",
              "    </tr>\n",
              "  </tbody>\n",
              "</table>\n",
              "</div>"
            ],
            "text/plain": [
              "                 id         label  cosine_score\n",
              "count  20800.000000  20800.000000  20553.000000\n",
              "mean   10399.500000  0.500625      0.012617    \n",
              "std    6004.587135   0.500012      0.035479    \n",
              "min    0.000000      0.000000      0.000000    \n",
              "25%    5199.750000   0.000000      0.000000    \n",
              "50%    10399.500000  1.000000      0.000000    \n",
              "75%    15599.250000  1.000000      0.000000    \n",
              "max    20799.000000  1.000000      0.509887    "
            ]
          },
          "metadata": {
            "tags": []
          },
          "execution_count": 111
        }
      ]
    },
    {
      "cell_type": "code",
      "metadata": {
        "id": "dMHKE0aM-kdM"
      },
      "source": [
        "df_Lier_clean = df_Lier_clean.dropna(0)\n",
        "df_FakeNews_train = df_FakeNews_train.dropna(0)"
      ],
      "execution_count": null,
      "outputs": []
    },
    {
      "cell_type": "code",
      "metadata": {
        "colab": {
          "base_uri": "https://localhost:8080/"
        },
        "id": "TWzUoKpx-kdM",
        "outputId": "7d5116af-a8dc-49ad-8ee9-8a3bbfcbd4e4"
      },
      "source": [
        "df_Lier_clean.shape"
      ],
      "execution_count": null,
      "outputs": [
        {
          "output_type": "execute_result",
          "data": {
            "text/plain": [
              "(12458, 21)"
            ]
          },
          "metadata": {
            "tags": []
          },
          "execution_count": 113
        }
      ]
    },
    {
      "cell_type": "code",
      "metadata": {
        "colab": {
          "base_uri": "https://localhost:8080/"
        },
        "id": "sPRrJRGu8jGk",
        "outputId": "e2179fb5-4720-4266-e534-b548241be504"
      },
      "source": [
        "df_Lier_clean.cosine_score.unique()"
      ],
      "execution_count": null,
      "outputs": [
        {
          "output_type": "execute_result",
          "data": {
            "text/plain": [
              "array([0.        , 0.10947102, 0.09753544, ..., 0.0323633 , 0.07931409,\n",
              "       0.04100172])"
            ]
          },
          "metadata": {
            "tags": []
          },
          "execution_count": 114
        }
      ]
    },
    {
      "cell_type": "code",
      "metadata": {
        "colab": {
          "base_uri": "https://localhost:8080/"
        },
        "id": "cT9bSj1i-kdM",
        "outputId": "0303285f-1952-4066-84f7-b7241fcd42b6"
      },
      "source": [
        "df_FakeNews_train.shape"
      ],
      "execution_count": null,
      "outputs": [
        {
          "output_type": "execute_result",
          "data": {
            "text/plain": [
              "(18128, 6)"
            ]
          },
          "metadata": {
            "tags": []
          },
          "execution_count": 115
        }
      ]
    },
    {
      "cell_type": "code",
      "metadata": {
        "colab": {
          "base_uri": "https://localhost:8080/"
        },
        "id": "Qfv2cM0r8gXJ",
        "outputId": "4279b2f5-2d61-4a7c-dba3-cda0f7dd4d6a"
      },
      "source": [
        "df_FakeNews_train.cosine_score.unique"
      ],
      "execution_count": null,
      "outputs": [
        {
          "output_type": "execute_result",
          "data": {
            "text/plain": [
              "<bound method Series.unique of 0        0.116019\n",
              "1        0.000000\n",
              "2        0.000000\n",
              "3        0.000000\n",
              "4        0.000000\n",
              "           ...   \n",
              "20795    0.037070\n",
              "20796    0.000000\n",
              "20797    0.000000\n",
              "20798    0.000000\n",
              "20799    0.000000\n",
              "Name: cosine_score, Length: 18128, dtype: float64>"
            ]
          },
          "metadata": {
            "tags": []
          },
          "execution_count": 116
        }
      ]
    },
    {
      "cell_type": "markdown",
      "metadata": {
        "id": "2i23TvDg78Hx"
      },
      "source": [
        "## Amalgamation"
      ]
    },
    {
      "cell_type": "markdown",
      "metadata": {
        "id": "LP1S-f1JbTH8"
      },
      "source": [
        "### Lier"
      ]
    },
    {
      "cell_type": "code",
      "metadata": {
        "id": "y2gFloRscBEK"
      },
      "source": [
        "# df_Lier_clean.to_csv('df_lier_cosine.csv')\n",
        "# files.download('df_lier_cosine.csv')"
      ],
      "execution_count": null,
      "outputs": []
    },
    {
      "cell_type": "code",
      "metadata": {
        "colab": {
          "base_uri": "https://localhost:8080/"
        },
        "id": "OtFen6VmbWqN",
        "outputId": "264ec68c-f02c-45d9-f222-75d126f4c2d4"
      },
      "source": [
        "df_Lier_clean.shape"
      ],
      "execution_count": null,
      "outputs": [
        {
          "output_type": "execute_result",
          "data": {
            "text/plain": [
              "(12458, 21)"
            ]
          },
          "metadata": {
            "tags": []
          },
          "execution_count": 118
        }
      ]
    },
    {
      "cell_type": "code",
      "metadata": {
        "id": "IyTd7uyYcvr3"
      },
      "source": [
        "df_Liertrim = df_Lier_clean[df_Lier_clean.cosine_score != 0]"
      ],
      "execution_count": null,
      "outputs": []
    },
    {
      "cell_type": "code",
      "metadata": {
        "colab": {
          "base_uri": "https://localhost:8080/"
        },
        "id": "nDtoEcb6dqbF",
        "outputId": "063da7b9-274b-47c7-d2c9-cd0c8c2e4a06"
      },
      "source": [
        "df_Liertrim.shape"
      ],
      "execution_count": null,
      "outputs": [
        {
          "output_type": "execute_result",
          "data": {
            "text/plain": [
              "(1762, 21)"
            ]
          },
          "metadata": {
            "tags": []
          },
          "execution_count": 120
        }
      ]
    },
    {
      "cell_type": "code",
      "metadata": {
        "colab": {
          "base_uri": "https://localhost:8080/"
        },
        "id": "jt12VQxcdv0W",
        "outputId": "7e6668b8-6bb7-4839-c4f5-1d4984185d8d"
      },
      "source": [
        "df_Liertrim.describe()"
      ],
      "execution_count": null,
      "outputs": [
        {
          "output_type": "execute_result",
          "data": {
            "application/vnd.google.colaboratory.module+javascript": "\n      import \"https://ssl.gstatic.com/colaboratory/data_table/a6224c040fa35dcf/data_table.js\";\n\n      window.createDataTable({\n        data: [[\"count\",\n{\n            'v': 1762.0,\n            'f': \"1762.0\",\n        },\n{\n            'v': 1762.0,\n            'f': \"1762.0\",\n        },\n{\n            'v': 1762.0,\n            'f': \"1762.0\",\n        },\n{\n            'v': 1762.0,\n            'f': \"1762.0\",\n        },\n{\n            'v': 1762.0,\n            'f': \"1762.0\",\n        },\n{\n            'v': 1762.0,\n            'f': \"1762.0\",\n        },\n{\n            'v': 1762.0,\n            'f': \"1762.0\",\n        },\n{\n            'v': 1762.0,\n            'f': \"1762.0\",\n        },\n{\n            'v': 1762.0,\n            'f': \"1762.0\",\n        },\n{\n            'v': 1762.0,\n            'f': \"1762.0\",\n        },\n{\n            'v': 1762.0,\n            'f': \"1762.0\",\n        },\n{\n            'v': 1762.0,\n            'f': \"1762.0\",\n        }],\n [\"mean\",\n{\n            'v': 9207.543132803632,\n            'f': \"9207.543132803632\",\n        },\n{\n            'v': 13.748013620885358,\n            'f': \"13.748013620885358\",\n        },\n{\n            'v': 18.948354143019298,\n            'f': \"18.948354143019298\",\n        },\n{\n            'v': 18.856413166855845,\n            'f': \"18.856413166855845\",\n        },\n{\n            'v': 17.103291713961408,\n            'f': \"17.103291713961408\",\n        },\n{\n            'v': 21.459704880817252,\n            'f': \"21.459704880817252\",\n        },\n{\n            'v': 7.905788876276958,\n            'f': \"7.905788876276958\",\n        },\n{\n            'v': 2.185017026106697,\n            'f': \"2.185017026106697\",\n        },\n{\n            'v': 9207.543132803632,\n            'f': \"9207.543132803632\",\n        },\n{\n            'v': 4.683314415437003,\n            'f': \"4.683314415437003\",\n        },\n{\n            'v': 0.6644535895762596,\n            'f': \"0.6644535895762596\",\n        },\n{\n            'v': 0.07814129516789285,\n            'f': \"0.07814129516789285\",\n        }],\n [\"std\",\n{\n            'v': 5280.606796715974,\n            'f': \"5280.606796715974\",\n        },\n{\n            'v': 16.442112211443312,\n            'f': \"16.442112211443312\",\n        },\n{\n            'v': 17.666580419796528,\n            'f': \"17.666580419796528\",\n        },\n{\n            'v': 16.519578193002978,\n            'f': \"16.519578193002978\",\n        },\n{\n            'v': 15.865727062903765,\n            'f': \"15.865727062903765\",\n        },\n{\n            'v': 18.936632413360606,\n            'f': \"18.936632413360606\",\n        },\n{\n            'v': 13.032749578898965,\n            'f': \"13.032749578898965\",\n        },\n{\n            'v': 14.574948450850698,\n            'f': \"14.574948450850698\",\n        },\n{\n            'v': 5280.606796715974,\n            'f': \"5280.606796715974\",\n        },\n{\n            'v': 2.7909655338091737,\n            'f': \"2.7909655338091737\",\n        },\n{\n            'v': 0.17540588907130944,\n            'f': \"0.17540588907130944\",\n        },\n{\n            'v': 0.04140010646475855,\n            'f': \"0.04140010646475855\",\n        }],\n [\"min\",\n{\n            'v': 33.0,\n            'f': \"33.0\",\n        },\n{\n            'v': 0.0,\n            'f': \"0.0\",\n        },\n{\n            'v': 0.0,\n            'f': \"0.0\",\n        },\n{\n            'v': 0.0,\n            'f': \"0.0\",\n        },\n{\n            'v': 0.0,\n            'f': \"0.0\",\n        },\n{\n            'v': 0.0,\n            'f': \"0.0\",\n        },\n{\n            'v': 0.0,\n            'f': \"0.0\",\n        },\n{\n            'v': 0.0,\n            'f': \"0.0\",\n        },\n{\n            'v': 33.0,\n            'f': \"33.0\",\n        },\n{\n            'v': 0.0,\n            'f': \"0.0\",\n        },\n{\n            'v': 0.10000000149011612,\n            'f': \"0.10000000149011612\",\n        },\n{\n            'v': 0.019803053561503137,\n            'f': \"0.019803053561503137\",\n        }],\n [\"25%\",\n{\n            'v': 4962.25,\n            'f': \"4962.25\",\n        },\n{\n            'v': 1.0,\n            'f': \"1.0\",\n        },\n{\n            'v': 7.0,\n            'f': \"7.0\",\n        },\n{\n            'v': 8.0,\n            'f': \"8.0\",\n        },\n{\n            'v': 10.0,\n            'f': \"10.0\",\n        },\n{\n            'v': 10.0,\n            'f': \"10.0\",\n        },\n{\n            'v': 0.0,\n            'f': \"0.0\",\n        },\n{\n            'v': 0.0,\n            'f': \"0.0\",\n        },\n{\n            'v': 4962.25,\n            'f': \"4962.25\",\n        },\n{\n            'v': 2.0,\n            'f': \"2.0\",\n        },\n{\n            'v': 0.5169540047645569,\n            'f': \"0.5169540047645569\",\n        },\n{\n            'v': 0.04767099527744653,\n            'f': \"0.04767099527744653\",\n        }],\n [\"50%\",\n{\n            'v': 9187.5,\n            'f': \"9187.5\",\n        },\n{\n            'v': 12.0,\n            'f': \"12.0\",\n        },\n{\n            'v': 18.0,\n            'f': \"18.0\",\n        },\n{\n            'v': 17.0,\n            'f': \"17.0\",\n        },\n{\n            'v': 16.0,\n            'f': \"16.0\",\n        },\n{\n            'v': 18.0,\n            'f': \"18.0\",\n        },\n{\n            'v': 3.0,\n            'f': \"3.0\",\n        },\n{\n            'v': 0.0,\n            'f': \"0.0\",\n        },\n{\n            'v': 9187.5,\n            'f': \"9187.5\",\n        },\n{\n            'v': 5.0,\n            'f': \"5.0\",\n        },\n{\n            'v': 0.6430380046367645,\n            'f': \"0.6430380046367645\",\n        },\n{\n            'v': 0.06572498326833698,\n            'f': \"0.06572498326833698\",\n        }],\n [\"75%\",\n{\n            'v': 13872.25,\n            'f': \"13872.25\",\n        },\n{\n            'v': 20.0,\n            'f': \"20.0\",\n        },\n{\n            'v': 27.0,\n            'f': \"27.0\",\n        },\n{\n            'v': 26.0,\n            'f': \"26.0\",\n        },\n{\n            'v': 20.0,\n            'f': \"20.0\",\n        },\n{\n            'v': 33.0,\n            'f': \"33.0\",\n        },\n{\n            'v': 13.0,\n            'f': \"13.0\",\n        },\n{\n            'v': 0.0,\n            'f': \"0.0\",\n        },\n{\n            'v': 13872.25,\n            'f': \"13872.25\",\n        },\n{\n            'v': 7.0,\n            'f': \"7.0\",\n        },\n{\n            'v': 0.8499550074338913,\n            'f': \"0.8499550074338913\",\n        },\n{\n            'v': 0.09970591866927195,\n            'f': \"0.09970591866927195\",\n        }],\n [\"max\",\n{\n            'v': 18205.0,\n            'f': \"18205.0\",\n        },\n{\n            'v': 100.0,\n            'f': \"100.0\",\n        },\n{\n            'v': 100.0,\n            'f': \"100.0\",\n        },\n{\n            'v': 100.0,\n            'f': \"100.0\",\n        },\n{\n            'v': 100.0,\n            'f': \"100.0\",\n        },\n{\n            'v': 100.0,\n            'f': \"100.0\",\n        },\n{\n            'v': 100.0,\n            'f': \"100.0\",\n        },\n{\n            'v': 100.0,\n            'f': \"100.0\",\n        },\n{\n            'v': 18205.0,\n            'f': \"18205.0\",\n        },\n{\n            'v': 9.0,\n            'f': \"9.0\",\n        },\n{\n            'v': 0.9571319818496704,\n            'f': \"0.9571319818496704\",\n        },\n{\n            'v': 0.3052614551334589,\n            'f': \"0.3052614551334589\",\n        }]],\n        columns: [[\"string\", \"level_0\"], [\"number\", \"Unnamed: 0\"], [\"number\", \"TRUE\"], [\"number\", \"MostlyTrue\"], [\"number\", \"HalfTrue\"], [\"number\", \"MostlyFalse\"], [\"number\", \"FALSE\"], [\"number\", \"PantOnFire\"], [\"number\", \"FakeScore\"], [\"number\", \"index\"], [\"number\", \"topic_number\"], [\"number\", \"lda_score\"], [\"number\", \"cosine_score\"]],\n        columnOptions: [{\"width\": \"1px\", \"className\": \"index_column\"}],\n        rowsPerPage: 25,\n        helpUrl: \"https://colab.research.google.com/notebooks/data_table.ipynb\",\n        suppressOutputScrolling: true,\n        minimumWidth: undefined,\n      });\n    ",
            "text/html": [
              "<div>\n",
              "<style scoped>\n",
              "    .dataframe tbody tr th:only-of-type {\n",
              "        vertical-align: middle;\n",
              "    }\n",
              "\n",
              "    .dataframe tbody tr th {\n",
              "        vertical-align: top;\n",
              "    }\n",
              "\n",
              "    .dataframe thead th {\n",
              "        text-align: right;\n",
              "    }\n",
              "</style>\n",
              "<table border=\"1\" class=\"dataframe\">\n",
              "  <thead>\n",
              "    <tr style=\"text-align: right;\">\n",
              "      <th></th>\n",
              "      <th>Unnamed: 0</th>\n",
              "      <th>TRUE</th>\n",
              "      <th>MostlyTrue</th>\n",
              "      <th>HalfTrue</th>\n",
              "      <th>MostlyFalse</th>\n",
              "      <th>FALSE</th>\n",
              "      <th>PantOnFire</th>\n",
              "      <th>FakeScore</th>\n",
              "      <th>index</th>\n",
              "      <th>topic_number</th>\n",
              "      <th>lda_score</th>\n",
              "      <th>cosine_score</th>\n",
              "    </tr>\n",
              "  </thead>\n",
              "  <tbody>\n",
              "    <tr>\n",
              "      <th>count</th>\n",
              "      <td>1762.000000</td>\n",
              "      <td>1762.000000</td>\n",
              "      <td>1762.000000</td>\n",
              "      <td>1762.000000</td>\n",
              "      <td>1762.000000</td>\n",
              "      <td>1762.000000</td>\n",
              "      <td>1762.000000</td>\n",
              "      <td>1762.000000</td>\n",
              "      <td>1762.000000</td>\n",
              "      <td>1762.000000</td>\n",
              "      <td>1762.000000</td>\n",
              "      <td>1762.000000</td>\n",
              "    </tr>\n",
              "    <tr>\n",
              "      <th>mean</th>\n",
              "      <td>9207.543133</td>\n",
              "      <td>13.748014</td>\n",
              "      <td>18.948354</td>\n",
              "      <td>18.856413</td>\n",
              "      <td>17.103292</td>\n",
              "      <td>21.459705</td>\n",
              "      <td>7.905789</td>\n",
              "      <td>2.185017</td>\n",
              "      <td>9207.543133</td>\n",
              "      <td>4.683314</td>\n",
              "      <td>0.664454</td>\n",
              "      <td>0.078141</td>\n",
              "    </tr>\n",
              "    <tr>\n",
              "      <th>std</th>\n",
              "      <td>5280.606797</td>\n",
              "      <td>16.442112</td>\n",
              "      <td>17.666580</td>\n",
              "      <td>16.519578</td>\n",
              "      <td>15.865727</td>\n",
              "      <td>18.936632</td>\n",
              "      <td>13.032750</td>\n",
              "      <td>14.574948</td>\n",
              "      <td>5280.606797</td>\n",
              "      <td>2.790966</td>\n",
              "      <td>0.175406</td>\n",
              "      <td>0.041400</td>\n",
              "    </tr>\n",
              "    <tr>\n",
              "      <th>min</th>\n",
              "      <td>33.000000</td>\n",
              "      <td>0.000000</td>\n",
              "      <td>0.000000</td>\n",
              "      <td>0.000000</td>\n",
              "      <td>0.000000</td>\n",
              "      <td>0.000000</td>\n",
              "      <td>0.000000</td>\n",
              "      <td>0.000000</td>\n",
              "      <td>33.000000</td>\n",
              "      <td>0.000000</td>\n",
              "      <td>0.100000</td>\n",
              "      <td>0.019803</td>\n",
              "    </tr>\n",
              "    <tr>\n",
              "      <th>25%</th>\n",
              "      <td>4962.250000</td>\n",
              "      <td>1.000000</td>\n",
              "      <td>7.000000</td>\n",
              "      <td>8.000000</td>\n",
              "      <td>10.000000</td>\n",
              "      <td>10.000000</td>\n",
              "      <td>0.000000</td>\n",
              "      <td>0.000000</td>\n",
              "      <td>4962.250000</td>\n",
              "      <td>2.000000</td>\n",
              "      <td>0.516954</td>\n",
              "      <td>0.047671</td>\n",
              "    </tr>\n",
              "    <tr>\n",
              "      <th>50%</th>\n",
              "      <td>9187.500000</td>\n",
              "      <td>12.000000</td>\n",
              "      <td>18.000000</td>\n",
              "      <td>17.000000</td>\n",
              "      <td>16.000000</td>\n",
              "      <td>18.000000</td>\n",
              "      <td>3.000000</td>\n",
              "      <td>0.000000</td>\n",
              "      <td>9187.500000</td>\n",
              "      <td>5.000000</td>\n",
              "      <td>0.643038</td>\n",
              "      <td>0.065725</td>\n",
              "    </tr>\n",
              "    <tr>\n",
              "      <th>75%</th>\n",
              "      <td>13872.250000</td>\n",
              "      <td>20.000000</td>\n",
              "      <td>27.000000</td>\n",
              "      <td>26.000000</td>\n",
              "      <td>20.000000</td>\n",
              "      <td>33.000000</td>\n",
              "      <td>13.000000</td>\n",
              "      <td>0.000000</td>\n",
              "      <td>13872.250000</td>\n",
              "      <td>7.000000</td>\n",
              "      <td>0.849955</td>\n",
              "      <td>0.099706</td>\n",
              "    </tr>\n",
              "    <tr>\n",
              "      <th>max</th>\n",
              "      <td>18205.000000</td>\n",
              "      <td>100.000000</td>\n",
              "      <td>100.000000</td>\n",
              "      <td>100.000000</td>\n",
              "      <td>100.000000</td>\n",
              "      <td>100.000000</td>\n",
              "      <td>100.000000</td>\n",
              "      <td>100.000000</td>\n",
              "      <td>18205.000000</td>\n",
              "      <td>9.000000</td>\n",
              "      <td>0.957132</td>\n",
              "      <td>0.305261</td>\n",
              "    </tr>\n",
              "  </tbody>\n",
              "</table>\n",
              "</div>"
            ],
            "text/plain": [
              "         Unnamed: 0         TRUE  ...    lda_score  cosine_score\n",
              "count  1762.000000   1762.000000  ...  1762.000000  1762.000000 \n",
              "mean   9207.543133   13.748014    ...  0.664454     0.078141    \n",
              "std    5280.606797   16.442112    ...  0.175406     0.041400    \n",
              "min    33.000000     0.000000     ...  0.100000     0.019803    \n",
              "25%    4962.250000   1.000000     ...  0.516954     0.047671    \n",
              "50%    9187.500000   12.000000    ...  0.643038     0.065725    \n",
              "75%    13872.250000  20.000000    ...  0.849955     0.099706    \n",
              "max    18205.000000  100.000000   ...  0.957132     0.305261    \n",
              "\n",
              "[8 rows x 12 columns]"
            ]
          },
          "metadata": {
            "tags": []
          },
          "execution_count": 121
        }
      ]
    },
    {
      "cell_type": "markdown",
      "metadata": {
        "id": "tS3Zovqkdhd_"
      },
      "source": [
        "### FakeNews"
      ]
    },
    {
      "cell_type": "code",
      "metadata": {
        "id": "6TsP_K3BcerZ"
      },
      "source": [
        "# df_FakeNews_train.to_csv('df_fake_cosine.csv')\n",
        "# files.download('df_fake_cosine.csv')"
      ],
      "execution_count": null,
      "outputs": []
    },
    {
      "cell_type": "code",
      "metadata": {
        "colab": {
          "base_uri": "https://localhost:8080/"
        },
        "id": "jNQYmsMpbWqN",
        "outputId": "aa66051e-c3ea-4a62-a599-f666996668c6"
      },
      "source": [
        "df_FakeNews_train.shape"
      ],
      "execution_count": null,
      "outputs": [
        {
          "output_type": "execute_result",
          "data": {
            "text/plain": [
              "(18128, 6)"
            ]
          },
          "metadata": {
            "tags": []
          },
          "execution_count": 123
        }
      ]
    },
    {
      "cell_type": "code",
      "metadata": {
        "id": "qz7LUTF2d30R"
      },
      "source": [
        "df_Faketrim = df_FakeNews_train[df_FakeNews_train.cosine_score != 0]"
      ],
      "execution_count": null,
      "outputs": []
    },
    {
      "cell_type": "code",
      "metadata": {
        "colab": {
          "base_uri": "https://localhost:8080/"
        },
        "id": "iGfxoMYCd30R",
        "outputId": "98e64c51-6bb5-4d71-f64c-aebf44c5b133"
      },
      "source": [
        "df_Faketrim.shape"
      ],
      "execution_count": null,
      "outputs": [
        {
          "output_type": "execute_result",
          "data": {
            "text/plain": [
              "(4276, 6)"
            ]
          },
          "metadata": {
            "tags": []
          },
          "execution_count": 125
        }
      ]
    },
    {
      "cell_type": "code",
      "metadata": {
        "colab": {
          "base_uri": "https://localhost:8080/",
          "height": 236
        },
        "id": "S2-Ywkord30S",
        "outputId": "cc7b7be8-b380-4a4a-e1de-07cd092f4edc"
      },
      "source": [
        "df_Faketrim.describe()"
      ],
      "execution_count": null,
      "outputs": [
        {
          "output_type": "execute_result",
          "data": {
            "application/vnd.google.colaboratory.module+javascript": "\n      import \"https://ssl.gstatic.com/colaboratory/data_table/a6224c040fa35dcf/data_table.js\";\n\n      window.createDataTable({\n        data: [[\"count\",\n{\n            'v': 4276.0,\n            'f': \"4276.0\",\n        },\n{\n            'v': 4276.0,\n            'f': \"4276.0\",\n        },\n{\n            'v': 4276.0,\n            'f': \"4276.0\",\n        }],\n [\"mean\",\n{\n            'v': 10402.897801683817,\n            'f': \"10402.897801683817\",\n        },\n{\n            'v': 0.3802619270346118,\n            'f': \"0.3802619270346118\",\n        },\n{\n            'v': 0.05477803062577395,\n            'f': \"0.05477803062577395\",\n        }],\n [\"std\",\n{\n            'v': 6018.251629082698,\n            'f': \"6018.251629082698\",\n        },\n{\n            'v': 0.48550789868164107,\n            'f': \"0.48550789868164107\",\n        },\n{\n            'v': 0.05542882194176999,\n            'f': \"0.05542882194176999\",\n        }],\n [\"min\",\n{\n            'v': 0.0,\n            'f': \"0.0\",\n        },\n{\n            'v': 0.0,\n            'f': \"0.0\",\n        },\n{\n            'v': 0.010978401054880127,\n            'f': \"0.010978401054880127\",\n        }],\n [\"25%\",\n{\n            'v': 5154.75,\n            'f': \"5154.75\",\n        },\n{\n            'v': 0.0,\n            'f': \"0.0\",\n        },\n{\n            'v': 0.02243912396515499,\n            'f': \"0.02243912396515499\",\n        }],\n [\"50%\",\n{\n            'v': 10549.5,\n            'f': \"10549.5\",\n        },\n{\n            'v': 0.0,\n            'f': \"0.0\",\n        },\n{\n            'v': 0.02738494799980501,\n            'f': \"0.02738494799980501\",\n        }],\n [\"75%\",\n{\n            'v': 15535.5,\n            'f': \"15535.5\",\n        },\n{\n            'v': 1.0,\n            'f': \"1.0\",\n        },\n{\n            'v': 0.07011550612867365,\n            'f': \"0.07011550612867365\",\n        }],\n [\"max\",\n{\n            'v': 20795.0,\n            'f': \"20795.0\",\n        },\n{\n            'v': 1.0,\n            'f': \"1.0\",\n        },\n{\n            'v': 0.5098872357284456,\n            'f': \"0.5098872357284456\",\n        }]],\n        columns: [[\"string\", \"index\"], [\"number\", \"id\"], [\"number\", \"label\"], [\"number\", \"cosine_score\"]],\n        columnOptions: [{\"width\": \"1px\", \"className\": \"index_column\"}],\n        rowsPerPage: 25,\n        helpUrl: \"https://colab.research.google.com/notebooks/data_table.ipynb\",\n        suppressOutputScrolling: true,\n        minimumWidth: undefined,\n      });\n    ",
            "text/html": [
              "<div>\n",
              "<style scoped>\n",
              "    .dataframe tbody tr th:only-of-type {\n",
              "        vertical-align: middle;\n",
              "    }\n",
              "\n",
              "    .dataframe tbody tr th {\n",
              "        vertical-align: top;\n",
              "    }\n",
              "\n",
              "    .dataframe thead th {\n",
              "        text-align: right;\n",
              "    }\n",
              "</style>\n",
              "<table border=\"1\" class=\"dataframe\">\n",
              "  <thead>\n",
              "    <tr style=\"text-align: right;\">\n",
              "      <th></th>\n",
              "      <th>id</th>\n",
              "      <th>label</th>\n",
              "      <th>cosine_score</th>\n",
              "    </tr>\n",
              "  </thead>\n",
              "  <tbody>\n",
              "    <tr>\n",
              "      <th>count</th>\n",
              "      <td>4276.000000</td>\n",
              "      <td>4276.000000</td>\n",
              "      <td>4276.000000</td>\n",
              "    </tr>\n",
              "    <tr>\n",
              "      <th>mean</th>\n",
              "      <td>10402.897802</td>\n",
              "      <td>0.380262</td>\n",
              "      <td>0.054778</td>\n",
              "    </tr>\n",
              "    <tr>\n",
              "      <th>std</th>\n",
              "      <td>6018.251629</td>\n",
              "      <td>0.485508</td>\n",
              "      <td>0.055429</td>\n",
              "    </tr>\n",
              "    <tr>\n",
              "      <th>min</th>\n",
              "      <td>0.000000</td>\n",
              "      <td>0.000000</td>\n",
              "      <td>0.010978</td>\n",
              "    </tr>\n",
              "    <tr>\n",
              "      <th>25%</th>\n",
              "      <td>5154.750000</td>\n",
              "      <td>0.000000</td>\n",
              "      <td>0.022439</td>\n",
              "    </tr>\n",
              "    <tr>\n",
              "      <th>50%</th>\n",
              "      <td>10549.500000</td>\n",
              "      <td>0.000000</td>\n",
              "      <td>0.027385</td>\n",
              "    </tr>\n",
              "    <tr>\n",
              "      <th>75%</th>\n",
              "      <td>15535.500000</td>\n",
              "      <td>1.000000</td>\n",
              "      <td>0.070116</td>\n",
              "    </tr>\n",
              "    <tr>\n",
              "      <th>max</th>\n",
              "      <td>20795.000000</td>\n",
              "      <td>1.000000</td>\n",
              "      <td>0.509887</td>\n",
              "    </tr>\n",
              "  </tbody>\n",
              "</table>\n",
              "</div>"
            ],
            "text/plain": [
              "                 id        label  cosine_score\n",
              "count  4276.000000   4276.000000  4276.000000 \n",
              "mean   10402.897802  0.380262     0.054778    \n",
              "std    6018.251629   0.485508     0.055429    \n",
              "min    0.000000      0.000000     0.010978    \n",
              "25%    5154.750000   0.000000     0.022439    \n",
              "50%    10549.500000  0.000000     0.027385    \n",
              "75%    15535.500000  1.000000     0.070116    \n",
              "max    20795.000000  1.000000     0.509887    "
            ]
          },
          "metadata": {
            "tags": []
          },
          "execution_count": 126
        }
      ]
    },
    {
      "cell_type": "code",
      "metadata": {
        "colab": {
          "base_uri": "https://localhost:8080/"
        },
        "id": "5o7COYH2ouFW",
        "outputId": "3db571c0-fb52-4705-c4a9-bd462dcfc825"
      },
      "source": [
        "# Eleminating the body where length is greater than 15000 to avoid raw data\n",
        "# df_Faketrim = df_Faketrim[len(df_Faketrim.text) <= 8000]\n",
        "df_Faketrim1 = df_Faketrim[~(df_Faketrim.text.str.len() > 15000)]\n",
        "df_Faketrim1.shape"
      ],
      "execution_count": null,
      "outputs": [
        {
          "output_type": "execute_result",
          "data": {
            "text/plain": [
              "(4215, 6)"
            ]
          },
          "metadata": {
            "tags": []
          },
          "execution_count": 127
        }
      ]
    },
    {
      "cell_type": "code",
      "metadata": {
        "colab": {
          "base_uri": "https://localhost:8080/",
          "height": 16
        },
        "id": "5cObUUbHmyJF",
        "outputId": "a2527cda-463f-435a-d6e3-14e38457c584"
      },
      "source": [
        "# df_Faketrim1.to_csv('df_faketrim.csv')\n",
        "# files.download('df_faketrim.csv')"
      ],
      "execution_count": null,
      "outputs": [
        {
          "output_type": "display_data",
          "data": {
            "application/javascript": [
              "\n",
              "    async function download(id, filename, size) {\n",
              "      if (!google.colab.kernel.accessAllowed) {\n",
              "        return;\n",
              "      }\n",
              "      const div = document.createElement('div');\n",
              "      const label = document.createElement('label');\n",
              "      label.textContent = `Downloading \"${filename}\": `;\n",
              "      div.appendChild(label);\n",
              "      const progress = document.createElement('progress');\n",
              "      progress.max = size;\n",
              "      div.appendChild(progress);\n",
              "      document.body.appendChild(div);\n",
              "\n",
              "      const buffers = [];\n",
              "      let downloaded = 0;\n",
              "\n",
              "      const channel = await google.colab.kernel.comms.open(id);\n",
              "      // Send a message to notify the kernel that we're ready.\n",
              "      channel.send({})\n",
              "\n",
              "      for await (const message of channel.messages) {\n",
              "        // Send a message to notify the kernel that we're ready.\n",
              "        channel.send({})\n",
              "        if (message.buffers) {\n",
              "          for (const buffer of message.buffers) {\n",
              "            buffers.push(buffer);\n",
              "            downloaded += buffer.byteLength;\n",
              "            progress.value = downloaded;\n",
              "          }\n",
              "        }\n",
              "      }\n",
              "      const blob = new Blob(buffers, {type: 'application/binary'});\n",
              "      const a = document.createElement('a');\n",
              "      a.href = window.URL.createObjectURL(blob);\n",
              "      a.download = filename;\n",
              "      div.appendChild(a);\n",
              "      a.click();\n",
              "      div.remove();\n",
              "    }\n",
              "  "
            ],
            "text/plain": [
              "<IPython.core.display.Javascript object>"
            ]
          },
          "metadata": {
            "tags": []
          }
        },
        {
          "output_type": "display_data",
          "data": {
            "application/javascript": [
              "download(\"download_d6ef6fa6-bc7d-405e-b418-b422cf99c561\", \"df_faketrim.csv\", 18046525)"
            ],
            "text/plain": [
              "<IPython.core.display.Javascript object>"
            ]
          },
          "metadata": {
            "tags": []
          }
        }
      ]
    },
    {
      "cell_type": "markdown",
      "metadata": {
        "id": "1DqAUeD2eEv7"
      },
      "source": [
        "### Merge"
      ]
    },
    {
      "cell_type": "code",
      "metadata": {
        "id": "9u7RRE4teIMR"
      },
      "source": [
        "# Didn't work\n",
        "# df_mergeLierFake = pd.merge(df_Liertrim,df_Faketrim, on=\"cosine_score\", how=\"inner\")"
      ],
      "execution_count": null,
      "outputs": []
    },
    {
      "cell_type": "code",
      "metadata": {
        "colab": {
          "base_uri": "https://localhost:8080/"
        },
        "id": "_pt7Y_wzeSkV",
        "outputId": "6a348c54-f81a-4e33-8725-2ca52a9911c9"
      },
      "source": [
        "N = 100\n",
        "df_Liertrim.cosine_score = np.round(df_Liertrim.cosine_score*N).astype(int) \n",
        "df_Faketrim1.cosine_score = np.round(df_Faketrim1.cosine_score*N).astype(int) \n",
        "df_mergeLierFake = pd.merge(df_Liertrim,df_Faketrim1, on=\"cosine_score\", how=\"inner\")\n",
        "df_mergeLierFake.cosine_score = df_mergeLierFake.cosine_score / N"
      ],
      "execution_count": null,
      "outputs": [
        {
          "output_type": "stream",
          "text": [
            "/usr/local/lib/python3.6/dist-packages/pandas/core/generic.py:5168: SettingWithCopyWarning: \n",
            "A value is trying to be set on a copy of a slice from a DataFrame.\n",
            "Try using .loc[row_indexer,col_indexer] = value instead\n",
            "\n",
            "See the caveats in the documentation: https://pandas.pydata.org/pandas-docs/stable/user_guide/indexing.html#returning-a-view-versus-a-copy\n",
            "  self[name] = value\n"
          ],
          "name": "stderr"
        }
      ]
    },
    {
      "cell_type": "code",
      "metadata": {
        "colab": {
          "base_uri": "https://localhost:8080/"
        },
        "id": "lZyP1sdpeOei",
        "outputId": "2f211574-dac6-4de4-a3df-1e0341a3c89e"
      },
      "source": [
        "df_mergeLierFake.shape"
      ],
      "execution_count": null,
      "outputs": [
        {
          "output_type": "execute_result",
          "data": {
            "text/plain": [
              "(277816, 26)"
            ]
          },
          "metadata": {
            "tags": []
          },
          "execution_count": 130
        }
      ]
    },
    {
      "cell_type": "code",
      "metadata": {
        "id": "KGrPX3CQek51",
        "colab": {
          "base_uri": "https://localhost:8080/",
          "height": 16
        },
        "outputId": "c90449eb-e02b-436c-fc47-6a971e673199"
      },
      "source": [
        "# df_mergeLierFake.to_csv('df_LierFakeMerge.csv')\n",
        "# files.download('df_LierFakeMerge.csv')"
      ],
      "execution_count": null,
      "outputs": [
        {
          "output_type": "display_data",
          "data": {
            "application/javascript": [
              "\n",
              "    async function download(id, filename, size) {\n",
              "      if (!google.colab.kernel.accessAllowed) {\n",
              "        return;\n",
              "      }\n",
              "      const div = document.createElement('div');\n",
              "      const label = document.createElement('label');\n",
              "      label.textContent = `Downloading \"${filename}\": `;\n",
              "      div.appendChild(label);\n",
              "      const progress = document.createElement('progress');\n",
              "      progress.max = size;\n",
              "      div.appendChild(progress);\n",
              "      document.body.appendChild(div);\n",
              "\n",
              "      const buffers = [];\n",
              "      let downloaded = 0;\n",
              "\n",
              "      const channel = await google.colab.kernel.comms.open(id);\n",
              "      // Send a message to notify the kernel that we're ready.\n",
              "      channel.send({})\n",
              "\n",
              "      for await (const message of channel.messages) {\n",
              "        // Send a message to notify the kernel that we're ready.\n",
              "        channel.send({})\n",
              "        if (message.buffers) {\n",
              "          for (const buffer of message.buffers) {\n",
              "            buffers.push(buffer);\n",
              "            downloaded += buffer.byteLength;\n",
              "            progress.value = downloaded;\n",
              "          }\n",
              "        }\n",
              "      }\n",
              "      const blob = new Blob(buffers, {type: 'application/binary'});\n",
              "      const a = document.createElement('a');\n",
              "      a.href = window.URL.createObjectURL(blob);\n",
              "      a.download = filename;\n",
              "      div.appendChild(a);\n",
              "      a.click();\n",
              "      div.remove();\n",
              "    }\n",
              "  "
            ],
            "text/plain": [
              "<IPython.core.display.Javascript object>"
            ]
          },
          "metadata": {
            "tags": []
          }
        },
        {
          "output_type": "display_data",
          "data": {
            "application/javascript": [
              "download(\"download_6a71eed9-26d7-4f85-a139-d0a246ec8d13\", \"df_LierFakeMerge.csv\", 1494849151)"
            ],
            "text/plain": [
              "<IPython.core.display.Javascript object>"
            ]
          },
          "metadata": {
            "tags": []
          }
        }
      ]
    },
    {
      "cell_type": "code",
      "metadata": {
        "id": "Hbifm-zDgQTk"
      },
      "source": [
        "df_mergeLierFaketrim = df_mergeLierFake[df_mergeLierFake.cosine_score > 0.1]"
      ],
      "execution_count": null,
      "outputs": []
    },
    {
      "cell_type": "code",
      "metadata": {
        "colab": {
          "base_uri": "https://localhost:8080/"
        },
        "id": "NVRYOh9Qga1P",
        "outputId": "9c8a0e1b-9a3b-496b-937b-10fe8d0edfcb"
      },
      "source": [
        "df_mergeLierFaketrim.shape"
      ],
      "execution_count": null,
      "outputs": [
        {
          "output_type": "execute_result",
          "data": {
            "text/plain": [
              "(31165, 26)"
            ]
          },
          "metadata": {
            "tags": []
          },
          "execution_count": 132
        }
      ]
    },
    {
      "cell_type": "code",
      "metadata": {
        "colab": {
          "base_uri": "https://localhost:8080/",
          "height": 16
        },
        "id": "ioJlfeNWh2wi",
        "outputId": "adc1d809-3997-48f9-bce2-72c0b2849783"
      },
      "source": [
        "df_mergeLierFaketrim.to_csv('LierFake_mergefinal.csv')\n",
        "files.download('LierFake_mergefinal.csv')"
      ],
      "execution_count": null,
      "outputs": [
        {
          "output_type": "display_data",
          "data": {
            "application/javascript": [
              "\n",
              "    async function download(id, filename, size) {\n",
              "      if (!google.colab.kernel.accessAllowed) {\n",
              "        return;\n",
              "      }\n",
              "      const div = document.createElement('div');\n",
              "      const label = document.createElement('label');\n",
              "      label.textContent = `Downloading \"${filename}\": `;\n",
              "      div.appendChild(label);\n",
              "      const progress = document.createElement('progress');\n",
              "      progress.max = size;\n",
              "      div.appendChild(progress);\n",
              "      document.body.appendChild(div);\n",
              "\n",
              "      const buffers = [];\n",
              "      let downloaded = 0;\n",
              "\n",
              "      const channel = await google.colab.kernel.comms.open(id);\n",
              "      // Send a message to notify the kernel that we're ready.\n",
              "      channel.send({})\n",
              "\n",
              "      for await (const message of channel.messages) {\n",
              "        // Send a message to notify the kernel that we're ready.\n",
              "        channel.send({})\n",
              "        if (message.buffers) {\n",
              "          for (const buffer of message.buffers) {\n",
              "            buffers.push(buffer);\n",
              "            downloaded += buffer.byteLength;\n",
              "            progress.value = downloaded;\n",
              "          }\n",
              "        }\n",
              "      }\n",
              "      const blob = new Blob(buffers, {type: 'application/binary'});\n",
              "      const a = document.createElement('a');\n",
              "      a.href = window.URL.createObjectURL(blob);\n",
              "      a.download = filename;\n",
              "      div.appendChild(a);\n",
              "      a.click();\n",
              "      div.remove();\n",
              "    }\n",
              "  "
            ],
            "text/plain": [
              "<IPython.core.display.Javascript object>"
            ]
          },
          "metadata": {
            "tags": []
          }
        },
        {
          "output_type": "display_data",
          "data": {
            "application/javascript": [
              "download(\"download_5c72d62a-a1b5-449c-8b90-4c23dae8200a\", \"LierFake_merge.csv\", 148873193)"
            ],
            "text/plain": [
              "<IPython.core.display.Javascript object>"
            ]
          },
          "metadata": {
            "tags": []
          }
        }
      ]
    },
    {
      "cell_type": "code",
      "metadata": {
        "id": "MueJyvFYmott"
      },
      "source": [
        "# df_mergeLierFake1 = df_mergeLierFake.drop_duplicates(subset=['Statement'])"
      ],
      "execution_count": null,
      "outputs": []
    },
    {
      "cell_type": "code",
      "metadata": {
        "colab": {
          "base_uri": "https://localhost:8080/"
        },
        "id": "MhivUaRYoInq",
        "outputId": "cde981f3-dc33-4330-b33b-3c54b1263fb7"
      },
      "source": [
        "# df_mergeLierFake1.shape"
      ],
      "execution_count": null,
      "outputs": [
        {
          "output_type": "execute_result",
          "data": {
            "text/plain": [
              "(1760, 26)"
            ]
          },
          "metadata": {
            "tags": []
          },
          "execution_count": 166
        }
      ]
    },
    {
      "cell_type": "markdown",
      "metadata": {
        "id": "P3QamuKy_DDG"
      },
      "source": [
        "# Conclusion\n",
        "\n",
        "I tried various combinations to amalgamate the data of Lier Lier dataset with Fake News or Fake News Challenge dataset, based on the cosine similarirty between title of the lier lier dataset with title/body of the fake news dataset.\n",
        "\n",
        "Finally, we finalized the dataset that is merged based on cosine similarity of title from both the datasets and where cosine similarity is greater than 0.1"
      ]
    }
  ]
}