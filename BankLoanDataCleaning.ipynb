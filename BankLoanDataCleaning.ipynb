{
  "nbformat": 4,
  "nbformat_minor": 0,
  "metadata": {
    "colab": {
      "name": "BankLoanDataCleaning.ipynb",
      "provenance": [],
      "toc_visible": true,
      "include_colab_link": true
    },
    "kernelspec": {
      "name": "python3",
      "display_name": "Python 3"
    }
  },
  "cells": [
    {
      "cell_type": "markdown",
      "metadata": {
        "id": "view-in-github",
        "colab_type": "text"
      },
      "source": [
        "<a href=\"https://colab.research.google.com/github/JuhiNayak/Machine-Learning/blob/master/BankLoanDataCleaning.ipynb\" target=\"_parent\"><img src=\"https://colab.research.google.com/assets/colab-badge.svg\" alt=\"Open In Colab\"/></a>"
      ]
    },
    {
      "cell_type": "markdown",
      "metadata": {
        "id": "oIucQ6_69MoC"
      },
      "source": [
        "# Bank Loan Approval Prediction System\n",
        "\n",
        "Data Source:\n",
        "\n",
        "Loan Prediction Problem Dataset: https://www.kaggle.com/altruistdelhite04/loan-prediction-problem-dataset\n",
        "\n",
        "Lending Club Dataset: https://www.kaggle.com/wordsforthewise/lending-club\n",
        "\n",
        "Features Analysis Excel: https://sjsu0-my.sharepoint.com/:x:/g/personal/juhi_nayak_sjsu_edu/EXjGpC6keKRPkbOKv_nb5kcBo_NcIAqFsReNJq-B5N5yPA?e=lUnXU3"
      ]
    },
    {
      "cell_type": "markdown",
      "metadata": {
        "id": "jzHhku5i9_Ix"
      },
      "source": [
        "# Import Libraries"
      ]
    },
    {
      "cell_type": "code",
      "metadata": {
        "id": "WCsTghPW9LfK",
        "outputId": "8409c965-6525-49f6-b828-0cc81b1dd3f3",
        "colab": {
          "base_uri": "https://localhost:8080/",
          "height": 107
        }
      },
      "source": [
        "import pandas as pd\n",
        "import numpy as np\n",
        "import matplotlib.pyplot as plt\n",
        "import seaborn as sns\n",
        "pd.set_option('display.max_colwidth', -1)\n",
        "from sklearn import preprocessing\n",
        "from sklearn.preprocessing import LabelEncoder\n",
        "\n",
        "from sklearn.linear_model import LogisticRegression\n",
        "from sklearn.neural_network import MLPClassifier\n",
        "from sklearn.ensemble import ExtraTreesClassifier\n",
        "from sklearn.model_selection import train_test_split \n",
        "from sklearn.linear_model import LinearRegression\n",
        "from sklearn.neural_network import MLPRegressor"
      ],
      "execution_count": null,
      "outputs": [
        {
          "output_type": "stream",
          "text": [
            "/usr/local/lib/python3.6/dist-packages/statsmodels/tools/_testing.py:19: FutureWarning: pandas.util.testing is deprecated. Use the functions in the public API at pandas.testing instead.\n",
            "  import pandas.util.testing as tm\n",
            "/usr/local/lib/python3.6/dist-packages/ipykernel_launcher.py:5: FutureWarning: Passing a negative integer is deprecated in version 1.0 and will not be supported in future version. Instead, use None to not limit the column width.\n",
            "  \"\"\"\n"
          ],
          "name": "stderr"
        }
      ]
    },
    {
      "cell_type": "code",
      "metadata": {
        "id": "5QdS5XDdAJdt",
        "outputId": "7f8bb6f8-be5e-49df-b98a-eaba5107f951",
        "colab": {
          "base_uri": "https://localhost:8080/",
          "height": 87
        }
      },
      "source": [
        "from google.colab import drive\n",
        "drive.mount('/content/drive')\n",
        "\n",
        "!ls ./drive/My\\ Drive/datasets/loan-prediction"
      ],
      "execution_count": null,
      "outputs": [
        {
          "output_type": "stream",
          "text": [
            "Mounted at /content/drive\n",
            "lending-club\t\t\t       test_Y3wMUE5_7gLdaTN.csv\n",
            "LoanPredictionProblemDescription.xlsx  train_u6lujuX_CVtuZ9i.csv\n",
            "SPSS_loan_roc.sav\n"
          ],
          "name": "stdout"
        }
      ]
    },
    {
      "cell_type": "markdown",
      "metadata": {
        "id": "kFFboPF5-YJD"
      },
      "source": [
        "# Lending Club Dataset"
      ]
    },
    {
      "cell_type": "markdown",
      "metadata": {
        "id": "FcJlCX9MxW36"
      },
      "source": [
        "## Load Dataset"
      ]
    },
    {
      "cell_type": "code",
      "metadata": {
        "id": "B6Cjb_tJ-c9S",
        "outputId": "70fb4196-8440-4248-c775-f6ac342a8e1d",
        "colab": {
          "base_uri": "https://localhost:8080/"
        }
      },
      "source": [
        "# Take the latest data for year 2018\n",
        "\n",
        "data = pd.read_csv(\n",
        "    '/content/drive/My Drive/datasets/loan-prediction/lending-club/accepted_2007_to_2018Q4.csv.gz',\n",
        "    parse_dates=['issue_d'], infer_datetime_format=True,low_memory=False)\n",
        "data = data[(data.issue_d >= '2018-01-01 00:00:00') & (data.issue_d < '2019-01-01 00:00:00')]\n",
        "data = data.reset_index(drop=True)\n",
        "\n",
        "data.head()"
      ],
      "execution_count": null,
      "outputs": [
        {
          "output_type": "execute_result",
          "data": {
            "text/html": [
              "<div>\n",
              "<style scoped>\n",
              "    .dataframe tbody tr th:only-of-type {\n",
              "        vertical-align: middle;\n",
              "    }\n",
              "\n",
              "    .dataframe tbody tr th {\n",
              "        vertical-align: top;\n",
              "    }\n",
              "\n",
              "    .dataframe thead th {\n",
              "        text-align: right;\n",
              "    }\n",
              "</style>\n",
              "<table border=\"1\" class=\"dataframe\">\n",
              "  <thead>\n",
              "    <tr style=\"text-align: right;\">\n",
              "      <th></th>\n",
              "      <th>id</th>\n",
              "      <th>member_id</th>\n",
              "      <th>loan_amnt</th>\n",
              "      <th>funded_amnt</th>\n",
              "      <th>funded_amnt_inv</th>\n",
              "      <th>term</th>\n",
              "      <th>int_rate</th>\n",
              "      <th>installment</th>\n",
              "      <th>grade</th>\n",
              "      <th>sub_grade</th>\n",
              "      <th>emp_title</th>\n",
              "      <th>emp_length</th>\n",
              "      <th>home_ownership</th>\n",
              "      <th>annual_inc</th>\n",
              "      <th>verification_status</th>\n",
              "      <th>issue_d</th>\n",
              "      <th>loan_status</th>\n",
              "      <th>pymnt_plan</th>\n",
              "      <th>url</th>\n",
              "      <th>desc</th>\n",
              "      <th>purpose</th>\n",
              "      <th>title</th>\n",
              "      <th>zip_code</th>\n",
              "      <th>addr_state</th>\n",
              "      <th>dti</th>\n",
              "      <th>delinq_2yrs</th>\n",
              "      <th>earliest_cr_line</th>\n",
              "      <th>fico_range_low</th>\n",
              "      <th>fico_range_high</th>\n",
              "      <th>inq_last_6mths</th>\n",
              "      <th>mths_since_last_delinq</th>\n",
              "      <th>mths_since_last_record</th>\n",
              "      <th>open_acc</th>\n",
              "      <th>pub_rec</th>\n",
              "      <th>revol_bal</th>\n",
              "      <th>revol_util</th>\n",
              "      <th>total_acc</th>\n",
              "      <th>initial_list_status</th>\n",
              "      <th>out_prncp</th>\n",
              "      <th>out_prncp_inv</th>\n",
              "      <th>...</th>\n",
              "      <th>tot_hi_cred_lim</th>\n",
              "      <th>total_bal_ex_mort</th>\n",
              "      <th>total_bc_limit</th>\n",
              "      <th>total_il_high_credit_limit</th>\n",
              "      <th>revol_bal_joint</th>\n",
              "      <th>sec_app_fico_range_low</th>\n",
              "      <th>sec_app_fico_range_high</th>\n",
              "      <th>sec_app_earliest_cr_line</th>\n",
              "      <th>sec_app_inq_last_6mths</th>\n",
              "      <th>sec_app_mort_acc</th>\n",
              "      <th>sec_app_open_acc</th>\n",
              "      <th>sec_app_revol_util</th>\n",
              "      <th>sec_app_open_act_il</th>\n",
              "      <th>sec_app_num_rev_accts</th>\n",
              "      <th>sec_app_chargeoff_within_12_mths</th>\n",
              "      <th>sec_app_collections_12_mths_ex_med</th>\n",
              "      <th>sec_app_mths_since_last_major_derog</th>\n",
              "      <th>hardship_flag</th>\n",
              "      <th>hardship_type</th>\n",
              "      <th>hardship_reason</th>\n",
              "      <th>hardship_status</th>\n",
              "      <th>deferral_term</th>\n",
              "      <th>hardship_amount</th>\n",
              "      <th>hardship_start_date</th>\n",
              "      <th>hardship_end_date</th>\n",
              "      <th>payment_plan_start_date</th>\n",
              "      <th>hardship_length</th>\n",
              "      <th>hardship_dpd</th>\n",
              "      <th>hardship_loan_status</th>\n",
              "      <th>orig_projected_additional_accrued_interest</th>\n",
              "      <th>hardship_payoff_balance_amount</th>\n",
              "      <th>hardship_last_payment_amount</th>\n",
              "      <th>disbursement_method</th>\n",
              "      <th>debt_settlement_flag</th>\n",
              "      <th>debt_settlement_flag_date</th>\n",
              "      <th>settlement_status</th>\n",
              "      <th>settlement_date</th>\n",
              "      <th>settlement_amount</th>\n",
              "      <th>settlement_percentage</th>\n",
              "      <th>settlement_term</th>\n",
              "    </tr>\n",
              "  </thead>\n",
              "  <tbody>\n",
              "    <tr>\n",
              "      <th>0</th>\n",
              "      <td>130954621</td>\n",
              "      <td>NaN</td>\n",
              "      <td>5000.0</td>\n",
              "      <td>5000.0</td>\n",
              "      <td>5000.0</td>\n",
              "      <td>36 months</td>\n",
              "      <td>20.39</td>\n",
              "      <td>186.82</td>\n",
              "      <td>D</td>\n",
              "      <td>D4</td>\n",
              "      <td>General Manager</td>\n",
              "      <td>8 years</td>\n",
              "      <td>RENT</td>\n",
              "      <td>50000.0</td>\n",
              "      <td>Verified</td>\n",
              "      <td>2018-03-01</td>\n",
              "      <td>Current</td>\n",
              "      <td>n</td>\n",
              "      <td>https://lendingclub.com/browse/loanDetail.action?loan_id=130954621</td>\n",
              "      <td>NaN</td>\n",
              "      <td>other</td>\n",
              "      <td>Other</td>\n",
              "      <td>740xx</td>\n",
              "      <td>OK</td>\n",
              "      <td>21.80</td>\n",
              "      <td>1.0</td>\n",
              "      <td>Jan-2009</td>\n",
              "      <td>665.0</td>\n",
              "      <td>669.0</td>\n",
              "      <td>0.0</td>\n",
              "      <td>9.0</td>\n",
              "      <td>NaN</td>\n",
              "      <td>5.0</td>\n",
              "      <td>0.0</td>\n",
              "      <td>116.0</td>\n",
              "      <td>23.2</td>\n",
              "      <td>18.0</td>\n",
              "      <td>w</td>\n",
              "      <td>3780.31</td>\n",
              "      <td>3780.31</td>\n",
              "      <td>...</td>\n",
              "      <td>33430.0</td>\n",
              "      <td>19344.0</td>\n",
              "      <td>500.0</td>\n",
              "      <td>27820.0</td>\n",
              "      <td>NaN</td>\n",
              "      <td>NaN</td>\n",
              "      <td>NaN</td>\n",
              "      <td>NaN</td>\n",
              "      <td>NaN</td>\n",
              "      <td>NaN</td>\n",
              "      <td>NaN</td>\n",
              "      <td>NaN</td>\n",
              "      <td>NaN</td>\n",
              "      <td>NaN</td>\n",
              "      <td>NaN</td>\n",
              "      <td>NaN</td>\n",
              "      <td>NaN</td>\n",
              "      <td>N</td>\n",
              "      <td>NaN</td>\n",
              "      <td>NaN</td>\n",
              "      <td>NaN</td>\n",
              "      <td>NaN</td>\n",
              "      <td>NaN</td>\n",
              "      <td>NaN</td>\n",
              "      <td>NaN</td>\n",
              "      <td>NaN</td>\n",
              "      <td>NaN</td>\n",
              "      <td>NaN</td>\n",
              "      <td>NaN</td>\n",
              "      <td>NaN</td>\n",
              "      <td>NaN</td>\n",
              "      <td>NaN</td>\n",
              "      <td>Cash</td>\n",
              "      <td>N</td>\n",
              "      <td>NaN</td>\n",
              "      <td>NaN</td>\n",
              "      <td>NaN</td>\n",
              "      <td>NaN</td>\n",
              "      <td>NaN</td>\n",
              "      <td>NaN</td>\n",
              "    </tr>\n",
              "    <tr>\n",
              "      <th>1</th>\n",
              "      <td>130964697</td>\n",
              "      <td>NaN</td>\n",
              "      <td>15000.0</td>\n",
              "      <td>15000.0</td>\n",
              "      <td>15000.0</td>\n",
              "      <td>36 months</td>\n",
              "      <td>9.92</td>\n",
              "      <td>483.45</td>\n",
              "      <td>B</td>\n",
              "      <td>B2</td>\n",
              "      <td>IT Director</td>\n",
              "      <td>2 years</td>\n",
              "      <td>OWN</td>\n",
              "      <td>196000.0</td>\n",
              "      <td>Source Verified</td>\n",
              "      <td>2018-03-01</td>\n",
              "      <td>Current</td>\n",
              "      <td>n</td>\n",
              "      <td>https://lendingclub.com/browse/loanDetail.action?loan_id=130964697</td>\n",
              "      <td>NaN</td>\n",
              "      <td>debt_consolidation</td>\n",
              "      <td>Debt consolidation</td>\n",
              "      <td>337xx</td>\n",
              "      <td>FL</td>\n",
              "      <td>18.29</td>\n",
              "      <td>0.0</td>\n",
              "      <td>Jul-1998</td>\n",
              "      <td>700.0</td>\n",
              "      <td>704.0</td>\n",
              "      <td>0.0</td>\n",
              "      <td>65.0</td>\n",
              "      <td>NaN</td>\n",
              "      <td>19.0</td>\n",
              "      <td>0.0</td>\n",
              "      <td>24243.0</td>\n",
              "      <td>46.3</td>\n",
              "      <td>53.0</td>\n",
              "      <td>w</td>\n",
              "      <td>10878.50</td>\n",
              "      <td>10878.50</td>\n",
              "      <td>...</td>\n",
              "      <td>605228.0</td>\n",
              "      <td>137713.0</td>\n",
              "      <td>28500.0</td>\n",
              "      <td>147178.0</td>\n",
              "      <td>NaN</td>\n",
              "      <td>NaN</td>\n",
              "      <td>NaN</td>\n",
              "      <td>NaN</td>\n",
              "      <td>NaN</td>\n",
              "      <td>NaN</td>\n",
              "      <td>NaN</td>\n",
              "      <td>NaN</td>\n",
              "      <td>NaN</td>\n",
              "      <td>NaN</td>\n",
              "      <td>NaN</td>\n",
              "      <td>NaN</td>\n",
              "      <td>NaN</td>\n",
              "      <td>N</td>\n",
              "      <td>NaN</td>\n",
              "      <td>NaN</td>\n",
              "      <td>NaN</td>\n",
              "      <td>NaN</td>\n",
              "      <td>NaN</td>\n",
              "      <td>NaN</td>\n",
              "      <td>NaN</td>\n",
              "      <td>NaN</td>\n",
              "      <td>NaN</td>\n",
              "      <td>NaN</td>\n",
              "      <td>NaN</td>\n",
              "      <td>NaN</td>\n",
              "      <td>NaN</td>\n",
              "      <td>NaN</td>\n",
              "      <td>Cash</td>\n",
              "      <td>N</td>\n",
              "      <td>NaN</td>\n",
              "      <td>NaN</td>\n",
              "      <td>NaN</td>\n",
              "      <td>NaN</td>\n",
              "      <td>NaN</td>\n",
              "      <td>NaN</td>\n",
              "    </tr>\n",
              "    <tr>\n",
              "      <th>2</th>\n",
              "      <td>130955326</td>\n",
              "      <td>NaN</td>\n",
              "      <td>11200.0</td>\n",
              "      <td>11200.0</td>\n",
              "      <td>11200.0</td>\n",
              "      <td>60 months</td>\n",
              "      <td>30.79</td>\n",
              "      <td>367.82</td>\n",
              "      <td>G</td>\n",
              "      <td>G1</td>\n",
              "      <td>Client services</td>\n",
              "      <td>&lt; 1 year</td>\n",
              "      <td>RENT</td>\n",
              "      <td>44000.0</td>\n",
              "      <td>Not Verified</td>\n",
              "      <td>2018-03-01</td>\n",
              "      <td>Current</td>\n",
              "      <td>n</td>\n",
              "      <td>https://lendingclub.com/browse/loanDetail.action?loan_id=130955326</td>\n",
              "      <td>NaN</td>\n",
              "      <td>medical</td>\n",
              "      <td>Medical expenses</td>\n",
              "      <td>030xx</td>\n",
              "      <td>NH</td>\n",
              "      <td>43.97</td>\n",
              "      <td>1.0</td>\n",
              "      <td>Jul-2007</td>\n",
              "      <td>665.0</td>\n",
              "      <td>669.0</td>\n",
              "      <td>2.0</td>\n",
              "      <td>6.0</td>\n",
              "      <td>NaN</td>\n",
              "      <td>8.0</td>\n",
              "      <td>0.0</td>\n",
              "      <td>1526.0</td>\n",
              "      <td>24.6</td>\n",
              "      <td>14.0</td>\n",
              "      <td>w</td>\n",
              "      <td>10193.73</td>\n",
              "      <td>10193.73</td>\n",
              "      <td>...</td>\n",
              "      <td>80367.0</td>\n",
              "      <td>67173.0</td>\n",
              "      <td>1900.0</td>\n",
              "      <td>74167.0</td>\n",
              "      <td>7101.0</td>\n",
              "      <td>610.0</td>\n",
              "      <td>614.0</td>\n",
              "      <td>Feb-2005</td>\n",
              "      <td>3.0</td>\n",
              "      <td>1.0</td>\n",
              "      <td>14.0</td>\n",
              "      <td>80.0</td>\n",
              "      <td>11.0</td>\n",
              "      <td>8.0</td>\n",
              "      <td>0.0</td>\n",
              "      <td>2.0</td>\n",
              "      <td>37.0</td>\n",
              "      <td>N</td>\n",
              "      <td>NaN</td>\n",
              "      <td>NaN</td>\n",
              "      <td>NaN</td>\n",
              "      <td>NaN</td>\n",
              "      <td>NaN</td>\n",
              "      <td>NaN</td>\n",
              "      <td>NaN</td>\n",
              "      <td>NaN</td>\n",
              "      <td>NaN</td>\n",
              "      <td>NaN</td>\n",
              "      <td>NaN</td>\n",
              "      <td>NaN</td>\n",
              "      <td>NaN</td>\n",
              "      <td>NaN</td>\n",
              "      <td>Cash</td>\n",
              "      <td>N</td>\n",
              "      <td>NaN</td>\n",
              "      <td>NaN</td>\n",
              "      <td>NaN</td>\n",
              "      <td>NaN</td>\n",
              "      <td>NaN</td>\n",
              "      <td>NaN</td>\n",
              "    </tr>\n",
              "    <tr>\n",
              "      <th>3</th>\n",
              "      <td>130504052</td>\n",
              "      <td>NaN</td>\n",
              "      <td>25000.0</td>\n",
              "      <td>25000.0</td>\n",
              "      <td>25000.0</td>\n",
              "      <td>60 months</td>\n",
              "      <td>21.85</td>\n",
              "      <td>688.35</td>\n",
              "      <td>D</td>\n",
              "      <td>D5</td>\n",
              "      <td>Asphalt Supervisor</td>\n",
              "      <td>10+ years</td>\n",
              "      <td>MORTGAGE</td>\n",
              "      <td>65000.0</td>\n",
              "      <td>Source Verified</td>\n",
              "      <td>2018-03-01</td>\n",
              "      <td>Current</td>\n",
              "      <td>n</td>\n",
              "      <td>https://lendingclub.com/browse/loanDetail.action?loan_id=130504052</td>\n",
              "      <td>NaN</td>\n",
              "      <td>debt_consolidation</td>\n",
              "      <td>Debt consolidation</td>\n",
              "      <td>361xx</td>\n",
              "      <td>AL</td>\n",
              "      <td>12.89</td>\n",
              "      <td>1.0</td>\n",
              "      <td>Mar-1995</td>\n",
              "      <td>665.0</td>\n",
              "      <td>669.0</td>\n",
              "      <td>1.0</td>\n",
              "      <td>22.0</td>\n",
              "      <td>NaN</td>\n",
              "      <td>7.0</td>\n",
              "      <td>0.0</td>\n",
              "      <td>8657.0</td>\n",
              "      <td>98.4</td>\n",
              "      <td>16.0</td>\n",
              "      <td>w</td>\n",
              "      <td>22188.73</td>\n",
              "      <td>22188.73</td>\n",
              "      <td>...</td>\n",
              "      <td>101234.0</td>\n",
              "      <td>17039.0</td>\n",
              "      <td>3300.0</td>\n",
              "      <td>10220.0</td>\n",
              "      <td>NaN</td>\n",
              "      <td>NaN</td>\n",
              "      <td>NaN</td>\n",
              "      <td>NaN</td>\n",
              "      <td>NaN</td>\n",
              "      <td>NaN</td>\n",
              "      <td>NaN</td>\n",
              "      <td>NaN</td>\n",
              "      <td>NaN</td>\n",
              "      <td>NaN</td>\n",
              "      <td>NaN</td>\n",
              "      <td>NaN</td>\n",
              "      <td>NaN</td>\n",
              "      <td>N</td>\n",
              "      <td>NaN</td>\n",
              "      <td>NaN</td>\n",
              "      <td>NaN</td>\n",
              "      <td>NaN</td>\n",
              "      <td>NaN</td>\n",
              "      <td>NaN</td>\n",
              "      <td>NaN</td>\n",
              "      <td>NaN</td>\n",
              "      <td>NaN</td>\n",
              "      <td>NaN</td>\n",
              "      <td>NaN</td>\n",
              "      <td>NaN</td>\n",
              "      <td>NaN</td>\n",
              "      <td>NaN</td>\n",
              "      <td>Cash</td>\n",
              "      <td>N</td>\n",
              "      <td>NaN</td>\n",
              "      <td>NaN</td>\n",
              "      <td>NaN</td>\n",
              "      <td>NaN</td>\n",
              "      <td>NaN</td>\n",
              "      <td>NaN</td>\n",
              "    </tr>\n",
              "    <tr>\n",
              "      <th>4</th>\n",
              "      <td>130956066</td>\n",
              "      <td>NaN</td>\n",
              "      <td>3000.0</td>\n",
              "      <td>3000.0</td>\n",
              "      <td>3000.0</td>\n",
              "      <td>36 months</td>\n",
              "      <td>7.34</td>\n",
              "      <td>93.10</td>\n",
              "      <td>A</td>\n",
              "      <td>A4</td>\n",
              "      <td>Scale Technician</td>\n",
              "      <td>9 years</td>\n",
              "      <td>RENT</td>\n",
              "      <td>52000.0</td>\n",
              "      <td>Source Verified</td>\n",
              "      <td>2018-03-01</td>\n",
              "      <td>Fully Paid</td>\n",
              "      <td>n</td>\n",
              "      <td>https://lendingclub.com/browse/loanDetail.action?loan_id=130956066</td>\n",
              "      <td>NaN</td>\n",
              "      <td>major_purchase</td>\n",
              "      <td>Major purchase</td>\n",
              "      <td>988xx</td>\n",
              "      <td>WA</td>\n",
              "      <td>0.58</td>\n",
              "      <td>0.0</td>\n",
              "      <td>Jan-1998</td>\n",
              "      <td>760.0</td>\n",
              "      <td>764.0</td>\n",
              "      <td>0.0</td>\n",
              "      <td>26.0</td>\n",
              "      <td>NaN</td>\n",
              "      <td>7.0</td>\n",
              "      <td>0.0</td>\n",
              "      <td>141.0</td>\n",
              "      <td>0.5</td>\n",
              "      <td>30.0</td>\n",
              "      <td>w</td>\n",
              "      <td>0.00</td>\n",
              "      <td>0.00</td>\n",
              "      <td>...</td>\n",
              "      <td>191216.0</td>\n",
              "      <td>141.0</td>\n",
              "      <td>30500.0</td>\n",
              "      <td>0.0</td>\n",
              "      <td>NaN</td>\n",
              "      <td>NaN</td>\n",
              "      <td>NaN</td>\n",
              "      <td>NaN</td>\n",
              "      <td>NaN</td>\n",
              "      <td>NaN</td>\n",
              "      <td>NaN</td>\n",
              "      <td>NaN</td>\n",
              "      <td>NaN</td>\n",
              "      <td>NaN</td>\n",
              "      <td>NaN</td>\n",
              "      <td>NaN</td>\n",
              "      <td>NaN</td>\n",
              "      <td>N</td>\n",
              "      <td>NaN</td>\n",
              "      <td>NaN</td>\n",
              "      <td>NaN</td>\n",
              "      <td>NaN</td>\n",
              "      <td>NaN</td>\n",
              "      <td>NaN</td>\n",
              "      <td>NaN</td>\n",
              "      <td>NaN</td>\n",
              "      <td>NaN</td>\n",
              "      <td>NaN</td>\n",
              "      <td>NaN</td>\n",
              "      <td>NaN</td>\n",
              "      <td>NaN</td>\n",
              "      <td>NaN</td>\n",
              "      <td>Cash</td>\n",
              "      <td>N</td>\n",
              "      <td>NaN</td>\n",
              "      <td>NaN</td>\n",
              "      <td>NaN</td>\n",
              "      <td>NaN</td>\n",
              "      <td>NaN</td>\n",
              "      <td>NaN</td>\n",
              "    </tr>\n",
              "  </tbody>\n",
              "</table>\n",
              "<p>5 rows × 151 columns</p>\n",
              "</div>"
            ],
            "text/plain": [
              "          id  member_id  ...  settlement_percentage  settlement_term\n",
              "0  130954621 NaN         ... NaN                    NaN             \n",
              "1  130964697 NaN         ... NaN                    NaN             \n",
              "2  130955326 NaN         ... NaN                    NaN             \n",
              "3  130504052 NaN         ... NaN                    NaN             \n",
              "4  130956066 NaN         ... NaN                    NaN             \n",
              "\n",
              "[5 rows x 151 columns]"
            ]
          },
          "metadata": {
            "tags": []
          },
          "execution_count": 3
        }
      ]
    },
    {
      "cell_type": "code",
      "metadata": {
        "id": "zER1xroCHoZi",
        "outputId": "2dfab0fe-2ce5-4a33-d16c-89e727c6f033",
        "colab": {
          "base_uri": "https://localhost:8080/"
        }
      },
      "source": [
        "# Choose required columns. Create a new dataframe with only required number of columns\n",
        "df_LendingClub = data[['purpose','annual_inc','loan_amnt','term','loan_status','home_ownership','emp_length','dti']]\n",
        "df_LendingClub.head(5)"
      ],
      "execution_count": null,
      "outputs": [
        {
          "output_type": "execute_result",
          "data": {
            "text/html": [
              "<div>\n",
              "<style scoped>\n",
              "    .dataframe tbody tr th:only-of-type {\n",
              "        vertical-align: middle;\n",
              "    }\n",
              "\n",
              "    .dataframe tbody tr th {\n",
              "        vertical-align: top;\n",
              "    }\n",
              "\n",
              "    .dataframe thead th {\n",
              "        text-align: right;\n",
              "    }\n",
              "</style>\n",
              "<table border=\"1\" class=\"dataframe\">\n",
              "  <thead>\n",
              "    <tr style=\"text-align: right;\">\n",
              "      <th></th>\n",
              "      <th>purpose</th>\n",
              "      <th>annual_inc</th>\n",
              "      <th>loan_amnt</th>\n",
              "      <th>term</th>\n",
              "      <th>loan_status</th>\n",
              "      <th>home_ownership</th>\n",
              "      <th>emp_length</th>\n",
              "      <th>dti</th>\n",
              "    </tr>\n",
              "  </thead>\n",
              "  <tbody>\n",
              "    <tr>\n",
              "      <th>0</th>\n",
              "      <td>other</td>\n",
              "      <td>50000.0</td>\n",
              "      <td>5000.0</td>\n",
              "      <td>36 months</td>\n",
              "      <td>Current</td>\n",
              "      <td>RENT</td>\n",
              "      <td>8 years</td>\n",
              "      <td>21.80</td>\n",
              "    </tr>\n",
              "    <tr>\n",
              "      <th>1</th>\n",
              "      <td>debt_consolidation</td>\n",
              "      <td>196000.0</td>\n",
              "      <td>15000.0</td>\n",
              "      <td>36 months</td>\n",
              "      <td>Current</td>\n",
              "      <td>OWN</td>\n",
              "      <td>2 years</td>\n",
              "      <td>18.29</td>\n",
              "    </tr>\n",
              "    <tr>\n",
              "      <th>2</th>\n",
              "      <td>medical</td>\n",
              "      <td>44000.0</td>\n",
              "      <td>11200.0</td>\n",
              "      <td>60 months</td>\n",
              "      <td>Current</td>\n",
              "      <td>RENT</td>\n",
              "      <td>&lt; 1 year</td>\n",
              "      <td>43.97</td>\n",
              "    </tr>\n",
              "    <tr>\n",
              "      <th>3</th>\n",
              "      <td>debt_consolidation</td>\n",
              "      <td>65000.0</td>\n",
              "      <td>25000.0</td>\n",
              "      <td>60 months</td>\n",
              "      <td>Current</td>\n",
              "      <td>MORTGAGE</td>\n",
              "      <td>10+ years</td>\n",
              "      <td>12.89</td>\n",
              "    </tr>\n",
              "    <tr>\n",
              "      <th>4</th>\n",
              "      <td>major_purchase</td>\n",
              "      <td>52000.0</td>\n",
              "      <td>3000.0</td>\n",
              "      <td>36 months</td>\n",
              "      <td>Fully Paid</td>\n",
              "      <td>RENT</td>\n",
              "      <td>9 years</td>\n",
              "      <td>0.58</td>\n",
              "    </tr>\n",
              "  </tbody>\n",
              "</table>\n",
              "</div>"
            ],
            "text/plain": [
              "              purpose  annual_inc  loan_amnt  ... home_ownership emp_length    dti\n",
              "0  other               50000.0     5000.0     ...  RENT           8 years    21.80\n",
              "1  debt_consolidation  196000.0    15000.0    ...  OWN            2 years    18.29\n",
              "2  medical             44000.0     11200.0    ...  RENT           < 1 year   43.97\n",
              "3  debt_consolidation  65000.0     25000.0    ...  MORTGAGE       10+ years  12.89\n",
              "4  major_purchase      52000.0     3000.0     ...  RENT           9 years    0.58 \n",
              "\n",
              "[5 rows x 8 columns]"
            ]
          },
          "metadata": {
            "tags": []
          },
          "execution_count": 4
        }
      ]
    },
    {
      "cell_type": "code",
      "metadata": {
        "id": "1tmzf-8zI3v7"
      },
      "source": [
        "data_dict=pd.read_excel('/content/drive/My Drive/datasets/loan-prediction/lending-club/LCDataDictionary.xlsx',sheet_name='LoanStats')"
      ],
      "execution_count": null,
      "outputs": []
    },
    {
      "cell_type": "code",
      "metadata": {
        "id": "HOHHJ3CFHyZM"
      },
      "source": [
        "data_dtypes=pd.DataFrame(df_LendingClub.dtypes,columns=['dtype'])\n",
        "data_dtypes.reset_index(inplace=True)\n",
        "data_dtypes.columns=['LoanStatNew', 'dtype']\n",
        "data_dtypes['first value'] = df_LendingClub.loc[0].values"
      ],
      "execution_count": null,
      "outputs": []
    },
    {
      "cell_type": "code",
      "metadata": {
        "id": "TgBNAPKpKTKO"
      },
      "source": [
        "data_col=data_dtypes.merge(data_dict, on='LoanStatNew',how='left')"
      ],
      "execution_count": null,
      "outputs": []
    },
    {
      "cell_type": "code",
      "metadata": {
        "id": "v4vJdoHmKXWV",
        "outputId": "59c67158-44bc-4709-d325-1ed5957b35d3",
        "colab": {
          "base_uri": "https://localhost:8080/"
        }
      },
      "source": [
        "data_col.head(10)"
      ],
      "execution_count": null,
      "outputs": [
        {
          "output_type": "execute_result",
          "data": {
            "text/html": [
              "<div>\n",
              "<style scoped>\n",
              "    .dataframe tbody tr th:only-of-type {\n",
              "        vertical-align: middle;\n",
              "    }\n",
              "\n",
              "    .dataframe tbody tr th {\n",
              "        vertical-align: top;\n",
              "    }\n",
              "\n",
              "    .dataframe thead th {\n",
              "        text-align: right;\n",
              "    }\n",
              "</style>\n",
              "<table border=\"1\" class=\"dataframe\">\n",
              "  <thead>\n",
              "    <tr style=\"text-align: right;\">\n",
              "      <th></th>\n",
              "      <th>LoanStatNew</th>\n",
              "      <th>dtype</th>\n",
              "      <th>first value</th>\n",
              "      <th>Description</th>\n",
              "    </tr>\n",
              "  </thead>\n",
              "  <tbody>\n",
              "    <tr>\n",
              "      <th>0</th>\n",
              "      <td>purpose</td>\n",
              "      <td>object</td>\n",
              "      <td>other</td>\n",
              "      <td>A category provided by the borrower for the loan request.</td>\n",
              "    </tr>\n",
              "    <tr>\n",
              "      <th>1</th>\n",
              "      <td>annual_inc</td>\n",
              "      <td>float64</td>\n",
              "      <td>50000</td>\n",
              "      <td>The annual income provided by the borrower during registration.</td>\n",
              "    </tr>\n",
              "    <tr>\n",
              "      <th>2</th>\n",
              "      <td>loan_amnt</td>\n",
              "      <td>float64</td>\n",
              "      <td>5000</td>\n",
              "      <td>The listed amount of the loan applied for by the borrower. If at some point in time, the credit department reduces the loan amount, then it will be reflected in this value.</td>\n",
              "    </tr>\n",
              "    <tr>\n",
              "      <th>3</th>\n",
              "      <td>term</td>\n",
              "      <td>object</td>\n",
              "      <td>36 months</td>\n",
              "      <td>The number of payments on the loan. Values are in months and can be either 36 or 60.</td>\n",
              "    </tr>\n",
              "    <tr>\n",
              "      <th>4</th>\n",
              "      <td>loan_status</td>\n",
              "      <td>object</td>\n",
              "      <td>Current</td>\n",
              "      <td>Current status of the loan</td>\n",
              "    </tr>\n",
              "    <tr>\n",
              "      <th>5</th>\n",
              "      <td>home_ownership</td>\n",
              "      <td>object</td>\n",
              "      <td>RENT</td>\n",
              "      <td>The home ownership status provided by the borrower during registration. Our values are: RENT, OWN, MORTGAGE, OTHER.</td>\n",
              "    </tr>\n",
              "    <tr>\n",
              "      <th>6</th>\n",
              "      <td>emp_length</td>\n",
              "      <td>object</td>\n",
              "      <td>8 years</td>\n",
              "      <td>Employment length in years. Possible values are between 0 and 10 where 0 means less than one year and 10 means ten or more years.</td>\n",
              "    </tr>\n",
              "    <tr>\n",
              "      <th>7</th>\n",
              "      <td>dti</td>\n",
              "      <td>float64</td>\n",
              "      <td>21.8</td>\n",
              "      <td>A ratio calculated using the borrower’s total monthly debt payments on the total debt obligations, excluding mortgage and the requested LC loan, divided by the borrower’s self-reported monthly income.</td>\n",
              "    </tr>\n",
              "  </tbody>\n",
              "</table>\n",
              "</div>"
            ],
            "text/plain": [
              "      LoanStatNew  ...                                                                                                                                                                                               Description\n",
              "0  purpose         ...  A category provided by the borrower for the loan request.                                                                                                                                               \n",
              "1  annual_inc      ...  The annual income provided by the borrower during registration.                                                                                                                                         \n",
              "2  loan_amnt       ...  The listed amount of the loan applied for by the borrower. If at some point in time, the credit department reduces the loan amount, then it will be reflected in this value.                            \n",
              "3  term            ...  The number of payments on the loan. Values are in months and can be either 36 or 60.                                                                                                                    \n",
              "4  loan_status     ...  Current status of the loan                                                                                                                                                                              \n",
              "5  home_ownership  ...  The home ownership status provided by the borrower during registration. Our values are: RENT, OWN, MORTGAGE, OTHER.                                                                                     \n",
              "6  emp_length      ...  Employment length in years. Possible values are between 0 and 10 where 0 means less than one year and 10 means ten or more years.                                                                       \n",
              "7  dti             ...  A ratio calculated using the borrower’s total monthly debt payments on the total debt obligations, excluding mortgage and the requested LC loan, divided by the borrower’s self-reported monthly income.\n",
              "\n",
              "[8 rows x 4 columns]"
            ]
          },
          "metadata": {
            "tags": []
          },
          "execution_count": 8
        }
      ]
    },
    {
      "cell_type": "markdown",
      "metadata": {
        "id": "6EG5rssyxcoN"
      },
      "source": [
        "## Data Cleaning"
      ]
    },
    {
      "cell_type": "code",
      "metadata": {
        "id": "prqoMeq8OERA",
        "outputId": "538cda94-e322-49d6-e601-558275c4d4a9",
        "colab": {
          "base_uri": "https://localhost:8080/"
        }
      },
      "source": [
        "df_LendingClub.isnull().sum()"
      ],
      "execution_count": null,
      "outputs": [
        {
          "output_type": "execute_result",
          "data": {
            "text/plain": [
              "purpose           0    \n",
              "annual_inc        0    \n",
              "loan_amnt         0    \n",
              "term              0    \n",
              "loan_status       0    \n",
              "home_ownership    0    \n",
              "emp_length        41987\n",
              "dti               1132 \n",
              "dtype: int64"
            ]
          },
          "metadata": {
            "tags": []
          },
          "execution_count": 9
        }
      ]
    },
    {
      "cell_type": "code",
      "metadata": {
        "id": "mbs0NTTdOTyd",
        "outputId": "fd8fa5ee-1192-4266-ea0e-f22775322826",
        "colab": {
          "base_uri": "https://localhost:8080/"
        }
      },
      "source": [
        "df_LendingClub.dropna(subset=['emp_length','dti'], inplace=True)"
      ],
      "execution_count": null,
      "outputs": [
        {
          "output_type": "stream",
          "text": [
            "/usr/local/lib/python3.6/dist-packages/ipykernel_launcher.py:1: SettingWithCopyWarning: \n",
            "A value is trying to be set on a copy of a slice from a DataFrame\n",
            "\n",
            "See the caveats in the documentation: https://pandas.pydata.org/pandas-docs/stable/user_guide/indexing.html#returning-a-view-versus-a-copy\n",
            "  \"\"\"Entry point for launching an IPython kernel.\n"
          ],
          "name": "stderr"
        }
      ]
    },
    {
      "cell_type": "code",
      "metadata": {
        "id": "PuAahQfGPTnh",
        "outputId": "95485f8d-b069-46fb-c1b8-5d59ccfb5e92",
        "colab": {
          "base_uri": "https://localhost:8080/"
        }
      },
      "source": [
        "print(df_LendingClub.loan_status.value_counts())\n",
        "\n",
        "# Remove the 'Current' loan status values\n",
        "df_LendingClub = df_LendingClub[df_LendingClub.loan_status != 'Current']\n",
        "print(df_LendingClub.loan_status.value_counts())"
      ],
      "execution_count": null,
      "outputs": [
        {
          "output_type": "stream",
          "text": [
            "Current               391262\n",
            "Fully Paid            43691 \n",
            "Charged Off           7683  \n",
            "Late (31-120 days)    6477  \n",
            "In Grace Period       2656  \n",
            "Late (16-30 days)     1400  \n",
            "Default               7     \n",
            "Name: loan_status, dtype: int64\n",
            "Fully Paid            43691\n",
            "Charged Off           7683 \n",
            "Late (31-120 days)    6477 \n",
            "In Grace Period       2656 \n",
            "Late (16-30 days)     1400 \n",
            "Default               7    \n",
            "Name: loan_status, dtype: int64\n"
          ],
          "name": "stdout"
        }
      ]
    },
    {
      "cell_type": "markdown",
      "metadata": {
        "id": "XMTwoFURQyvI"
      },
      "source": [
        "Considering 'Fully Paid' as Loan_status = approved and for rest other categories Loan_status = not approved\n",
        "\n",
        "\n"
      ]
    },
    {
      "cell_type": "code",
      "metadata": {
        "id": "GT1_jpp0T12W"
      },
      "source": [
        "default=['Charged Off','Late (31-120 days)','In Grace Period','Late (16-30 days)','Default']\n",
        "df_LendingClub['loan_status']=df_LendingClub['loan_status'].apply(lambda x: 'Default' if x in default else x)"
      ],
      "execution_count": null,
      "outputs": []
    },
    {
      "cell_type": "code",
      "metadata": {
        "id": "yBoWB90aWLza"
      },
      "source": [
        "df_LendingClub['loan_status'] = df_LendingClub['loan_status'].replace({'Fully Paid':1,'Default':0})"
      ],
      "execution_count": null,
      "outputs": []
    },
    {
      "cell_type": "code",
      "metadata": {
        "id": "U97TmB1RV4WB",
        "outputId": "d44f143a-ecda-466a-a374-5e5c5a1bc56f",
        "colab": {
          "base_uri": "https://localhost:8080/"
        }
      },
      "source": [
        "df_LendingClub.loan_status.value_counts()"
      ],
      "execution_count": null,
      "outputs": [
        {
          "output_type": "execute_result",
          "data": {
            "text/plain": [
              "1    43691\n",
              "0    18223\n",
              "Name: loan_status, dtype: int64"
            ]
          },
          "metadata": {
            "tags": []
          },
          "execution_count": 14
        }
      ]
    },
    {
      "cell_type": "code",
      "metadata": {
        "id": "TEMMUoMVXhBE"
      },
      "source": [
        "# Remove string characters in 'term' column and convert to numeric\n",
        "df_LendingClub['term'] = df_LendingClub['term'].str.replace(r'\\D', '')\n",
        "df_LendingClub['term'] = df_LendingClub['term'].astype(int)"
      ],
      "execution_count": null,
      "outputs": []
    },
    {
      "cell_type": "markdown",
      "metadata": {
        "id": "jIJ771B2lasL"
      },
      "source": [
        "Adding a new column 'Employed' to check whether the applicant is employed or not. We have calculated this based on emp_length.\n",
        "\n",
        "Considering < 1 year of employee length as non-employed and > 1 years as employee"
      ]
    },
    {
      "cell_type": "code",
      "metadata": {
        "id": "Pgf2bdXilKIl"
      },
      "source": [
        "def employee_emp_length(x):\n",
        "    if x=='< 1 year':\n",
        "        return 0\n",
        "    else:\n",
        "        return 1\n",
        "    \n",
        "df_LendingClub['Employed']=df_LendingClub['emp_length'].apply(employee_emp_length)"
      ],
      "execution_count": null,
      "outputs": []
    },
    {
      "cell_type": "code",
      "metadata": {
        "id": "l310NsVuYmPx"
      },
      "source": [
        "# Remove string characters in 'emp_length' column and convert to numeric\n",
        "# df_LendingClub['emp_length'] = df_LendingClub['emp_length'].str.replace(r'\\D', '')\n",
        "# df_LendingClub['emp_length'] = df_LendingClub['emp_length'].astype(int)\n",
        "\n",
        "# drop emp_length column\n",
        "df_LendingClub.drop(['emp_length'],axis=1,inplace=True)"
      ],
      "execution_count": null,
      "outputs": []
    },
    {
      "cell_type": "code",
      "metadata": {
        "id": "LrHK5TBnbg2V",
        "outputId": "d9dd4425-f509-4978-bfe1-0ddc90d4519b",
        "colab": {
          "base_uri": "https://localhost:8080/"
        }
      },
      "source": [
        "# Convert all non-numeric values to numeric\n",
        "categorial_featues = ['purpose','home_ownership']\n",
        "\n",
        "for var in categorial_featues:\n",
        "    le = preprocessing.LabelEncoder()\n",
        "    le.fit(df_LendingClub[var])\n",
        "    print(list(le.classes_)) # shows unique values\n",
        "    print(le.transform(df_LendingClub[var])) # assigns a numeric value\n",
        "    df_LendingClub[var]=le.fit_transform(df_LendingClub[var].astype('str'))\n",
        "    # print(list(le.inverse_transform([0, 1, 2, 3]))) # returns the corresponding colun value for that numeric value"
      ],
      "execution_count": null,
      "outputs": [
        {
          "output_type": "stream",
          "text": [
            "['car', 'credit_card', 'debt_consolidation', 'home_improvement', 'house', 'major_purchase', 'medical', 'moving', 'other', 'renewable_energy', 'small_business', 'vacation', 'wedding']\n",
            "[5 8 3 ... 1 2 8]\n",
            "['ANY', 'MORTGAGE', 'OWN', 'RENT']\n",
            "[3 2 1 ... 3 1 3]\n"
          ],
          "name": "stdout"
        }
      ]
    },
    {
      "cell_type": "code",
      "metadata": {
        "id": "SQu_7EiFetqf",
        "outputId": "369cb773-6fdf-49fe-8ce6-f4f428489674",
        "colab": {
          "base_uri": "https://localhost:8080/"
        }
      },
      "source": [
        "df_LendingClub.head(15)"
      ],
      "execution_count": null,
      "outputs": [
        {
          "output_type": "execute_result",
          "data": {
            "text/html": [
              "<div>\n",
              "<style scoped>\n",
              "    .dataframe tbody tr th:only-of-type {\n",
              "        vertical-align: middle;\n",
              "    }\n",
              "\n",
              "    .dataframe tbody tr th {\n",
              "        vertical-align: top;\n",
              "    }\n",
              "\n",
              "    .dataframe thead th {\n",
              "        text-align: right;\n",
              "    }\n",
              "</style>\n",
              "<table border=\"1\" class=\"dataframe\">\n",
              "  <thead>\n",
              "    <tr style=\"text-align: right;\">\n",
              "      <th></th>\n",
              "      <th>purpose</th>\n",
              "      <th>annual_inc</th>\n",
              "      <th>loan_amnt</th>\n",
              "      <th>term</th>\n",
              "      <th>loan_status</th>\n",
              "      <th>home_ownership</th>\n",
              "      <th>dti</th>\n",
              "      <th>Employed</th>\n",
              "    </tr>\n",
              "  </thead>\n",
              "  <tbody>\n",
              "    <tr>\n",
              "      <th>4</th>\n",
              "      <td>5</td>\n",
              "      <td>52000.0</td>\n",
              "      <td>3000.0</td>\n",
              "      <td>36</td>\n",
              "      <td>1</td>\n",
              "      <td>3</td>\n",
              "      <td>0.58</td>\n",
              "      <td>1</td>\n",
              "    </tr>\n",
              "    <tr>\n",
              "      <th>16</th>\n",
              "      <td>8</td>\n",
              "      <td>55000.0</td>\n",
              "      <td>5000.0</td>\n",
              "      <td>36</td>\n",
              "      <td>1</td>\n",
              "      <td>2</td>\n",
              "      <td>14.18</td>\n",
              "      <td>1</td>\n",
              "    </tr>\n",
              "    <tr>\n",
              "      <th>23</th>\n",
              "      <td>3</td>\n",
              "      <td>40000.0</td>\n",
              "      <td>7000.0</td>\n",
              "      <td>36</td>\n",
              "      <td>1</td>\n",
              "      <td>1</td>\n",
              "      <td>20.25</td>\n",
              "      <td>0</td>\n",
              "    </tr>\n",
              "    <tr>\n",
              "      <th>24</th>\n",
              "      <td>1</td>\n",
              "      <td>55000.0</td>\n",
              "      <td>20300.0</td>\n",
              "      <td>60</td>\n",
              "      <td>0</td>\n",
              "      <td>3</td>\n",
              "      <td>26.63</td>\n",
              "      <td>0</td>\n",
              "    </tr>\n",
              "    <tr>\n",
              "      <th>38</th>\n",
              "      <td>2</td>\n",
              "      <td>57000.0</td>\n",
              "      <td>30000.0</td>\n",
              "      <td>36</td>\n",
              "      <td>1</td>\n",
              "      <td>2</td>\n",
              "      <td>27.58</td>\n",
              "      <td>1</td>\n",
              "    </tr>\n",
              "    <tr>\n",
              "      <th>40</th>\n",
              "      <td>4</td>\n",
              "      <td>85000.0</td>\n",
              "      <td>21000.0</td>\n",
              "      <td>60</td>\n",
              "      <td>1</td>\n",
              "      <td>2</td>\n",
              "      <td>15.76</td>\n",
              "      <td>1</td>\n",
              "    </tr>\n",
              "    <tr>\n",
              "      <th>42</th>\n",
              "      <td>2</td>\n",
              "      <td>150000.0</td>\n",
              "      <td>40000.0</td>\n",
              "      <td>60</td>\n",
              "      <td>1</td>\n",
              "      <td>1</td>\n",
              "      <td>4.09</td>\n",
              "      <td>1</td>\n",
              "    </tr>\n",
              "    <tr>\n",
              "      <th>50</th>\n",
              "      <td>1</td>\n",
              "      <td>36610.0</td>\n",
              "      <td>5000.0</td>\n",
              "      <td>36</td>\n",
              "      <td>1</td>\n",
              "      <td>3</td>\n",
              "      <td>13.85</td>\n",
              "      <td>1</td>\n",
              "    </tr>\n",
              "    <tr>\n",
              "      <th>68</th>\n",
              "      <td>3</td>\n",
              "      <td>86000.0</td>\n",
              "      <td>15000.0</td>\n",
              "      <td>36</td>\n",
              "      <td>1</td>\n",
              "      <td>1</td>\n",
              "      <td>9.66</td>\n",
              "      <td>1</td>\n",
              "    </tr>\n",
              "    <tr>\n",
              "      <th>71</th>\n",
              "      <td>2</td>\n",
              "      <td>38000.0</td>\n",
              "      <td>12000.0</td>\n",
              "      <td>36</td>\n",
              "      <td>1</td>\n",
              "      <td>3</td>\n",
              "      <td>21.45</td>\n",
              "      <td>1</td>\n",
              "    </tr>\n",
              "    <tr>\n",
              "      <th>73</th>\n",
              "      <td>8</td>\n",
              "      <td>50000.0</td>\n",
              "      <td>3000.0</td>\n",
              "      <td>36</td>\n",
              "      <td>1</td>\n",
              "      <td>1</td>\n",
              "      <td>36.44</td>\n",
              "      <td>1</td>\n",
              "    </tr>\n",
              "    <tr>\n",
              "      <th>77</th>\n",
              "      <td>2</td>\n",
              "      <td>84000.0</td>\n",
              "      <td>30000.0</td>\n",
              "      <td>36</td>\n",
              "      <td>0</td>\n",
              "      <td>3</td>\n",
              "      <td>12.07</td>\n",
              "      <td>1</td>\n",
              "    </tr>\n",
              "    <tr>\n",
              "      <th>79</th>\n",
              "      <td>10</td>\n",
              "      <td>100000.0</td>\n",
              "      <td>3125.0</td>\n",
              "      <td>36</td>\n",
              "      <td>0</td>\n",
              "      <td>1</td>\n",
              "      <td>36.21</td>\n",
              "      <td>1</td>\n",
              "    </tr>\n",
              "    <tr>\n",
              "      <th>81</th>\n",
              "      <td>2</td>\n",
              "      <td>43000.0</td>\n",
              "      <td>12000.0</td>\n",
              "      <td>36</td>\n",
              "      <td>1</td>\n",
              "      <td>3</td>\n",
              "      <td>22.75</td>\n",
              "      <td>1</td>\n",
              "    </tr>\n",
              "    <tr>\n",
              "      <th>87</th>\n",
              "      <td>2</td>\n",
              "      <td>50000.0</td>\n",
              "      <td>19000.0</td>\n",
              "      <td>60</td>\n",
              "      <td>0</td>\n",
              "      <td>1</td>\n",
              "      <td>17.76</td>\n",
              "      <td>1</td>\n",
              "    </tr>\n",
              "  </tbody>\n",
              "</table>\n",
              "</div>"
            ],
            "text/plain": [
              "    purpose  annual_inc  loan_amnt  ...  home_ownership    dti  Employed\n",
              "4   5        52000.0     3000.0     ...  3               0.58   1       \n",
              "16  8        55000.0     5000.0     ...  2               14.18  1       \n",
              "23  3        40000.0     7000.0     ...  1               20.25  0       \n",
              "24  1        55000.0     20300.0    ...  3               26.63  0       \n",
              "38  2        57000.0     30000.0    ...  2               27.58  1       \n",
              "40  4        85000.0     21000.0    ...  2               15.76  1       \n",
              "42  2        150000.0    40000.0    ...  1               4.09   1       \n",
              "50  1        36610.0     5000.0     ...  3               13.85  1       \n",
              "68  3        86000.0     15000.0    ...  1               9.66   1       \n",
              "71  2        38000.0     12000.0    ...  3               21.45  1       \n",
              "73  8        50000.0     3000.0     ...  1               36.44  1       \n",
              "77  2        84000.0     30000.0    ...  3               12.07  1       \n",
              "79  10       100000.0    3125.0     ...  1               36.21  1       \n",
              "81  2        43000.0     12000.0    ...  3               22.75  1       \n",
              "87  2        50000.0     19000.0    ...  1               17.76  1       \n",
              "\n",
              "[15 rows x 8 columns]"
            ]
          },
          "metadata": {
            "tags": []
          },
          "execution_count": 19
        }
      ]
    },
    {
      "cell_type": "code",
      "metadata": {
        "id": "PGZTk8qNMYDu"
      },
      "source": [
        "df_LendingClub.rename(columns={ 'purpose':'Purpose','annual_inc':'Annual_Income','loan_amnt':'Loan_Amount',\n",
        "                               'term': 'Loan_Amount_Term','loan_status':'Loan_Status','home_ownership':'Home_Ownership'}, inplace=True)"
      ],
      "execution_count": null,
      "outputs": []
    },
    {
      "cell_type": "markdown",
      "metadata": {
        "id": "FWluyV6Kxuem"
      },
      "source": [
        "# Loan prediction Dataset"
      ]
    },
    {
      "cell_type": "markdown",
      "metadata": {
        "id": "xQWlDYXTx1nS"
      },
      "source": [
        "## Load Dataset"
      ]
    },
    {
      "cell_type": "code",
      "metadata": {
        "id": "u-Zf4QT7x4IW",
        "outputId": "cc0eae1d-68e8-4bdb-8459-e7851ac6354c",
        "colab": {
          "base_uri": "https://localhost:8080/"
        }
      },
      "source": [
        "path = \"/content/drive/My Drive/datasets/loan-prediction/train_u6lujuX_CVtuZ9i.csv\"\n",
        "df_Loan = pd.read_csv(path)\n",
        "df_Loan.head(5)"
      ],
      "execution_count": null,
      "outputs": [
        {
          "output_type": "execute_result",
          "data": {
            "text/html": [
              "<div>\n",
              "<style scoped>\n",
              "    .dataframe tbody tr th:only-of-type {\n",
              "        vertical-align: middle;\n",
              "    }\n",
              "\n",
              "    .dataframe tbody tr th {\n",
              "        vertical-align: top;\n",
              "    }\n",
              "\n",
              "    .dataframe thead th {\n",
              "        text-align: right;\n",
              "    }\n",
              "</style>\n",
              "<table border=\"1\" class=\"dataframe\">\n",
              "  <thead>\n",
              "    <tr style=\"text-align: right;\">\n",
              "      <th></th>\n",
              "      <th>Loan_ID</th>\n",
              "      <th>Gender</th>\n",
              "      <th>Married</th>\n",
              "      <th>Dependents</th>\n",
              "      <th>Education</th>\n",
              "      <th>Self_Employed</th>\n",
              "      <th>ApplicantIncome</th>\n",
              "      <th>CoapplicantIncome</th>\n",
              "      <th>LoanAmount</th>\n",
              "      <th>Loan_Amount_Term</th>\n",
              "      <th>Credit_History</th>\n",
              "      <th>Property_Area</th>\n",
              "      <th>Loan_Status</th>\n",
              "    </tr>\n",
              "  </thead>\n",
              "  <tbody>\n",
              "    <tr>\n",
              "      <th>0</th>\n",
              "      <td>LP001002</td>\n",
              "      <td>Male</td>\n",
              "      <td>No</td>\n",
              "      <td>0</td>\n",
              "      <td>Graduate</td>\n",
              "      <td>No</td>\n",
              "      <td>5849</td>\n",
              "      <td>0.0</td>\n",
              "      <td>NaN</td>\n",
              "      <td>360.0</td>\n",
              "      <td>1.0</td>\n",
              "      <td>Urban</td>\n",
              "      <td>Y</td>\n",
              "    </tr>\n",
              "    <tr>\n",
              "      <th>1</th>\n",
              "      <td>LP001003</td>\n",
              "      <td>Male</td>\n",
              "      <td>Yes</td>\n",
              "      <td>1</td>\n",
              "      <td>Graduate</td>\n",
              "      <td>No</td>\n",
              "      <td>4583</td>\n",
              "      <td>1508.0</td>\n",
              "      <td>128.0</td>\n",
              "      <td>360.0</td>\n",
              "      <td>1.0</td>\n",
              "      <td>Rural</td>\n",
              "      <td>N</td>\n",
              "    </tr>\n",
              "    <tr>\n",
              "      <th>2</th>\n",
              "      <td>LP001005</td>\n",
              "      <td>Male</td>\n",
              "      <td>Yes</td>\n",
              "      <td>0</td>\n",
              "      <td>Graduate</td>\n",
              "      <td>Yes</td>\n",
              "      <td>3000</td>\n",
              "      <td>0.0</td>\n",
              "      <td>66.0</td>\n",
              "      <td>360.0</td>\n",
              "      <td>1.0</td>\n",
              "      <td>Urban</td>\n",
              "      <td>Y</td>\n",
              "    </tr>\n",
              "    <tr>\n",
              "      <th>3</th>\n",
              "      <td>LP001006</td>\n",
              "      <td>Male</td>\n",
              "      <td>Yes</td>\n",
              "      <td>0</td>\n",
              "      <td>Not Graduate</td>\n",
              "      <td>No</td>\n",
              "      <td>2583</td>\n",
              "      <td>2358.0</td>\n",
              "      <td>120.0</td>\n",
              "      <td>360.0</td>\n",
              "      <td>1.0</td>\n",
              "      <td>Urban</td>\n",
              "      <td>Y</td>\n",
              "    </tr>\n",
              "    <tr>\n",
              "      <th>4</th>\n",
              "      <td>LP001008</td>\n",
              "      <td>Male</td>\n",
              "      <td>No</td>\n",
              "      <td>0</td>\n",
              "      <td>Graduate</td>\n",
              "      <td>No</td>\n",
              "      <td>6000</td>\n",
              "      <td>0.0</td>\n",
              "      <td>141.0</td>\n",
              "      <td>360.0</td>\n",
              "      <td>1.0</td>\n",
              "      <td>Urban</td>\n",
              "      <td>Y</td>\n",
              "    </tr>\n",
              "  </tbody>\n",
              "</table>\n",
              "</div>"
            ],
            "text/plain": [
              "    Loan_ID Gender Married  ... Credit_History Property_Area Loan_Status\n",
              "0  LP001002  Male   No      ...  1.0            Urban         Y         \n",
              "1  LP001003  Male   Yes     ...  1.0            Rural         N         \n",
              "2  LP001005  Male   Yes     ...  1.0            Urban         Y         \n",
              "3  LP001006  Male   Yes     ...  1.0            Urban         Y         \n",
              "4  LP001008  Male   No      ...  1.0            Urban         Y         \n",
              "\n",
              "[5 rows x 13 columns]"
            ]
          },
          "metadata": {
            "tags": []
          },
          "execution_count": 21
        }
      ]
    },
    {
      "cell_type": "code",
      "metadata": {
        "id": "tAIQn4E7ygBR"
      },
      "source": [
        "# Drop unneccesory columns\n",
        "df_Loan.drop(['Loan_ID','Gender','Married','Dependents','Education','Self_Employed','Property_Area'],axis=1,inplace=True)"
      ],
      "execution_count": null,
      "outputs": []
    },
    {
      "cell_type": "code",
      "metadata": {
        "id": "V1KkjCYny5CN"
      },
      "source": [
        "data_dict=pd.read_excel('/content/drive/My Drive/datasets/loan-prediction/LoanPredictionProblemDescription.xlsx')"
      ],
      "execution_count": null,
      "outputs": []
    },
    {
      "cell_type": "code",
      "metadata": {
        "id": "Yi476D4c0RU1"
      },
      "source": [
        "data_dtypes=pd.DataFrame(df_Loan.dtypes,columns=['dtype'])\n",
        "data_dtypes.reset_index(inplace=True)\n",
        "data_dtypes.columns=['Variable', 'dtype']\n",
        "data_dtypes['first value'] = df_Loan.loc[0].values"
      ],
      "execution_count": null,
      "outputs": []
    },
    {
      "cell_type": "code",
      "metadata": {
        "id": "UK9ddRqA0V40"
      },
      "source": [
        "data_col=data_dtypes.merge(data_dict, on='Variable',how='left')"
      ],
      "execution_count": null,
      "outputs": []
    },
    {
      "cell_type": "code",
      "metadata": {
        "id": "S5aVvaSz0xve",
        "outputId": "bb3c40dc-be6e-4935-dcb9-fdcca5570503",
        "colab": {
          "base_uri": "https://localhost:8080/"
        }
      },
      "source": [
        "data_col.head(10)"
      ],
      "execution_count": null,
      "outputs": [
        {
          "output_type": "execute_result",
          "data": {
            "text/html": [
              "<div>\n",
              "<style scoped>\n",
              "    .dataframe tbody tr th:only-of-type {\n",
              "        vertical-align: middle;\n",
              "    }\n",
              "\n",
              "    .dataframe tbody tr th {\n",
              "        vertical-align: top;\n",
              "    }\n",
              "\n",
              "    .dataframe thead th {\n",
              "        text-align: right;\n",
              "    }\n",
              "</style>\n",
              "<table border=\"1\" class=\"dataframe\">\n",
              "  <thead>\n",
              "    <tr style=\"text-align: right;\">\n",
              "      <th></th>\n",
              "      <th>Variable</th>\n",
              "      <th>dtype</th>\n",
              "      <th>first value</th>\n",
              "      <th>Description</th>\n",
              "    </tr>\n",
              "  </thead>\n",
              "  <tbody>\n",
              "    <tr>\n",
              "      <th>0</th>\n",
              "      <td>ApplicantIncome</td>\n",
              "      <td>int64</td>\n",
              "      <td>5849</td>\n",
              "      <td>Applicant income</td>\n",
              "    </tr>\n",
              "    <tr>\n",
              "      <th>1</th>\n",
              "      <td>CoapplicantIncome</td>\n",
              "      <td>float64</td>\n",
              "      <td>0</td>\n",
              "      <td>Coapplicant income</td>\n",
              "    </tr>\n",
              "    <tr>\n",
              "      <th>2</th>\n",
              "      <td>LoanAmount</td>\n",
              "      <td>float64</td>\n",
              "      <td>NaN</td>\n",
              "      <td>Loan amount in thousands</td>\n",
              "    </tr>\n",
              "    <tr>\n",
              "      <th>3</th>\n",
              "      <td>Loan_Amount_Term</td>\n",
              "      <td>float64</td>\n",
              "      <td>360</td>\n",
              "      <td>Term of loan in months</td>\n",
              "    </tr>\n",
              "    <tr>\n",
              "      <th>4</th>\n",
              "      <td>Credit_History</td>\n",
              "      <td>float64</td>\n",
              "      <td>1</td>\n",
              "      <td>credit history meets guidelines</td>\n",
              "    </tr>\n",
              "    <tr>\n",
              "      <th>5</th>\n",
              "      <td>Loan_Status</td>\n",
              "      <td>object</td>\n",
              "      <td>Y</td>\n",
              "      <td>Loan approved (Y/N)</td>\n",
              "    </tr>\n",
              "  </tbody>\n",
              "</table>\n",
              "</div>"
            ],
            "text/plain": [
              "            Variable    dtype first value                      Description\n",
              "0  ApplicantIncome    int64    5849        Applicant income               \n",
              "1  CoapplicantIncome  float64  0           Coapplicant income             \n",
              "2  LoanAmount         float64  NaN         Loan amount in thousands       \n",
              "3  Loan_Amount_Term   float64  360         Term of loan in months         \n",
              "4  Credit_History     float64  1           credit history meets guidelines\n",
              "5  Loan_Status        object   Y           Loan approved (Y/N)            "
            ]
          },
          "metadata": {
            "tags": []
          },
          "execution_count": 26
        }
      ]
    },
    {
      "cell_type": "markdown",
      "metadata": {
        "id": "OxWnWJmm05Gv"
      },
      "source": [
        "## Data Cleaning"
      ]
    },
    {
      "cell_type": "code",
      "metadata": {
        "id": "EJN5B8lf06wJ",
        "outputId": "f93cfd6e-217a-4dad-e365-178424616fb1",
        "colab": {
          "base_uri": "https://localhost:8080/"
        }
      },
      "source": [
        "df_Loan.isnull().sum()"
      ],
      "execution_count": null,
      "outputs": [
        {
          "output_type": "execute_result",
          "data": {
            "text/plain": [
              "ApplicantIncome      0 \n",
              "CoapplicantIncome    0 \n",
              "LoanAmount           22\n",
              "Loan_Amount_Term     14\n",
              "Credit_History       50\n",
              "Loan_Status          0 \n",
              "dtype: int64"
            ]
          },
          "metadata": {
            "tags": []
          },
          "execution_count": 27
        }
      ]
    },
    {
      "cell_type": "code",
      "metadata": {
        "id": "cC8jvEu42vlN"
      },
      "source": [
        "df_Loan['LoanAmount'] = df_Loan['LoanAmount'].fillna(df_Loan['LoanAmount'].mean())"
      ],
      "execution_count": null,
      "outputs": []
    },
    {
      "cell_type": "code",
      "metadata": {
        "id": "5Q7xHioP1QOY"
      },
      "source": [
        "df_Loan['Loan_Amount_Term'] = df_Loan['Loan_Amount_Term'].fillna(df_Loan['Loan_Amount_Term'].mean())"
      ],
      "execution_count": null,
      "outputs": []
    },
    {
      "cell_type": "code",
      "metadata": {
        "id": "sNOZCvdx1b3G"
      },
      "source": [
        "df_Loan['Credit_History'] = df_Loan['Credit_History'].fillna(0)"
      ],
      "execution_count": null,
      "outputs": []
    },
    {
      "cell_type": "code",
      "metadata": {
        "id": "HOIwKvzx89Gj"
      },
      "source": [
        "df_Loan[\"Annual_Income\"] = df_Loan[\"ApplicantIncome\"] + df_Loan[\"CoapplicantIncome\"]\n",
        "df_Loan.drop(['ApplicantIncome','CoapplicantIncome'],axis=1,inplace=True)"
      ],
      "execution_count": null,
      "outputs": []
    },
    {
      "cell_type": "code",
      "metadata": {
        "id": "Aa03I3gE7sgN"
      },
      "source": [
        "# Add a new column \"Employed\" as 1. Self_Employed column indicates whether the applicant is self-employed or not but we assume evey applicant is employed. \n",
        "df_Loan[\"Employed\"] = 1"
      ],
      "execution_count": null,
      "outputs": []
    },
    {
      "cell_type": "code",
      "metadata": {
        "id": "ESfl_S7k7HI5"
      },
      "source": [
        "# Add a new column to have the purpose converting house as '4' becuase Lending club has value as 4 for house\n",
        "df_Loan['Purpose'] = 4"
      ],
      "execution_count": null,
      "outputs": []
    },
    {
      "cell_type": "code",
      "metadata": {
        "id": "WahdkMng9X5a"
      },
      "source": [
        "# Add a new column for home_ownership as mortgage as '1' becuase Lending club has value as 1 for MORTGAGE\n",
        "df_Loan[\"Home_Ownership\"] = 1"
      ],
      "execution_count": null,
      "outputs": []
    },
    {
      "cell_type": "code",
      "metadata": {
        "id": "J79zhphf-Rok"
      },
      "source": [
        "df_Loan['Loan_Status'] = df_Loan['Loan_Status'].replace({'Y':1,'N':0})"
      ],
      "execution_count": null,
      "outputs": []
    },
    {
      "cell_type": "code",
      "metadata": {
        "id": "pSDHwecA-izn",
        "outputId": "9930a9b5-db3d-4d7f-e110-11c31b13615b",
        "colab": {
          "base_uri": "https://localhost:8080/"
        }
      },
      "source": [
        "df_Loan.head(10)"
      ],
      "execution_count": null,
      "outputs": [
        {
          "output_type": "execute_result",
          "data": {
            "text/html": [
              "<div>\n",
              "<style scoped>\n",
              "    .dataframe tbody tr th:only-of-type {\n",
              "        vertical-align: middle;\n",
              "    }\n",
              "\n",
              "    .dataframe tbody tr th {\n",
              "        vertical-align: top;\n",
              "    }\n",
              "\n",
              "    .dataframe thead th {\n",
              "        text-align: right;\n",
              "    }\n",
              "</style>\n",
              "<table border=\"1\" class=\"dataframe\">\n",
              "  <thead>\n",
              "    <tr style=\"text-align: right;\">\n",
              "      <th></th>\n",
              "      <th>LoanAmount</th>\n",
              "      <th>Loan_Amount_Term</th>\n",
              "      <th>Credit_History</th>\n",
              "      <th>Loan_Status</th>\n",
              "      <th>Annual_Income</th>\n",
              "      <th>Employed</th>\n",
              "      <th>Purpose</th>\n",
              "      <th>Home_Ownership</th>\n",
              "    </tr>\n",
              "  </thead>\n",
              "  <tbody>\n",
              "    <tr>\n",
              "      <th>0</th>\n",
              "      <td>146.412162</td>\n",
              "      <td>360.0</td>\n",
              "      <td>1.0</td>\n",
              "      <td>1</td>\n",
              "      <td>5849.0</td>\n",
              "      <td>1</td>\n",
              "      <td>4</td>\n",
              "      <td>1</td>\n",
              "    </tr>\n",
              "    <tr>\n",
              "      <th>1</th>\n",
              "      <td>128.000000</td>\n",
              "      <td>360.0</td>\n",
              "      <td>1.0</td>\n",
              "      <td>0</td>\n",
              "      <td>6091.0</td>\n",
              "      <td>1</td>\n",
              "      <td>4</td>\n",
              "      <td>1</td>\n",
              "    </tr>\n",
              "    <tr>\n",
              "      <th>2</th>\n",
              "      <td>66.000000</td>\n",
              "      <td>360.0</td>\n",
              "      <td>1.0</td>\n",
              "      <td>1</td>\n",
              "      <td>3000.0</td>\n",
              "      <td>1</td>\n",
              "      <td>4</td>\n",
              "      <td>1</td>\n",
              "    </tr>\n",
              "    <tr>\n",
              "      <th>3</th>\n",
              "      <td>120.000000</td>\n",
              "      <td>360.0</td>\n",
              "      <td>1.0</td>\n",
              "      <td>1</td>\n",
              "      <td>4941.0</td>\n",
              "      <td>1</td>\n",
              "      <td>4</td>\n",
              "      <td>1</td>\n",
              "    </tr>\n",
              "    <tr>\n",
              "      <th>4</th>\n",
              "      <td>141.000000</td>\n",
              "      <td>360.0</td>\n",
              "      <td>1.0</td>\n",
              "      <td>1</td>\n",
              "      <td>6000.0</td>\n",
              "      <td>1</td>\n",
              "      <td>4</td>\n",
              "      <td>1</td>\n",
              "    </tr>\n",
              "    <tr>\n",
              "      <th>5</th>\n",
              "      <td>267.000000</td>\n",
              "      <td>360.0</td>\n",
              "      <td>1.0</td>\n",
              "      <td>1</td>\n",
              "      <td>9613.0</td>\n",
              "      <td>1</td>\n",
              "      <td>4</td>\n",
              "      <td>1</td>\n",
              "    </tr>\n",
              "    <tr>\n",
              "      <th>6</th>\n",
              "      <td>95.000000</td>\n",
              "      <td>360.0</td>\n",
              "      <td>1.0</td>\n",
              "      <td>1</td>\n",
              "      <td>3849.0</td>\n",
              "      <td>1</td>\n",
              "      <td>4</td>\n",
              "      <td>1</td>\n",
              "    </tr>\n",
              "    <tr>\n",
              "      <th>7</th>\n",
              "      <td>158.000000</td>\n",
              "      <td>360.0</td>\n",
              "      <td>0.0</td>\n",
              "      <td>0</td>\n",
              "      <td>5540.0</td>\n",
              "      <td>1</td>\n",
              "      <td>4</td>\n",
              "      <td>1</td>\n",
              "    </tr>\n",
              "    <tr>\n",
              "      <th>8</th>\n",
              "      <td>168.000000</td>\n",
              "      <td>360.0</td>\n",
              "      <td>1.0</td>\n",
              "      <td>1</td>\n",
              "      <td>5532.0</td>\n",
              "      <td>1</td>\n",
              "      <td>4</td>\n",
              "      <td>1</td>\n",
              "    </tr>\n",
              "    <tr>\n",
              "      <th>9</th>\n",
              "      <td>349.000000</td>\n",
              "      <td>360.0</td>\n",
              "      <td>1.0</td>\n",
              "      <td>0</td>\n",
              "      <td>23809.0</td>\n",
              "      <td>1</td>\n",
              "      <td>4</td>\n",
              "      <td>1</td>\n",
              "    </tr>\n",
              "  </tbody>\n",
              "</table>\n",
              "</div>"
            ],
            "text/plain": [
              "   LoanAmount  Loan_Amount_Term  ...  Purpose  Home_Ownership\n",
              "0  146.412162  360.0             ...  4        1             \n",
              "1  128.000000  360.0             ...  4        1             \n",
              "2  66.000000   360.0             ...  4        1             \n",
              "3  120.000000  360.0             ...  4        1             \n",
              "4  141.000000  360.0             ...  4        1             \n",
              "5  267.000000  360.0             ...  4        1             \n",
              "6  95.000000   360.0             ...  4        1             \n",
              "7  158.000000  360.0             ...  4        1             \n",
              "8  168.000000  360.0             ...  4        1             \n",
              "9  349.000000  360.0             ...  4        1             \n",
              "\n",
              "[10 rows x 8 columns]"
            ]
          },
          "metadata": {
            "tags": []
          },
          "execution_count": 36
        }
      ]
    },
    {
      "cell_type": "code",
      "metadata": {
        "id": "FTZ9l1PbL-aF"
      },
      "source": [
        "df_Loan.rename(columns={ 'LoanAmount': 'Loan_Amount'}, inplace=True)"
      ],
      "execution_count": null,
      "outputs": []
    },
    {
      "cell_type": "markdown",
      "metadata": {
        "id": "aQUnvPyeLb1S"
      },
      "source": [
        "# Data Imputation"
      ]
    },
    {
      "cell_type": "markdown",
      "metadata": {
        "id": "O8_lPgfGL2Tm"
      },
      "source": [
        "## Credit History\n",
        "\n",
        "Applying Logistic Regression to predict the Credit History data from Loan Prediction Problem dataset and create a new fetaure in Lending Club dataset."
      ]
    },
    {
      "cell_type": "markdown",
      "metadata": {
        "id": "E1IwLDUVNXOR"
      },
      "source": [
        "### Loan Prediction Problem Dataset"
      ]
    },
    {
      "cell_type": "code",
      "metadata": {
        "id": "EtsVCreVLuyh",
        "outputId": "f6799cf1-1b78-4070-a54b-66d6ec530c85",
        "colab": {
          "base_uri": "https://localhost:8080/"
        }
      },
      "source": [
        "X = df_Loan[['Loan_Amount', 'Annual_Income', 'Loan_Status']]\n",
        "print(X.columns)\n",
        "y = df_Loan['Credit_History'].values"
      ],
      "execution_count": null,
      "outputs": [
        {
          "output_type": "stream",
          "text": [
            "Index(['Loan_Amount', 'Annual_Income', 'Loan_Status'], dtype='object')\n"
          ],
          "name": "stdout"
        }
      ]
    },
    {
      "cell_type": "code",
      "metadata": {
        "id": "jioqEHZeNAfK"
      },
      "source": [
        "X_train, X_test, y_train, y_test = train_test_split(X, y, test_size=0.2, random_state=0)"
      ],
      "execution_count": null,
      "outputs": []
    },
    {
      "cell_type": "code",
      "metadata": {
        "id": "lZf0bwfQNDHT",
        "outputId": "bcec89cd-d0a1-4a48-f3ef-bc1020768282",
        "colab": {
          "base_uri": "https://localhost:8080/"
        }
      },
      "source": [
        "classifier = MLPClassifier(random_state=1, max_iter=300)\n",
        "classifier.fit(X_train, y_train)"
      ],
      "execution_count": null,
      "outputs": [
        {
          "output_type": "execute_result",
          "data": {
            "text/plain": [
              "MLPClassifier(activation='relu', alpha=0.0001, batch_size='auto', beta_1=0.9,\n",
              "              beta_2=0.999, early_stopping=False, epsilon=1e-08,\n",
              "              hidden_layer_sizes=(100,), learning_rate='constant',\n",
              "              learning_rate_init=0.001, max_fun=15000, max_iter=300,\n",
              "              momentum=0.9, n_iter_no_change=10, nesterovs_momentum=True,\n",
              "              power_t=0.5, random_state=1, shuffle=True, solver='adam',\n",
              "              tol=0.0001, validation_fraction=0.1, verbose=False,\n",
              "              warm_start=False)"
            ]
          },
          "metadata": {
            "tags": []
          },
          "execution_count": 40
        }
      ]
    },
    {
      "cell_type": "code",
      "metadata": {
        "id": "84THFxIhNM_4"
      },
      "source": [
        "y_pred = classifier.predict(X_test)"
      ],
      "execution_count": null,
      "outputs": []
    },
    {
      "cell_type": "code",
      "metadata": {
        "id": "-q9HVAnXNRhw",
        "outputId": "aac26a38-197f-4c64-e9c9-6ca2080a1c4d",
        "colab": {
          "base_uri": "https://localhost:8080/"
        }
      },
      "source": [
        "from sklearn.metrics import confusion_matrix,classification_report\n",
        "print(confusion_matrix(y_test, y_pred))\n",
        "print(classification_report(y_test, y_pred))"
      ],
      "execution_count": null,
      "outputs": [
        {
          "output_type": "stream",
          "text": [
            "[[ 1 24]\n",
            " [ 1 97]]\n",
            "              precision    recall  f1-score   support\n",
            "\n",
            "         0.0       0.50      0.04      0.07        25\n",
            "         1.0       0.80      0.99      0.89        98\n",
            "\n",
            "    accuracy                           0.80       123\n",
            "   macro avg       0.65      0.51      0.48       123\n",
            "weighted avg       0.74      0.80      0.72       123\n",
            "\n"
          ],
          "name": "stdout"
        }
      ]
    },
    {
      "cell_type": "markdown",
      "metadata": {
        "id": "vt6TM852NcTW"
      },
      "source": [
        "### Lending Club Dataset"
      ]
    },
    {
      "cell_type": "code",
      "metadata": {
        "id": "51Z9gfPtNfQY",
        "outputId": "584713a7-5cd3-4c1f-d962-d01760a57eb6",
        "colab": {
          "base_uri": "https://localhost:8080/"
        }
      },
      "source": [
        "X_new = df_LendingClub[['Loan_Amount', 'Annual_Income', 'Loan_Status']]\n",
        "print(X.columns)"
      ],
      "execution_count": null,
      "outputs": [
        {
          "output_type": "stream",
          "text": [
            "Index(['Loan_Amount', 'Annual_Income', 'Loan_Status'], dtype='object')\n"
          ],
          "name": "stdout"
        }
      ]
    },
    {
      "cell_type": "code",
      "metadata": {
        "id": "s7Ub6n_gNoB4"
      },
      "source": [
        "CreditHistory_pred = classifier.predict(X_new)"
      ],
      "execution_count": null,
      "outputs": []
    },
    {
      "cell_type": "code",
      "metadata": {
        "id": "p8GvDhN1Nq1f"
      },
      "source": [
        "df_LendingClub['Credit_History'] = CreditHistory_pred"
      ],
      "execution_count": null,
      "outputs": []
    },
    {
      "cell_type": "code",
      "metadata": {
        "id": "08XGQYZWODL6",
        "outputId": "9960e89f-3102-4021-9059-45c823228581",
        "colab": {
          "base_uri": "https://localhost:8080/"
        }
      },
      "source": [
        "df_LendingClub.Credit_History.value_counts()"
      ],
      "execution_count": null,
      "outputs": [
        {
          "output_type": "execute_result",
          "data": {
            "text/plain": [
              "0.0    58849\n",
              "1.0    3065 \n",
              "Name: Credit_History, dtype: int64"
            ]
          },
          "metadata": {
            "tags": []
          },
          "execution_count": 46
        }
      ]
    },
    {
      "cell_type": "markdown",
      "metadata": {
        "id": "fx0nLS0GOxS0"
      },
      "source": [
        "## dti\n",
        "\n",
        "Applying Linear Regression to predict the dti (debt income ratio) data from Lending Club dataset and create a new fetaure in Loan Prediction Problem dataset."
      ]
    },
    {
      "cell_type": "markdown",
      "metadata": {
        "id": "-KWbkSrqaMiN"
      },
      "source": [
        "### Lending Club Dataset\n",
        "\n",
        "Performing Linear Regression to predict the Debt-to-Income Ratio based on Applicant Income, Loan Amount, and Loan Term"
      ]
    },
    {
      "cell_type": "code",
      "metadata": {
        "id": "QNpUiRhUPD_g"
      },
      "source": [
        "X = df_LendingClub[['Annual_Income', 'Loan_Amount', 'Loan_Amount_Term']]"
      ],
      "execution_count": null,
      "outputs": []
    },
    {
      "cell_type": "code",
      "metadata": {
        "id": "d_CY2uj0ZmC7"
      },
      "source": [
        "y = df_LendingClub['dti']"
      ],
      "execution_count": null,
      "outputs": []
    },
    {
      "cell_type": "code",
      "metadata": {
        "id": "T_0XcquZZpig"
      },
      "source": [
        "# Replace values over 200 with 200\n",
        "df_LendingClub.loc[df_LendingClub['dti'] > 200, 'dti'] = 200"
      ],
      "execution_count": null,
      "outputs": []
    },
    {
      "cell_type": "code",
      "metadata": {
        "id": "D7-JFAXHZt5G"
      },
      "source": [
        "X_train, X_test, y_train, y_test = train_test_split(X, y,random_state=1,test_size=0.30)"
      ],
      "execution_count": null,
      "outputs": []
    },
    {
      "cell_type": "code",
      "metadata": {
        "id": "uJ8_5M6wZ6Y1"
      },
      "source": [
        "regr = LinearRegression()\n",
        "regr.fit(X_train, y_train)\n",
        "\n",
        "y_pred = regr.predict(X_test)"
      ],
      "execution_count": null,
      "outputs": []
    },
    {
      "cell_type": "markdown",
      "metadata": {
        "id": "t4NpRCMCaA7z"
      },
      "source": [
        "### Loan Predcition Problem Dataset\n",
        "\n",
        "Apply Linear Regression Model to Loan Data Set to Predict DTI"
      ]
    },
    {
      "cell_type": "code",
      "metadata": {
        "id": "YDMPRPbWaAGk"
      },
      "source": [
        "X = df_Loan[['Annual_Income', 'Loan_Amount', 'Loan_Amount_Term']]"
      ],
      "execution_count": null,
      "outputs": []
    },
    {
      "cell_type": "code",
      "metadata": {
        "id": "wJEN84AIaPqm"
      },
      "source": [
        "predicted_y = regr.predict(X)"
      ],
      "execution_count": null,
      "outputs": []
    },
    {
      "cell_type": "code",
      "metadata": {
        "id": "YiYHD21Qaubt"
      },
      "source": [
        "df_Loan['dti'] = predicted_y"
      ],
      "execution_count": null,
      "outputs": []
    },
    {
      "cell_type": "code",
      "metadata": {
        "id": "yUJk1SOVaxXu",
        "outputId": "b4d9d047-192e-4894-ea61-e53960a8c9d9",
        "colab": {
          "base_uri": "https://localhost:8080/",
          "height": 176
        }
      },
      "source": [
        "df_Loan['dti'].describe()"
      ],
      "execution_count": null,
      "outputs": [
        {
          "output_type": "execute_result",
          "data": {
            "text/plain": [
              "count    614.000000\n",
              "mean     29.826567 \n",
              "std      2.357156  \n",
              "min      17.816175 \n",
              "25%      30.403907 \n",
              "50%      30.511301 \n",
              "75%      30.547085 \n",
              "max      34.958430 \n",
              "Name: dti, dtype: float64"
            ]
          },
          "metadata": {
            "tags": []
          },
          "execution_count": 55
        }
      ]
    },
    {
      "cell_type": "markdown",
      "metadata": {
        "id": "eviO4T2abe3Y"
      },
      "source": [
        "# Combine Datasets"
      ]
    },
    {
      "cell_type": "code",
      "metadata": {
        "id": "8Gi0kAtJbhhk"
      },
      "source": [
        "# Create a new final dataframe combining both the dataframes\n",
        "final_df = pd.concat([df_Loan,df_LendingClub], axis=0, ignore_index=True)"
      ],
      "execution_count": null,
      "outputs": []
    },
    {
      "cell_type": "code",
      "metadata": {
        "id": "1ta2cKFNbmmv",
        "outputId": "f0763df7-defc-4c9f-b7d3-e258da1f74bc",
        "colab": {
          "base_uri": "https://localhost:8080/",
          "height": 367
        }
      },
      "source": [
        "final_df.head(10)"
      ],
      "execution_count": null,
      "outputs": [
        {
          "output_type": "execute_result",
          "data": {
            "text/html": [
              "<div>\n",
              "<style scoped>\n",
              "    .dataframe tbody tr th:only-of-type {\n",
              "        vertical-align: middle;\n",
              "    }\n",
              "\n",
              "    .dataframe tbody tr th {\n",
              "        vertical-align: top;\n",
              "    }\n",
              "\n",
              "    .dataframe thead th {\n",
              "        text-align: right;\n",
              "    }\n",
              "</style>\n",
              "<table border=\"1\" class=\"dataframe\">\n",
              "  <thead>\n",
              "    <tr style=\"text-align: right;\">\n",
              "      <th></th>\n",
              "      <th>Loan_Amount</th>\n",
              "      <th>Loan_Amount_Term</th>\n",
              "      <th>Credit_History</th>\n",
              "      <th>Loan_Status</th>\n",
              "      <th>Annual_Income</th>\n",
              "      <th>Employed</th>\n",
              "      <th>Purpose</th>\n",
              "      <th>Home_Ownership</th>\n",
              "      <th>dti</th>\n",
              "    </tr>\n",
              "  </thead>\n",
              "  <tbody>\n",
              "    <tr>\n",
              "      <th>0</th>\n",
              "      <td>146.412162</td>\n",
              "      <td>360.0</td>\n",
              "      <td>1.0</td>\n",
              "      <td>1</td>\n",
              "      <td>5849.0</td>\n",
              "      <td>1</td>\n",
              "      <td>4</td>\n",
              "      <td>1</td>\n",
              "      <td>30.510709</td>\n",
              "    </tr>\n",
              "    <tr>\n",
              "      <th>1</th>\n",
              "      <td>128.000000</td>\n",
              "      <td>360.0</td>\n",
              "      <td>1.0</td>\n",
              "      <td>0</td>\n",
              "      <td>6091.0</td>\n",
              "      <td>1</td>\n",
              "      <td>4</td>\n",
              "      <td>1</td>\n",
              "      <td>30.503228</td>\n",
              "    </tr>\n",
              "    <tr>\n",
              "      <th>2</th>\n",
              "      <td>66.000000</td>\n",
              "      <td>360.0</td>\n",
              "      <td>1.0</td>\n",
              "      <td>1</td>\n",
              "      <td>3000.0</td>\n",
              "      <td>1</td>\n",
              "      <td>4</td>\n",
              "      <td>1</td>\n",
              "      <td>30.577049</td>\n",
              "    </tr>\n",
              "    <tr>\n",
              "      <th>3</th>\n",
              "      <td>120.000000</td>\n",
              "      <td>360.0</td>\n",
              "      <td>1.0</td>\n",
              "      <td>1</td>\n",
              "      <td>4941.0</td>\n",
              "      <td>1</td>\n",
              "      <td>4</td>\n",
              "      <td>1</td>\n",
              "      <td>30.531795</td>\n",
              "    </tr>\n",
              "    <tr>\n",
              "      <th>4</th>\n",
              "      <td>141.000000</td>\n",
              "      <td>360.0</td>\n",
              "      <td>1.0</td>\n",
              "      <td>1</td>\n",
              "      <td>6000.0</td>\n",
              "      <td>1</td>\n",
              "      <td>4</td>\n",
              "      <td>1</td>\n",
              "      <td>30.506485</td>\n",
              "    </tr>\n",
              "    <tr>\n",
              "      <th>5</th>\n",
              "      <td>267.000000</td>\n",
              "      <td>360.0</td>\n",
              "      <td>1.0</td>\n",
              "      <td>1</td>\n",
              "      <td>9613.0</td>\n",
              "      <td>1</td>\n",
              "      <td>4</td>\n",
              "      <td>1</td>\n",
              "      <td>30.424111</td>\n",
              "    </tr>\n",
              "    <tr>\n",
              "      <th>6</th>\n",
              "      <td>95.000000</td>\n",
              "      <td>360.0</td>\n",
              "      <td>1.0</td>\n",
              "      <td>1</td>\n",
              "      <td>3849.0</td>\n",
              "      <td>1</td>\n",
              "      <td>4</td>\n",
              "      <td>1</td>\n",
              "      <td>30.557648</td>\n",
              "    </tr>\n",
              "    <tr>\n",
              "      <th>7</th>\n",
              "      <td>158.000000</td>\n",
              "      <td>360.0</td>\n",
              "      <td>0.0</td>\n",
              "      <td>0</td>\n",
              "      <td>5540.0</td>\n",
              "      <td>1</td>\n",
              "      <td>4</td>\n",
              "      <td>1</td>\n",
              "      <td>30.519388</td>\n",
              "    </tr>\n",
              "    <tr>\n",
              "      <th>8</th>\n",
              "      <td>168.000000</td>\n",
              "      <td>360.0</td>\n",
              "      <td>1.0</td>\n",
              "      <td>1</td>\n",
              "      <td>5532.0</td>\n",
              "      <td>1</td>\n",
              "      <td>4</td>\n",
              "      <td>1</td>\n",
              "      <td>30.520322</td>\n",
              "    </tr>\n",
              "    <tr>\n",
              "      <th>9</th>\n",
              "      <td>349.000000</td>\n",
              "      <td>360.0</td>\n",
              "      <td>1.0</td>\n",
              "      <td>0</td>\n",
              "      <td>23809.0</td>\n",
              "      <td>1</td>\n",
              "      <td>4</td>\n",
              "      <td>1</td>\n",
              "      <td>30.070256</td>\n",
              "    </tr>\n",
              "  </tbody>\n",
              "</table>\n",
              "</div>"
            ],
            "text/plain": [
              "   Loan_Amount  Loan_Amount_Term  ...  Home_Ownership        dti\n",
              "0  146.412162   360.0             ...  1               30.510709\n",
              "1  128.000000   360.0             ...  1               30.503228\n",
              "2  66.000000    360.0             ...  1               30.577049\n",
              "3  120.000000   360.0             ...  1               30.531795\n",
              "4  141.000000   360.0             ...  1               30.506485\n",
              "5  267.000000   360.0             ...  1               30.424111\n",
              "6  95.000000    360.0             ...  1               30.557648\n",
              "7  158.000000   360.0             ...  1               30.519388\n",
              "8  168.000000   360.0             ...  1               30.520322\n",
              "9  349.000000   360.0             ...  1               30.070256\n",
              "\n",
              "[10 rows x 9 columns]"
            ]
          },
          "metadata": {
            "tags": []
          },
          "execution_count": 57
        }
      ]
    },
    {
      "cell_type": "code",
      "metadata": {
        "id": "suE7vYCrbp1_",
        "outputId": "5b15632a-a7e5-4abf-be9e-798c735526e1",
        "colab": {
          "base_uri": "https://localhost:8080/",
          "height": 367
        }
      },
      "source": [
        "final_df.tail(10)"
      ],
      "execution_count": null,
      "outputs": [
        {
          "output_type": "execute_result",
          "data": {
            "text/html": [
              "<div>\n",
              "<style scoped>\n",
              "    .dataframe tbody tr th:only-of-type {\n",
              "        vertical-align: middle;\n",
              "    }\n",
              "\n",
              "    .dataframe tbody tr th {\n",
              "        vertical-align: top;\n",
              "    }\n",
              "\n",
              "    .dataframe thead th {\n",
              "        text-align: right;\n",
              "    }\n",
              "</style>\n",
              "<table border=\"1\" class=\"dataframe\">\n",
              "  <thead>\n",
              "    <tr style=\"text-align: right;\">\n",
              "      <th></th>\n",
              "      <th>Loan_Amount</th>\n",
              "      <th>Loan_Amount_Term</th>\n",
              "      <th>Credit_History</th>\n",
              "      <th>Loan_Status</th>\n",
              "      <th>Annual_Income</th>\n",
              "      <th>Employed</th>\n",
              "      <th>Purpose</th>\n",
              "      <th>Home_Ownership</th>\n",
              "      <th>dti</th>\n",
              "    </tr>\n",
              "  </thead>\n",
              "  <tbody>\n",
              "    <tr>\n",
              "      <th>62518</th>\n",
              "      <td>6000.0</td>\n",
              "      <td>36.0</td>\n",
              "      <td>0.0</td>\n",
              "      <td>1</td>\n",
              "      <td>68000.0</td>\n",
              "      <td>1</td>\n",
              "      <td>1</td>\n",
              "      <td>1</td>\n",
              "      <td>20.88</td>\n",
              "    </tr>\n",
              "    <tr>\n",
              "      <th>62519</th>\n",
              "      <td>30000.0</td>\n",
              "      <td>36.0</td>\n",
              "      <td>0.0</td>\n",
              "      <td>1</td>\n",
              "      <td>64577.0</td>\n",
              "      <td>1</td>\n",
              "      <td>1</td>\n",
              "      <td>1</td>\n",
              "      <td>20.29</td>\n",
              "    </tr>\n",
              "    <tr>\n",
              "      <th>62520</th>\n",
              "      <td>25000.0</td>\n",
              "      <td>60.0</td>\n",
              "      <td>0.0</td>\n",
              "      <td>1</td>\n",
              "      <td>110000.0</td>\n",
              "      <td>1</td>\n",
              "      <td>2</td>\n",
              "      <td>1</td>\n",
              "      <td>21.05</td>\n",
              "    </tr>\n",
              "    <tr>\n",
              "      <th>62521</th>\n",
              "      <td>6500.0</td>\n",
              "      <td>36.0</td>\n",
              "      <td>0.0</td>\n",
              "      <td>1</td>\n",
              "      <td>26000.0</td>\n",
              "      <td>1</td>\n",
              "      <td>2</td>\n",
              "      <td>3</td>\n",
              "      <td>14.68</td>\n",
              "    </tr>\n",
              "    <tr>\n",
              "      <th>62522</th>\n",
              "      <td>14400.0</td>\n",
              "      <td>60.0</td>\n",
              "      <td>0.0</td>\n",
              "      <td>0</td>\n",
              "      <td>45000.0</td>\n",
              "      <td>1</td>\n",
              "      <td>8</td>\n",
              "      <td>3</td>\n",
              "      <td>7.55</td>\n",
              "    </tr>\n",
              "    <tr>\n",
              "      <th>62523</th>\n",
              "      <td>35000.0</td>\n",
              "      <td>36.0</td>\n",
              "      <td>0.0</td>\n",
              "      <td>1</td>\n",
              "      <td>100000.0</td>\n",
              "      <td>1</td>\n",
              "      <td>8</td>\n",
              "      <td>1</td>\n",
              "      <td>11.95</td>\n",
              "    </tr>\n",
              "    <tr>\n",
              "      <th>62524</th>\n",
              "      <td>12300.0</td>\n",
              "      <td>36.0</td>\n",
              "      <td>0.0</td>\n",
              "      <td>1</td>\n",
              "      <td>112000.0</td>\n",
              "      <td>1</td>\n",
              "      <td>2</td>\n",
              "      <td>1</td>\n",
              "      <td>4.31</td>\n",
              "    </tr>\n",
              "    <tr>\n",
              "      <th>62525</th>\n",
              "      <td>9000.0</td>\n",
              "      <td>36.0</td>\n",
              "      <td>0.0</td>\n",
              "      <td>0</td>\n",
              "      <td>85000.0</td>\n",
              "      <td>1</td>\n",
              "      <td>1</td>\n",
              "      <td>3</td>\n",
              "      <td>23.45</td>\n",
              "    </tr>\n",
              "    <tr>\n",
              "      <th>62526</th>\n",
              "      <td>5000.0</td>\n",
              "      <td>36.0</td>\n",
              "      <td>0.0</td>\n",
              "      <td>1</td>\n",
              "      <td>32000.0</td>\n",
              "      <td>1</td>\n",
              "      <td>2</td>\n",
              "      <td>1</td>\n",
              "      <td>24.12</td>\n",
              "    </tr>\n",
              "    <tr>\n",
              "      <th>62527</th>\n",
              "      <td>3000.0</td>\n",
              "      <td>36.0</td>\n",
              "      <td>0.0</td>\n",
              "      <td>0</td>\n",
              "      <td>72000.0</td>\n",
              "      <td>1</td>\n",
              "      <td>8</td>\n",
              "      <td>3</td>\n",
              "      <td>5.87</td>\n",
              "    </tr>\n",
              "  </tbody>\n",
              "</table>\n",
              "</div>"
            ],
            "text/plain": [
              "       Loan_Amount  Loan_Amount_Term  ...  Home_Ownership    dti\n",
              "62518  6000.0       36.0              ...  1               20.88\n",
              "62519  30000.0      36.0              ...  1               20.29\n",
              "62520  25000.0      60.0              ...  1               21.05\n",
              "62521  6500.0       36.0              ...  3               14.68\n",
              "62522  14400.0      60.0              ...  3               7.55 \n",
              "62523  35000.0      36.0              ...  1               11.95\n",
              "62524  12300.0      36.0              ...  1               4.31 \n",
              "62525  9000.0       36.0              ...  3               23.45\n",
              "62526  5000.0       36.0              ...  1               24.12\n",
              "62527  3000.0       36.0              ...  3               5.87 \n",
              "\n",
              "[10 rows x 9 columns]"
            ]
          },
          "metadata": {
            "tags": []
          },
          "execution_count": 58
        }
      ]
    },
    {
      "cell_type": "markdown",
      "metadata": {
        "id": "ovUXwN7iif1r"
      },
      "source": [
        "## Export final dataset into a csv file"
      ]
    },
    {
      "cell_type": "markdown",
      "metadata": {
        "id": "i4gfkuPGiEfn"
      },
      "source": [
        "Run the below cell to download the final dataset as a csv file. The file will be downloaded into your loacl machine. Please note it will also add the first column with the serial numbers so we can delete that column and use this csv file as our final dataset to perform further algorithms."
      ]
    },
    {
      "cell_type": "code",
      "metadata": {
        "id": "wOXpPYrmeNDm",
        "outputId": "7c6d6fa3-371d-46b1-d14f-ef73e719f0f8",
        "colab": {
          "base_uri": "https://localhost:8080/",
          "height": 16
        }
      },
      "source": [
        "# Downloads the file in local machine\n",
        "from google.colab import files\n",
        "final_df.to_csv('BankLoanApprovalFinalDataset.csv')\n",
        "files.download('BankLoanApprovalFinalDataset.csv')"
      ],
      "execution_count": null,
      "outputs": [
        {
          "output_type": "display_data",
          "data": {
            "application/javascript": [
              "\n",
              "    async function download(id, filename, size) {\n",
              "      if (!google.colab.kernel.accessAllowed) {\n",
              "        return;\n",
              "      }\n",
              "      const div = document.createElement('div');\n",
              "      const label = document.createElement('label');\n",
              "      label.textContent = `Downloading \"${filename}\": `;\n",
              "      div.appendChild(label);\n",
              "      const progress = document.createElement('progress');\n",
              "      progress.max = size;\n",
              "      div.appendChild(progress);\n",
              "      document.body.appendChild(div);\n",
              "\n",
              "      const buffers = [];\n",
              "      let downloaded = 0;\n",
              "\n",
              "      const channel = await google.colab.kernel.comms.open(id);\n",
              "      // Send a message to notify the kernel that we're ready.\n",
              "      channel.send({})\n",
              "\n",
              "      for await (const message of channel.messages) {\n",
              "        // Send a message to notify the kernel that we're ready.\n",
              "        channel.send({})\n",
              "        if (message.buffers) {\n",
              "          for (const buffer of message.buffers) {\n",
              "            buffers.push(buffer);\n",
              "            downloaded += buffer.byteLength;\n",
              "            progress.value = downloaded;\n",
              "          }\n",
              "        }\n",
              "      }\n",
              "      const blob = new Blob(buffers, {type: 'application/binary'});\n",
              "      const a = document.createElement('a');\n",
              "      a.href = window.URL.createObjectURL(blob);\n",
              "      a.download = filename;\n",
              "      div.appendChild(a);\n",
              "      a.click();\n",
              "      div.remove();\n",
              "    }\n",
              "  "
            ],
            "text/plain": [
              "<IPython.core.display.Javascript object>"
            ]
          },
          "metadata": {
            "tags": []
          }
        },
        {
          "output_type": "display_data",
          "data": {
            "application/javascript": [
              "download(\"download_58afa0ce-e4fa-49bd-b9b1-d260b1ceb5c9\", \"BankLoanApprovalFinalDataset.csv\", 2784836)"
            ],
            "text/plain": [
              "<IPython.core.display.Javascript object>"
            ]
          },
          "metadata": {
            "tags": []
          }
        }
      ]
    },
    {
      "cell_type": "markdown",
      "metadata": {
        "id": "kJOo3_C4iqUM"
      },
      "source": [
        "Run the below cells to export the dataframe as a google sheet. After execution of these cells, please check your drive for the file."
      ]
    },
    {
      "cell_type": "code",
      "metadata": {
        "id": "nOXRdycUgIoj"
      },
      "source": [
        "# Export to Google Sheet\n",
        "\n",
        "!pip install --upgrade --quiet gspread\n",
        "from google.colab import auth\n",
        "auth.authenticate_user()\n",
        "\n",
        "import gspread\n",
        "from oauth2client.client import GoogleCredentials\n",
        "\n",
        "gc = gspread.authorize(GoogleCredentials.get_application_default())"
      ],
      "execution_count": null,
      "outputs": []
    },
    {
      "cell_type": "code",
      "metadata": {
        "id": "gftH6R6Zg-TN"
      },
      "source": [
        "from gspread_dataframe import get_as_dataframe, set_with_dataframe\n",
        "\n",
        "sh = gc.create('BankLoanApprovalFinalDataset')\n",
        "worksheet = gc.open('BankLoanApprovalFinalDataset').sheet1\n",
        "\n",
        "set_with_dataframe(worksheet,final_df)"
      ],
      "execution_count": null,
      "outputs": []
    },
    {
      "cell_type": "markdown",
      "metadata": {
        "id": "r_qUXOvoCO2c"
      },
      "source": [
        "# Data Visualization"
      ]
    },
    {
      "cell_type": "code",
      "metadata": {
        "id": "VPKE3vZHEexq",
        "outputId": "a84b0d81-5cd0-4546-8c6f-293f3dc568c8",
        "colab": {
          "base_uri": "https://localhost:8080/"
        }
      },
      "source": [
        "df_LendingClub.info()"
      ],
      "execution_count": null,
      "outputs": [
        {
          "output_type": "stream",
          "text": [
            "<class 'pandas.core.frame.DataFrame'>\n",
            "Int64Index: 61914 entries, 4 to 495238\n",
            "Data columns (total 9 columns):\n",
            " #   Column            Non-Null Count  Dtype  \n",
            "---  ------            --------------  -----  \n",
            " 0   Purpose           61914 non-null  int64  \n",
            " 1   Annual_Income     61914 non-null  float64\n",
            " 2   Loan_Amount       61914 non-null  float64\n",
            " 3   Loan_Amount_Term  61914 non-null  int64  \n",
            " 4   Loan_Status       61914 non-null  int64  \n",
            " 5   Home_Ownership    61914 non-null  int64  \n",
            " 6   dti               61914 non-null  float64\n",
            " 7   Employed          61914 non-null  int64  \n",
            " 8   Credit_History    61914 non-null  float64\n",
            "dtypes: float64(4), int64(5)\n",
            "memory usage: 4.7 MB\n"
          ],
          "name": "stdout"
        }
      ]
    },
    {
      "cell_type": "code",
      "metadata": {
        "id": "8eT3O0POIlfO",
        "outputId": "5401652e-c7fb-4132-92ed-b32211933633",
        "colab": {
          "base_uri": "https://localhost:8080/"
        }
      },
      "source": [
        "df_Loan.info()"
      ],
      "execution_count": null,
      "outputs": [
        {
          "output_type": "stream",
          "text": [
            "<class 'pandas.core.frame.DataFrame'>\n",
            "RangeIndex: 614 entries, 0 to 613\n",
            "Data columns (total 9 columns):\n",
            " #   Column            Non-Null Count  Dtype  \n",
            "---  ------            --------------  -----  \n",
            " 0   Loan_Amount       614 non-null    float64\n",
            " 1   Loan_Amount_Term  614 non-null    float64\n",
            " 2   Credit_History    614 non-null    float64\n",
            " 3   Loan_Status       614 non-null    int64  \n",
            " 4   Annual_Income     614 non-null    float64\n",
            " 5   Employed          614 non-null    int64  \n",
            " 6   Purpose           614 non-null    int64  \n",
            " 7   Home_Ownership    614 non-null    int64  \n",
            " 8   dti               614 non-null    float64\n",
            "dtypes: float64(5), int64(4)\n",
            "memory usage: 43.3 KB\n"
          ],
          "name": "stdout"
        }
      ]
    },
    {
      "cell_type": "code",
      "metadata": {
        "id": "OGDAs7rECIRu",
        "outputId": "80c74927-d4fb-4876-ee9d-b0f779342d0a",
        "colab": {
          "base_uri": "https://localhost:8080/"
        }
      },
      "source": [
        "final_df['Annual_Income'].hist()"
      ],
      "execution_count": null,
      "outputs": [
        {
          "output_type": "execute_result",
          "data": {
            "text/plain": [
              "<matplotlib.axes._subplots.AxesSubplot at 0x7f8e7625b1d0>"
            ]
          },
          "metadata": {
            "tags": []
          },
          "execution_count": 68
        },
        {
          "output_type": "display_data",
          "data": {
            "image/png": "[encoded data removed]",
            "text/plain": [
              "<Figure size 432x288 with 1 Axes>"
            ]
          },
          "metadata": {
            "tags": [],
            "needs_background": "light"
          }
        }
      ]
    },
    {
      "cell_type": "code",
      "metadata": {
        "id": "KKzjLOg0FPI1"
      },
      "source": [
        "# Set new variable name to include only loans that are not approved\n",
        "default_vis = final_df[final_df.Loan_Status == 0]"
      ],
      "execution_count": null,
      "outputs": []
    },
    {
      "cell_type": "code",
      "metadata": {
        "id": "Y5pTuL1IEIOt",
        "outputId": "386d7158-4b52-4bd7-e504-12205e2844c0",
        "colab": {
          "base_uri": "https://localhost:8080/"
        }
      },
      "source": [
        "# Visualize the distribution of loan_amnt\n",
        "sns.set_palette(\"husl\")\n",
        "plt.figure(figsize=(18,10))\n",
        "sns.distplot(final_df['Loan_Amount'], hist='density')\n",
        "plt.axvline(x=final_df.Loan_Amount.mean(), color='red', linestyle='-', lw=4, label='Mean of Loan Amount')\n",
        "plt.axvline(x=default_vis.Loan_Amount.mean(), color='orange', linestyle='-', lw=4, label='Mean of Non-Approved Loan Amount')\n",
        "plt.title('Loan Amount Distribution', fontsize=20)\n",
        "plt.xlabel('Loan Amount', fontsize=18)\n",
        "plt.legend(fontsize=20)\n",
        "plt.show()"
      ],
      "execution_count": null,
      "outputs": [
        {
          "output_type": "display_data",
          "data": {
            "image/png": "[encoded data removed]",
            "text/plain": [
              "<Figure size 1296x720 with 1 Axes>"
            ]
          },
          "metadata": {
            "tags": [],
            "needs_background": "light"
          }
        }
      ]
    },
    {
      "cell_type": "code",
      "metadata": {
        "id": "1fy2BMaZHBJy",
        "outputId": "b32c22d2-c638-4c78-95a3-087835ddcb91",
        "colab": {
          "base_uri": "https://localhost:8080/"
        }
      },
      "source": [
        "print(\"The difference in mean between the two loan amount is:\", default_vis.Loan_Amount.mean() - final_df.Loan_Amount.mean())"
      ],
      "execution_count": null,
      "outputs": [
        {
          "output_type": "stream",
          "text": [
            "The difference in mean between the two loan amount is: 2203.165903528208\n"
          ],
          "name": "stdout"
        }
      ]
    },
    {
      "cell_type": "markdown",
      "metadata": {
        "id": "ogZ3yc7uGy0m"
      },
      "source": [
        "\n",
        "This plot identifies the distributions of loan amount records within the dataset. The solid red line represents the mean laon amount for all loans. The solid orange line represents the mean loam amount for loans that have not been approved. There is a clear 4.54% increase in Loan Amount between Approved loans vs. Non-approved."
      ]
    }
  ]
}