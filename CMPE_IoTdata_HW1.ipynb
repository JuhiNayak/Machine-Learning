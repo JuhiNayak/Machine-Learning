{
  "nbformat": 4,
  "nbformat_minor": 0,
  "metadata": {
    "colab": {
      "name": "CMPE_IoTdata_HW1.ipynb",
      "provenance": [],
      "collapsed_sections": [],
      "toc_visible": true,
      "include_colab_link": true
    },
    "kernelspec": {
      "name": "python3",
      "display_name": "Python 3"
    }
  },
  "cells": [
    {
      "cell_type": "markdown",
      "metadata": {
        "id": "view-in-github",
        "colab_type": "text"
      },
      "source": [
        "<a href=\"https://colab.research.google.com/github/JuhiNayak/Machine-Learning/blob/master/CMPE_IoTdata_HW1.ipynb\" target=\"_parent\"><img src=\"https://colab.research.google.com/assets/colab-badge.svg\" alt=\"Open In Colab\"/></a>"
      ]
    },
    {
      "cell_type": "markdown",
      "metadata": {
        "id": "snpnAVHl3Jv0"
      },
      "source": [
        "# Install required packages \n",
        "Most of them are already installed in Colab"
      ]
    },
    {
      "cell_type": "code",
      "metadata": {
        "id": "8fFL43MdLtGX",
        "outputId": "d9fb5fb8-0751-4dd5-c9d0-46afa9c786ec",
        "colab": {
          "base_uri": "https://localhost:8080/",
          "height": 1000
        }
      },
      "source": [
        "!pip install google-cloud-iot"
      ],
      "execution_count": null,
      "outputs": [
        {
          "output_type": "stream",
          "text": [
            "Collecting google-cloud-iot\n",
            "\u001b[?25l  Downloading https://files.pythonhosted.org/packages/f3/6a/2a74aeebd6ac767da81102f2581f5c7d5396b9b975092927748b1f441e5d/google_cloud_iot-2.0.1-py2.py3-none-any.whl (68kB)\n",
            "\u001b[K     |████████████████████████████████| 71kB 2.0MB/s \n",
            "\u001b[?25hCollecting grpc-google-iam-v1<0.13dev,>=0.12.3\n",
            "  Downloading https://files.pythonhosted.org/packages/65/19/2060c8faa325fddc09aa67af98ffcb6813f39a0ad805679fa64815362b3a/grpc-google-iam-v1-0.12.3.tar.gz\n",
            "Collecting libcst>=0.2.5\n",
            "\u001b[?25l  Downloading https://files.pythonhosted.org/packages/45/36/6bc3e3980faf635bd63d20d71c47ec61ed9bc3d363f2109af9ffd626dbde/libcst-0.3.12-py3-none-any.whl (501kB)\n",
            "\u001b[K     |████████████████████████████████| 501kB 7.7MB/s \n",
            "\u001b[?25hCollecting proto-plus>=1.4.0\n",
            "\u001b[?25l  Downloading https://files.pythonhosted.org/packages/6d/40/fa214d52454a62700d7f8718d42d237d6e8be2c4e21ddcd9535705b846f8/proto-plus-1.10.1.tar.gz (42kB)\n",
            "\u001b[K     |████████████████████████████████| 51kB 5.4MB/s \n",
            "\u001b[?25hCollecting google-api-core[grpc]<2.0.0dev,>=1.22.0\n",
            "\u001b[?25l  Downloading https://files.pythonhosted.org/packages/9f/52/e7720d652aeb7d514d3a2e62d263c8058f465beee2fc41260591c0fecc3a/google_api_core-1.22.4-py2.py3-none-any.whl (91kB)\n",
            "\u001b[K     |████████████████████████████████| 92kB 6.0MB/s \n",
            "\u001b[?25hRequirement already satisfied: grpcio<2.0.0dev,>=1.0.0 in /usr/local/lib/python3.6/dist-packages (from grpc-google-iam-v1<0.13dev,>=0.12.3->google-cloud-iot) (1.32.0)\n",
            "Requirement already satisfied: googleapis-common-protos[grpc]<2.0.0dev,>=1.5.2 in /usr/local/lib/python3.6/dist-packages (from grpc-google-iam-v1<0.13dev,>=0.12.3->google-cloud-iot) (1.52.0)\n",
            "Requirement already satisfied: typing-extensions>=3.7.4.2 in /usr/local/lib/python3.6/dist-packages (from libcst>=0.2.5->google-cloud-iot) (3.7.4.3)\n",
            "Requirement already satisfied: dataclasses>=0.6.0; python_version < \"3.7\" in /usr/local/lib/python3.6/dist-packages (from libcst>=0.2.5->google-cloud-iot) (0.7)\n",
            "Collecting typing-inspect>=0.4.0\n",
            "  Downloading https://files.pythonhosted.org/packages/42/1c/66402db44184904a2f14722d317a4da0b5c8c78acfc3faf74362566635c5/typing_inspect-0.6.0-py3-none-any.whl\n",
            "Collecting pyyaml>=5.2\n",
            "\u001b[?25l  Downloading https://files.pythonhosted.org/packages/64/c2/b80047c7ac2478f9501676c988a5411ed5572f35d1beff9cae07d321512c/PyYAML-5.3.1.tar.gz (269kB)\n",
            "\u001b[K     |████████████████████████████████| 276kB 14.4MB/s \n",
            "\u001b[?25hRequirement already satisfied: protobuf>=3.12.0 in /usr/local/lib/python3.6/dist-packages (from proto-plus>=1.4.0->google-cloud-iot) (3.12.4)\n",
            "Requirement already satisfied: requests<3.0.0dev,>=2.18.0 in /usr/local/lib/python3.6/dist-packages (from google-api-core[grpc]<2.0.0dev,>=1.22.0->google-cloud-iot) (2.23.0)\n",
            "Requirement already satisfied: setuptools>=34.0.0 in /usr/local/lib/python3.6/dist-packages (from google-api-core[grpc]<2.0.0dev,>=1.22.0->google-cloud-iot) (50.3.0)\n",
            "Requirement already satisfied: six>=1.13.0 in /usr/local/lib/python3.6/dist-packages (from google-api-core[grpc]<2.0.0dev,>=1.22.0->google-cloud-iot) (1.15.0)\n",
            "Collecting google-auth<2.0dev,>=1.21.1\n",
            "\u001b[?25l  Downloading https://files.pythonhosted.org/packages/1f/cf/724b6436967a8be879c8de16b09fd80e0e7b0bcad462f5c09ee021605785/google_auth-1.22.1-py2.py3-none-any.whl (114kB)\n",
            "\u001b[K     |████████████████████████████████| 122kB 17.7MB/s \n",
            "\u001b[?25hRequirement already satisfied: pytz in /usr/local/lib/python3.6/dist-packages (from google-api-core[grpc]<2.0.0dev,>=1.22.0->google-cloud-iot) (2018.9)\n",
            "Collecting mypy-extensions>=0.3.0\n",
            "  Downloading https://files.pythonhosted.org/packages/5c/eb/975c7c080f3223a5cdaff09612f3a5221e4ba534f7039db34c35d95fa6a5/mypy_extensions-0.4.3-py2.py3-none-any.whl\n",
            "Requirement already satisfied: urllib3!=1.25.0,!=1.25.1,<1.26,>=1.21.1 in /usr/local/lib/python3.6/dist-packages (from requests<3.0.0dev,>=2.18.0->google-api-core[grpc]<2.0.0dev,>=1.22.0->google-cloud-iot) (1.24.3)\n",
            "Requirement already satisfied: certifi>=2017.4.17 in /usr/local/lib/python3.6/dist-packages (from requests<3.0.0dev,>=2.18.0->google-api-core[grpc]<2.0.0dev,>=1.22.0->google-cloud-iot) (2020.6.20)\n",
            "Requirement already satisfied: chardet<4,>=3.0.2 in /usr/local/lib/python3.6/dist-packages (from requests<3.0.0dev,>=2.18.0->google-api-core[grpc]<2.0.0dev,>=1.22.0->google-cloud-iot) (3.0.4)\n",
            "Requirement already satisfied: idna<3,>=2.5 in /usr/local/lib/python3.6/dist-packages (from requests<3.0.0dev,>=2.18.0->google-api-core[grpc]<2.0.0dev,>=1.22.0->google-cloud-iot) (2.10)\n",
            "Requirement already satisfied: pyasn1-modules>=0.2.1 in /usr/local/lib/python3.6/dist-packages (from google-auth<2.0dev,>=1.21.1->google-api-core[grpc]<2.0.0dev,>=1.22.0->google-cloud-iot) (0.2.8)\n",
            "Requirement already satisfied: rsa<5,>=3.1.4; python_version >= \"3.5\" in /usr/local/lib/python3.6/dist-packages (from google-auth<2.0dev,>=1.21.1->google-api-core[grpc]<2.0.0dev,>=1.22.0->google-cloud-iot) (4.6)\n",
            "Requirement already satisfied: cachetools<5.0,>=2.0.0 in /usr/local/lib/python3.6/dist-packages (from google-auth<2.0dev,>=1.21.1->google-api-core[grpc]<2.0.0dev,>=1.22.0->google-cloud-iot) (4.1.1)\n",
            "Requirement already satisfied: pyasn1<0.5.0,>=0.4.6 in /usr/local/lib/python3.6/dist-packages (from pyasn1-modules>=0.2.1->google-auth<2.0dev,>=1.21.1->google-api-core[grpc]<2.0.0dev,>=1.22.0->google-cloud-iot) (0.4.8)\n",
            "Building wheels for collected packages: grpc-google-iam-v1, proto-plus, pyyaml\n",
            "  Building wheel for grpc-google-iam-v1 (setup.py) ... \u001b[?25l\u001b[?25hdone\n",
            "  Created wheel for grpc-google-iam-v1: filename=grpc_google_iam_v1-0.12.3-cp36-none-any.whl size=18500 sha256=5440b24edadc6b870c58dc71d054ed0405b9ebac5d51c098042762ecdef28422\n",
            "  Stored in directory: /root/.cache/pip/wheels/de/3a/83/77a1e18e1a8757186df834b86ce6800120ac9c79cd8ca4091b\n",
            "  Building wheel for proto-plus (setup.py) ... \u001b[?25l\u001b[?25hdone\n",
            "  Created wheel for proto-plus: filename=proto_plus-1.10.1-cp36-none-any.whl size=41279 sha256=3e837130ebfb759dfb780f1f0f372f5e067787feff5faf96fe0f976f56fda205\n",
            "  Stored in directory: /root/.cache/pip/wheels/08/80/3d/54dc44645ac5a646e7945bdaa67bba0816d6bcfd3aecf788f6\n",
            "  Building wheel for pyyaml (setup.py) ... \u001b[?25l\u001b[?25hdone\n",
            "  Created wheel for pyyaml: filename=PyYAML-5.3.1-cp36-cp36m-linux_x86_64.whl size=44619 sha256=e262d21c8c4c51369d826087303aec90dbbd2d2e0ee499f2a15957f0fb88a9d3\n",
            "  Stored in directory: /root/.cache/pip/wheels/a7/c1/ea/cf5bd31012e735dc1dfea3131a2d5eae7978b251083d6247bd\n",
            "Successfully built grpc-google-iam-v1 proto-plus pyyaml\n",
            "\u001b[31mERROR: google-colab 1.0.0 has requirement google-auth~=1.17.2, but you'll have google-auth 1.22.1 which is incompatible.\u001b[0m\n",
            "Installing collected packages: grpc-google-iam-v1, mypy-extensions, typing-inspect, pyyaml, libcst, proto-plus, google-auth, google-api-core, google-cloud-iot\n",
            "  Found existing installation: PyYAML 3.13\n",
            "    Uninstalling PyYAML-3.13:\n",
            "      Successfully uninstalled PyYAML-3.13\n",
            "  Found existing installation: google-auth 1.17.2\n",
            "    Uninstalling google-auth-1.17.2:\n",
            "      Successfully uninstalled google-auth-1.17.2\n",
            "  Found existing installation: google-api-core 1.16.0\n",
            "    Uninstalling google-api-core-1.16.0:\n",
            "      Successfully uninstalled google-api-core-1.16.0\n",
            "Successfully installed google-api-core-1.22.4 google-auth-1.22.1 google-cloud-iot-2.0.1 grpc-google-iam-v1-0.12.3 libcst-0.3.12 mypy-extensions-0.4.3 proto-plus-1.10.1 pyyaml-5.3.1 typing-inspect-0.6.0\n"
          ],
          "name": "stdout"
        },
        {
          "output_type": "display_data",
          "data": {
            "application/vnd.colab-display-data+json": {
              "pip_warning": {
                "packages": [
                  "google"
                ]
              }
            }
          },
          "metadata": {
            "tags": []
          }
        }
      ]
    },
    {
      "cell_type": "code",
      "metadata": {
        "id": "8-aLBvOAan_g",
        "outputId": "4dd3575b-bd05-4180-907e-81cc543d0928",
        "colab": {
          "base_uri": "https://localhost:8080/",
          "height": 228
        }
      },
      "source": [
        "!pip install google-api-python-client"
      ],
      "execution_count": null,
      "outputs": [
        {
          "output_type": "stream",
          "text": [
            "Requirement already satisfied: google-api-python-client in /usr/local/lib/python3.6/dist-packages (1.7.12)\n",
            "Requirement already satisfied: uritemplate<4dev,>=3.0.0 in /usr/local/lib/python3.6/dist-packages (from google-api-python-client) (3.0.1)\n",
            "Requirement already satisfied: google-auth-httplib2>=0.0.3 in /usr/local/lib/python3.6/dist-packages (from google-api-python-client) (0.0.4)\n",
            "Requirement already satisfied: google-auth>=1.4.1 in /usr/local/lib/python3.6/dist-packages (from google-api-python-client) (1.22.1)\n",
            "Requirement already satisfied: httplib2<1dev,>=0.17.0 in /usr/local/lib/python3.6/dist-packages (from google-api-python-client) (0.17.4)\n",
            "Requirement already satisfied: six<2dev,>=1.6.1 in /usr/local/lib/python3.6/dist-packages (from google-api-python-client) (1.15.0)\n",
            "Requirement already satisfied: rsa<5,>=3.1.4; python_version >= \"3.5\" in /usr/local/lib/python3.6/dist-packages (from google-auth>=1.4.1->google-api-python-client) (4.6)\n",
            "Requirement already satisfied: setuptools>=40.3.0 in /usr/local/lib/python3.6/dist-packages (from google-auth>=1.4.1->google-api-python-client) (50.3.0)\n",
            "Requirement already satisfied: cachetools<5.0,>=2.0.0 in /usr/local/lib/python3.6/dist-packages (from google-auth>=1.4.1->google-api-python-client) (4.1.1)\n",
            "Requirement already satisfied: pyasn1-modules>=0.2.1 in /usr/local/lib/python3.6/dist-packages (from google-auth>=1.4.1->google-api-python-client) (0.2.8)\n",
            "Requirement already satisfied: pyasn1>=0.1.3 in /usr/local/lib/python3.6/dist-packages (from rsa<5,>=3.1.4; python_version >= \"3.5\"->google-auth>=1.4.1->google-api-python-client) (0.4.8)\n"
          ],
          "name": "stdout"
        }
      ]
    },
    {
      "cell_type": "code",
      "metadata": {
        "id": "BmryKIkjnQ_y",
        "outputId": "348ef730-11d9-4bea-e938-b1181c0515a0",
        "colab": {
          "base_uri": "https://localhost:8080/",
          "height": 366
        }
      },
      "source": [
        "!pip install google-cloud-storage"
      ],
      "execution_count": null,
      "outputs": [
        {
          "output_type": "stream",
          "text": [
            "Requirement already satisfied: google-cloud-storage in /usr/local/lib/python3.6/dist-packages (1.18.1)\n",
            "Requirement already satisfied: google-auth>=1.2.0 in /usr/local/lib/python3.6/dist-packages (from google-cloud-storage) (1.22.1)\n",
            "Requirement already satisfied: google-cloud-core<2.0dev,>=1.0.0 in /usr/local/lib/python3.6/dist-packages (from google-cloud-storage) (1.0.3)\n",
            "Requirement already satisfied: google-resumable-media<0.5.0dev,>=0.3.1 in /usr/local/lib/python3.6/dist-packages (from google-cloud-storage) (0.4.1)\n",
            "Requirement already satisfied: rsa<5,>=3.1.4; python_version >= \"3.5\" in /usr/local/lib/python3.6/dist-packages (from google-auth>=1.2.0->google-cloud-storage) (4.6)\n",
            "Requirement already satisfied: six>=1.9.0 in /usr/local/lib/python3.6/dist-packages (from google-auth>=1.2.0->google-cloud-storage) (1.15.0)\n",
            "Requirement already satisfied: pyasn1-modules>=0.2.1 in /usr/local/lib/python3.6/dist-packages (from google-auth>=1.2.0->google-cloud-storage) (0.2.8)\n",
            "Requirement already satisfied: cachetools<5.0,>=2.0.0 in /usr/local/lib/python3.6/dist-packages (from google-auth>=1.2.0->google-cloud-storage) (4.1.1)\n",
            "Requirement already satisfied: setuptools>=40.3.0 in /usr/local/lib/python3.6/dist-packages (from google-auth>=1.2.0->google-cloud-storage) (50.3.0)\n",
            "Requirement already satisfied: google-api-core<2.0.0dev,>=1.14.0 in /usr/local/lib/python3.6/dist-packages (from google-cloud-core<2.0dev,>=1.0.0->google-cloud-storage) (1.22.4)\n",
            "Requirement already satisfied: pyasn1>=0.1.3 in /usr/local/lib/python3.6/dist-packages (from rsa<5,>=3.1.4; python_version >= \"3.5\"->google-auth>=1.2.0->google-cloud-storage) (0.4.8)\n",
            "Requirement already satisfied: protobuf>=3.12.0 in /usr/local/lib/python3.6/dist-packages (from google-api-core<2.0.0dev,>=1.14.0->google-cloud-core<2.0dev,>=1.0.0->google-cloud-storage) (3.12.4)\n",
            "Requirement already satisfied: requests<3.0.0dev,>=2.18.0 in /usr/local/lib/python3.6/dist-packages (from google-api-core<2.0.0dev,>=1.14.0->google-cloud-core<2.0dev,>=1.0.0->google-cloud-storage) (2.23.0)\n",
            "Requirement already satisfied: googleapis-common-protos<2.0dev,>=1.6.0 in /usr/local/lib/python3.6/dist-packages (from google-api-core<2.0.0dev,>=1.14.0->google-cloud-core<2.0dev,>=1.0.0->google-cloud-storage) (1.52.0)\n",
            "Requirement already satisfied: pytz in /usr/local/lib/python3.6/dist-packages (from google-api-core<2.0.0dev,>=1.14.0->google-cloud-core<2.0dev,>=1.0.0->google-cloud-storage) (2018.9)\n",
            "Requirement already satisfied: urllib3!=1.25.0,!=1.25.1,<1.26,>=1.21.1 in /usr/local/lib/python3.6/dist-packages (from requests<3.0.0dev,>=2.18.0->google-api-core<2.0.0dev,>=1.14.0->google-cloud-core<2.0dev,>=1.0.0->google-cloud-storage) (1.24.3)\n",
            "Requirement already satisfied: idna<3,>=2.5 in /usr/local/lib/python3.6/dist-packages (from requests<3.0.0dev,>=2.18.0->google-api-core<2.0.0dev,>=1.14.0->google-cloud-core<2.0dev,>=1.0.0->google-cloud-storage) (2.10)\n",
            "Requirement already satisfied: certifi>=2017.4.17 in /usr/local/lib/python3.6/dist-packages (from requests<3.0.0dev,>=2.18.0->google-api-core<2.0.0dev,>=1.14.0->google-cloud-core<2.0dev,>=1.0.0->google-cloud-storage) (2020.6.20)\n",
            "Requirement already satisfied: chardet<4,>=3.0.2 in /usr/local/lib/python3.6/dist-packages (from requests<3.0.0dev,>=2.18.0->google-api-core<2.0.0dev,>=1.14.0->google-cloud-core<2.0dev,>=1.0.0->google-cloud-storage) (3.0.4)\n"
          ],
          "name": "stdout"
        }
      ]
    },
    {
      "cell_type": "code",
      "metadata": {
        "id": "b9pAWRSsbynN",
        "outputId": "66faee04-3162-4907-9339-000a771c7829",
        "colab": {
          "base_uri": "https://localhost:8080/",
          "height": 349
        }
      },
      "source": [
        "!pip install cryptography pyjwt paho-mqtt "
      ],
      "execution_count": null,
      "outputs": [
        {
          "output_type": "stream",
          "text": [
            "Collecting cryptography\n",
            "\u001b[?25l  Downloading https://files.pythonhosted.org/packages/33/62/30f6936941d87a5ed72efb24249437824f6b2c953901245b58c91fde2f27/cryptography-3.1.1-cp35-abi3-manylinux2010_x86_64.whl (2.6MB)\n",
            "\u001b[K     |████████████████████████████████| 2.6MB 2.8MB/s \n",
            "\u001b[?25hCollecting pyjwt\n",
            "  Downloading https://files.pythonhosted.org/packages/87/8b/6a9f14b5f781697e51259d81657e6048fd31a113229cf346880bb7545565/PyJWT-1.7.1-py2.py3-none-any.whl\n",
            "Collecting paho-mqtt\n",
            "\u001b[?25l  Downloading https://files.pythonhosted.org/packages/32/d3/6dcb8fd14746fcde6a556f932b5de8bea8fedcb85b3a092e0e986372c0e7/paho-mqtt-1.5.1.tar.gz (101kB)\n",
            "\u001b[K     |████████████████████████████████| 102kB 9.3MB/s \n",
            "\u001b[?25hRequirement already satisfied: cffi!=1.11.3,>=1.8 in /usr/local/lib/python3.6/dist-packages (from cryptography) (1.14.3)\n",
            "Requirement already satisfied: six>=1.4.1 in /usr/local/lib/python3.6/dist-packages (from cryptography) (1.15.0)\n",
            "Requirement already satisfied: pycparser in /usr/local/lib/python3.6/dist-packages (from cffi!=1.11.3,>=1.8->cryptography) (2.20)\n",
            "Building wheels for collected packages: paho-mqtt\n",
            "  Building wheel for paho-mqtt (setup.py) ... \u001b[?25l\u001b[?25hdone\n",
            "  Created wheel for paho-mqtt: filename=paho_mqtt-1.5.1-cp36-none-any.whl size=61544 sha256=91679541a7259aecac46643dbca5506ca27b59aa759c5c4032549be18cfee065\n",
            "  Stored in directory: /root/.cache/pip/wheels/75/e2/f5/78942b19b4d135605e58dfe85fba52253b14d636aabf76904b\n",
            "Successfully built paho-mqtt\n",
            "Installing collected packages: cryptography, pyjwt, paho-mqtt\n",
            "Successfully installed cryptography-3.1.1 paho-mqtt-1.5.1 pyjwt-1.7.1\n"
          ],
          "name": "stdout"
        }
      ]
    },
    {
      "cell_type": "code",
      "metadata": {
        "id": "g7Vns7V0cC9N"
      },
      "source": [
        "import paho.mqtt.client as mqtt\n",
        "import jwt\n",
        "import time\n",
        "import ssl\n",
        "import random\n",
        "import os\n",
        "import logging\n",
        "import datetime\n",
        "import argparse"
      ],
      "execution_count": null,
      "outputs": []
    },
    {
      "cell_type": "markdown",
      "metadata": {
        "id": "p1cM6ML0naRG"
      },
      "source": [
        "# Setup Google Cloud Client"
      ]
    },
    {
      "cell_type": "code",
      "metadata": {
        "id": "nivGmp_geTdJ"
      },
      "source": [
        "from google.colab import auth\n",
        "auth.authenticate_user()"
      ],
      "execution_count": null,
      "outputs": []
    },
    {
      "cell_type": "code",
      "metadata": {
        "id": "VCRLVnTseYhx",
        "outputId": "7c478bca-8018-4b03-ffc7-c77b64cc5169",
        "colab": {
          "base_uri": "https://localhost:8080/",
          "height": 156
        }
      },
      "source": [
        "!gcloud config list"
      ],
      "execution_count": null,
      "outputs": [
        {
          "output_type": "stream",
          "text": [
            "[component_manager]\n",
            "disable_update_check = True\n",
            "[compute]\n",
            "gce_metadata_read_timeout_sec = 0\n",
            "[core]\n",
            "account = juhi.nayak@sjsu.edu\n",
            "\n",
            "Your active configuration is: [default]\n"
          ],
          "name": "stdout"
        }
      ]
    },
    {
      "cell_type": "code",
      "metadata": {
        "id": "FY8uiFUOeyL2",
        "outputId": "04bf470d-d0c6-41f7-c42b-d4f044d0fb7e",
        "colab": {
          "base_uri": "https://localhost:8080/",
          "height": 34
        }
      },
      "source": [
        "!gcloud config set compute/region us-central1"
      ],
      "execution_count": null,
      "outputs": [
        {
          "output_type": "stream",
          "text": [
            "Updated property [compute/region].\n"
          ],
          "name": "stdout"
        }
      ]
    },
    {
      "cell_type": "code",
      "metadata": {
        "id": "Bb1T7BlDe4dC",
        "outputId": "4acde01d-165a-45aa-a317-e81f655547a9",
        "colab": {
          "base_uri": "https://localhost:8080/",
          "height": 34
        }
      },
      "source": [
        "!gcloud config set compute/zone us-central1a"
      ],
      "execution_count": null,
      "outputs": [
        {
          "output_type": "stream",
          "text": [
            "Updated property [compute/zone].\n"
          ],
          "name": "stdout"
        }
      ]
    },
    {
      "cell_type": "code",
      "metadata": {
        "id": "yDPhneOvfCQv",
        "outputId": "9daab383-c613-4ace-b085-798a654f2b04",
        "colab": {
          "base_uri": "https://localhost:8080/",
          "height": 86
        }
      },
      "source": [
        "!gcloud config list project"
      ],
      "execution_count": null,
      "outputs": [
        {
          "output_type": "stream",
          "text": [
            "[core]\n",
            "project (unset)\n",
            "\n",
            "Your active configuration is: [default]\n"
          ],
          "name": "stdout"
        }
      ]
    },
    {
      "cell_type": "code",
      "metadata": {
        "id": "aqI7jnrze9Nj",
        "outputId": "72961bbf-f3a4-4c95-baea-0eec81d06e50",
        "colab": {
          "base_uri": "https://localhost:8080/",
          "height": 34
        }
      },
      "source": [
        "!gcloud config set project 'cmpe297-hw1'"
      ],
      "execution_count": null,
      "outputs": [
        {
          "output_type": "stream",
          "text": [
            "Updated property [core/project].\n"
          ],
          "name": "stdout"
        }
      ]
    },
    {
      "cell_type": "code",
      "metadata": {
        "id": "2mSK8qxV3r3s",
        "outputId": "9fef74f2-6edc-45bc-de3e-8ff322b98596",
        "colab": {
          "base_uri": "https://localhost:8080/",
          "height": 86
        }
      },
      "source": [
        "!gcloud config list project"
      ],
      "execution_count": null,
      "outputs": [
        {
          "output_type": "stream",
          "text": [
            "[core]\n",
            "project = cmpe297-hw1\n",
            "\n",
            "Your active configuration is: [default]\n"
          ],
          "name": "stdout"
        }
      ]
    },
    {
      "cell_type": "markdown",
      "metadata": {
        "id": "9Vmk0d1ma7pi"
      },
      "source": [
        "# Mount Google Drive"
      ]
    },
    {
      "cell_type": "code",
      "metadata": {
        "id": "JCtCfdQTa-L5",
        "outputId": "0ecd0b88-c2d8-47d4-d47d-a948cdcba169",
        "colab": {
          "base_uri": "https://localhost:8080/",
          "height": 34
        }
      },
      "source": [
        "from google.colab import drive\n",
        "import os\n",
        "drive.mount('/content/gdrive')"
      ],
      "execution_count": null,
      "outputs": [
        {
          "output_type": "stream",
          "text": [
            "Mounted at /content/gdrive\n"
          ],
          "name": "stdout"
        }
      ]
    },
    {
      "cell_type": "markdown",
      "metadata": {
        "id": "NlTyhuIjv8tb"
      },
      "source": [
        "Create a service credentials, ref: https://cloud.google.com/storage/docs/reference/libraries#client-libraries-usage-nodejs"
      ]
    },
    {
      "cell_type": "code",
      "metadata": {
        "id": "hIFv1uYPpd-Z"
      },
      "source": [
        "myservicecredentials='/content/gdrive/\"My Drive\"/\"Colab Notebooks\"/Googlecerts'"
      ],
      "execution_count": null,
      "outputs": []
    },
    {
      "cell_type": "code",
      "metadata": {
        "id": "vyCjrVu6pqon",
        "outputId": "0aa06d06-5716-486a-c017-c915023c7158",
        "colab": {
          "base_uri": "https://localhost:8080/",
          "height": 34
        }
      },
      "source": [
        "!ls {myservicecredentials}"
      ],
      "execution_count": null,
      "outputs": [
        {
          "output_type": "stream",
          "text": [
            "cmpe297-hw1-9b27f771eb2b.json  iotdevicenew  roots.pem\n"
          ],
          "name": "stdout"
        }
      ]
    },
    {
      "cell_type": "code",
      "metadata": {
        "id": "XyvHZIsD-FhI",
        "outputId": "10703d62-e38f-40e5-d689-a880661ff4e2",
        "colab": {
          "base_uri": "https://localhost:8080/",
          "height": 34
        }
      },
      "source": [
        "newdevicecredentials_path=os.path.join(myservicecredentials, 'iotdevicenew')\n",
        "!ls {newdevicecredentials_path}"
      ],
      "execution_count": null,
      "outputs": [
        {
          "output_type": "stream",
          "text": [
            "rsa_cert.pem  rsa_private.pem\n"
          ],
          "name": "stdout"
        }
      ]
    },
    {
      "cell_type": "code",
      "metadata": {
        "id": "m1l_-AdIp0tO"
      },
      "source": [
        "myservicecredentials_path=os.path.join(myservicecredentials, 'cmpe297-hw1-9b27f771eb2b.json')"
      ],
      "execution_count": null,
      "outputs": []
    },
    {
      "cell_type": "code",
      "metadata": {
        "id": "rcLXy7Vrqws1"
      },
      "source": [
        "!cp {myservicecredentials_path} . #copy to the local directory"
      ],
      "execution_count": null,
      "outputs": []
    },
    {
      "cell_type": "code",
      "metadata": {
        "id": "W5kTtO0y-Tgo"
      },
      "source": [
        "!cp -r {newdevicecredentials_path} ."
      ],
      "execution_count": null,
      "outputs": []
    },
    {
      "cell_type": "code",
      "metadata": {
        "id": "iHT-CbooH6VE"
      },
      "source": [
        "rootcredentials_path=os.path.join(myservicecredentials, 'roots.pem')\n",
        "!cp {rootcredentials_path} ."
      ],
      "execution_count": null,
      "outputs": []
    },
    {
      "cell_type": "code",
      "metadata": {
        "id": "FEjMsCPS-X-B",
        "outputId": "fda02adb-8ca6-4150-9805-4feb86f81490",
        "colab": {
          "base_uri": "https://localhost:8080/",
          "height": 52
        }
      },
      "source": [
        "!ls"
      ],
      "execution_count": null,
      "outputs": [
        {
          "output_type": "stream",
          "text": [
            "adc.json\t\t       gdrive\t     roots.pem\n",
            "cmpe297-hw1-9b27f771eb2b.json  iotdevicenew  sample_data\n"
          ],
          "name": "stdout"
        }
      ]
    },
    {
      "cell_type": "code",
      "metadata": {
        "id": "d4XVMOm0qNRp"
      },
      "source": [
        "GOOGLE_APPLICATION_CREDENTIALS='./cmpe297-hw1-9b27f771eb2b.json'"
      ],
      "execution_count": null,
      "outputs": []
    },
    {
      "cell_type": "code",
      "metadata": {
        "id": "U-eJTWydqPjk",
        "outputId": "c96ccd7c-f07f-4251-f838-c3ae62a665bc",
        "colab": {
          "base_uri": "https://localhost:8080/",
          "height": 34
        }
      },
      "source": [
        "!echo $GOOGLE_APPLICATION_CREDENTIALS"
      ],
      "execution_count": null,
      "outputs": [
        {
          "output_type": "stream",
          "text": [
            "./cmpe297-hw1-9b27f771eb2b.json\n"
          ],
          "name": "stdout"
        }
      ]
    },
    {
      "cell_type": "markdown",
      "metadata": {
        "id": "QQqGaEldcJFS"
      },
      "source": [
        "# Google IoT Defined functions"
      ]
    },
    {
      "cell_type": "code",
      "metadata": {
        "id": "NifkYik2cNxc"
      },
      "source": [
        "import paho.mqtt.client as mqtt\n",
        "import jwt\n",
        "import time\n",
        "import ssl\n",
        "import random\n",
        "import os\n",
        "import logging\n",
        "import datetime\n",
        "import argparse\n",
        "\n",
        "from google.cloud import storage"
      ],
      "execution_count": null,
      "outputs": []
    },
    {
      "cell_type": "code",
      "metadata": {
        "id": "afpn5sqY5YWR"
      },
      "source": [
        "# The initial backoff time after a disconnection occurs, in seconds.\n",
        "minimum_backoff_time = 1\n",
        "\n",
        "# The maximum backoff time before giving up, in seconds.\n",
        "MAXIMUM_BACKOFF_TIME = 32\n",
        "\n",
        "# Whether to wait with exponential backoff before publishing.\n",
        "should_backoff = False\n",
        "\n",
        "def create_jwt(project_id, private_key_file, algorithm):\n",
        "    \"\"\"Creates a JWT (https://jwt.io) to establish an MQTT connection.\n",
        "        Args:\n",
        "         project_id: The cloud project ID this device belongs to\n",
        "         private_key_file: A path to a file containing either an RSA256 or\n",
        "                 ES256 private key.\n",
        "         algorithm: The encryption algorithm to use. Either 'RS256' or 'ES256'\n",
        "        Returns:\n",
        "            A JWT generated from the given project_id and private key, which\n",
        "            expires in 20 minutes. After 20 minutes, your client will be\n",
        "            disconnected, and a new JWT will have to be generated.\n",
        "        Raises:\n",
        "            ValueError: If the private_key_file does not contain a known key.\n",
        "        \"\"\"\n",
        "\n",
        "    token = {\n",
        "        # The time that the token was issued at\n",
        "        'iat': datetime.datetime.utcnow(),\n",
        "        # The time the token expires.\n",
        "        'exp': datetime.datetime.utcnow() + datetime.timedelta(minutes=20),\n",
        "        # The audience field should always be set to the GCP project id.\n",
        "        'aud': project_id\n",
        "    }\n",
        "\n",
        "    # Read the private key file.\n",
        "    with open(private_key_file, 'r') as f:\n",
        "        private_key = f.read()\n",
        "\n",
        "    print('Creating JWT using {} from private key file {}'.format(\n",
        "        algorithm, private_key_file))\n",
        "\n",
        "    return jwt.encode(token, private_key, algorithm=algorithm)\n",
        "# [END iot_mqtt_jwt]"
      ],
      "execution_count": null,
      "outputs": []
    },
    {
      "cell_type": "code",
      "metadata": {
        "id": "c7CVNFJA5d22"
      },
      "source": [
        "def error_str(rc):\n",
        "    \"\"\"Convert a Paho error to a human readable string.\"\"\"\n",
        "    return '{}: {}'.format(rc, mqtt.error_string(rc))\n",
        "\n",
        "\n",
        "def on_connect(unused_client, unused_userdata, unused_flags, rc):\n",
        "    \"\"\"Callback for when a device connects.\"\"\"\n",
        "    print('on_connect', mqtt.connack_string(rc))\n",
        "\n",
        "    # After a successful connect, reset backoff time and stop backing off.\n",
        "    global should_backoff\n",
        "    global minimum_backoff_time\n",
        "    should_backoff = False\n",
        "    minimum_backoff_time = 1\n",
        "\n",
        "\n",
        "def on_disconnect(unused_client, unused_userdata, rc):\n",
        "    \"\"\"Paho callback for when a device disconnects.\"\"\"\n",
        "    print('on_disconnect', error_str(rc))\n",
        "\n",
        "    # Since a disconnect occurred, the next loop iteration will wait with\n",
        "    # exponential backoff.\n",
        "    global should_backoff\n",
        "    should_backoff = True\n",
        "\n",
        "\n",
        "def on_publish(unused_client, unused_userdata, unused_mid):\n",
        "    \"\"\"Paho callback when a message is sent to the broker.\"\"\"\n",
        "    print('on_publish')\n",
        "\n",
        "\n",
        "def on_message(unused_client, unused_userdata, message):\n",
        "    \"\"\"Callback when the device receives a message on a subscription.\"\"\"\n",
        "    payload = str(message.payload.decode('utf-8'))\n",
        "    print('Received message \\'{}\\' on topic \\'{}\\' with Qos {}'.format(\n",
        "        payload, message.topic, str(message.qos)))"
      ],
      "execution_count": null,
      "outputs": []
    },
    {
      "cell_type": "code",
      "metadata": {
        "id": "vFONbm3D5qjm"
      },
      "source": [
        "def get_client(\n",
        "        project_id, cloud_region, registry_id, device_id, private_key_file,\n",
        "        algorithm, ca_certs, mqtt_bridge_hostname, mqtt_bridge_port):\n",
        "    \"\"\"Create our MQTT client. The client_id is a unique string that identifies\n",
        "    this device. For Google Cloud IoT Core, it must be in the format below.\"\"\"\n",
        "    client_id = 'projects/{}/locations/{}/registries/{}/devices/{}'.format(\n",
        "        project_id, cloud_region, registry_id, device_id)\n",
        "    print('Device client_id is \\'{}\\''.format(client_id))\n",
        "\n",
        "    client = mqtt.Client(client_id=client_id)\n",
        "\n",
        "    # With Google Cloud IoT Core, the username field is ignored, and the\n",
        "    # password field is used to transmit a JWT to authorize the device.\n",
        "    client.username_pw_set(\n",
        "        username='unused',\n",
        "        password=create_jwt(\n",
        "            project_id, private_key_file, algorithm))\n",
        "\n",
        "    # Enable SSL/TLS support.\n",
        "    client.tls_set(ca_certs=ca_certs, tls_version=ssl.PROTOCOL_TLSv1_2)\n",
        "\n",
        "    # Register message callbacks. https://eclipse.org/paho/clients/python/docs/\n",
        "    # describes additional callbacks that Paho supports. In this example, the\n",
        "    # callbacks just print to standard out.\n",
        "    client.on_connect = on_connect\n",
        "    client.on_publish = on_publish\n",
        "    client.on_disconnect = on_disconnect\n",
        "    client.on_message = on_message\n",
        "\n",
        "    # Connect to the Google MQTT bridge.\n",
        "    client.connect(mqtt_bridge_hostname, mqtt_bridge_port)\n",
        "\n",
        "    # This is the topic that the device will receive configuration updates on.\n",
        "    mqtt_config_topic = '/devices/{}/config'.format(device_id)\n",
        "\n",
        "    # Subscribe to the config topic.\n",
        "    client.subscribe(mqtt_config_topic, qos=1)\n",
        "\n",
        "    # The topic that the device will receive commands on.\n",
        "    mqtt_command_topic = '/devices/{}/commands/#'.format(device_id)\n",
        "\n",
        "    # Subscribe to the commands topic, QoS 1 enables message acknowledgement.\n",
        "    print('Subscribing to {}'.format(mqtt_command_topic))\n",
        "    client.subscribe(mqtt_command_topic, qos=0)\n",
        "\n",
        "    return client\n",
        "# [END iot_mqtt_config]"
      ],
      "execution_count": null,
      "outputs": []
    },
    {
      "cell_type": "code",
      "metadata": {
        "id": "_pl0zLTUIFfI",
        "outputId": "fa3d1ed5-c3cb-4b90-f557-1ba10a8826fa",
        "colab": {
          "base_uri": "https://localhost:8080/",
          "height": 52
        }
      },
      "source": [
        "!ls"
      ],
      "execution_count": null,
      "outputs": [
        {
          "output_type": "stream",
          "text": [
            "adc.json\t\t       gdrive\t     roots.pem\n",
            "cmpe297-hw1-9b27f771eb2b.json  iotdevicenew  sample_data\n"
          ],
          "name": "stdout"
        }
      ]
    },
    {
      "cell_type": "code",
      "metadata": {
        "id": "WHqWQnRTIEq1"
      },
      "source": [
        "GOOGLE_APPLICATION_CREDENTIALS='./cmpe297-hw1-9b27f771eb2b.json'\n",
        "ROOT_CREDENTIALS='./roots.pem'"
      ],
      "execution_count": null,
      "outputs": []
    },
    {
      "cell_type": "code",
      "metadata": {
        "id": "5W_KynqJ6ge2"
      },
      "source": [
        "class Args:\n",
        "  algorithm = 'RS256'\n",
        "  ca_certs = '/content/roots.pem'\n",
        "  cloud_region = 'us-central1'\n",
        "  data = 'Hello there'\n",
        "  device_id = 'cmpeiotdevice2'\n",
        "  jwt_expires_minutes = 20\n",
        "  listen_dur = 60\n",
        "  message_type = 'event'\n",
        "  mqtt_bridge_hostname = 'mqtt.googleapis.com'\n",
        "  mqtt_bridge_port = 8883\n",
        "  num_messages = 25\n",
        "  private_key_file = '/content/iotdevicenew/rsa_private.pem'#/content/gdrive/\"My Drive\"/CurrentWork/CMPE181Sp2020/Googlecerts/cmpe181dev1/rsa_private.pem'\n",
        "  project_id = 'cmpe297-hw1'\n",
        "  registry_id = 'CMPEIoT1'\n",
        "  service_account_json = '/content/cmpe297-hw1-9b27f771eb2b.json'#os.environ.get(\"GOOGLE_APPLICATION_CREDENTIALS\")\n",
        "  imagefolder_path= './data'\n",
        "\n",
        "\n",
        "args=Args()"
      ],
      "execution_count": null,
      "outputs": []
    },
    {
      "cell_type": "code",
      "metadata": {
        "id": "PFseNuwC8jPx",
        "outputId": "97ba61f4-5bf2-4f24-ac62-ac184d2e4f7f",
        "colab": {
          "base_uri": "https://localhost:8080/",
          "height": 34
        }
      },
      "source": [
        "print(args.private_key_file)"
      ],
      "execution_count": null,
      "outputs": [
        {
          "output_type": "stream",
          "text": [
            "/content/iotdevicenew/rsa_private.pem\n"
          ],
          "name": "stdout"
        }
      ]
    },
    {
      "cell_type": "code",
      "metadata": {
        "id": "sy2qfZSa5r6h"
      },
      "source": [
        "def mqtt_device_demo(args):\n",
        "    \"\"\"Connects a device, sends data, and receives data.\"\"\"\n",
        "    # [START iot_mqtt_run]\n",
        "    global minimum_backoff_time\n",
        "    global MAXIMUM_BACKOFF_TIME\n",
        "\n",
        "    # Publish to the events or state topic based on the flag.\n",
        "    sub_topic = 'events' if args.message_type == 'event' else 'state'\n",
        "\n",
        "    mqtt_topic = '/devices/{}/{}'.format(args.device_id, sub_topic)\n",
        "\n",
        "    jwt_iat = datetime.datetime.utcnow()\n",
        "    jwt_exp_mins = args.jwt_expires_minutes\n",
        "    client = get_client(\n",
        "        args.project_id, args.cloud_region, args.registry_id,\n",
        "        args.device_id, args.private_key_file, args.algorithm,\n",
        "        args.ca_certs, args.mqtt_bridge_hostname, args.mqtt_bridge_port)\n",
        "\n",
        "    # Publish num_messages messages to the MQTT bridge once per second.\n",
        "    for i in range(1, args.num_messages + 1):\n",
        "        # Process network events.\n",
        "        client.loop()\n",
        "\n",
        "        # Wait if backoff is required.\n",
        "        if should_backoff:\n",
        "            # If backoff time is too large, give up.\n",
        "            if minimum_backoff_time > MAXIMUM_BACKOFF_TIME:\n",
        "                print('Exceeded maximum backoff time. Giving up.')\n",
        "                break\n",
        "\n",
        "            # Otherwise, wait and connect again.\n",
        "            delay = minimum_backoff_time + random.randint(0, 1000) / 1000.0\n",
        "            print('Waiting for {} before reconnecting.'.format(delay))\n",
        "            time.sleep(delay)\n",
        "            minimum_backoff_time *= 2\n",
        "            client.connect(args.mqtt_bridge_hostname, args.mqtt_bridge_port)\n",
        "\n",
        "        payload = '{}/{}-payload-{}'.format(\n",
        "            args.registry_id, args.device_id, i)\n",
        "        print('Publishing message {}/{}: \\'{}\\''.format(\n",
        "            i, args.num_messages, payload))\n",
        "        # [START iot_mqtt_jwt_refresh]\n",
        "        seconds_since_issue = (datetime.datetime.utcnow() - jwt_iat).seconds\n",
        "        if seconds_since_issue > 60 * jwt_exp_mins:\n",
        "            print('Refreshing token after {}s'.format(seconds_since_issue))\n",
        "            jwt_iat = datetime.datetime.utcnow()\n",
        "            client.loop()\n",
        "            client.disconnect()\n",
        "            client = get_client(\n",
        "                args.project_id, args.cloud_region,\n",
        "                args.registry_id, args.device_id, args.private_key_file,\n",
        "                args.algorithm, args.ca_certs, args.mqtt_bridge_hostname,\n",
        "                args.mqtt_bridge_port)\n",
        "        # [END iot_mqtt_jwt_refresh]\n",
        "        # Publish \"payload\" to the MQTT topic. qos=1 means at least once\n",
        "        # delivery. Cloud IoT Core also supports qos=0 for at most once\n",
        "        # delivery.\n",
        "        client.publish(mqtt_topic, payload, qos=1)\n",
        "\n",
        "        \n",
        "        # Send events every second. State should not be updated as often\n",
        "        time.sleep(1)\n",
        "        # for i in range(0, 60):\n",
        "        #     time.sleep(1)\n",
        "        #     client.loop()\n",
        "    # [END iot_mqtt_run]"
      ],
      "execution_count": null,
      "outputs": []
    },
    {
      "cell_type": "code",
      "metadata": {
        "id": "d_ipYqvp8JY8"
      },
      "source": [
        "# mqtt_device_demo(args)"
      ],
      "execution_count": null,
      "outputs": []
    },
    {
      "cell_type": "code",
      "metadata": {
        "id": "Ia37Ycqul-h5",
        "outputId": "9cec17b5-09e9-45b6-aa14-a0c849ccdf37",
        "colab": {
          "base_uri": "https://localhost:8080/",
          "height": 52
        }
      },
      "source": [
        "!gcloud pubsub topics list"
      ],
      "execution_count": null,
      "outputs": [
        {
          "output_type": "stream",
          "text": [
            "---\n",
            "name: projects/cmpe297-hw1/topics/cmpeiotdevice1\n"
          ],
          "name": "stdout"
        }
      ]
    },
    {
      "cell_type": "code",
      "metadata": {
        "id": "PtWDjJtt4g2G",
        "outputId": "626446e6-4895-48bd-d5c6-4537242ce994",
        "colab": {
          "base_uri": "https://localhost:8080/",
          "height": 522
        }
      },
      "source": [
        "!gcloud pubsub subscriptions list"
      ],
      "execution_count": null,
      "outputs": [
        {
          "output_type": "stream",
          "text": [
            "---\n",
            "ackDeadlineSeconds: 10\n",
            "expirationPolicy:\n",
            "  ttl: 2678400s\n",
            "messageRetentionDuration: 604800s\n",
            "name: projects/cmpe297-hw1/subscriptions/testpubsub-subscription1\n",
            "pushConfig: {}\n",
            "topic: projects/cmpe297-hw1/topics/cmpeiotdevice1\n",
            "---\n",
            "ackDeadlineSeconds: 600\n",
            "expirationPolicy: {}\n",
            "messageRetentionDuration: 604800s\n",
            "name: projects/cmpe297-hw1/subscriptions/gcf-function-2-pubsub-us-central1-cmpeiotdevice1\n",
            "pushConfig:\n",
            "  attributes:\n",
            "    x-goog-version: v1\n",
            "  pushEndpoint: https://1e0f9f86b9ccf848ac72f465aad0d767-dot-ucd47fbfceaf54d53p-tp.appspot.com/_ah/push-handlers/pubsub/projects/cmpe297-hw1/topics/cmpeiotdevice1?pubsub_trigger=true\n",
            "topic: projects/cmpe297-hw1/topics/cmpeiotdevice1\n",
            "---\n",
            "ackDeadlineSeconds: 600\n",
            "expirationPolicy: {}\n",
            "messageRetentionDuration: 604800s\n",
            "name: projects/cmpe297-hw1/subscriptions/gcf-function-3-firestore-us-central1-cmpeiotdevice1\n",
            "pushConfig:\n",
            "  attributes:\n",
            "    x-goog-version: v1\n",
            "  pushEndpoint: https://1947d647e75270b1f278e6034976cc57-dot-ucd47fbfceaf54d53p-tp.appspot.com/_ah/push-handlers/pubsub/projects/cmpe297-hw1/topics/cmpeiotdevice1?pubsub_trigger=true\n",
            "topic: projects/cmpe297-hw1/topics/cmpeiotdevice1\n"
          ],
          "name": "stdout"
        }
      ]
    },
    {
      "cell_type": "code",
      "metadata": {
        "id": "vFM7KpFfzrNb"
      },
      "source": [
        "import random\n",
        "import time\n",
        "import datetime\n",
        "import json\n",
        "\n",
        "def read_sensor(count):\n",
        "    tempF = 20 + 0.2*count + (random.random() * 15)\n",
        "    humidity = 60 + 0.3*count+ (random.random() * 20)\n",
        "    temp = '{0:0.2f}'.format(tempF)\n",
        "    hum = '{0:0.2f}'.format(humidity)\n",
        "    sensorZipCode = 95192#\"94043\"\n",
        "    sensorLat = 37.3382082+ (random.random() /100)#\"37.421655\"\n",
        "    sensorLong = -121.8863286 + (random.random() /100)#\"-122.085637\"\n",
        "    sensorLatf = '{0:0.6f}'.format(sensorLat)\n",
        "    sensorLongf = '{0:0.6f}'.format(sensorLong)\n",
        "    return (temp, hum, sensorZipCode, sensorLatf, sensorLongf)\n",
        "\n",
        "def createJSON(reg_id, dev_id, timestamp, zip, lat, long, temperature, humidity):\n",
        "    data = {\n",
        "      'registry_id' : reg_id,\n",
        "      'device_id' : dev_id,\n",
        "      'timecollected' : timestamp,\n",
        "      'zipcode' : zip,\n",
        "      'latitude' : lat,\n",
        "      'longitude' : long,\n",
        "      'temperature' : temperature,\n",
        "      'humidity' : humidity\n",
        "    }\n",
        "\n",
        "    json_str = json.dumps(data)\n",
        "    return json_str"
      ],
      "execution_count": null,
      "outputs": []
    },
    {
      "cell_type": "code",
      "metadata": {
        "id": "Ou-wVnFm0z8R"
      },
      "source": [
        "def mqtt_device_random(args):\n",
        "    \"\"\"Connects a device, sends data, and receives data.\"\"\"\n",
        "    # [START iot_mqtt_run]\n",
        "    global minimum_backoff_time\n",
        "    global MAXIMUM_BACKOFF_TIME\n",
        "\n",
        "    # Publish to the events or state topic based on the flag.\n",
        "    sub_topic = 'events' if args.message_type == 'event' else 'state'\n",
        "\n",
        "    mqtt_topic = '/devices/{}/{}'.format(args.device_id, sub_topic)\n",
        "\n",
        "    jwt_iat = datetime.datetime.utcnow()\n",
        "    jwt_exp_mins = args.jwt_expires_minutes\n",
        "    client = get_client(\n",
        "        args.project_id, args.cloud_region, args.registry_id,\n",
        "        args.device_id, args.private_key_file, args.algorithm,\n",
        "        args.ca_certs, args.mqtt_bridge_hostname, args.mqtt_bridge_port)\n",
        "\n",
        "    # Publish num_messages messages to the MQTT bridge once per second.\n",
        "    for i in range(1, args.num_messages + 1):\n",
        "        # Process network events.\n",
        "        client.loop()\n",
        "\n",
        "        # Wait if backoff is required.\n",
        "        if should_backoff:\n",
        "            # If backoff time is too large, give up.\n",
        "            if minimum_backoff_time > MAXIMUM_BACKOFF_TIME:\n",
        "                print('Exceeded maximum backoff time. Giving up.')\n",
        "                break\n",
        "\n",
        "            # Otherwise, wait and connect again.\n",
        "            delay = minimum_backoff_time + random.randint(0, 1000) / 1000.0\n",
        "            print('Waiting for {} before reconnecting.'.format(delay))\n",
        "            time.sleep(delay)\n",
        "            minimum_backoff_time *= 2\n",
        "            client.connect(args.mqtt_bridge_hostname, args.mqtt_bridge_port)\n",
        "\n",
        "        currentTime = datetime.datetime.utcnow().strftime('%Y-%m-%d %H:%M:%S')\n",
        "        (temp, hum, sensorZipCode, sensorLat, sensorLong) = read_sensor(i)\n",
        "        payload = '{}/{}-payload-{}'.format(\n",
        "            args.registry_id, args.device_id, i)\n",
        "        payloadJSON = createJSON(args.registry_id, args.device_id, currentTime, sensorZipCode, sensorLat, sensorLong, temp, hum)\n",
        "\n",
        "        print('Publishing message {}/: \\'{}\\''.format(\n",
        "            i, payloadJSON))\n",
        "        # [START iot_mqtt_jwt_refresh]\n",
        "        seconds_since_issue = (datetime.datetime.utcnow() - jwt_iat).seconds\n",
        "        if seconds_since_issue > 60 * jwt_exp_mins:\n",
        "            print('Refreshing token after {}s'.format(seconds_since_issue))\n",
        "            jwt_iat = datetime.datetime.utcnow()\n",
        "            client.loop()\n",
        "            client.disconnect()\n",
        "            client = get_client(\n",
        "                args.project_id, args.cloud_region,\n",
        "                args.registry_id, args.device_id, args.private_key_file,\n",
        "                args.algorithm, args.ca_certs, args.mqtt_bridge_hostname,\n",
        "                args.mqtt_bridge_port)\n",
        "        # [END iot_mqtt_jwt_refresh]\n",
        "        # Publish \"payload\" to the MQTT topic. qos=1 means at least once\n",
        "        # delivery. Cloud IoT Core also supports qos=0 for at most once\n",
        "        # delivery.\n",
        "        client.publish(mqtt_topic, payloadJSON, qos=1)\n",
        "\n",
        "        \n",
        "        # Send events every second. State should not be updated as often\n",
        "        time.sleep(1)\n",
        "        # for i in range(0, 60):\n",
        "        #     time.sleep(1)\n",
        "        #     client.loop()\n",
        "    # [END iot_mqtt_run]"
      ],
      "execution_count": null,
      "outputs": []
    },
    {
      "cell_type": "code",
      "metadata": {
        "id": "ROPDXRxw3FHh",
        "outputId": "2450044a-de09-4380-e2ae-d1da932ef0e9",
        "colab": {
          "base_uri": "https://localhost:8080/",
          "height": 1000
        }
      },
      "source": [
        "mqtt_device_random(args)"
      ],
      "execution_count": null,
      "outputs": [
        {
          "output_type": "stream",
          "text": [
            "Device client_id is 'projects/cmpe297-hw1/locations/us-central1/registries/CMPEIoT1/devices/cmpeiotdevice2'\n",
            "Creating JWT using RS256 from private key file /content/iotdevicenew/rsa_private.pem\n",
            "Subscribing to /devices/cmpeiotdevice2/commands/#\n",
            "Publishing message 1/: '{\"registry_id\": \"CMPEIoT1\", \"device_id\": \"cmpeiotdevice2\", \"timecollected\": \"2020-10-09 18:57:44\", \"zipcode\": 95192, \"latitude\": \"37.342085\", \"longitude\": \"-121.883054\", \"temperature\": \"21.67\", \"humidity\": \"71.63\"}'\n",
            "on_connect Connection Accepted.\n",
            "Publishing message 2/: '{\"registry_id\": \"CMPEIoT1\", \"device_id\": \"cmpeiotdevice2\", \"timecollected\": \"2020-10-09 18:57:45\", \"zipcode\": 95192, \"latitude\": \"37.345172\", \"longitude\": \"-121.884004\", \"temperature\": \"32.11\", \"humidity\": \"76.79\"}'\n",
            "Publishing message 3/: '{\"registry_id\": \"CMPEIoT1\", \"device_id\": \"cmpeiotdevice2\", \"timecollected\": \"2020-10-09 18:57:46\", \"zipcode\": 95192, \"latitude\": \"37.341567\", \"longitude\": \"-121.876670\", \"temperature\": \"22.42\", \"humidity\": \"67.49\"}'\n",
            "Received message '' on topic '/devices/cmpeiotdevice2/config' with Qos 1\n",
            "on_publish\n",
            "on_publish\n",
            "Publishing message 4/: '{\"registry_id\": \"CMPEIoT1\", \"device_id\": \"cmpeiotdevice2\", \"timecollected\": \"2020-10-09 18:57:47\", \"zipcode\": 95192, \"latitude\": \"37.342879\", \"longitude\": \"-121.878687\", \"temperature\": \"32.26\", \"humidity\": \"75.45\"}'\n",
            "on_publish\n",
            "on_publish\n",
            "Publishing message 5/: '{\"registry_id\": \"CMPEIoT1\", \"device_id\": \"cmpeiotdevice2\", \"timecollected\": \"2020-10-09 18:57:48\", \"zipcode\": 95192, \"latitude\": \"37.339787\", \"longitude\": \"-121.876428\", \"temperature\": \"25.95\", \"humidity\": \"80.64\"}'\n",
            "on_publish\n",
            "Publishing message 6/: '{\"registry_id\": \"CMPEIoT1\", \"device_id\": \"cmpeiotdevice2\", \"timecollected\": \"2020-10-09 18:57:49\", \"zipcode\": 95192, \"latitude\": \"37.347991\", \"longitude\": \"-121.885070\", \"temperature\": \"22.48\", \"humidity\": \"69.75\"}'\n",
            "on_publish\n",
            "Publishing message 7/: '{\"registry_id\": \"CMPEIoT1\", \"device_id\": \"cmpeiotdevice2\", \"timecollected\": \"2020-10-09 18:57:50\", \"zipcode\": 95192, \"latitude\": \"37.340658\", \"longitude\": \"-121.878030\", \"temperature\": \"23.64\", \"humidity\": \"63.38\"}'\n",
            "on_publish\n",
            "Publishing message 8/: '{\"registry_id\": \"CMPEIoT1\", \"device_id\": \"cmpeiotdevice2\", \"timecollected\": \"2020-10-09 18:57:51\", \"zipcode\": 95192, \"latitude\": \"37.339976\", \"longitude\": \"-121.876843\", \"temperature\": \"28.78\", \"humidity\": \"80.06\"}'\n",
            "on_publish\n",
            "Publishing message 9/: '{\"registry_id\": \"CMPEIoT1\", \"device_id\": \"cmpeiotdevice2\", \"timecollected\": \"2020-10-09 18:57:52\", \"zipcode\": 95192, \"latitude\": \"37.340782\", \"longitude\": \"-121.882546\", \"temperature\": \"36.70\", \"humidity\": \"66.91\"}'\n",
            "Received message 'test command' on topic '/devices/cmpeiotdevice2/commands' with Qos 0\n",
            "Publishing message 10/: '{\"registry_id\": \"CMPEIoT1\", \"device_id\": \"cmpeiotdevice2\", \"timecollected\": \"2020-10-09 18:57:53\", \"zipcode\": 95192, \"latitude\": \"37.342357\", \"longitude\": \"-121.878530\", \"temperature\": \"25.28\", \"humidity\": \"64.56\"}'\n",
            "on_publish\n",
            "Received message 'test command' on topic '/devices/cmpeiotdevice2/commands' with Qos 0\n",
            "Publishing message 11/: '{\"registry_id\": \"CMPEIoT1\", \"device_id\": \"cmpeiotdevice2\", \"timecollected\": \"2020-10-09 18:57:54\", \"zipcode\": 95192, \"latitude\": \"37.346063\", \"longitude\": \"-121.882453\", \"temperature\": \"36.16\", \"humidity\": \"66.22\"}'\n",
            "on_publish\n",
            "on_publish\n",
            "Publishing message 12/: '{\"registry_id\": \"CMPEIoT1\", \"device_id\": \"cmpeiotdevice2\", \"timecollected\": \"2020-10-09 18:57:55\", \"zipcode\": 95192, \"latitude\": \"37.346794\", \"longitude\": \"-121.883282\", \"temperature\": \"27.57\", \"humidity\": \"73.14\"}'\n",
            "Received message 'test command' on topic '/devices/cmpeiotdevice2/commands' with Qos 0\n",
            "Publishing message 13/: '{\"registry_id\": \"CMPEIoT1\", \"device_id\": \"cmpeiotdevice2\", \"timecollected\": \"2020-10-09 18:57:56\", \"zipcode\": 95192, \"latitude\": \"37.346643\", \"longitude\": \"-121.878145\", \"temperature\": \"32.45\", \"humidity\": \"82.56\"}'\n",
            "Received message 'test command' on topic '/devices/cmpeiotdevice2/commands' with Qos 0\n",
            "on_publish\n",
            "Publishing message 14/: '{\"registry_id\": \"CMPEIoT1\", \"device_id\": \"cmpeiotdevice2\", \"timecollected\": \"2020-10-09 18:57:57\", \"zipcode\": 95192, \"latitude\": \"37.341046\", \"longitude\": \"-121.885264\", \"temperature\": \"33.12\", \"humidity\": \"82.65\"}'\n",
            "Received message 'test command' on topic '/devices/cmpeiotdevice2/commands' with Qos 0\n",
            "on_publish\n",
            "Publishing message 15/: '{\"registry_id\": \"CMPEIoT1\", \"device_id\": \"cmpeiotdevice2\", \"timecollected\": \"2020-10-09 18:57:58\", \"zipcode\": 95192, \"latitude\": \"37.346868\", \"longitude\": \"-121.878728\", \"temperature\": \"33.94\", \"humidity\": \"83.97\"}'\n",
            "Received message 'test command' on topic '/devices/cmpeiotdevice2/commands' with Qos 0\n",
            "on_publish\n",
            "Publishing message 16/: '{\"registry_id\": \"CMPEIoT1\", \"device_id\": \"cmpeiotdevice2\", \"timecollected\": \"2020-10-09 18:57:59\", \"zipcode\": 95192, \"latitude\": \"37.345796\", \"longitude\": \"-121.880097\", \"temperature\": \"32.61\", \"humidity\": \"80.42\"}'\n",
            "Received message 'test command' on topic '/devices/cmpeiotdevice2/commands' with Qos 0\n",
            "on_publish\n",
            "Publishing message 17/: '{\"registry_id\": \"CMPEIoT1\", \"device_id\": \"cmpeiotdevice2\", \"timecollected\": \"2020-10-09 18:58:00\", \"zipcode\": 95192, \"latitude\": \"37.343668\", \"longitude\": \"-121.885259\", \"temperature\": \"33.01\", \"humidity\": \"77.30\"}'\n",
            "Received message 'test command' on topic '/devices/cmpeiotdevice2/commands' with Qos 0\n",
            "on_publish\n",
            "Publishing message 18/: '{\"registry_id\": \"CMPEIoT1\", \"device_id\": \"cmpeiotdevice2\", \"timecollected\": \"2020-10-09 18:58:01\", \"zipcode\": 95192, \"latitude\": \"37.341406\", \"longitude\": \"-121.878110\", \"temperature\": \"33.55\", \"humidity\": \"70.92\"}'\n",
            "Received message 'test command' on topic '/devices/cmpeiotdevice2/commands' with Qos 0\n",
            "on_publish\n",
            "Publishing message 19/: '{\"registry_id\": \"CMPEIoT1\", \"device_id\": \"cmpeiotdevice2\", \"timecollected\": \"2020-10-09 18:58:02\", \"zipcode\": 95192, \"latitude\": \"37.340144\", \"longitude\": \"-121.885188\", \"temperature\": \"34.80\", \"humidity\": \"82.32\"}'\n",
            "Received message 'test command' on topic '/devices/cmpeiotdevice2/commands' with Qos 0\n",
            "on_publish\n",
            "Publishing message 20/: '{\"registry_id\": \"CMPEIoT1\", \"device_id\": \"cmpeiotdevice2\", \"timecollected\": \"2020-10-09 18:58:03\", \"zipcode\": 95192, \"latitude\": \"37.345839\", \"longitude\": \"-121.885360\", \"temperature\": \"29.35\", \"humidity\": \"74.16\"}'\n",
            "Received message 'test command' on topic '/devices/cmpeiotdevice2/commands' with Qos 0\n",
            "on_publish\n",
            "Publishing message 21/: '{\"registry_id\": \"CMPEIoT1\", \"device_id\": \"cmpeiotdevice2\", \"timecollected\": \"2020-10-09 18:58:04\", \"zipcode\": 95192, \"latitude\": \"37.345822\", \"longitude\": \"-121.880796\", \"temperature\": \"33.47\", \"humidity\": \"84.48\"}'\n",
            "Received message 'test command' on topic '/devices/cmpeiotdevice2/commands' with Qos 0\n",
            "on_publish\n",
            "Publishing message 22/: '{\"registry_id\": \"CMPEIoT1\", \"device_id\": \"cmpeiotdevice2\", \"timecollected\": \"2020-10-09 18:58:05\", \"zipcode\": 95192, \"latitude\": \"37.344332\", \"longitude\": \"-121.886108\", \"temperature\": \"36.83\", \"humidity\": \"72.77\"}'\n",
            "on_publish\n",
            "Received message 'test command' on topic '/devices/cmpeiotdevice2/commands' with Qos 0\n",
            "Publishing message 23/: '{\"registry_id\": \"CMPEIoT1\", \"device_id\": \"cmpeiotdevice2\", \"timecollected\": \"2020-10-09 18:58:06\", \"zipcode\": 95192, \"latitude\": \"37.345935\", \"longitude\": \"-121.884789\", \"temperature\": \"25.35\", \"humidity\": \"83.52\"}'\n",
            "on_publish\n",
            "on_publish\n",
            "Publishing message 24/: '{\"registry_id\": \"CMPEIoT1\", \"device_id\": \"cmpeiotdevice2\", \"timecollected\": \"2020-10-09 18:58:07\", \"zipcode\": 95192, \"latitude\": \"37.344493\", \"longitude\": \"-121.884102\", \"temperature\": \"36.75\", \"humidity\": \"73.94\"}'\n",
            "Received message 'test command' on topic '/devices/cmpeiotdevice2/commands' with Qos 0\n",
            "Publishing message 25/: '{\"registry_id\": \"CMPEIoT1\", \"device_id\": \"cmpeiotdevice2\", \"timecollected\": \"2020-10-09 18:58:08\", \"zipcode\": 95192, \"latitude\": \"37.346221\", \"longitude\": \"-121.885705\", \"temperature\": \"31.91\", \"humidity\": \"77.90\"}'\n"
          ],
          "name": "stdout"
        }
      ]
    }
  ]
}